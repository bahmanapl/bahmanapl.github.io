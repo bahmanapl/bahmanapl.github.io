{
  "cells": [
    {
      "cell_type": "markdown",
      "source": [
        "---\n",
        "title: \"Writing Stable Diffusion from Scratch 8\"\n",
        "reading-time: \n",
        "date: \"2023-3-28\"\n",
        "categories: [fastaipart2,Stable-Diffusion]\n",
        "---"
      ],
      "metadata": {
        "id": "A7UNJmfc_cQt"
      },
      "id": "A7UNJmfc_cQt"
    },
    {
      "cell_type": "markdown",
      "source": [
        "Things you will should know and practice after reading this : <br>\n",
        "1- Getting data from dataloader of huggingface dataset <br>\n",
        "2- @inplace in python <br>\n",
        "3- plotting <br>\n"
      ],
      "metadata": {
        "id": "WF7GVjXb_luY"
      },
      "id": "WF7GVjXb_luY"
    },
    {
      "cell_type": "markdown",
      "source": [
        "You need to install stuff in colab so the notebook works. I have some extra installation in compare to Jeremy original notebook. For more infor check this link in fastai forum:\n",
        "https://forums.fast.ai/t/is-there-any-workaround-to-use-mini-ai-in-colab/104732"
      ],
      "metadata": {
        "id": "fPWRsHHa_wTv"
      },
      "id": "fPWRsHHa_wTv"
    },
    {
      "cell_type": "code",
      "source": [
        "!pip install torch==1.13.1 torchvision==0.14.1 torchaudio==0.13.1 torchtext==0.14.1 fastai==2.7.11"
      ],
      "metadata": {
        "colab": {
          "base_uri": "https://localhost:8080/"
        },
        "id": "OF84wsg87CPC",
        "outputId": "9ec82d92-f503-4d9e-8fcb-a004f5e6c65e"
      },
      "id": "OF84wsg87CPC",
      "execution_count": 1,
      "outputs": [
        {
          "output_type": "stream",
          "name": "stdout",
          "text": [
            "Looking in indexes: https://pypi.org/simple, https://us-python.pkg.dev/colab-wheels/public/simple/\n",
            "Collecting torch==1.13.1\n",
            "  Downloading torch-1.13.1-cp310-cp310-manylinux1_x86_64.whl (887.5 MB)\n",
            "\u001b[2K     \u001b[90m━━━━━━━━━━━━━━━━━━━━━━━━━━━━━━━━━━━━━━━\u001b[0m \u001b[32m887.5/887.5 MB\u001b[0m \u001b[31m1.6 MB/s\u001b[0m eta \u001b[36m0:00:00\u001b[0m\n",
            "\u001b[?25hCollecting torchvision==0.14.1\n",
            "  Downloading torchvision-0.14.1-cp310-cp310-manylinux1_x86_64.whl (24.2 MB)\n",
            "\u001b[2K     \u001b[90m━━━━━━━━━━━━━━━━━━━━━━━━━━━━━━━━━━━━━━━━\u001b[0m \u001b[32m24.2/24.2 MB\u001b[0m \u001b[31m66.6 MB/s\u001b[0m eta \u001b[36m0:00:00\u001b[0m\n",
            "\u001b[?25hCollecting torchaudio==0.13.1\n",
            "  Downloading torchaudio-0.13.1-cp310-cp310-manylinux1_x86_64.whl (4.2 MB)\n",
            "\u001b[2K     \u001b[90m━━━━━━━━━━━━━━━━━━━━━━━━━━━━━━━━━━━━━━━━\u001b[0m \u001b[32m4.2/4.2 MB\u001b[0m \u001b[31m100.3 MB/s\u001b[0m eta \u001b[36m0:00:00\u001b[0m\n",
            "\u001b[?25hCollecting torchtext==0.14.1\n",
            "  Downloading torchtext-0.14.1-cp310-cp310-manylinux1_x86_64.whl (2.0 MB)\n",
            "\u001b[2K     \u001b[90m━━━━━━━━━━━━━━━━━━━━━━━━━━━━━━━━━━━━━━━━\u001b[0m \u001b[32m2.0/2.0 MB\u001b[0m \u001b[31m101.8 MB/s\u001b[0m eta \u001b[36m0:00:00\u001b[0m\n",
            "\u001b[?25hCollecting fastai==2.7.11\n",
            "  Downloading fastai-2.7.11-py3-none-any.whl (232 kB)\n",
            "\u001b[2K     \u001b[90m━━━━━━━━━━━━━━━━━━━━━━━━━━━━━━━━━━━━━━\u001b[0m \u001b[32m232.8/232.8 kB\u001b[0m \u001b[31m29.3 MB/s\u001b[0m eta \u001b[36m0:00:00\u001b[0m\n",
            "\u001b[?25hRequirement already satisfied: typing-extensions in /usr/local/lib/python3.10/dist-packages (from torch==1.13.1) (4.5.0)\n",
            "Collecting nvidia-cuda-runtime-cu11==11.7.99 (from torch==1.13.1)\n",
            "  Downloading nvidia_cuda_runtime_cu11-11.7.99-py3-none-manylinux1_x86_64.whl (849 kB)\n",
            "\u001b[2K     \u001b[90m━━━━━━━━━━━━━━━━━━━━━━━━━━━━━━━━━━━━━━\u001b[0m \u001b[32m849.3/849.3 kB\u001b[0m \u001b[31m72.5 MB/s\u001b[0m eta \u001b[36m0:00:00\u001b[0m\n",
            "\u001b[?25hCollecting nvidia-cudnn-cu11==8.5.0.96 (from torch==1.13.1)\n",
            "  Downloading nvidia_cudnn_cu11-8.5.0.96-2-py3-none-manylinux1_x86_64.whl (557.1 MB)\n",
            "\u001b[2K     \u001b[90m━━━━━━━━━━━━━━━━━━━━━━━━━━━━━━━━━━━━━━━\u001b[0m \u001b[32m557.1/557.1 MB\u001b[0m \u001b[31m2.7 MB/s\u001b[0m eta \u001b[36m0:00:00\u001b[0m\n",
            "\u001b[?25hCollecting nvidia-cublas-cu11==11.10.3.66 (from torch==1.13.1)\n",
            "  Downloading nvidia_cublas_cu11-11.10.3.66-py3-none-manylinux1_x86_64.whl (317.1 MB)\n",
            "\u001b[2K     \u001b[90m━━━━━━━━━━━━━━━━━━━━━━━━━━━━━━━━━━━━━━━\u001b[0m \u001b[32m317.1/317.1 MB\u001b[0m \u001b[31m4.9 MB/s\u001b[0m eta \u001b[36m0:00:00\u001b[0m\n",
            "\u001b[?25hCollecting nvidia-cuda-nvrtc-cu11==11.7.99 (from torch==1.13.1)\n",
            "  Downloading nvidia_cuda_nvrtc_cu11-11.7.99-2-py3-none-manylinux1_x86_64.whl (21.0 MB)\n",
            "\u001b[2K     \u001b[90m━━━━━━━━━━━━━━━━━━━━━━━━━━━━━━━━━━━━━━━━\u001b[0m \u001b[32m21.0/21.0 MB\u001b[0m \u001b[31m55.9 MB/s\u001b[0m eta \u001b[36m0:00:00\u001b[0m\n",
            "\u001b[?25hRequirement already satisfied: numpy in /usr/local/lib/python3.10/dist-packages (from torchvision==0.14.1) (1.22.4)\n",
            "Requirement already satisfied: requests in /usr/local/lib/python3.10/dist-packages (from torchvision==0.14.1) (2.27.1)\n",
            "Requirement already satisfied: pillow!=8.3.*,>=5.3.0 in /usr/local/lib/python3.10/dist-packages (from torchvision==0.14.1) (8.4.0)\n",
            "Requirement already satisfied: tqdm in /usr/local/lib/python3.10/dist-packages (from torchtext==0.14.1) (4.65.0)\n",
            "Requirement already satisfied: pip in /usr/local/lib/python3.10/dist-packages (from fastai==2.7.11) (23.1.2)\n",
            "Requirement already satisfied: packaging in /usr/local/lib/python3.10/dist-packages (from fastai==2.7.11) (23.1)\n",
            "Requirement already satisfied: fastdownload<2,>=0.0.5 in /usr/local/lib/python3.10/dist-packages (from fastai==2.7.11) (0.0.7)\n",
            "Requirement already satisfied: fastcore<1.6,>=1.4.5 in /usr/local/lib/python3.10/dist-packages (from fastai==2.7.11) (1.5.29)\n",
            "Requirement already satisfied: matplotlib in /usr/local/lib/python3.10/dist-packages (from fastai==2.7.11) (3.7.1)\n",
            "Requirement already satisfied: pandas in /usr/local/lib/python3.10/dist-packages (from fastai==2.7.11) (1.5.3)\n",
            "Requirement already satisfied: pyyaml in /usr/local/lib/python3.10/dist-packages (from fastai==2.7.11) (6.0)\n",
            "Requirement already satisfied: fastprogress>=0.2.4 in /usr/local/lib/python3.10/dist-packages (from fastai==2.7.11) (1.0.3)\n",
            "Requirement already satisfied: scikit-learn in /usr/local/lib/python3.10/dist-packages (from fastai==2.7.11) (1.2.2)\n",
            "Requirement already satisfied: scipy in /usr/local/lib/python3.10/dist-packages (from fastai==2.7.11) (1.10.1)\n",
            "Requirement already satisfied: spacy<4 in /usr/local/lib/python3.10/dist-packages (from fastai==2.7.11) (3.5.2)\n",
            "Requirement already satisfied: setuptools in /usr/local/lib/python3.10/dist-packages (from nvidia-cublas-cu11==11.10.3.66->torch==1.13.1) (67.7.2)\n",
            "Requirement already satisfied: wheel in /usr/local/lib/python3.10/dist-packages (from nvidia-cublas-cu11==11.10.3.66->torch==1.13.1) (0.40.0)\n",
            "Requirement already satisfied: spacy-legacy<3.1.0,>=3.0.11 in /usr/local/lib/python3.10/dist-packages (from spacy<4->fastai==2.7.11) (3.0.12)\n",
            "Requirement already satisfied: spacy-loggers<2.0.0,>=1.0.0 in /usr/local/lib/python3.10/dist-packages (from spacy<4->fastai==2.7.11) (1.0.4)\n",
            "Requirement already satisfied: murmurhash<1.1.0,>=0.28.0 in /usr/local/lib/python3.10/dist-packages (from spacy<4->fastai==2.7.11) (1.0.9)\n",
            "Requirement already satisfied: cymem<2.1.0,>=2.0.2 in /usr/local/lib/python3.10/dist-packages (from spacy<4->fastai==2.7.11) (2.0.7)\n",
            "Requirement already satisfied: preshed<3.1.0,>=3.0.2 in /usr/local/lib/python3.10/dist-packages (from spacy<4->fastai==2.7.11) (3.0.8)\n",
            "Requirement already satisfied: thinc<8.2.0,>=8.1.8 in /usr/local/lib/python3.10/dist-packages (from spacy<4->fastai==2.7.11) (8.1.9)\n",
            "Requirement already satisfied: wasabi<1.2.0,>=0.9.1 in /usr/local/lib/python3.10/dist-packages (from spacy<4->fastai==2.7.11) (1.1.1)\n",
            "Requirement already satisfied: srsly<3.0.0,>=2.4.3 in /usr/local/lib/python3.10/dist-packages (from spacy<4->fastai==2.7.11) (2.4.6)\n",
            "Requirement already satisfied: catalogue<2.1.0,>=2.0.6 in /usr/local/lib/python3.10/dist-packages (from spacy<4->fastai==2.7.11) (2.0.8)\n",
            "Requirement already satisfied: typer<0.8.0,>=0.3.0 in /usr/local/lib/python3.10/dist-packages (from spacy<4->fastai==2.7.11) (0.7.0)\n",
            "Requirement already satisfied: pathy>=0.10.0 in /usr/local/lib/python3.10/dist-packages (from spacy<4->fastai==2.7.11) (0.10.1)\n",
            "Requirement already satisfied: smart-open<7.0.0,>=5.2.1 in /usr/local/lib/python3.10/dist-packages (from spacy<4->fastai==2.7.11) (6.3.0)\n",
            "Requirement already satisfied: pydantic!=1.8,!=1.8.1,<1.11.0,>=1.7.4 in /usr/local/lib/python3.10/dist-packages (from spacy<4->fastai==2.7.11) (1.10.7)\n",
            "Requirement already satisfied: jinja2 in /usr/local/lib/python3.10/dist-packages (from spacy<4->fastai==2.7.11) (3.1.2)\n",
            "Requirement already satisfied: langcodes<4.0.0,>=3.2.0 in /usr/local/lib/python3.10/dist-packages (from spacy<4->fastai==2.7.11) (3.3.0)\n",
            "Requirement already satisfied: urllib3<1.27,>=1.21.1 in /usr/local/lib/python3.10/dist-packages (from requests->torchvision==0.14.1) (1.26.15)\n",
            "Requirement already satisfied: certifi>=2017.4.17 in /usr/local/lib/python3.10/dist-packages (from requests->torchvision==0.14.1) (2022.12.7)\n",
            "Requirement already satisfied: charset-normalizer~=2.0.0 in /usr/local/lib/python3.10/dist-packages (from requests->torchvision==0.14.1) (2.0.12)\n",
            "Requirement already satisfied: idna<4,>=2.5 in /usr/local/lib/python3.10/dist-packages (from requests->torchvision==0.14.1) (3.4)\n",
            "Requirement already satisfied: contourpy>=1.0.1 in /usr/local/lib/python3.10/dist-packages (from matplotlib->fastai==2.7.11) (1.0.7)\n",
            "Requirement already satisfied: cycler>=0.10 in /usr/local/lib/python3.10/dist-packages (from matplotlib->fastai==2.7.11) (0.11.0)\n",
            "Requirement already satisfied: fonttools>=4.22.0 in /usr/local/lib/python3.10/dist-packages (from matplotlib->fastai==2.7.11) (4.39.3)\n",
            "Requirement already satisfied: kiwisolver>=1.0.1 in /usr/local/lib/python3.10/dist-packages (from matplotlib->fastai==2.7.11) (1.4.4)\n",
            "Requirement already satisfied: pyparsing>=2.3.1 in /usr/local/lib/python3.10/dist-packages (from matplotlib->fastai==2.7.11) (3.0.9)\n",
            "Requirement already satisfied: python-dateutil>=2.7 in /usr/local/lib/python3.10/dist-packages (from matplotlib->fastai==2.7.11) (2.8.2)\n",
            "Requirement already satisfied: pytz>=2020.1 in /usr/local/lib/python3.10/dist-packages (from pandas->fastai==2.7.11) (2022.7.1)\n",
            "Requirement already satisfied: joblib>=1.1.1 in /usr/local/lib/python3.10/dist-packages (from scikit-learn->fastai==2.7.11) (1.2.0)\n",
            "Requirement already satisfied: threadpoolctl>=2.0.0 in /usr/local/lib/python3.10/dist-packages (from scikit-learn->fastai==2.7.11) (3.1.0)\n",
            "Requirement already satisfied: six>=1.5 in /usr/local/lib/python3.10/dist-packages (from python-dateutil>=2.7->matplotlib->fastai==2.7.11) (1.16.0)\n",
            "Requirement already satisfied: blis<0.8.0,>=0.7.8 in /usr/local/lib/python3.10/dist-packages (from thinc<8.2.0,>=8.1.8->spacy<4->fastai==2.7.11) (0.7.9)\n",
            "Requirement already satisfied: confection<1.0.0,>=0.0.1 in /usr/local/lib/python3.10/dist-packages (from thinc<8.2.0,>=8.1.8->spacy<4->fastai==2.7.11) (0.0.4)\n",
            "Requirement already satisfied: click<9.0.0,>=7.1.1 in /usr/local/lib/python3.10/dist-packages (from typer<0.8.0,>=0.3.0->spacy<4->fastai==2.7.11) (8.1.3)\n",
            "Requirement already satisfied: MarkupSafe>=2.0 in /usr/local/lib/python3.10/dist-packages (from jinja2->spacy<4->fastai==2.7.11) (2.1.2)\n",
            "Installing collected packages: nvidia-cuda-runtime-cu11, nvidia-cuda-nvrtc-cu11, nvidia-cublas-cu11, nvidia-cudnn-cu11, torch, torchvision, torchtext, torchaudio, fastai\n",
            "  Attempting uninstall: torch\n",
            "    Found existing installation: torch 2.0.0+cu118\n",
            "    Uninstalling torch-2.0.0+cu118:\n",
            "      Successfully uninstalled torch-2.0.0+cu118\n",
            "  Attempting uninstall: torchvision\n",
            "    Found existing installation: torchvision 0.15.1+cu118\n",
            "    Uninstalling torchvision-0.15.1+cu118:\n",
            "      Successfully uninstalled torchvision-0.15.1+cu118\n",
            "  Attempting uninstall: torchtext\n",
            "    Found existing installation: torchtext 0.15.1\n",
            "    Uninstalling torchtext-0.15.1:\n",
            "      Successfully uninstalled torchtext-0.15.1\n",
            "  Attempting uninstall: torchaudio\n",
            "    Found existing installation: torchaudio 2.0.1+cu118\n",
            "    Uninstalling torchaudio-2.0.1+cu118:\n",
            "      Successfully uninstalled torchaudio-2.0.1+cu118\n",
            "  Attempting uninstall: fastai\n",
            "    Found existing installation: fastai 2.7.12\n",
            "    Uninstalling fastai-2.7.12:\n",
            "      Successfully uninstalled fastai-2.7.12\n",
            "\u001b[31mERROR: pip's dependency resolver does not currently take into account all the packages that are installed. This behaviour is the source of the following dependency conflicts.\n",
            "torchdata 0.6.0 requires torch==2.0.0, but you have torch 1.13.1 which is incompatible.\u001b[0m\u001b[31m\n",
            "\u001b[0mSuccessfully installed fastai-2.7.11 nvidia-cublas-cu11-11.10.3.66 nvidia-cuda-nvrtc-cu11-11.7.99 nvidia-cuda-runtime-cu11-11.7.99 nvidia-cudnn-cu11-8.5.0.96 torch-1.13.1 torchaudio-0.13.1 torchtext-0.14.1 torchvision-0.14.1\n"
          ]
        }
      ]
    },
    {
      "cell_type": "code",
      "source": [
        "!pip install tokenizers"
      ],
      "metadata": {
        "colab": {
          "base_uri": "https://localhost:8080/"
        },
        "id": "sr6TWskc7Oq2",
        "outputId": "b64d79a4-3bda-4f49-aa53-2f36ae85df2d"
      },
      "id": "sr6TWskc7Oq2",
      "execution_count": 2,
      "outputs": [
        {
          "output_type": "stream",
          "name": "stdout",
          "text": [
            "Looking in indexes: https://pypi.org/simple, https://us-python.pkg.dev/colab-wheels/public/simple/\n",
            "Collecting tokenizers\n",
            "  Downloading tokenizers-0.13.3-cp310-cp310-manylinux_2_17_x86_64.manylinux2014_x86_64.whl (7.8 MB)\n",
            "\u001b[2K     \u001b[90m━━━━━━━━━━━━━━━━━━━━━━━━━━━━━━━━━━━━━━━━\u001b[0m \u001b[32m7.8/7.8 MB\u001b[0m \u001b[31m84.9 MB/s\u001b[0m eta \u001b[36m0:00:00\u001b[0m\n",
            "\u001b[?25hInstalling collected packages: tokenizers\n",
            "Successfully installed tokenizers-0.13.3\n"
          ]
        }
      ]
    },
    {
      "cell_type": "code",
      "source": [
        "!pip install torchdata==0.5.1"
      ],
      "metadata": {
        "colab": {
          "base_uri": "https://localhost:8080/"
        },
        "id": "4h29UM4g7S6b",
        "outputId": "19b1a2c8-180a-4076-dad4-ebf6887e4d7e"
      },
      "id": "4h29UM4g7S6b",
      "execution_count": 3,
      "outputs": [
        {
          "output_type": "stream",
          "name": "stdout",
          "text": [
            "Looking in indexes: https://pypi.org/simple, https://us-python.pkg.dev/colab-wheels/public/simple/\n",
            "Collecting torchdata==0.5.1\n",
            "  Downloading torchdata-0.5.1-cp310-cp310-manylinux_2_17_x86_64.manylinux2014_x86_64.whl (4.6 MB)\n",
            "\u001b[2K     \u001b[90m━━━━━━━━━━━━━━━━━━━━━━━━━━━━━━━━━━━━━━━━\u001b[0m \u001b[32m4.6/4.6 MB\u001b[0m \u001b[31m71.1 MB/s\u001b[0m eta \u001b[36m0:00:00\u001b[0m\n",
            "\u001b[?25hRequirement already satisfied: urllib3>=1.25 in /usr/local/lib/python3.10/dist-packages (from torchdata==0.5.1) (1.26.15)\n",
            "Requirement already satisfied: requests in /usr/local/lib/python3.10/dist-packages (from torchdata==0.5.1) (2.27.1)\n",
            "Collecting portalocker>=2.0.0 (from torchdata==0.5.1)\n",
            "  Downloading portalocker-2.7.0-py2.py3-none-any.whl (15 kB)\n",
            "Requirement already satisfied: torch==1.13.1 in /usr/local/lib/python3.10/dist-packages (from torchdata==0.5.1) (1.13.1)\n",
            "Requirement already satisfied: typing-extensions in /usr/local/lib/python3.10/dist-packages (from torch==1.13.1->torchdata==0.5.1) (4.5.0)\n",
            "Requirement already satisfied: nvidia-cuda-runtime-cu11==11.7.99 in /usr/local/lib/python3.10/dist-packages (from torch==1.13.1->torchdata==0.5.1) (11.7.99)\n",
            "Requirement already satisfied: nvidia-cudnn-cu11==8.5.0.96 in /usr/local/lib/python3.10/dist-packages (from torch==1.13.1->torchdata==0.5.1) (8.5.0.96)\n",
            "Requirement already satisfied: nvidia-cublas-cu11==11.10.3.66 in /usr/local/lib/python3.10/dist-packages (from torch==1.13.1->torchdata==0.5.1) (11.10.3.66)\n",
            "Requirement already satisfied: nvidia-cuda-nvrtc-cu11==11.7.99 in /usr/local/lib/python3.10/dist-packages (from torch==1.13.1->torchdata==0.5.1) (11.7.99)\n",
            "Requirement already satisfied: setuptools in /usr/local/lib/python3.10/dist-packages (from nvidia-cublas-cu11==11.10.3.66->torch==1.13.1->torchdata==0.5.1) (67.7.2)\n",
            "Requirement already satisfied: wheel in /usr/local/lib/python3.10/dist-packages (from nvidia-cublas-cu11==11.10.3.66->torch==1.13.1->torchdata==0.5.1) (0.40.0)\n",
            "Requirement already satisfied: certifi>=2017.4.17 in /usr/local/lib/python3.10/dist-packages (from requests->torchdata==0.5.1) (2022.12.7)\n",
            "Requirement already satisfied: charset-normalizer~=2.0.0 in /usr/local/lib/python3.10/dist-packages (from requests->torchdata==0.5.1) (2.0.12)\n",
            "Requirement already satisfied: idna<4,>=2.5 in /usr/local/lib/python3.10/dist-packages (from requests->torchdata==0.5.1) (3.4)\n",
            "Installing collected packages: portalocker, torchdata\n",
            "  Attempting uninstall: torchdata\n",
            "    Found existing installation: torchdata 0.6.0\n",
            "    Uninstalling torchdata-0.6.0:\n",
            "      Successfully uninstalled torchdata-0.6.0\n",
            "Successfully installed portalocker-2.7.0 torchdata-0.5.1\n"
          ]
        }
      ]
    },
    {
      "cell_type": "markdown",
      "source": [
        "Let`s learn how to use huggingface datasets."
      ],
      "metadata": {
        "id": "CnkzNRm6VoeZ"
      },
      "id": "CnkzNRm6VoeZ"
    },
    {
      "cell_type": "markdown",
      "source": [
        " So one thing that we're going to want to be able to do now that we've got a training loop is to grab data and there's a really fantastic library of datasets available on huggingface nowadays. And so let's look at how we use those datasets now that we know how to bring things into data loader and stuff, so that now we can use the entire world of huggingface datasets with our code.So you need to pip install datasets. And once you've pip install datasets, you have to say from datasets import and you can import a few things. Just these two things now like dataset like Dataset Builder, and we're going to look at a dataset called fashion MNIST. And so the way things tend to work with hacking faces is something called the Hugging Face Hub, which has models and it has datasets, amongst other things. And generally you'll give them a name and you can then say, in this case, load a dataset builder for fashion MNIST. Now a dataset builder is just basically something which has some metadata about about this dataset. So the dataset builder has a dot info and the dot info has a dot description. And here's a description of this. And as you can see again, we've got 28 by 28 to grayscale, so it's going to be very familiar to us because this is just like MNIST. And again, we've got ten categories and again we've got 60,000 training examples and again we've got 10,000 test examples. So this is this is code, as it says, direct drop in replacement for MNIST."
      ],
      "metadata": {
        "id": "OgbRxS-3pETL"
      },
      "id": "OgbRxS-3pETL"
    },
    {
      "cell_type": "code",
      "source": [
        "#| default_exp datasets"
      ],
      "metadata": {
        "id": "FLk7Vgp8VqMe"
      },
      "id": "FLk7Vgp8VqMe",
      "execution_count": 4,
      "outputs": []
    },
    {
      "cell_type": "code",
      "source": [
        "!pip install -Uqq git+https://github.com/fastai/course22p2\n"
      ],
      "metadata": {
        "colab": {
          "base_uri": "https://localhost:8080/"
        },
        "id": "30LA-UXd6o0r",
        "outputId": "70a52df4-42e8-4abd-947c-94270a982d94"
      },
      "id": "30LA-UXd6o0r",
      "execution_count": 7,
      "outputs": [
        {
          "output_type": "stream",
          "name": "stdout",
          "text": [
            "  Preparing metadata (setup.py) ... \u001b[?25l\u001b[?25hdone\n",
            "\u001b[2K     \u001b[90m━━━━━━━━━━━━━━━━━━━━━━━━━━━━━━━━━━━━━━\u001b[0m \u001b[32m474.6/474.6 kB\u001b[0m \u001b[31m17.3 MB/s\u001b[0m eta \u001b[36m0:00:00\u001b[0m\n",
            "\u001b[2K     \u001b[90m━━━━━━━━━━━━━━━━━━━━━━━━━━━━━━━━━━━━━━\u001b[0m \u001b[32m158.4/158.4 kB\u001b[0m \u001b[31m19.0 MB/s\u001b[0m eta \u001b[36m0:00:00\u001b[0m\n",
            "\u001b[2K     \u001b[90m━━━━━━━━━━━━━━━━━━━━━━━━━━━━━━━━━━━━━━\u001b[0m \u001b[32m934.9/934.9 kB\u001b[0m \u001b[31m47.4 MB/s\u001b[0m eta \u001b[36m0:00:00\u001b[0m\n",
            "\u001b[2K     \u001b[90m━━━━━━━━━━━━━━━━━━━━━━━━━━━━━━━━━━━━━━━━\u001b[0m \u001b[32m42.2/42.2 kB\u001b[0m \u001b[31m6.0 MB/s\u001b[0m eta \u001b[36m0:00:00\u001b[0m\n",
            "\u001b[2K     \u001b[90m━━━━━━━━━━━━━━━━━━━━━━━━━━━━━━━━━━━━━━\u001b[0m \u001b[32m549.1/549.1 kB\u001b[0m \u001b[31m36.5 MB/s\u001b[0m eta \u001b[36m0:00:00\u001b[0m\n",
            "\u001b[2K     \u001b[90m━━━━━━━━━━━━━━━━━━━━━━━━━━━━━━━━━━━━━━\u001b[0m \u001b[32m110.5/110.5 kB\u001b[0m \u001b[31m14.4 MB/s\u001b[0m eta \u001b[36m0:00:00\u001b[0m\n",
            "\u001b[2K     \u001b[90m━━━━━━━━━━━━━━━━━━━━━━━━━━━━━━━━━━━━━━\u001b[0m \u001b[32m212.5/212.5 kB\u001b[0m \u001b[31m26.7 MB/s\u001b[0m eta \u001b[36m0:00:00\u001b[0m\n",
            "\u001b[2K     \u001b[90m━━━━━━━━━━━━━━━━━━━━━━━━━━━━━━━━━━━━━━\u001b[0m \u001b[32m134.3/134.3 kB\u001b[0m \u001b[31m18.0 MB/s\u001b[0m eta \u001b[36m0:00:00\u001b[0m\n",
            "\u001b[2K     \u001b[90m━━━━━━━━━━━━━━━━━━━━━━━━━━━━━━━━━━━━━━━━\u001b[0m \u001b[32m1.0/1.0 MB\u001b[0m \u001b[31m48.0 MB/s\u001b[0m eta \u001b[36m0:00:00\u001b[0m\n",
            "\u001b[2K     \u001b[90m━━━━━━━━━━━━━━━━━━━━━━━━━━━━━━━━━━━━━━\u001b[0m \u001b[32m224.5/224.5 kB\u001b[0m \u001b[31m29.6 MB/s\u001b[0m eta \u001b[36m0:00:00\u001b[0m\n",
            "\u001b[2K     \u001b[90m━━━━━━━━━━━━━━━━━━━━━━━━━━━━━━━━━━━━━━━━\u001b[0m \u001b[32m87.9/87.9 kB\u001b[0m \u001b[31m11.5 MB/s\u001b[0m eta \u001b[36m0:00:00\u001b[0m\n",
            "\u001b[2K     \u001b[90m━━━━━━━━━━━━━━━━━━━━━━━━━━━━━━━━━━━━━━\u001b[0m \u001b[32m114.5/114.5 kB\u001b[0m \u001b[31m17.9 MB/s\u001b[0m eta \u001b[36m0:00:00\u001b[0m\n",
            "\u001b[2K     \u001b[90m━━━━━━━━━━━━━━━━━━━━━━━━━━━━━━━━━━━━━━\u001b[0m \u001b[32m268.8/268.8 kB\u001b[0m \u001b[31m35.5 MB/s\u001b[0m eta \u001b[36m0:00:00\u001b[0m\n",
            "\u001b[2K     \u001b[90m━━━━━━━━━━━━━━━━━━━━━━━━━━━━━━━━━━━━━━\u001b[0m \u001b[32m149.6/149.6 kB\u001b[0m \u001b[31m14.0 MB/s\u001b[0m eta \u001b[36m0:00:00\u001b[0m\n",
            "\u001b[?25h  Building wheel for miniai (setup.py) ... \u001b[?25l\u001b[?25hdone\n"
          ]
        }
      ]
    },
    {
      "cell_type": "code",
      "execution_count": 8,
      "id": "3a5b2d33",
      "metadata": {
        "id": "3a5b2d33"
      },
      "outputs": [],
      "source": [
        "#|export\n",
        "from __future__ import annotations\n",
        "import math,numpy as np,matplotlib.pyplot as plt\n",
        "from operator import itemgetter\n",
        "from itertools import zip_longest\n",
        "import fastcore.all as fc\n",
        "\n",
        "from torch.utils.data import default_collate\n",
        "\n"
      ]
    },
    {
      "cell_type": "code",
      "execution_count": 9,
      "id": "579a712f",
      "metadata": {
        "id": "579a712f"
      },
      "outputs": [],
      "source": [
        "import logging,pickle,gzip,os,time,shutil,torch,matplotlib as mpl\n",
        "from pathlib import Path\n",
        "\n",
        "from torch import tensor,nn,optim\n",
        "from torch.utils.data import DataLoader\n",
        "import torch.nn.functional as F\n",
        "from datasets import load_dataset,load_dataset_builder\n",
        "\n",
        "import torchvision.transforms.functional as TF\n",
        "from fastcore.test import test_close"
      ]
    },
    {
      "cell_type": "code",
      "execution_count": null,
      "id": "45dc4dc7",
      "metadata": {
        "id": "45dc4dc7"
      },
      "outputs": [],
      "source": [
        "torch.set_printoptions(precision=2, linewidth=140, sci_mode=False)\n",
        "torch.manual_seed(1)\n",
        "mpl.rcParams['image.cmap'] = 'gray'"
      ]
    },
    {
      "cell_type": "code",
      "execution_count": null,
      "id": "84a947f2",
      "metadata": {
        "id": "84a947f2"
      },
      "outputs": [],
      "source": [
        "logging.disable(logging.WARNING)"
      ]
    },
    {
      "cell_type": "markdown",
      "source": [
        "And so the dataset builder also will tell us what are what's in this dataset. And so huggingface stuff generally uses dictionaries rather than tuples. So there's going to be an image of type image and there's going to be a label of type class label. There's ten classes and these are the names of the classes. So it's quite nice that in huggingface datasets, you know, we can kind of get this information directly. It also tells us if there are some recommended training test splits, we can find out those as well. So this is the size of the training split and the number of examples. So now that we're ready to start playing it with that, we can load the dataset. Okay, so this is a different train load dataset builder versus load dataset. So this will actually download it, cache it, and here it is, and it creates a dataset dictionary. So a dataset dictionary, if you've used fastai is basically just like what we call the datasets class they call the dataset dict class. So it's a dictionary that contains, in this case, a train and a test item. And those are datasets. And these datasets are very much like the datasets that we created in the previous notebook. So we can now grab the training and test items from that dictionary and just pop them into variables. And so we can now have a look at the zero index thing in training. And just like we were promised, it contains an image and a label. So as you can see, we're not getting tuples anymore. We're getting dictionaries containing the x and the y in this case image and label. So I'm going to get pretty writing image and label and strings all the time, so I'm just going to store them as x and y. So x is going to be the string image and y will be the string label. I guess the other way I could have done that would have been to say x comma, y equals that probably a bit neater because it's coming straight from the features. And if you, if you iterate into a dictionary you get back its, its keys, that's why that works. So anyway, I've done it manually here, which is a bit sad, but there you go. Okay, so we can now grab the from train[0][x], which we've already seen. We can grab the x by the image and there it is. It's the image where you could grab the first five images in the first five labels, for example. And there they are. Now, we already know what the names of the classes are, so we could now see what these map two by grabbing those features. So there they are. So This is a special huggingface class, which most libraries have something including fast ai, that works like this. There's something called int to string, which is going to take these and convert them to these. So if I call it on our y batch, you'll see we've got first is ankle boots."
      ],
      "metadata": {
        "id": "19GjyvMyqCrd"
      },
      "id": "19GjyvMyqCrd"
    },
    {
      "cell_type": "markdown",
      "id": "d47ef9d3",
      "metadata": {
        "id": "d47ef9d3"
      },
      "source": [
        "## Hugging Face Datasets"
      ]
    },
    {
      "cell_type": "code",
      "execution_count": 10,
      "id": "95ce04f5",
      "metadata": {
        "id": "95ce04f5",
        "outputId": "adfd9cd3-264c-4e4d-a80b-c0700120ad7c",
        "colab": {
          "base_uri": "https://localhost:8080/",
          "height": 233,
          "referenced_widgets": [
            "5d335526879f4caca3d64e441080745f",
            "e250a39a4ceb46f39693caece3342b47",
            "34685f2db0df4e06994a41810a62d7bb",
            "e050512cf40d40648a69549f22fe52ea",
            "08d3475c1003478aadd50193e2f69129",
            "c918e2f5def64ed899141b2cd04e4605",
            "681cb125c51440a7a2098e40b5e96e03",
            "5ee4ba7b0aaf4a1b944216bab3fd7680",
            "799d7499d85645878e3408303e22179a",
            "8c6f7b76b7c64948b476d4a7ae529c08",
            "9449422d7f834f299da3e46091073aea",
            "1c72c1c98e9b434c821c6ad304078055",
            "d828ea7b583047b39cbc9b5bd39aae26",
            "796b5b8fe79f49b3a6de0cf8235f58db",
            "f76dd2ee453940f0986ccff0eb98303c",
            "239940f1ed434c8380167dee0fdbe0e8",
            "2ae683bca2ae42ec9d24c100eee30750",
            "650d84b60cf9434ab84c240fb0cdea3f",
            "9cd9a38c5dd44a94a722891b57b920ec",
            "73849ee6e9d04e4f86d395b0f50eb222",
            "935eca562ef6468f8a15815079118ba4",
            "a0150ea86d45479c810077a56cd15850",
            "800f3d2c50144788857198816d788dc5",
            "eadef9c7c4394c6c9c6ca1c6946206e2",
            "b3e130dfc162408190ad91f970adf12c",
            "67ef5fa310df44329b79e1a219e9d8d1",
            "9e5169eb20f04a70b3f4e152cd59462a",
            "dc99293d327c408991ddccb17c3da42a",
            "0e72be34f8eb431bb589399b9ebb0894",
            "b91706ad8da843a7b18ec6a02fd6a84e",
            "993c3ae9417a4c5d9f44b2f7bd95b834",
            "7870d3241e524bb79e2f0a60774af7d6",
            "8f1d115bf1e149e1bbfe56e2fbb1bda7"
          ]
        }
      },
      "outputs": [
        {
          "output_type": "display_data",
          "data": {
            "text/plain": [
              "Downloading builder script:   0%|          | 0.00/4.83k [00:00<?, ?B/s]"
            ],
            "application/vnd.jupyter.widget-view+json": {
              "version_major": 2,
              "version_minor": 0,
              "model_id": "5d335526879f4caca3d64e441080745f"
            }
          },
          "metadata": {}
        },
        {
          "output_type": "display_data",
          "data": {
            "text/plain": [
              "Downloading metadata:   0%|          | 0.00/3.13k [00:00<?, ?B/s]"
            ],
            "application/vnd.jupyter.widget-view+json": {
              "version_major": 2,
              "version_minor": 0,
              "model_id": "1c72c1c98e9b434c821c6ad304078055"
            }
          },
          "metadata": {}
        },
        {
          "output_type": "display_data",
          "data": {
            "text/plain": [
              "Downloading readme:   0%|          | 0.00/8.85k [00:00<?, ?B/s]"
            ],
            "application/vnd.jupyter.widget-view+json": {
              "version_major": 2,
              "version_minor": 0,
              "model_id": "800f3d2c50144788857198816d788dc5"
            }
          },
          "metadata": {}
        },
        {
          "output_type": "stream",
          "name": "stdout",
          "text": [
            "Fashion-MNIST is a dataset of Zalando's article images—consisting of a training set of\n",
            "60,000 examples and a test set of 10,000 examples. Each example is a 28x28 grayscale image,\n",
            "associated with a label from 10 classes. We intend Fashion-MNIST to serve as a direct drop-in\n",
            "replacement for the original MNIST dataset for benchmarking machine learning algorithms.\n",
            "It shares the same image size and structure of training and testing splits.\n",
            "\n"
          ]
        }
      ],
      "source": [
        "name = \"fashion_mnist\"\n",
        "ds_builder = load_dataset_builder(name)\n",
        "print(ds_builder.info.description)"
      ]
    },
    {
      "cell_type": "code",
      "execution_count": 11,
      "id": "7b8e6589",
      "metadata": {
        "id": "7b8e6589",
        "outputId": "972d8746-5f63-4d72-90cf-b7bbcd08bfac",
        "colab": {
          "base_uri": "https://localhost:8080/"
        }
      },
      "outputs": [
        {
          "output_type": "execute_result",
          "data": {
            "text/plain": [
              "{'image': Image(decode=True, id=None),\n",
              " 'label': ClassLabel(names=['T - shirt / top', 'Trouser', 'Pullover', 'Dress', 'Coat', 'Sandal', 'Shirt', 'Sneaker', 'Bag', 'Ankle boot'], id=None)}"
            ]
          },
          "metadata": {},
          "execution_count": 11
        }
      ],
      "source": [
        "ds_builder.info.features"
      ]
    },
    {
      "cell_type": "code",
      "execution_count": 12,
      "id": "1671912b",
      "metadata": {
        "id": "1671912b",
        "outputId": "33c0e6ca-16de-4f04-d171-5a31c4ef672c",
        "colab": {
          "base_uri": "https://localhost:8080/"
        }
      },
      "outputs": [
        {
          "output_type": "execute_result",
          "data": {
            "text/plain": [
              "{'train': SplitInfo(name='train', num_bytes=31296655, num_examples=60000, shard_lengths=None, dataset_name=None),\n",
              " 'test': SplitInfo(name='test', num_bytes=5233818, num_examples=10000, shard_lengths=None, dataset_name=None)}"
            ]
          },
          "metadata": {},
          "execution_count": 12
        }
      ],
      "source": [
        "ds_builder.info.splits"
      ]
    },
    {
      "cell_type": "code",
      "execution_count": 13,
      "id": "eacdc83c",
      "metadata": {
        "id": "eacdc83c",
        "outputId": "6e37aa69-4103-4e8e-e918-bde72a7fa279",
        "colab": {
          "referenced_widgets": [
            "052e29c6a8f34c408b184df2d14a862a",
            "3acc39b0dd484f188e74be84718a0426",
            "44f4a5d16f1646669ac0d238f2b8ae5c",
            "4f475f724fd049828c3e9220dca11608",
            "bdb0815a1dd447f7a87099f7960ae5fa",
            "8c053a02f2ad4591b25f283a07b55ca6",
            "8c6f94d3fc1540a281d2e081a8ed61ff",
            "6a5d3f0dfad942029c765c9992947b63",
            "a16b89d4b43c41bf88c77884aac005e1",
            "4a083cf513db4da4b29d3c2d5fd3e185",
            "0eb4a061802b4394995afb34d6e310d9",
            "6db57ebb01f44e2c950deff0e0a4e2db",
            "b178826bbdbb43b2bd2f32160f5670dd",
            "588b96b4d93f47b3a6356fa7698626b9",
            "e31fe559768f4c3f86af483d9461c662",
            "ed1c6c9ac8094551b23c638dbfd6d6df",
            "3d2ee791e8fd4aa290c8ac3a001c2651",
            "7fa94a49dca9475caa24f0efe53f59f6",
            "f250e2dc07bc4d59b5e198687a0e6722",
            "e7a7f5f839d1429ba898e7a9c5d23291",
            "b7be6a635f5a4724b780ae0a576ac714",
            "21968957cd294a7bad8b4bafd835d375",
            "42d5d51e80144639b1943470967c4c22",
            "8d08b85848d74c55a9bc19049f19af2e",
            "1c61216d06314add8ec29a29e0f42eb5",
            "402fbfa6159b4e9fac74a8050d948219",
            "20b773b8bebd434d9ab1a9f86d60cbe0",
            "819547d0360c415c8ac2d1db1d0b23c6",
            "2e275d6d036040ff9bfcd323eb8e32ba",
            "5c69e16c35dd48e29198280406f03c94",
            "e4870901fb474c69ae738d0c34a82707",
            "8104aa2c6a1045b887f30aef707afd93",
            "40de9495ad9142acbf8f16954a0a23dc",
            "68a07ea9296e45c5b179dcce57306542",
            "093a4c09c354479caa2d8df100e5ceed",
            "93c969b40e9341e2aaa4a70d4b7537ed",
            "37cc2cfbde194ffe8a8c9e5bef5b532b",
            "c2de3031a4c142df9d13331a00f5f4af",
            "842e2f988c89470fb3a6dfd5dde01a7a",
            "0f3c39dcf38d475d9b3fd2ea0c6ff4b2",
            "89883256781e4648925482c8f103c7aa",
            "85ae504b89f2431b8460e181efadc184",
            "a285b8891bdc496fa2d71f6534b74615",
            "1c96b105f6074a26a7162dc29adb7cc9",
            "79743d3e227e420e88b718860aa2abd9",
            "aa6e045664a64f55a8018701184a059e",
            "fda514c716b84759a6325150e42425ea",
            "62230527a8064bf89e874dffa79b5759",
            "714dba84dd7449b2a735705e2b11131a",
            "b2c9cbd2155c4eb8bbaab4a612a7458b",
            "decbddf7db174fc3a84f243739ca85d4",
            "4fc6a745d9a343ce99eb7690ecaed899",
            "4a533b240e4f4b97832f185e1cb46245",
            "443a73f6052442078b462fe9eea4fd63",
            "db97940fa26d4fecb4c9d4ec2d1c4d03",
            "b54e4816a8bc4774a24f03c20f7e0118",
            "c4995d8c2e464761b568cb3d855894cc",
            "37d11263573e4e3e9e226de77e49068c",
            "448c6fc695e14260897dba2600349490",
            "d04b6d59f23644679f5363fbcaae4f73",
            "aaab8e754cc34f999b20d312ffc87649",
            "feece19a42194d2390098179abf5cda7",
            "02a8585f3f1043b1b9ade904a7ba65d4",
            "2524b915086a4d2297fc245206cf1bd7",
            "99f579e647bd4f10a77f9c52691a4726",
            "c39cc0e587094c9eb38d74ed9d57734b",
            "4146e2adf55d4e939053cd8dea2d37a1",
            "63c381a4be5d4e94aeadf5d4f8c4ed76",
            "ef8207a6f1db470cb8e29669ceea11e7",
            "81679fb5051146aba651f0fcf9cccfc8",
            "cf67f857ed1748dc90936812d257beee",
            "c3fa901bad134cb2963f9825c6fa6b6d",
            "0e66deb6930f455f96542f7a6c7ec882",
            "628967904d724ac4a16bbbb9cc91a474",
            "addc451382d54e54bc55f9989b497865",
            "1d14be81a6c04b9199e512f9b383ef6c",
            "4820dd28855346a7bf4796d9c8abdf36",
            "41de2ee01ae04e9fadb88b63fb061079",
            "f905de606a6546e090f2aa60554a6aef",
            "0125e5e4168448088a5f0e01513b396e",
            "3a079d37332a4565bbda14570494ca17",
            "9be9e6e9ec4043e0b68f9a0a08900520",
            "62adf79febad4b2f9864b37a033f26f7",
            "3c74534bc713409788749beaebb81731",
            "76dfddae01194536b3cda15e07098177",
            "82f9baf14cd541b4889e3886a529c7e2",
            "1ba31ef41d2a42f3b7b03c49a009e4b9",
            "cc9d6e622b04410fa96aaf5955a7773a",
            "69250481dde142bfb86b51b1e672eb3a",
            "58e70c256433400cbb7e046559ee51f0",
            "c8a8af5729764d918de2d3f3c07d367a",
            "729e65febebf4ab2a8c813dcd73c293b",
            "a992793452de4d5aa41232abcba7d702",
            "cdf1821a0ccd44eb80243b6245b48b85",
            "c28a70adafd241219f52cdb0025927bd",
            "85e06894c97f4b8680e586fe09a18847",
            "46147143f6cf418a86b7ba34ac0eb600",
            "c3956ac99ba748b388a402a2a87cac60",
            "aaad14bb333845bdb30b93d751a1fed1"
          ],
          "base_uri": "https://localhost:8080/",
          "height": 460
        }
      },
      "outputs": [
        {
          "output_type": "stream",
          "name": "stdout",
          "text": [
            "Downloading and preparing dataset fashion_mnist/fashion_mnist to /root/.cache/huggingface/datasets/fashion_mnist/fashion_mnist/1.0.0/0a671f063342996f19779d38c0ab4abef9c64f757b35af8134b331c294d7ba48...\n"
          ]
        },
        {
          "output_type": "display_data",
          "data": {
            "text/plain": [
              "Downloading data files:   0%|          | 0/4 [00:00<?, ?it/s]"
            ],
            "application/vnd.jupyter.widget-view+json": {
              "version_major": 2,
              "version_minor": 0,
              "model_id": "052e29c6a8f34c408b184df2d14a862a"
            }
          },
          "metadata": {}
        },
        {
          "output_type": "display_data",
          "data": {
            "text/plain": [
              "Downloading data:   0%|          | 0.00/26.4M [00:00<?, ?B/s]"
            ],
            "application/vnd.jupyter.widget-view+json": {
              "version_major": 2,
              "version_minor": 0,
              "model_id": "6db57ebb01f44e2c950deff0e0a4e2db"
            }
          },
          "metadata": {}
        },
        {
          "output_type": "display_data",
          "data": {
            "text/plain": [
              "Downloading data:   0%|          | 0.00/29.5k [00:00<?, ?B/s]"
            ],
            "application/vnd.jupyter.widget-view+json": {
              "version_major": 2,
              "version_minor": 0,
              "model_id": "42d5d51e80144639b1943470967c4c22"
            }
          },
          "metadata": {}
        },
        {
          "output_type": "display_data",
          "data": {
            "text/plain": [
              "Downloading data:   0%|          | 0.00/4.42M [00:00<?, ?B/s]"
            ],
            "application/vnd.jupyter.widget-view+json": {
              "version_major": 2,
              "version_minor": 0,
              "model_id": "68a07ea9296e45c5b179dcce57306542"
            }
          },
          "metadata": {}
        },
        {
          "output_type": "display_data",
          "data": {
            "text/plain": [
              "Downloading data:   0%|          | 0.00/5.15k [00:00<?, ?B/s]"
            ],
            "application/vnd.jupyter.widget-view+json": {
              "version_major": 2,
              "version_minor": 0,
              "model_id": "79743d3e227e420e88b718860aa2abd9"
            }
          },
          "metadata": {}
        },
        {
          "output_type": "display_data",
          "data": {
            "text/plain": [
              "Extracting data files:   0%|          | 0/4 [00:00<?, ?it/s]"
            ],
            "application/vnd.jupyter.widget-view+json": {
              "version_major": 2,
              "version_minor": 0,
              "model_id": "b54e4816a8bc4774a24f03c20f7e0118"
            }
          },
          "metadata": {}
        },
        {
          "output_type": "display_data",
          "data": {
            "text/plain": [
              "Generating train split:   0%|          | 0/60000 [00:00<?, ? examples/s]"
            ],
            "application/vnd.jupyter.widget-view+json": {
              "version_major": 2,
              "version_minor": 0,
              "model_id": "4146e2adf55d4e939053cd8dea2d37a1"
            }
          },
          "metadata": {}
        },
        {
          "output_type": "display_data",
          "data": {
            "text/plain": [
              "Generating test split:   0%|          | 0/10000 [00:00<?, ? examples/s]"
            ],
            "application/vnd.jupyter.widget-view+json": {
              "version_major": 2,
              "version_minor": 0,
              "model_id": "41de2ee01ae04e9fadb88b63fb061079"
            }
          },
          "metadata": {}
        },
        {
          "output_type": "stream",
          "name": "stdout",
          "text": [
            "Dataset fashion_mnist downloaded and prepared to /root/.cache/huggingface/datasets/fashion_mnist/fashion_mnist/1.0.0/0a671f063342996f19779d38c0ab4abef9c64f757b35af8134b331c294d7ba48. Subsequent calls will reuse this data.\n"
          ]
        },
        {
          "output_type": "display_data",
          "data": {
            "text/plain": [
              "  0%|          | 0/2 [00:00<?, ?it/s]"
            ],
            "application/vnd.jupyter.widget-view+json": {
              "version_major": 2,
              "version_minor": 0,
              "model_id": "69250481dde142bfb86b51b1e672eb3a"
            }
          },
          "metadata": {}
        },
        {
          "output_type": "execute_result",
          "data": {
            "text/plain": [
              "DatasetDict({\n",
              "    train: Dataset({\n",
              "        features: ['image', 'label'],\n",
              "        num_rows: 60000\n",
              "    })\n",
              "    test: Dataset({\n",
              "        features: ['image', 'label'],\n",
              "        num_rows: 10000\n",
              "    })\n",
              "})"
            ]
          },
          "metadata": {},
          "execution_count": 13
        }
      ],
      "source": [
        "dsd = load_dataset(name)\n",
        "dsd"
      ]
    },
    {
      "cell_type": "code",
      "execution_count": 14,
      "id": "6ef15b80",
      "metadata": {
        "id": "6ef15b80",
        "outputId": "215a0113-bc43-4935-e324-35df4e97e863",
        "colab": {
          "base_uri": "https://localhost:8080/"
        }
      },
      "outputs": [
        {
          "output_type": "execute_result",
          "data": {
            "text/plain": [
              "{'image': <PIL.PngImagePlugin.PngImageFile image mode=L size=28x28 at 0x7F7D5C52E6E0>,\n",
              " 'label': 9}"
            ]
          },
          "metadata": {},
          "execution_count": 14
        }
      ],
      "source": [
        "train,test = dsd['train'],dsd['test']\n",
        "train[0]"
      ]
    },
    {
      "cell_type": "code",
      "execution_count": 15,
      "id": "bebfe2a9",
      "metadata": {
        "id": "bebfe2a9"
      },
      "outputs": [],
      "source": [
        "x,y = ds_builder.info.features"
      ]
    },
    {
      "cell_type": "code",
      "execution_count": 16,
      "id": "2ef65b83",
      "metadata": {
        "id": "2ef65b83",
        "outputId": "82913917-663e-4fef-e3b8-1e4103c403e9",
        "colab": {
          "base_uri": "https://localhost:8080/"
        }
      },
      "outputs": [
        {
          "output_type": "execute_result",
          "data": {
            "text/plain": [
              "('image', 'label')"
            ]
          },
          "metadata": {},
          "execution_count": 16
        }
      ],
      "source": [
        "x,y"
      ]
    },
    {
      "cell_type": "code",
      "execution_count": 17,
      "id": "4c7b6fcc",
      "metadata": {
        "id": "4c7b6fcc",
        "outputId": "24ba4851-f26f-4a5c-acc5-4945b28eacbe",
        "colab": {
          "base_uri": "https://localhost:8080/",
          "height": 66
        }
      },
      "outputs": [
        {
          "output_type": "execute_result",
          "data": {
            "text/plain": [
              "<PIL.PngImagePlugin.PngImageFile image mode=L size=28x28 at 0x7F7D5C52E920>"
            ],
            "image/png": "[encoded data removed]"
          },
          "metadata": {},
          "execution_count": 17
        }
      ],
      "source": [
        "x,y = 'image','label'\n",
        "img = train[0][x]\n",
        "img"
      ]
    },
    {
      "cell_type": "markdown",
      "source": [
        "That is indeed an ankle boot. They might have a couple of t shirts and a dress. Okay, so how do we use this to train a model? Well, we're going to need a data loader, and we want a data loader that for now we're going to just, like, return it before it's going to return. Well, actually, we're going to do something different. We're going to have our collate function is actually going to return a dictionary. Actually, this is pretty common for huggingface stuff. \n",
        "\n",
        "And PyTorch doesn't mind, it's happy for you to return a dictionary from a collation function. So rather than returning a tuple of the stacked up actually this looks very familiar. This looks a lot like the thing that goes through the dataset for each one and stacks them up just like we did in the previous notebook. So We're doing all all in one step here in our collate function. And then again, exactly the same thing. Go through our batch grab the y and this is just stacking them up with the integers so we don't have to call stack. And so we're now going to have the image and label bits in our dictionary. So if we create a data loader using that collation function, grab one batch so we can go a batch x.shape. It's a 16 by one by 28 by 28. And our y if a batch here, here it is. So the thing to notice here is that we haven't done any transforms or anything or written own dataset class or anything. We're actually putting all the work directly in the collation function. So this is like a really nice way to skip all the kind of abstractions of your framework if you want to is you can just do all of your work and collate functions so it's going to pass you each item. So it's going to you're going to get the batch directly and it's going to go through each item. And so here we're saying, okay, grab the x key from that dictionary, convert it to a tensor, and then do that for everything in the batch and then stack them all together. So this is yeah, this is like can be quite a nice way to do things if you want to do things just very manually without having to think too much about, you know, a framework, particularly if you're doing really custom stuff, this can be quite helpful. \n",
        "\n"
      ],
      "metadata": {
        "id": "_X5TWY9urPS7"
      },
      "id": "_X5TWY9urPS7"
    },
    {
      "cell_type": "code",
      "execution_count": 18,
      "id": "3db1778b",
      "metadata": {
        "id": "3db1778b",
        "outputId": "b21adb42-e37a-4d52-faba-2cb3bea63817",
        "colab": {
          "base_uri": "https://localhost:8080/"
        }
      },
      "outputs": [
        {
          "output_type": "execute_result",
          "data": {
            "text/plain": [
              "[9, 0, 0, 3, 0]"
            ]
          },
          "metadata": {},
          "execution_count": 18
        }
      ],
      "source": [
        "xb = train[:5][x]\n",
        "yb = train[:5][y]\n",
        "yb"
      ]
    },
    {
      "cell_type": "code",
      "execution_count": 19,
      "id": "e54b5bcc",
      "metadata": {
        "id": "e54b5bcc",
        "outputId": "1ead4f63-92e7-4586-a7fe-c3290d6a1855",
        "colab": {
          "base_uri": "https://localhost:8080/"
        }
      },
      "outputs": [
        {
          "output_type": "execute_result",
          "data": {
            "text/plain": [
              "ClassLabel(names=['T - shirt / top', 'Trouser', 'Pullover', 'Dress', 'Coat', 'Sandal', 'Shirt', 'Sneaker', 'Bag', 'Ankle boot'], id=None)"
            ]
          },
          "metadata": {},
          "execution_count": 19
        }
      ],
      "source": [
        "featy = train.features[y]\n",
        "featy"
      ]
    },
    {
      "cell_type": "code",
      "execution_count": 20,
      "id": "fcef590a",
      "metadata": {
        "id": "fcef590a",
        "outputId": "b35eee9b-7dc8-45ed-9138-d5857c9ac8f6",
        "colab": {
          "base_uri": "https://localhost:8080/"
        }
      },
      "outputs": [
        {
          "output_type": "execute_result",
          "data": {
            "text/plain": [
              "['Ankle boot',\n",
              " 'T - shirt / top',\n",
              " 'T - shirt / top',\n",
              " 'Dress',\n",
              " 'T - shirt / top']"
            ]
          },
          "metadata": {},
          "execution_count": 20
        }
      ],
      "source": [
        "featy.int2str(yb)"
      ]
    },
    {
      "cell_type": "code",
      "execution_count": 21,
      "id": "953cac0f",
      "metadata": {
        "id": "953cac0f",
        "outputId": "762672b4-b688-4c8c-bd60-fdc4cab458f2",
        "colab": {
          "base_uri": "https://localhost:8080/"
        }
      },
      "outputs": [
        {
          "output_type": "execute_result",
          "data": {
            "text/plain": [
              "[9, 0, 0, 3, 0]"
            ]
          },
          "metadata": {},
          "execution_count": 21
        }
      ],
      "source": [
        "train['label'][:5]"
      ]
    },
    {
      "cell_type": "code",
      "execution_count": 22,
      "id": "6b8790b8",
      "metadata": {
        "id": "6b8790b8"
      },
      "outputs": [],
      "source": [
        "def collate_fn(b):\n",
        "    return {x:torch.stack([TF.to_tensor(o[x]) for o in b]),\n",
        "            y:tensor([o[y] for o in b])}"
      ]
    },
    {
      "cell_type": "code",
      "execution_count": 23,
      "id": "36b7be22",
      "metadata": {
        "id": "36b7be22",
        "outputId": "48e5af16-2600-4e15-b5c4-1b490ef1e971",
        "colab": {
          "base_uri": "https://localhost:8080/"
        }
      },
      "outputs": [
        {
          "output_type": "execute_result",
          "data": {
            "text/plain": [
              "(torch.Size([16, 1, 28, 28]),\n",
              " tensor([9, 0, 0, 3, 0, 2, 7, 2, 5, 5, 0, 9, 5, 5, 7, 9]))"
            ]
          },
          "metadata": {},
          "execution_count": 23
        }
      ],
      "source": [
        "dl = DataLoader(train, collate_fn=collate_fn, batch_size=16)\n",
        "b = next(iter(dl))\n",
        "b[x].shape,b[y]"
      ]
    },
    {
      "cell_type": "markdown",
      "source": [
        "Having said that, huggingface data sets absolutely lets you avoid doing everything in collate function, which if we want to create really simple applications, that's where we're going to eventually went ahead. So we can do this using a transform instead. And so the way we do that is we create a function. It's going to take our batch, it's going to replace the x in our batch with the tensor version of each of those ???? images, and I'm not even stacking them or anything. And then we're going to return that batch. And so huggingface datasets has something called with_transform, and that's going to take your huggingface dataset. it's going to apply this function to every element and it doesn't run that all now. It's going to basically run when it behind the scenes, when it calls __getitem__, it will call this function on the fly. So in other words, this could have data augmentation, which can be random or whatever, because it's going to be rerun time. You grab an item, it's not cached or anything like that. So other than that, this data set has exactly the API, same API as any other data set.\n",
        "\n",
        " \n",
        "It has a length it has a __getitem__ so you can pass it to a data loader. And so PyTorch already knows how to collate dictionaries of tensors. So we've got a dictionary of tensors now. So that means we don't need a collate function anymore. I can create a data loader from this without a collate function. As you can see. And so this is to give you the exactly the same thing as before about without having to create a custom collate function. Now, even this is a bit more code than I want having to return. This seems a bit silly, but the reason I had to do this is because huggingfaced datasets expects the with transform function to return to the the new version of the of the data. So I wanted to be able to write it like this transform in place and just say the change I want to make and have it automatically return that. So if I call, if I create this function, that's exactly the same as a previous one that doesn't have return.\n",
        "\n",
        " "
      ],
      "metadata": {
        "id": "kJA6UxQ39mCi"
      },
      "id": "kJA6UxQ39mCi"
    },
    {
      "cell_type": "code",
      "execution_count": 24,
      "id": "45a6c6b4",
      "metadata": {
        "id": "45a6c6b4"
      },
      "outputs": [],
      "source": [
        "def transforms(b):\n",
        "    b[x] = [TF.to_tensor(o) for o in b[x]]\n",
        "    return b"
      ]
    },
    {
      "cell_type": "code",
      "execution_count": 25,
      "id": "7ce1985b",
      "metadata": {
        "id": "7ce1985b",
        "outputId": "f0e83052-91b5-4655-b433-716d0e4abffb",
        "colab": {
          "base_uri": "https://localhost:8080/"
        }
      },
      "outputs": [
        {
          "output_type": "execute_result",
          "data": {
            "text/plain": [
              "(torch.Size([16, 1, 28, 28]),\n",
              " tensor([9, 0, 0, 3, 0, 2, 7, 2, 5, 5, 0, 9, 5, 5, 7, 9]))"
            ]
          },
          "metadata": {},
          "execution_count": 25
        }
      ],
      "source": [
        "tds = train.with_transform(transforms)\n",
        "dl = DataLoader(tds, batch_size=16)\n",
        "b = next(iter(dl))\n",
        "b[x].shape,b[y]"
      ]
    },
    {
      "cell_type": "code",
      "execution_count": 26,
      "id": "1ad7ecde",
      "metadata": {
        "id": "1ad7ecde"
      },
      "outputs": [],
      "source": [
        "def _transformi(b): b[x] = [torch.flatten(TF.to_tensor(o)) for o in b[x]]"
      ]
    },
    {
      "cell_type": "markdown",
      "source": [
        "How would I turn this into something which does return the result? So here's an interesting trick. \n",
        " \n",
        " We could take that function, pass it to another function to create a new function, which is the a version of this in-place function that returns the result. And the way I do that is by creating a function called inplace. It takes a function, it returns a function. The function it returns is one that calls my original function and then returns the result. So this is the function. This is a function generating function, and it's modifying an in-place function to become function that returns that a new version of that data. And so this is a function this function is passed to this function which returns a function. And here it is. So here's the version that huggingface you'll be able to use so I can now pass that to with_transform. And it does exactly the same thing. So this is very, very common in Python. "
      ],
      "metadata": {
        "id": "ZzPm3Kji-xYq"
      },
      "id": "ZzPm3Kji-xYq"
    },
    {
      "cell_type": "code",
      "execution_count": 27,
      "id": "54cfb4a8",
      "metadata": {
        "id": "54cfb4a8"
      },
      "outputs": [],
      "source": [
        "#|export\n",
        "def inplace(f):\n",
        "    def _f(b):\n",
        "        f(b)\n",
        "        return b\n",
        "    return _f"
      ]
    },
    {
      "cell_type": "code",
      "execution_count": 28,
      "id": "8ffe8f17",
      "metadata": {
        "id": "8ffe8f17"
      },
      "outputs": [],
      "source": [
        "transformi = inplace(_transformi)"
      ]
    },
    {
      "cell_type": "code",
      "execution_count": 29,
      "id": "f8b1248f",
      "metadata": {
        "id": "f8b1248f",
        "outputId": "d0d66fb0-04ee-46f8-b52d-63168b1a1488",
        "colab": {
          "base_uri": "https://localhost:8080/"
        }
      },
      "outputs": [
        {
          "output_type": "execute_result",
          "data": {
            "text/plain": [
              "(torch.Size([784]), 9)"
            ]
          },
          "metadata": {},
          "execution_count": 29
        }
      ],
      "source": [
        "r = train.with_transform(transformi)[0]\n",
        "r[x].shape,r[y]"
      ]
    },
    {
      "cell_type": "markdown",
      "source": [
        "It's so common that line of code can be entirely removed and replaced with this little token. If you have a function and put that at the start, you can then put that before a function. And what it says is:\n",
        "\n",
        " take this whole function, pass it to this function and replace it with a result. So this is exactly the same as the combination of this and this.\n",
        " \n",
        "And when we do it this way, this kind of little syntax, sugar is called a decorator. So there's nothing, nothing magic about decorators. It's literally, literally identical to this. Well, I guess the only difference is we don't end up with this unnecessary intermediate underscore version, but the result is exactly the same. And therefore, I can create a transformed dataset by using this. And there we go. It's all working fine. Yeah. So, I mean, none of this is particularly necessary, but what we're doing is we're just kind of like saying, you know, the pieces that we can make and put in place to make this stuff as easy as possible, and we don't have to think about things too much. All right, Now, with all this, we can basically make things pretty automatic. And the way we can make things pretty automatic is we're going to use a cool thing in Python code itemgetter.An itemgetter is a function that returns a function. So hopefully you're getting used to this idea. Now, this creates a function that gets the a , c items from a dictionary or something that looks like a dictionary. So here's a dictionary, it contains Keys, a, b, and c, So this function will take a dictionary and return the a and c values. And as you can see, it has done exactly that. Explain why this is useful in a moment. I just wanted to briefly mention what did I mean when I said something that looks like a dictionary? I mean, this is a dictionary. Okay, That looks like a dictionary, but it python doesn't care about what type things actually are. It only cares about what they look like. And remember that when we call something with square brackets, when we index into something behind the scenes, it's just call __getitem__ so we could create our own class and it's __getitem__ gets the key and it's just going to manually return one if k equals a, two if k is b or 3 otherwise. And look, that class also works just fine with an itemgetter. \n",
        " \n",
        "The reason this is interesting is because like a lot of people write Python as if it's like C++ or Java or something. They write as stiff as if it's this kind of statically thing. But I really wanted to point out that it's an extremely dynamic language and there's a lot more flexibility than you might have realized anyway. That's a little aside. So what we can do is think about a batch, for example, where we've got these two dictionaries. Okay, so PyTorch comes with a default collation function called not surprisingly, default_collate. So that's part of PyTorch. And what default_collate does with dictionaries is it simply takes the matching keys and then grabs their values and stacks them together. And so that's why if I called default_collate a is now one, three, b is now two four. That's actually what happened before when we created this data loader is that used default_collate function which does that. It also works on things that are tuples, not dictionaries, which is what most of you would have used before. "
      ],
      "metadata": {
        "id": "cs6CYVX0_26H"
      },
      "id": "cs6CYVX0_26H"
    },
    {
      "cell_type": "code",
      "execution_count": 30,
      "id": "d6e8c480",
      "metadata": {
        "id": "d6e8c480"
      },
      "outputs": [],
      "source": [
        "@inplace\n",
        "def transformi(b): b[x] = [torch.flatten(TF.to_tensor(o)) for o in b[x]]"
      ]
    },
    {
      "cell_type": "code",
      "execution_count": 31,
      "id": "07367168",
      "metadata": {
        "id": "07367168",
        "outputId": "11da9519-eb0d-4490-8701-28592086f92c",
        "colab": {
          "base_uri": "https://localhost:8080/"
        }
      },
      "outputs": [
        {
          "output_type": "execute_result",
          "data": {
            "text/plain": [
              "(torch.Size([784]), 9)"
            ]
          },
          "metadata": {},
          "execution_count": 31
        }
      ],
      "source": [
        "tdsf = train.with_transform(transformi)\n",
        "r = tdsf[0]\n",
        "r[x].shape,r[y]"
      ]
    },
    {
      "cell_type": "code",
      "execution_count": 32,
      "id": "42cd1354",
      "metadata": {
        "id": "42cd1354",
        "outputId": "9c764c59-9bff-4936-c634-790b3a626bc6",
        "colab": {
          "base_uri": "https://localhost:8080/"
        }
      },
      "outputs": [
        {
          "output_type": "execute_result",
          "data": {
            "text/plain": [
              "(1, 3)"
            ]
          },
          "metadata": {},
          "execution_count": 32
        }
      ],
      "source": [
        "d = dict(a=1,b=2,c=3)\n",
        "ig = itemgetter('a','c')\n",
        "ig(d)"
      ]
    },
    {
      "cell_type": "code",
      "execution_count": 33,
      "id": "3c2e0bd6",
      "metadata": {
        "id": "3c2e0bd6"
      },
      "outputs": [],
      "source": [
        "class D:\n",
        "    def __getitem__(self, k): return 1 if k=='a' else 2 if k=='b' else 3"
      ]
    },
    {
      "cell_type": "code",
      "execution_count": 34,
      "id": "105f8d6f",
      "metadata": {
        "id": "105f8d6f",
        "outputId": "c6477a98-864b-4be2-da3f-9786e21a5443",
        "colab": {
          "base_uri": "https://localhost:8080/"
        }
      },
      "outputs": [
        {
          "output_type": "execute_result",
          "data": {
            "text/plain": [
              "(1, 3)"
            ]
          },
          "metadata": {},
          "execution_count": 34
        }
      ],
      "source": [
        "d = D()\n",
        "ig(d)"
      ]
    },
    {
      "cell_type": "code",
      "execution_count": 35,
      "id": "9dd178af",
      "metadata": {
        "id": "9dd178af",
        "outputId": "ec28856d-13a6-4e64-fc45-00a5cc5fd656",
        "colab": {
          "base_uri": "https://localhost:8080/"
        }
      },
      "outputs": [
        {
          "output_type": "execute_result",
          "data": {
            "text/plain": [
              "['image', 'label']"
            ]
          },
          "metadata": {},
          "execution_count": 35
        }
      ],
      "source": [
        "list(tdsf.features)"
      ]
    },
    {
      "cell_type": "code",
      "execution_count": 36,
      "id": "838cbf23",
      "metadata": {
        "id": "838cbf23",
        "outputId": "2a5fb3c8-d420-45af-ff77-f793f8d59000",
        "colab": {
          "base_uri": "https://localhost:8080/"
        }
      },
      "outputs": [
        {
          "output_type": "execute_result",
          "data": {
            "text/plain": [
              "{'a': [tensor([1, 3])], 'b': [tensor([2, 4])]}"
            ]
          },
          "metadata": {},
          "execution_count": 36
        }
      ],
      "source": [
        "batch = dict(a=[1],b=[2]), dict(a=[3],b=[4])\n",
        "default_collate(batch)"
      ]
    },
    {
      "cell_type": "markdown",
      "source": [
        "And what we can do there for is we could create something called collate_dict, which is something which is going to take a dataset and it's going to create a itemgetter function for the features in that data set, which in this case is image and label. So this is a function which will get the image and label items. And so we're not going to return a function and that function is simply going to call our itemgetter on default_collate. And what this is going to do is it's going to take a dictionary and collate it into a tuple just like we did up here. So if we run that so we're not going to call data loader on our transform dataset passing in. And remember, this is a function that attends a function. So it's a collation function for this dataset and there it is. So now this looks a lot like what we had in our previous notebook. This is not returning a dictionary, that it's returning a tuple. So this is a really important idea for particularly for working with hugging face data sets is that they tend to do things with dictionaries and most things in the pytouch world tend to work with tuples. So you can just use this now to convert anything that takes that returns dictionaries into something that provides tuples by passing it as a collation function to your data letter. \n",
        "\n",
        "So remember, you know the thing you want to be doing this this week is, is doing things like import pdb, pdb.set.trace(), dataset,right, put breakpoints, step through, see what's happening, you know, not just here, but also even more importantly, doing it inside, the innermost inner function. So then you can see as I do wrong, that oh, today set underscore, trace. So then we can see exactly what's going on. Print out b, less the code and I could step into it and look, I'm now inside the default function, which is inside pytouch. And so I can now see exactly how that works. There it all is. So it's going to go through and this code is going to look very familiar because we've implemented all this ourselves, except it's being careful that it works for lots of different types of things. Dictionaries, numpy, arrays, so on and so forth. \n",
        "\n",
        "so the first thing I want to do, oh, actually something I do want to mention here. This is so useful. We want to be able to use it in all of our notebooks. So rather than copying and pasting this every time, it would be really nice to create a python module that contains this definition. So we've created a library called nbdev. It's really a whole system called nbdev, which does exactly that. It creates modules. You can use from your notebooks and the way you do it is you use this special thing we call comment directives, which is hash pipe export. So you put this at the top of a cell and it says do something special for this. So what this does is it says, put this into a python module for me, please export it to a python module. What python module is it going to put it in. Well, if you go all the way to the top, you tell it what default export module to create. So it's going to create a module called datasets. So what I do at the very end of this module is I've got this line that says import nbdev, nbdev.nbdev_export(). And what that's going to do for me is create a library, a Python library. I'm going to have a dataset.py in it and we'll see everything that we export it. Here it is collate_dict. It will appear this for me. And so what that means is now in the future, in my notebooks, I will be able to import collate_dict from that from my datasets. Now you might wonder how does it know to call it Mini AI? What's mini AI Well an nbdev, you create a setting start any file, right? You say what the name of your library is. So we're going to be using this quite a lot now because we're getting to the point where we're starting to implement stuff that didn't exist before. So previously most of this stuff was pretty much all the stuff we've created. I've said like, Oh, that already exists in PyTorch, so we don't need it, we just use pytorch. But we're now getting to a point where we're starting to create stuff that doesn't anywhere and we've created it ourselves and so therefore we want to be able to use it again. So during the rest of this course we're going to be building together a library called miniai. That's going to be our framework, our version of something like fastai, maybe it's something like what fastai 3 will end up being. Well, see, So that's what's going on here too. So we're going to be using once I start using miniai, I'll show you exactly how to install this. But that's what this export is. And so you might have noticed I also had an export on this inplace thing and I also had it on my necessary import statements. Okay. And we want to be able to see what this dataset looks like.\n",
        "\n"
      ],
      "metadata": {
        "id": "Ed1s6XgHBTU_"
      },
      "id": "Ed1s6XgHBTU_"
    },
    {
      "cell_type": "code",
      "execution_count": 37,
      "id": "150eb14f",
      "metadata": {
        "id": "150eb14f"
      },
      "outputs": [],
      "source": [
        "#|export\n",
        "def collate_dict(ds):\n",
        "    get = itemgetter(*ds.features)\n",
        "    def _f(b): return get(default_collate(b))\n",
        "    return _f"
      ]
    },
    {
      "cell_type": "code",
      "execution_count": 38,
      "id": "383173e9",
      "metadata": {
        "id": "383173e9",
        "outputId": "8b5750ab-2cdc-485f-aaf0-d03bb5d31a3b",
        "colab": {
          "base_uri": "https://localhost:8080/"
        }
      },
      "outputs": [
        {
          "output_type": "execute_result",
          "data": {
            "text/plain": [
              "(torch.Size([4, 784]), tensor([9, 0, 0, 3]))"
            ]
          },
          "metadata": {},
          "execution_count": 38
        }
      ],
      "source": [
        "dlf = DataLoader(tdsf, batch_size=4, collate_fn=collate_dict(tdsf))\n",
        "xb,yb = next(iter(dlf))\n",
        "xb.shape,yb"
      ]
    },
    {
      "cell_type": "markdown",
      "id": "8f0277c6",
      "metadata": {
        "id": "8f0277c6"
      },
      "source": [
        "## Plotting images"
      ]
    },
    {
      "cell_type": "markdown",
      "source": [
        "So I thought it now is a good time to talk a bit about plotting because how to visualize things well is really important. And again, the idea is we know we're not allowed to use fastai plotting library, so we got to learn how to do everything ourselves.\n",
        "\n",
        " So here's the basic way to plot such an image using matplotlib  so we can create a batch, grab the x part of it, grab the very first thing in that and imshow and it show an image. And here it is. There is our ankle boot. So let's start to think about what stuff we might create, which we can export to make this a bit easier. So let's create something called show_image, which basically does imshow, but we're going to do a few extra things. We will make sure that it's in the correct access order. We will make sure it's not uncleared character that's on the CPU here. If it's not a numpy array will convert it to a numpy array will be get a pass in an existing access, which we'll talk about soon. If we want to, we'll be able to set a title if we want to. And also this thing here removes all this ugly zero five blah blah, blah access because we're showing an image. We don't want any of that. So if we try that, you can see there you go. We've also been able to say what size we want. The image there at all is. Now here's something interesting. When I say help, the help shows the things that I implemented, but it also shows a whole lot more things. How did that magic thing happen? And you can see they work because his fixed size, which I didn't add all Oh, sorry, I did that. Well, okay, that's a bad example. Anyway, these other ones all work as well. So how did that happen? \n",
        " \n",
        " Well, the trick is that I added **kwargs here:\n",
        " \n",
        "And **kwargs says, You can pass as many any other arguments as you like that aren't listed and they'll all be put into a dictionary with this name and then when I call iamshow. I pass that entire dictionary. ** here means as separate arguments. And that's how come it works. And then how come doesn't know how come it knows what help to provide. The reason why is that fastcore has a special thing called delegate's, which is a decorator. So now you know what a decorator is and you tell it. What is it that you're going to be passing kwargs to? I'm going to be passing it to you, iamshow. And then it automatically creates the documentation correctly to show you what kwargs can do.\n",
        "\n"
      ],
      "metadata": {
        "id": "k-DFnyrrFEKN"
      },
      "id": "k-DFnyrrFEKN"
    },
    {
      "cell_type": "code",
      "execution_count": 39,
      "id": "e9710424",
      "metadata": {
        "id": "e9710424",
        "outputId": "66594c2e-600f-4ee1-fb29-361486cedbaa",
        "colab": {
          "base_uri": "https://localhost:8080/",
          "height": 451
        }
      },
      "outputs": [
        {
          "output_type": "display_data",
          "data": {
            "text/plain": [
              "<Figure size 640x480 with 1 Axes>"
            ],
            "image/png": "[encoded data removed]"
          },
          "metadata": {}
        }
      ],
      "source": [
        "b = next(iter(dl))\n",
        "xb = b['image']\n",
        "img = xb[0]\n",
        "plt.imshow(img[0]);"
      ]
    },
    {
      "cell_type": "code",
      "execution_count": 40,
      "id": "ef84d1b0",
      "metadata": {
        "id": "ef84d1b0"
      },
      "outputs": [],
      "source": [
        "#|export\n",
        "@fc.delegates(plt.Axes.imshow)\n",
        "def show_image(im, ax=None, figsize=None, title=None, noframe=True, **kwargs):\n",
        "    \"Show a PIL or PyTorch image on `ax`.\"\n",
        "    if fc.hasattrs(im, ('cpu','permute','detach')):\n",
        "        im = im.detach().cpu()\n",
        "        if len(im.shape)==3 and im.shape[0]<5: im=im.permute(1,2,0)\n",
        "    elif not isinstance(im,np.ndarray): im=np.array(im)\n",
        "    if im.shape[-1]==1: im=im[...,0]\n",
        "    if ax is None: _,ax = plt.subplots(figsize=figsize)\n",
        "    ax.imshow(im, **kwargs)\n",
        "    if title is not None: ax.set_title(title)\n",
        "    ax.set_xticks([]) \n",
        "    ax.set_yticks([]) \n",
        "    if noframe: ax.axis('off')\n",
        "    return ax"
      ]
    },
    {
      "cell_type": "code",
      "execution_count": 41,
      "id": "77221d36",
      "metadata": {
        "id": "77221d36",
        "outputId": "3e157927-b82a-441e-dba6-b44737ee6f0f",
        "colab": {
          "base_uri": "https://localhost:8080/"
        }
      },
      "outputs": [
        {
          "output_type": "stream",
          "name": "stdout",
          "text": [
            "Help on function show_image in module __main__:\n",
            "\n",
            "show_image(im, ax=None, figsize=None, title=None, noframe=True, *, cmap=None, norm=None, aspect=None, interpolation=None, alpha=None, vmin=None, vmax=None, origin=None, extent=None, interpolation_stage=None, filternorm=True, filterrad=4.0, resample=None, url=None, data=None)\n",
            "    Show a PIL or PyTorch image on `ax`.\n",
            "\n"
          ]
        }
      ],
      "source": [
        "help(show_image)"
      ]
    },
    {
      "cell_type": "code",
      "execution_count": 42,
      "id": "2209898e",
      "metadata": {
        "id": "2209898e",
        "outputId": "502f6f58-b209-4f8a-9e41-b1d66692944d",
        "colab": {
          "base_uri": "https://localhost:8080/",
          "height": 212
        }
      },
      "outputs": [
        {
          "output_type": "display_data",
          "data": {
            "text/plain": [
              "<Figure size 200x200 with 1 Axes>"
            ],
            "image/png": "[encoded data removed]"
          },
          "metadata": {}
        }
      ],
      "source": [
        "show_image(img, figsize=(2,2));"
      ]
    },
    {
      "cell_type": "code",
      "execution_count": 43,
      "id": "27586e5e",
      "metadata": {
        "id": "27586e5e",
        "outputId": "a2a08162-63a8-4a9f-d420-c743999e96bd",
        "colab": {
          "base_uri": "https://localhost:8080/",
          "height": 283
        }
      },
      "outputs": [
        {
          "output_type": "display_data",
          "data": {
            "text/plain": [
              "<Figure size 640x480 with 2 Axes>"
            ],
            "image/png": "[encoded data removed]"
          },
          "metadata": {}
        }
      ],
      "source": [
        "fig,axs = plt.subplots(1,2)\n",
        "show_image(img, axs[0])\n",
        "show_image(xb[1], axs[1]);"
      ]
    },
    {
      "cell_type": "markdown",
      "source": [
        "So this is a really helpful way of being able to kind of extend existing functions like iamshow and still get all of their functionality and all of their documentation and at your right. So delegates is one of the most useful things we have in fast core, in my opinion. So we're going to export that. So now we can use show image anytime you want, which is nice. Something that's really helpful to know about matplotlib is how to create subplots. So for example, what happens if you want to plot two images next to each other. So in matplotlib subplots creates multiple plots and you pass it number of rows and the number of columns. So this here has, as you see, one row and two columns and it returns axes. Now, what it calls axes is what it refers to as the individual plots. So if we now call show image on the first image passing in Axes zero, it's going to get that here. Right Then we call iamshow that means put the image on this subplot that I call it a subplot. Unfortunately, they call it an axis. Put it on this axis. So that's how come we're able to show an image, one image on the first axis and then show a second image on the second axis, by which we mean subplot. And there's are two images. So that's pretty handy. So I've decided to add some additional functionality to subplots. So therefore, I use delegates on subplots because I'm adding functionality to it and I'm going to be taking kwargs and passing it through to subplots. And the main thing I wanted to do is to automatically create an appropriate figure size by just finding out. You tell us what image size you want. And I also want to be able to add a title for the whole set of subplots. And so there it is. And then I also want to show you that in it automatically, if we want to create documentation for us as well for our library and here is the documentation. So as you can see here for the stuff I've added, it's telling me exactly what each of these parameters are, that type, the defaults and information about each one and that is automatically coming from these little comets, these we call these documents. This is all automatic stuff done by fast core and native. And so you might have noticed when you look at Fastai library documentation, it always has all this info. So that's that's that's why you don't actually have to show doc it automatically added to your documentation for you.\n",
        "\n",
        "I'm just showing you here what it's going to end up looking like. And you can see that it's worked with delegates. It's put all the extra stuff from delegates in here as well, and they all stood out here as well. So anyway, subplots. So let's create a three by three set of plots and we'll grab the first images. And so now we can go through each of the subplots. Now it returns it as a three by three, basically a list of three lists of three items. So I flatten them all out into a single list. So I go through each of those subplots and go through each image and show each image on each axis. And so here's a quick way to quickly show them all. As you can see, it's a little bit ugly here, so we'll keep on adding more useful, plotting functionality. So here's something that again. It calls our subplots delegates to it, but we're going to be able to say, for example, how many subplots do we want? And it'll automatically calculate the rows in the columns and it's going to remove the axes for any ones that we're not actually using. And so here we got that. So that's what get grids going to let us do. So we're getting quite close. And so finally, why don't we just create a single thing called show images that's going to get our grid and it's going to go through our images optionally with lists of titles and show each one."
      ],
      "metadata": {
        "id": "R9oZbPoCHta1"
      },
      "id": "R9oZbPoCHta1"
    },
    {
      "cell_type": "code",
      "execution_count": 44,
      "id": "366112a5",
      "metadata": {
        "id": "366112a5"
      },
      "outputs": [],
      "source": [
        "#|export\n",
        "@fc.delegates(plt.subplots, keep=True)\n",
        "def subplots(\n",
        "    nrows:int=1, # Number of rows in returned axes grid\n",
        "    ncols:int=1, # Number of columns in returned axes grid\n",
        "    figsize:tuple=None, # Width, height in inches of the returned figure\n",
        "    imsize:int=3, # Size (in inches) of images that will be displayed in the returned figure\n",
        "    suptitle:str=None, # Title to be set to returned figure\n",
        "    **kwargs\n",
        "): # fig and axs\n",
        "    \"A figure and set of subplots to display images of `imsize` inches\"\n",
        "    if figsize is None: figsize=(ncols*imsize, nrows*imsize)\n",
        "    fig,ax = plt.subplots(nrows, ncols, figsize=figsize, **kwargs)\n",
        "    if suptitle is not None: fig.suptitle(suptitle)\n",
        "    if nrows*ncols==1: ax = np.array([ax])\n",
        "    return fig,ax"
      ]
    },
    {
      "cell_type": "code",
      "execution_count": 47,
      "id": "20546a79",
      "metadata": {
        "id": "20546a79",
        "outputId": "32654ef4-680b-40a4-8d2f-8817a8ae778c",
        "colab": {
          "base_uri": "https://localhost:8080/",
          "height": 312
        }
      },
      "outputs": [
        {
          "output_type": "display_data",
          "data": {
            "text/plain": [
              "<Figure size 300x300 with 9 Axes>"
            ],
            "image/png": "[encoded data removed]"
          },
          "metadata": {}
        }
      ],
      "source": [
        "fig,axs = subplots(3,3, imsize=1)\n",
        "imgs = xb[:8]\n",
        "for ax,img in zip(axs.flat,imgs): show_image(img, ax)"
      ]
    },
    {
      "cell_type": "markdown",
      "source": [
        " And we can use that here. You can see where you have successfully got all of our labeled images. And so we yeah, I think all this stuff for the plotting is pretty useful. So as you might have noticed, they were all exported. So in our datasets.py, we've got our get_grid, we've got our subplots, we've got our show_image. So that's going to make life easier for us now since we have to create everything from scratch. We have created all of those things. So as I mentioned at the very end, we have this one line of code to run. And so just to show you, if I remove miniai data sets,it's all empty. And then I run this line of code and now it's back, as you can see, and it tells you it's auto generated. All right, So we are nearly at the point where we can build our learner. And once we've built learner, we're going to be able to really dive deep into training and studying models. "
      ],
      "metadata": {
        "id": "qos5F3iCIXq9"
      },
      "id": "qos5F3iCIXq9"
    },
    {
      "cell_type": "code",
      "execution_count": 48,
      "id": "aeaf024b",
      "metadata": {
        "id": "aeaf024b"
      },
      "outputs": [],
      "source": [
        "#|export\n",
        "@fc.delegates(subplots)\n",
        "def get_grid(\n",
        "    n:int, # Number of axes\n",
        "    nrows:int=None, # Number of rows, defaulting to `int(math.sqrt(n))`\n",
        "    ncols:int=None, # Number of columns, defaulting to `ceil(n/rows)`\n",
        "    title:str=None, # If passed, title set to the figure\n",
        "    weight:str='bold', # Title font weight\n",
        "    size:int=14, # Title font size\n",
        "    **kwargs,\n",
        "): # fig and axs\n",
        "    \"Return a grid of `n` axes, `rows` by `cols`\"\n",
        "    if nrows: ncols = ncols or int(np.floor(n/nrows))\n",
        "    elif ncols: nrows = nrows or int(np.ceil(n/ncols))\n",
        "    else:\n",
        "        nrows = int(math.sqrt(n))\n",
        "        ncols = int(np.floor(n/nrows))\n",
        "    fig,axs = subplots(nrows, ncols, **kwargs)\n",
        "    for i in range(n, nrows*ncols): axs.flat[i].set_axis_off()\n",
        "    if title is not None: fig.suptitle(title, weight=weight, size=size)\n",
        "    return fig,axs"
      ]
    },
    {
      "cell_type": "code",
      "execution_count": 49,
      "id": "c422a7de",
      "metadata": {
        "id": "c422a7de",
        "outputId": "06e50182-c7b8-4e51-c788-3eaf96883026",
        "colab": {
          "base_uri": "https://localhost:8080/",
          "height": 289
        }
      },
      "outputs": [
        {
          "output_type": "display_data",
          "data": {
            "text/plain": [
              "<Figure size 200x300 with 6 Axes>"
            ],
            "image/png": "[encoded data removed]"
          },
          "metadata": {}
        }
      ],
      "source": [
        "fig,axs = get_grid(8, nrows=3, imsize=1)\n",
        "for ax,img in zip(axs.flat,imgs): show_image(img, ax)"
      ]
    },
    {
      "cell_type": "code",
      "execution_count": 50,
      "id": "02f44439",
      "metadata": {
        "id": "02f44439"
      },
      "outputs": [],
      "source": [
        "#|export\n",
        "@fc.delegates(subplots)\n",
        "def show_images(ims:list, # Images to show\n",
        "                nrows:int|None=None, # Number of rows in grid\n",
        "                ncols:int|None=None, # Number of columns in grid (auto-calculated if None)\n",
        "                titles:list|None=None, # Optional list of titles for each image\n",
        "                **kwargs):\n",
        "    \"Show all images `ims` as subplots with `rows` using `titles`\"\n",
        "    axs = get_grid(len(ims), nrows, ncols, **kwargs)[1].flat\n",
        "    for im,t,ax in zip_longest(ims, titles or [], axs): show_image(im, ax=ax, title=t)"
      ]
    },
    {
      "cell_type": "code",
      "execution_count": 51,
      "id": "91e0e2ac",
      "metadata": {
        "id": "91e0e2ac"
      },
      "outputs": [],
      "source": [
        "yb = b['label']\n",
        "lbls = yb[:8]"
      ]
    },
    {
      "cell_type": "code",
      "execution_count": 52,
      "id": "a7aacc2a",
      "metadata": {
        "id": "a7aacc2a",
        "outputId": "850aab42-04f8-4c06-a513-eb9fdefc9918",
        "colab": {
          "base_uri": "https://localhost:8080/",
          "height": 58
        }
      },
      "outputs": [
        {
          "output_type": "execute_result",
          "data": {
            "text/plain": [
              "'Boot Top Top Dress Top Pullover Sneaker Pullover'"
            ],
            "application/vnd.google.colaboratory.intrinsic+json": {
              "type": "string"
            }
          },
          "metadata": {},
          "execution_count": 52
        }
      ],
      "source": [
        "names = \"Top Trouser Pullover Dress Coat Sandal Shirt Sneaker Bag Boot\".split()\n",
        "titles = itemgetter(*lbls)(names)\n",
        "' '.join(titles)"
      ]
    },
    {
      "cell_type": "code",
      "execution_count": 53,
      "id": "33b9ac1b",
      "metadata": {
        "id": "33b9ac1b",
        "outputId": "654c90f9-a230-4cc4-f3b4-8911b4735d6c",
        "colab": {
          "base_uri": "https://localhost:8080/",
          "height": 337
        }
      },
      "outputs": [
        {
          "output_type": "display_data",
          "data": {
            "text/plain": [
              "<Figure size 680x340 with 8 Axes>"
            ],
            "image/png": "[encoded data removed]"
          },
          "metadata": {}
        }
      ],
      "source": [
        "show_images(imgs, imsize=1.7, titles=titles)"
      ]
    },
    {
      "cell_type": "code",
      "execution_count": 54,
      "id": "56422103",
      "metadata": {
        "id": "56422103"
      },
      "outputs": [],
      "source": [
        "#|export\n",
        "class DataLoaders:\n",
        "    def __init__(self, *dls): self.train,self.valid = dls[:2]\n",
        "\n",
        "    @classmethod\n",
        "    def from_dd(cls, dd, batch_size, as_tuple=True, **kwargs):\n",
        "        f = collate_dict(dd['train'])\n",
        "        return cls(*get_dls(*dd.values(), bs=batch_size, collate_fn=f))"
      ]
    }
  ],
  "metadata": {
    "kernelspec": {
      "display_name": "Python 3 (ipykernel)",
      "language": "python",
      "name": "python3"
    },
    "colab": {
      "provenance": []
    },
    "accelerator": "GPU",
    "gpuClass": "standard",
    "widgets": {
      "application/vnd.jupyter.widget-state+json": {
        "5d335526879f4caca3d64e441080745f": {
          "model_module": "@jupyter-widgets/controls",
          "model_name": "HBoxModel",
          "model_module_version": "1.5.0",
          "state": {
            "_dom_classes": [],
            "_model_module": "@jupyter-widgets/controls",
            "_model_module_version": "1.5.0",
            "_model_name": "HBoxModel",
            "_view_count": null,
            "_view_module": "@jupyter-widgets/controls",
            "_view_module_version": "1.5.0",
            "_view_name": "HBoxView",
            "box_style": "",
            "children": [
              "IPY_MODEL_e250a39a4ceb46f39693caece3342b47",
              "IPY_MODEL_34685f2db0df4e06994a41810a62d7bb",
              "IPY_MODEL_e050512cf40d40648a69549f22fe52ea"
            ],
            "layout": "IPY_MODEL_08d3475c1003478aadd50193e2f69129"
          }
        },
        "e250a39a4ceb46f39693caece3342b47": {
          "model_module": "@jupyter-widgets/controls",
          "model_name": "HTMLModel",
          "model_module_version": "1.5.0",
          "state": {
            "_dom_classes": [],
            "_model_module": "@jupyter-widgets/controls",
            "_model_module_version": "1.5.0",
            "_model_name": "HTMLModel",
            "_view_count": null,
            "_view_module": "@jupyter-widgets/controls",
            "_view_module_version": "1.5.0",
            "_view_name": "HTMLView",
            "description": "",
            "description_tooltip": null,
            "layout": "IPY_MODEL_c918e2f5def64ed899141b2cd04e4605",
            "placeholder": "​",
            "style": "IPY_MODEL_681cb125c51440a7a2098e40b5e96e03",
            "value": "Downloading builder script: 100%"
          }
        },
        "34685f2db0df4e06994a41810a62d7bb": {
          "model_module": "@jupyter-widgets/controls",
          "model_name": "FloatProgressModel",
          "model_module_version": "1.5.0",
          "state": {
            "_dom_classes": [],
            "_model_module": "@jupyter-widgets/controls",
            "_model_module_version": "1.5.0",
            "_model_name": "FloatProgressModel",
            "_view_count": null,
            "_view_module": "@jupyter-widgets/controls",
            "_view_module_version": "1.5.0",
            "_view_name": "ProgressView",
            "bar_style": "success",
            "description": "",
            "description_tooltip": null,
            "layout": "IPY_MODEL_5ee4ba7b0aaf4a1b944216bab3fd7680",
            "max": 4833,
            "min": 0,
            "orientation": "horizontal",
            "style": "IPY_MODEL_799d7499d85645878e3408303e22179a",
            "value": 4833
          }
        },
        "e050512cf40d40648a69549f22fe52ea": {
          "model_module": "@jupyter-widgets/controls",
          "model_name": "HTMLModel",
          "model_module_version": "1.5.0",
          "state": {
            "_dom_classes": [],
            "_model_module": "@jupyter-widgets/controls",
            "_model_module_version": "1.5.0",
            "_model_name": "HTMLModel",
            "_view_count": null,
            "_view_module": "@jupyter-widgets/controls",
            "_view_module_version": "1.5.0",
            "_view_name": "HTMLView",
            "description": "",
            "description_tooltip": null,
            "layout": "IPY_MODEL_8c6f7b76b7c64948b476d4a7ae529c08",
            "placeholder": "​",
            "style": "IPY_MODEL_9449422d7f834f299da3e46091073aea",
            "value": " 4.83k/4.83k [00:00&lt;00:00, 246kB/s]"
          }
        },
        "08d3475c1003478aadd50193e2f69129": {
          "model_module": "@jupyter-widgets/base",
          "model_name": "LayoutModel",
          "model_module_version": "1.2.0",
          "state": {
            "_model_module": "@jupyter-widgets/base",
            "_model_module_version": "1.2.0",
            "_model_name": "LayoutModel",
            "_view_count": null,
            "_view_module": "@jupyter-widgets/base",
            "_view_module_version": "1.2.0",
            "_view_name": "LayoutView",
            "align_content": null,
            "align_items": null,
            "align_self": null,
            "border": null,
            "bottom": null,
            "display": null,
            "flex": null,
            "flex_flow": null,
            "grid_area": null,
            "grid_auto_columns": null,
            "grid_auto_flow": null,
            "grid_auto_rows": null,
            "grid_column": null,
            "grid_gap": null,
            "grid_row": null,
            "grid_template_areas": null,
            "grid_template_columns": null,
            "grid_template_rows": null,
            "height": null,
            "justify_content": null,
            "justify_items": null,
            "left": null,
            "margin": null,
            "max_height": null,
            "max_width": null,
            "min_height": null,
            "min_width": null,
            "object_fit": null,
            "object_position": null,
            "order": null,
            "overflow": null,
            "overflow_x": null,
            "overflow_y": null,
            "padding": null,
            "right": null,
            "top": null,
            "visibility": null,
            "width": null
          }
        },
        "c918e2f5def64ed899141b2cd04e4605": {
          "model_module": "@jupyter-widgets/base",
          "model_name": "LayoutModel",
          "model_module_version": "1.2.0",
          "state": {
            "_model_module": "@jupyter-widgets/base",
            "_model_module_version": "1.2.0",
            "_model_name": "LayoutModel",
            "_view_count": null,
            "_view_module": "@jupyter-widgets/base",
            "_view_module_version": "1.2.0",
            "_view_name": "LayoutView",
            "align_content": null,
            "align_items": null,
            "align_self": null,
            "border": null,
            "bottom": null,
            "display": null,
            "flex": null,
            "flex_flow": null,
            "grid_area": null,
            "grid_auto_columns": null,
            "grid_auto_flow": null,
            "grid_auto_rows": null,
            "grid_column": null,
            "grid_gap": null,
            "grid_row": null,
            "grid_template_areas": null,
            "grid_template_columns": null,
            "grid_template_rows": null,
            "height": null,
            "justify_content": null,
            "justify_items": null,
            "left": null,
            "margin": null,
            "max_height": null,
            "max_width": null,
            "min_height": null,
            "min_width": null,
            "object_fit": null,
            "object_position": null,
            "order": null,
            "overflow": null,
            "overflow_x": null,
            "overflow_y": null,
            "padding": null,
            "right": null,
            "top": null,
            "visibility": null,
            "width": null
          }
        },
        "681cb125c51440a7a2098e40b5e96e03": {
          "model_module": "@jupyter-widgets/controls",
          "model_name": "DescriptionStyleModel",
          "model_module_version": "1.5.0",
          "state": {
            "_model_module": "@jupyter-widgets/controls",
            "_model_module_version": "1.5.0",
            "_model_name": "DescriptionStyleModel",
            "_view_count": null,
            "_view_module": "@jupyter-widgets/base",
            "_view_module_version": "1.2.0",
            "_view_name": "StyleView",
            "description_width": ""
          }
        },
        "5ee4ba7b0aaf4a1b944216bab3fd7680": {
          "model_module": "@jupyter-widgets/base",
          "model_name": "LayoutModel",
          "model_module_version": "1.2.0",
          "state": {
            "_model_module": "@jupyter-widgets/base",
            "_model_module_version": "1.2.0",
            "_model_name": "LayoutModel",
            "_view_count": null,
            "_view_module": "@jupyter-widgets/base",
            "_view_module_version": "1.2.0",
            "_view_name": "LayoutView",
            "align_content": null,
            "align_items": null,
            "align_self": null,
            "border": null,
            "bottom": null,
            "display": null,
            "flex": null,
            "flex_flow": null,
            "grid_area": null,
            "grid_auto_columns": null,
            "grid_auto_flow": null,
            "grid_auto_rows": null,
            "grid_column": null,
            "grid_gap": null,
            "grid_row": null,
            "grid_template_areas": null,
            "grid_template_columns": null,
            "grid_template_rows": null,
            "height": null,
            "justify_content": null,
            "justify_items": null,
            "left": null,
            "margin": null,
            "max_height": null,
            "max_width": null,
            "min_height": null,
            "min_width": null,
            "object_fit": null,
            "object_position": null,
            "order": null,
            "overflow": null,
            "overflow_x": null,
            "overflow_y": null,
            "padding": null,
            "right": null,
            "top": null,
            "visibility": null,
            "width": null
          }
        },
        "799d7499d85645878e3408303e22179a": {
          "model_module": "@jupyter-widgets/controls",
          "model_name": "ProgressStyleModel",
          "model_module_version": "1.5.0",
          "state": {
            "_model_module": "@jupyter-widgets/controls",
            "_model_module_version": "1.5.0",
            "_model_name": "ProgressStyleModel",
            "_view_count": null,
            "_view_module": "@jupyter-widgets/base",
            "_view_module_version": "1.2.0",
            "_view_name": "StyleView",
            "bar_color": null,
            "description_width": ""
          }
        },
        "8c6f7b76b7c64948b476d4a7ae529c08": {
          "model_module": "@jupyter-widgets/base",
          "model_name": "LayoutModel",
          "model_module_version": "1.2.0",
          "state": {
            "_model_module": "@jupyter-widgets/base",
            "_model_module_version": "1.2.0",
            "_model_name": "LayoutModel",
            "_view_count": null,
            "_view_module": "@jupyter-widgets/base",
            "_view_module_version": "1.2.0",
            "_view_name": "LayoutView",
            "align_content": null,
            "align_items": null,
            "align_self": null,
            "border": null,
            "bottom": null,
            "display": null,
            "flex": null,
            "flex_flow": null,
            "grid_area": null,
            "grid_auto_columns": null,
            "grid_auto_flow": null,
            "grid_auto_rows": null,
            "grid_column": null,
            "grid_gap": null,
            "grid_row": null,
            "grid_template_areas": null,
            "grid_template_columns": null,
            "grid_template_rows": null,
            "height": null,
            "justify_content": null,
            "justify_items": null,
            "left": null,
            "margin": null,
            "max_height": null,
            "max_width": null,
            "min_height": null,
            "min_width": null,
            "object_fit": null,
            "object_position": null,
            "order": null,
            "overflow": null,
            "overflow_x": null,
            "overflow_y": null,
            "padding": null,
            "right": null,
            "top": null,
            "visibility": null,
            "width": null
          }
        },
        "9449422d7f834f299da3e46091073aea": {
          "model_module": "@jupyter-widgets/controls",
          "model_name": "DescriptionStyleModel",
          "model_module_version": "1.5.0",
          "state": {
            "_model_module": "@jupyter-widgets/controls",
            "_model_module_version": "1.5.0",
            "_model_name": "DescriptionStyleModel",
            "_view_count": null,
            "_view_module": "@jupyter-widgets/base",
            "_view_module_version": "1.2.0",
            "_view_name": "StyleView",
            "description_width": ""
          }
        },
        "1c72c1c98e9b434c821c6ad304078055": {
          "model_module": "@jupyter-widgets/controls",
          "model_name": "HBoxModel",
          "model_module_version": "1.5.0",
          "state": {
            "_dom_classes": [],
            "_model_module": "@jupyter-widgets/controls",
            "_model_module_version": "1.5.0",
            "_model_name": "HBoxModel",
            "_view_count": null,
            "_view_module": "@jupyter-widgets/controls",
            "_view_module_version": "1.5.0",
            "_view_name": "HBoxView",
            "box_style": "",
            "children": [
              "IPY_MODEL_d828ea7b583047b39cbc9b5bd39aae26",
              "IPY_MODEL_796b5b8fe79f49b3a6de0cf8235f58db",
              "IPY_MODEL_f76dd2ee453940f0986ccff0eb98303c"
            ],
            "layout": "IPY_MODEL_239940f1ed434c8380167dee0fdbe0e8"
          }
        },
        "d828ea7b583047b39cbc9b5bd39aae26": {
          "model_module": "@jupyter-widgets/controls",
          "model_name": "HTMLModel",
          "model_module_version": "1.5.0",
          "state": {
            "_dom_classes": [],
            "_model_module": "@jupyter-widgets/controls",
            "_model_module_version": "1.5.0",
            "_model_name": "HTMLModel",
            "_view_count": null,
            "_view_module": "@jupyter-widgets/controls",
            "_view_module_version": "1.5.0",
            "_view_name": "HTMLView",
            "description": "",
            "description_tooltip": null,
            "layout": "IPY_MODEL_2ae683bca2ae42ec9d24c100eee30750",
            "placeholder": "​",
            "style": "IPY_MODEL_650d84b60cf9434ab84c240fb0cdea3f",
            "value": "Downloading metadata: 100%"
          }
        },
        "796b5b8fe79f49b3a6de0cf8235f58db": {
          "model_module": "@jupyter-widgets/controls",
          "model_name": "FloatProgressModel",
          "model_module_version": "1.5.0",
          "state": {
            "_dom_classes": [],
            "_model_module": "@jupyter-widgets/controls",
            "_model_module_version": "1.5.0",
            "_model_name": "FloatProgressModel",
            "_view_count": null,
            "_view_module": "@jupyter-widgets/controls",
            "_view_module_version": "1.5.0",
            "_view_name": "ProgressView",
            "bar_style": "success",
            "description": "",
            "description_tooltip": null,
            "layout": "IPY_MODEL_9cd9a38c5dd44a94a722891b57b920ec",
            "max": 3126,
            "min": 0,
            "orientation": "horizontal",
            "style": "IPY_MODEL_73849ee6e9d04e4f86d395b0f50eb222",
            "value": 3126
          }
        },
        "f76dd2ee453940f0986ccff0eb98303c": {
          "model_module": "@jupyter-widgets/controls",
          "model_name": "HTMLModel",
          "model_module_version": "1.5.0",
          "state": {
            "_dom_classes": [],
            "_model_module": "@jupyter-widgets/controls",
            "_model_module_version": "1.5.0",
            "_model_name": "HTMLModel",
            "_view_count": null,
            "_view_module": "@jupyter-widgets/controls",
            "_view_module_version": "1.5.0",
            "_view_name": "HTMLView",
            "description": "",
            "description_tooltip": null,
            "layout": "IPY_MODEL_935eca562ef6468f8a15815079118ba4",
            "placeholder": "​",
            "style": "IPY_MODEL_a0150ea86d45479c810077a56cd15850",
            "value": " 3.13k/3.13k [00:00&lt;00:00, 127kB/s]"
          }
        },
        "239940f1ed434c8380167dee0fdbe0e8": {
          "model_module": "@jupyter-widgets/base",
          "model_name": "LayoutModel",
          "model_module_version": "1.2.0",
          "state": {
            "_model_module": "@jupyter-widgets/base",
            "_model_module_version": "1.2.0",
            "_model_name": "LayoutModel",
            "_view_count": null,
            "_view_module": "@jupyter-widgets/base",
            "_view_module_version": "1.2.0",
            "_view_name": "LayoutView",
            "align_content": null,
            "align_items": null,
            "align_self": null,
            "border": null,
            "bottom": null,
            "display": null,
            "flex": null,
            "flex_flow": null,
            "grid_area": null,
            "grid_auto_columns": null,
            "grid_auto_flow": null,
            "grid_auto_rows": null,
            "grid_column": null,
            "grid_gap": null,
            "grid_row": null,
            "grid_template_areas": null,
            "grid_template_columns": null,
            "grid_template_rows": null,
            "height": null,
            "justify_content": null,
            "justify_items": null,
            "left": null,
            "margin": null,
            "max_height": null,
            "max_width": null,
            "min_height": null,
            "min_width": null,
            "object_fit": null,
            "object_position": null,
            "order": null,
            "overflow": null,
            "overflow_x": null,
            "overflow_y": null,
            "padding": null,
            "right": null,
            "top": null,
            "visibility": null,
            "width": null
          }
        },
        "2ae683bca2ae42ec9d24c100eee30750": {
          "model_module": "@jupyter-widgets/base",
          "model_name": "LayoutModel",
          "model_module_version": "1.2.0",
          "state": {
            "_model_module": "@jupyter-widgets/base",
            "_model_module_version": "1.2.0",
            "_model_name": "LayoutModel",
            "_view_count": null,
            "_view_module": "@jupyter-widgets/base",
            "_view_module_version": "1.2.0",
            "_view_name": "LayoutView",
            "align_content": null,
            "align_items": null,
            "align_self": null,
            "border": null,
            "bottom": null,
            "display": null,
            "flex": null,
            "flex_flow": null,
            "grid_area": null,
            "grid_auto_columns": null,
            "grid_auto_flow": null,
            "grid_auto_rows": null,
            "grid_column": null,
            "grid_gap": null,
            "grid_row": null,
            "grid_template_areas": null,
            "grid_template_columns": null,
            "grid_template_rows": null,
            "height": null,
            "justify_content": null,
            "justify_items": null,
            "left": null,
            "margin": null,
            "max_height": null,
            "max_width": null,
            "min_height": null,
            "min_width": null,
            "object_fit": null,
            "object_position": null,
            "order": null,
            "overflow": null,
            "overflow_x": null,
            "overflow_y": null,
            "padding": null,
            "right": null,
            "top": null,
            "visibility": null,
            "width": null
          }
        },
        "650d84b60cf9434ab84c240fb0cdea3f": {
          "model_module": "@jupyter-widgets/controls",
          "model_name": "DescriptionStyleModel",
          "model_module_version": "1.5.0",
          "state": {
            "_model_module": "@jupyter-widgets/controls",
            "_model_module_version": "1.5.0",
            "_model_name": "DescriptionStyleModel",
            "_view_count": null,
            "_view_module": "@jupyter-widgets/base",
            "_view_module_version": "1.2.0",
            "_view_name": "StyleView",
            "description_width": ""
          }
        },
        "9cd9a38c5dd44a94a722891b57b920ec": {
          "model_module": "@jupyter-widgets/base",
          "model_name": "LayoutModel",
          "model_module_version": "1.2.0",
          "state": {
            "_model_module": "@jupyter-widgets/base",
            "_model_module_version": "1.2.0",
            "_model_name": "LayoutModel",
            "_view_count": null,
            "_view_module": "@jupyter-widgets/base",
            "_view_module_version": "1.2.0",
            "_view_name": "LayoutView",
            "align_content": null,
            "align_items": null,
            "align_self": null,
            "border": null,
            "bottom": null,
            "display": null,
            "flex": null,
            "flex_flow": null,
            "grid_area": null,
            "grid_auto_columns": null,
            "grid_auto_flow": null,
            "grid_auto_rows": null,
            "grid_column": null,
            "grid_gap": null,
            "grid_row": null,
            "grid_template_areas": null,
            "grid_template_columns": null,
            "grid_template_rows": null,
            "height": null,
            "justify_content": null,
            "justify_items": null,
            "left": null,
            "margin": null,
            "max_height": null,
            "max_width": null,
            "min_height": null,
            "min_width": null,
            "object_fit": null,
            "object_position": null,
            "order": null,
            "overflow": null,
            "overflow_x": null,
            "overflow_y": null,
            "padding": null,
            "right": null,
            "top": null,
            "visibility": null,
            "width": null
          }
        },
        "73849ee6e9d04e4f86d395b0f50eb222": {
          "model_module": "@jupyter-widgets/controls",
          "model_name": "ProgressStyleModel",
          "model_module_version": "1.5.0",
          "state": {
            "_model_module": "@jupyter-widgets/controls",
            "_model_module_version": "1.5.0",
            "_model_name": "ProgressStyleModel",
            "_view_count": null,
            "_view_module": "@jupyter-widgets/base",
            "_view_module_version": "1.2.0",
            "_view_name": "StyleView",
            "bar_color": null,
            "description_width": ""
          }
        },
        "935eca562ef6468f8a15815079118ba4": {
          "model_module": "@jupyter-widgets/base",
          "model_name": "LayoutModel",
          "model_module_version": "1.2.0",
          "state": {
            "_model_module": "@jupyter-widgets/base",
            "_model_module_version": "1.2.0",
            "_model_name": "LayoutModel",
            "_view_count": null,
            "_view_module": "@jupyter-widgets/base",
            "_view_module_version": "1.2.0",
            "_view_name": "LayoutView",
            "align_content": null,
            "align_items": null,
            "align_self": null,
            "border": null,
            "bottom": null,
            "display": null,
            "flex": null,
            "flex_flow": null,
            "grid_area": null,
            "grid_auto_columns": null,
            "grid_auto_flow": null,
            "grid_auto_rows": null,
            "grid_column": null,
            "grid_gap": null,
            "grid_row": null,
            "grid_template_areas": null,
            "grid_template_columns": null,
            "grid_template_rows": null,
            "height": null,
            "justify_content": null,
            "justify_items": null,
            "left": null,
            "margin": null,
            "max_height": null,
            "max_width": null,
            "min_height": null,
            "min_width": null,
            "object_fit": null,
            "object_position": null,
            "order": null,
            "overflow": null,
            "overflow_x": null,
            "overflow_y": null,
            "padding": null,
            "right": null,
            "top": null,
            "visibility": null,
            "width": null
          }
        },
        "a0150ea86d45479c810077a56cd15850": {
          "model_module": "@jupyter-widgets/controls",
          "model_name": "DescriptionStyleModel",
          "model_module_version": "1.5.0",
          "state": {
            "_model_module": "@jupyter-widgets/controls",
            "_model_module_version": "1.5.0",
            "_model_name": "DescriptionStyleModel",
            "_view_count": null,
            "_view_module": "@jupyter-widgets/base",
            "_view_module_version": "1.2.0",
            "_view_name": "StyleView",
            "description_width": ""
          }
        },
        "800f3d2c50144788857198816d788dc5": {
          "model_module": "@jupyter-widgets/controls",
          "model_name": "HBoxModel",
          "model_module_version": "1.5.0",
          "state": {
            "_dom_classes": [],
            "_model_module": "@jupyter-widgets/controls",
            "_model_module_version": "1.5.0",
            "_model_name": "HBoxModel",
            "_view_count": null,
            "_view_module": "@jupyter-widgets/controls",
            "_view_module_version": "1.5.0",
            "_view_name": "HBoxView",
            "box_style": "",
            "children": [
              "IPY_MODEL_eadef9c7c4394c6c9c6ca1c6946206e2",
              "IPY_MODEL_b3e130dfc162408190ad91f970adf12c",
              "IPY_MODEL_67ef5fa310df44329b79e1a219e9d8d1"
            ],
            "layout": "IPY_MODEL_9e5169eb20f04a70b3f4e152cd59462a"
          }
        },
        "eadef9c7c4394c6c9c6ca1c6946206e2": {
          "model_module": "@jupyter-widgets/controls",
          "model_name": "HTMLModel",
          "model_module_version": "1.5.0",
          "state": {
            "_dom_classes": [],
            "_model_module": "@jupyter-widgets/controls",
            "_model_module_version": "1.5.0",
            "_model_name": "HTMLModel",
            "_view_count": null,
            "_view_module": "@jupyter-widgets/controls",
            "_view_module_version": "1.5.0",
            "_view_name": "HTMLView",
            "description": "",
            "description_tooltip": null,
            "layout": "IPY_MODEL_dc99293d327c408991ddccb17c3da42a",
            "placeholder": "​",
            "style": "IPY_MODEL_0e72be34f8eb431bb589399b9ebb0894",
            "value": "Downloading readme: 100%"
          }
        },
        "b3e130dfc162408190ad91f970adf12c": {
          "model_module": "@jupyter-widgets/controls",
          "model_name": "FloatProgressModel",
          "model_module_version": "1.5.0",
          "state": {
            "_dom_classes": [],
            "_model_module": "@jupyter-widgets/controls",
            "_model_module_version": "1.5.0",
            "_model_name": "FloatProgressModel",
            "_view_count": null,
            "_view_module": "@jupyter-widgets/controls",
            "_view_module_version": "1.5.0",
            "_view_name": "ProgressView",
            "bar_style": "success",
            "description": "",
            "description_tooltip": null,
            "layout": "IPY_MODEL_b91706ad8da843a7b18ec6a02fd6a84e",
            "max": 8845,
            "min": 0,
            "orientation": "horizontal",
            "style": "IPY_MODEL_993c3ae9417a4c5d9f44b2f7bd95b834",
            "value": 8845
          }
        },
        "67ef5fa310df44329b79e1a219e9d8d1": {
          "model_module": "@jupyter-widgets/controls",
          "model_name": "HTMLModel",
          "model_module_version": "1.5.0",
          "state": {
            "_dom_classes": [],
            "_model_module": "@jupyter-widgets/controls",
            "_model_module_version": "1.5.0",
            "_model_name": "HTMLModel",
            "_view_count": null,
            "_view_module": "@jupyter-widgets/controls",
            "_view_module_version": "1.5.0",
            "_view_name": "HTMLView",
            "description": "",
            "description_tooltip": null,
            "layout": "IPY_MODEL_7870d3241e524bb79e2f0a60774af7d6",
            "placeholder": "​",
            "style": "IPY_MODEL_8f1d115bf1e149e1bbfe56e2fbb1bda7",
            "value": " 8.85k/8.85k [00:00&lt;00:00, 567kB/s]"
          }
        },
        "9e5169eb20f04a70b3f4e152cd59462a": {
          "model_module": "@jupyter-widgets/base",
          "model_name": "LayoutModel",
          "model_module_version": "1.2.0",
          "state": {
            "_model_module": "@jupyter-widgets/base",
            "_model_module_version": "1.2.0",
            "_model_name": "LayoutModel",
            "_view_count": null,
            "_view_module": "@jupyter-widgets/base",
            "_view_module_version": "1.2.0",
            "_view_name": "LayoutView",
            "align_content": null,
            "align_items": null,
            "align_self": null,
            "border": null,
            "bottom": null,
            "display": null,
            "flex": null,
            "flex_flow": null,
            "grid_area": null,
            "grid_auto_columns": null,
            "grid_auto_flow": null,
            "grid_auto_rows": null,
            "grid_column": null,
            "grid_gap": null,
            "grid_row": null,
            "grid_template_areas": null,
            "grid_template_columns": null,
            "grid_template_rows": null,
            "height": null,
            "justify_content": null,
            "justify_items": null,
            "left": null,
            "margin": null,
            "max_height": null,
            "max_width": null,
            "min_height": null,
            "min_width": null,
            "object_fit": null,
            "object_position": null,
            "order": null,
            "overflow": null,
            "overflow_x": null,
            "overflow_y": null,
            "padding": null,
            "right": null,
            "top": null,
            "visibility": null,
            "width": null
          }
        },
        "dc99293d327c408991ddccb17c3da42a": {
          "model_module": "@jupyter-widgets/base",
          "model_name": "LayoutModel",
          "model_module_version": "1.2.0",
          "state": {
            "_model_module": "@jupyter-widgets/base",
            "_model_module_version": "1.2.0",
            "_model_name": "LayoutModel",
            "_view_count": null,
            "_view_module": "@jupyter-widgets/base",
            "_view_module_version": "1.2.0",
            "_view_name": "LayoutView",
            "align_content": null,
            "align_items": null,
            "align_self": null,
            "border": null,
            "bottom": null,
            "display": null,
            "flex": null,
            "flex_flow": null,
            "grid_area": null,
            "grid_auto_columns": null,
            "grid_auto_flow": null,
            "grid_auto_rows": null,
            "grid_column": null,
            "grid_gap": null,
            "grid_row": null,
            "grid_template_areas": null,
            "grid_template_columns": null,
            "grid_template_rows": null,
            "height": null,
            "justify_content": null,
            "justify_items": null,
            "left": null,
            "margin": null,
            "max_height": null,
            "max_width": null,
            "min_height": null,
            "min_width": null,
            "object_fit": null,
            "object_position": null,
            "order": null,
            "overflow": null,
            "overflow_x": null,
            "overflow_y": null,
            "padding": null,
            "right": null,
            "top": null,
            "visibility": null,
            "width": null
          }
        },
        "0e72be34f8eb431bb589399b9ebb0894": {
          "model_module": "@jupyter-widgets/controls",
          "model_name": "DescriptionStyleModel",
          "model_module_version": "1.5.0",
          "state": {
            "_model_module": "@jupyter-widgets/controls",
            "_model_module_version": "1.5.0",
            "_model_name": "DescriptionStyleModel",
            "_view_count": null,
            "_view_module": "@jupyter-widgets/base",
            "_view_module_version": "1.2.0",
            "_view_name": "StyleView",
            "description_width": ""
          }
        },
        "b91706ad8da843a7b18ec6a02fd6a84e": {
          "model_module": "@jupyter-widgets/base",
          "model_name": "LayoutModel",
          "model_module_version": "1.2.0",
          "state": {
            "_model_module": "@jupyter-widgets/base",
            "_model_module_version": "1.2.0",
            "_model_name": "LayoutModel",
            "_view_count": null,
            "_view_module": "@jupyter-widgets/base",
            "_view_module_version": "1.2.0",
            "_view_name": "LayoutView",
            "align_content": null,
            "align_items": null,
            "align_self": null,
            "border": null,
            "bottom": null,
            "display": null,
            "flex": null,
            "flex_flow": null,
            "grid_area": null,
            "grid_auto_columns": null,
            "grid_auto_flow": null,
            "grid_auto_rows": null,
            "grid_column": null,
            "grid_gap": null,
            "grid_row": null,
            "grid_template_areas": null,
            "grid_template_columns": null,
            "grid_template_rows": null,
            "height": null,
            "justify_content": null,
            "justify_items": null,
            "left": null,
            "margin": null,
            "max_height": null,
            "max_width": null,
            "min_height": null,
            "min_width": null,
            "object_fit": null,
            "object_position": null,
            "order": null,
            "overflow": null,
            "overflow_x": null,
            "overflow_y": null,
            "padding": null,
            "right": null,
            "top": null,
            "visibility": null,
            "width": null
          }
        },
        "993c3ae9417a4c5d9f44b2f7bd95b834": {
          "model_module": "@jupyter-widgets/controls",
          "model_name": "ProgressStyleModel",
          "model_module_version": "1.5.0",
          "state": {
            "_model_module": "@jupyter-widgets/controls",
            "_model_module_version": "1.5.0",
            "_model_name": "ProgressStyleModel",
            "_view_count": null,
            "_view_module": "@jupyter-widgets/base",
            "_view_module_version": "1.2.0",
            "_view_name": "StyleView",
            "bar_color": null,
            "description_width": ""
          }
        },
        "7870d3241e524bb79e2f0a60774af7d6": {
          "model_module": "@jupyter-widgets/base",
          "model_name": "LayoutModel",
          "model_module_version": "1.2.0",
          "state": {
            "_model_module": "@jupyter-widgets/base",
            "_model_module_version": "1.2.0",
            "_model_name": "LayoutModel",
            "_view_count": null,
            "_view_module": "@jupyter-widgets/base",
            "_view_module_version": "1.2.0",
            "_view_name": "LayoutView",
            "align_content": null,
            "align_items": null,
            "align_self": null,
            "border": null,
            "bottom": null,
            "display": null,
            "flex": null,
            "flex_flow": null,
            "grid_area": null,
            "grid_auto_columns": null,
            "grid_auto_flow": null,
            "grid_auto_rows": null,
            "grid_column": null,
            "grid_gap": null,
            "grid_row": null,
            "grid_template_areas": null,
            "grid_template_columns": null,
            "grid_template_rows": null,
            "height": null,
            "justify_content": null,
            "justify_items": null,
            "left": null,
            "margin": null,
            "max_height": null,
            "max_width": null,
            "min_height": null,
            "min_width": null,
            "object_fit": null,
            "object_position": null,
            "order": null,
            "overflow": null,
            "overflow_x": null,
            "overflow_y": null,
            "padding": null,
            "right": null,
            "top": null,
            "visibility": null,
            "width": null
          }
        },
        "8f1d115bf1e149e1bbfe56e2fbb1bda7": {
          "model_module": "@jupyter-widgets/controls",
          "model_name": "DescriptionStyleModel",
          "model_module_version": "1.5.0",
          "state": {
            "_model_module": "@jupyter-widgets/controls",
            "_model_module_version": "1.5.0",
            "_model_name": "DescriptionStyleModel",
            "_view_count": null,
            "_view_module": "@jupyter-widgets/base",
            "_view_module_version": "1.2.0",
            "_view_name": "StyleView",
            "description_width": ""
          }
        },
        "052e29c6a8f34c408b184df2d14a862a": {
          "model_module": "@jupyter-widgets/controls",
          "model_name": "HBoxModel",
          "model_module_version": "1.5.0",
          "state": {
            "_dom_classes": [],
            "_model_module": "@jupyter-widgets/controls",
            "_model_module_version": "1.5.0",
            "_model_name": "HBoxModel",
            "_view_count": null,
            "_view_module": "@jupyter-widgets/controls",
            "_view_module_version": "1.5.0",
            "_view_name": "HBoxView",
            "box_style": "",
            "children": [
              "IPY_MODEL_3acc39b0dd484f188e74be84718a0426",
              "IPY_MODEL_44f4a5d16f1646669ac0d238f2b8ae5c",
              "IPY_MODEL_4f475f724fd049828c3e9220dca11608"
            ],
            "layout": "IPY_MODEL_bdb0815a1dd447f7a87099f7960ae5fa"
          }
        },
        "3acc39b0dd484f188e74be84718a0426": {
          "model_module": "@jupyter-widgets/controls",
          "model_name": "HTMLModel",
          "model_module_version": "1.5.0",
          "state": {
            "_dom_classes": [],
            "_model_module": "@jupyter-widgets/controls",
            "_model_module_version": "1.5.0",
            "_model_name": "HTMLModel",
            "_view_count": null,
            "_view_module": "@jupyter-widgets/controls",
            "_view_module_version": "1.5.0",
            "_view_name": "HTMLView",
            "description": "",
            "description_tooltip": null,
            "layout": "IPY_MODEL_8c053a02f2ad4591b25f283a07b55ca6",
            "placeholder": "​",
            "style": "IPY_MODEL_8c6f94d3fc1540a281d2e081a8ed61ff",
            "value": "Downloading data files: 100%"
          }
        },
        "44f4a5d16f1646669ac0d238f2b8ae5c": {
          "model_module": "@jupyter-widgets/controls",
          "model_name": "FloatProgressModel",
          "model_module_version": "1.5.0",
          "state": {
            "_dom_classes": [],
            "_model_module": "@jupyter-widgets/controls",
            "_model_module_version": "1.5.0",
            "_model_name": "FloatProgressModel",
            "_view_count": null,
            "_view_module": "@jupyter-widgets/controls",
            "_view_module_version": "1.5.0",
            "_view_name": "ProgressView",
            "bar_style": "success",
            "description": "",
            "description_tooltip": null,
            "layout": "IPY_MODEL_6a5d3f0dfad942029c765c9992947b63",
            "max": 4,
            "min": 0,
            "orientation": "horizontal",
            "style": "IPY_MODEL_a16b89d4b43c41bf88c77884aac005e1",
            "value": 4
          }
        },
        "4f475f724fd049828c3e9220dca11608": {
          "model_module": "@jupyter-widgets/controls",
          "model_name": "HTMLModel",
          "model_module_version": "1.5.0",
          "state": {
            "_dom_classes": [],
            "_model_module": "@jupyter-widgets/controls",
            "_model_module_version": "1.5.0",
            "_model_name": "HTMLModel",
            "_view_count": null,
            "_view_module": "@jupyter-widgets/controls",
            "_view_module_version": "1.5.0",
            "_view_name": "HTMLView",
            "description": "",
            "description_tooltip": null,
            "layout": "IPY_MODEL_4a083cf513db4da4b29d3c2d5fd3e185",
            "placeholder": "​",
            "style": "IPY_MODEL_0eb4a061802b4394995afb34d6e310d9",
            "value": " 4/4 [00:04&lt;00:00,  1.04it/s]"
          }
        },
        "bdb0815a1dd447f7a87099f7960ae5fa": {
          "model_module": "@jupyter-widgets/base",
          "model_name": "LayoutModel",
          "model_module_version": "1.2.0",
          "state": {
            "_model_module": "@jupyter-widgets/base",
            "_model_module_version": "1.2.0",
            "_model_name": "LayoutModel",
            "_view_count": null,
            "_view_module": "@jupyter-widgets/base",
            "_view_module_version": "1.2.0",
            "_view_name": "LayoutView",
            "align_content": null,
            "align_items": null,
            "align_self": null,
            "border": null,
            "bottom": null,
            "display": null,
            "flex": null,
            "flex_flow": null,
            "grid_area": null,
            "grid_auto_columns": null,
            "grid_auto_flow": null,
            "grid_auto_rows": null,
            "grid_column": null,
            "grid_gap": null,
            "grid_row": null,
            "grid_template_areas": null,
            "grid_template_columns": null,
            "grid_template_rows": null,
            "height": null,
            "justify_content": null,
            "justify_items": null,
            "left": null,
            "margin": null,
            "max_height": null,
            "max_width": null,
            "min_height": null,
            "min_width": null,
            "object_fit": null,
            "object_position": null,
            "order": null,
            "overflow": null,
            "overflow_x": null,
            "overflow_y": null,
            "padding": null,
            "right": null,
            "top": null,
            "visibility": null,
            "width": null
          }
        },
        "8c053a02f2ad4591b25f283a07b55ca6": {
          "model_module": "@jupyter-widgets/base",
          "model_name": "LayoutModel",
          "model_module_version": "1.2.0",
          "state": {
            "_model_module": "@jupyter-widgets/base",
            "_model_module_version": "1.2.0",
            "_model_name": "LayoutModel",
            "_view_count": null,
            "_view_module": "@jupyter-widgets/base",
            "_view_module_version": "1.2.0",
            "_view_name": "LayoutView",
            "align_content": null,
            "align_items": null,
            "align_self": null,
            "border": null,
            "bottom": null,
            "display": null,
            "flex": null,
            "flex_flow": null,
            "grid_area": null,
            "grid_auto_columns": null,
            "grid_auto_flow": null,
            "grid_auto_rows": null,
            "grid_column": null,
            "grid_gap": null,
            "grid_row": null,
            "grid_template_areas": null,
            "grid_template_columns": null,
            "grid_template_rows": null,
            "height": null,
            "justify_content": null,
            "justify_items": null,
            "left": null,
            "margin": null,
            "max_height": null,
            "max_width": null,
            "min_height": null,
            "min_width": null,
            "object_fit": null,
            "object_position": null,
            "order": null,
            "overflow": null,
            "overflow_x": null,
            "overflow_y": null,
            "padding": null,
            "right": null,
            "top": null,
            "visibility": null,
            "width": null
          }
        },
        "8c6f94d3fc1540a281d2e081a8ed61ff": {
          "model_module": "@jupyter-widgets/controls",
          "model_name": "DescriptionStyleModel",
          "model_module_version": "1.5.0",
          "state": {
            "_model_module": "@jupyter-widgets/controls",
            "_model_module_version": "1.5.0",
            "_model_name": "DescriptionStyleModel",
            "_view_count": null,
            "_view_module": "@jupyter-widgets/base",
            "_view_module_version": "1.2.0",
            "_view_name": "StyleView",
            "description_width": ""
          }
        },
        "6a5d3f0dfad942029c765c9992947b63": {
          "model_module": "@jupyter-widgets/base",
          "model_name": "LayoutModel",
          "model_module_version": "1.2.0",
          "state": {
            "_model_module": "@jupyter-widgets/base",
            "_model_module_version": "1.2.0",
            "_model_name": "LayoutModel",
            "_view_count": null,
            "_view_module": "@jupyter-widgets/base",
            "_view_module_version": "1.2.0",
            "_view_name": "LayoutView",
            "align_content": null,
            "align_items": null,
            "align_self": null,
            "border": null,
            "bottom": null,
            "display": null,
            "flex": null,
            "flex_flow": null,
            "grid_area": null,
            "grid_auto_columns": null,
            "grid_auto_flow": null,
            "grid_auto_rows": null,
            "grid_column": null,
            "grid_gap": null,
            "grid_row": null,
            "grid_template_areas": null,
            "grid_template_columns": null,
            "grid_template_rows": null,
            "height": null,
            "justify_content": null,
            "justify_items": null,
            "left": null,
            "margin": null,
            "max_height": null,
            "max_width": null,
            "min_height": null,
            "min_width": null,
            "object_fit": null,
            "object_position": null,
            "order": null,
            "overflow": null,
            "overflow_x": null,
            "overflow_y": null,
            "padding": null,
            "right": null,
            "top": null,
            "visibility": null,
            "width": null
          }
        },
        "a16b89d4b43c41bf88c77884aac005e1": {
          "model_module": "@jupyter-widgets/controls",
          "model_name": "ProgressStyleModel",
          "model_module_version": "1.5.0",
          "state": {
            "_model_module": "@jupyter-widgets/controls",
            "_model_module_version": "1.5.0",
            "_model_name": "ProgressStyleModel",
            "_view_count": null,
            "_view_module": "@jupyter-widgets/base",
            "_view_module_version": "1.2.0",
            "_view_name": "StyleView",
            "bar_color": null,
            "description_width": ""
          }
        },
        "4a083cf513db4da4b29d3c2d5fd3e185": {
          "model_module": "@jupyter-widgets/base",
          "model_name": "LayoutModel",
          "model_module_version": "1.2.0",
          "state": {
            "_model_module": "@jupyter-widgets/base",
            "_model_module_version": "1.2.0",
            "_model_name": "LayoutModel",
            "_view_count": null,
            "_view_module": "@jupyter-widgets/base",
            "_view_module_version": "1.2.0",
            "_view_name": "LayoutView",
            "align_content": null,
            "align_items": null,
            "align_self": null,
            "border": null,
            "bottom": null,
            "display": null,
            "flex": null,
            "flex_flow": null,
            "grid_area": null,
            "grid_auto_columns": null,
            "grid_auto_flow": null,
            "grid_auto_rows": null,
            "grid_column": null,
            "grid_gap": null,
            "grid_row": null,
            "grid_template_areas": null,
            "grid_template_columns": null,
            "grid_template_rows": null,
            "height": null,
            "justify_content": null,
            "justify_items": null,
            "left": null,
            "margin": null,
            "max_height": null,
            "max_width": null,
            "min_height": null,
            "min_width": null,
            "object_fit": null,
            "object_position": null,
            "order": null,
            "overflow": null,
            "overflow_x": null,
            "overflow_y": null,
            "padding": null,
            "right": null,
            "top": null,
            "visibility": null,
            "width": null
          }
        },
        "0eb4a061802b4394995afb34d6e310d9": {
          "model_module": "@jupyter-widgets/controls",
          "model_name": "DescriptionStyleModel",
          "model_module_version": "1.5.0",
          "state": {
            "_model_module": "@jupyter-widgets/controls",
            "_model_module_version": "1.5.0",
            "_model_name": "DescriptionStyleModel",
            "_view_count": null,
            "_view_module": "@jupyter-widgets/base",
            "_view_module_version": "1.2.0",
            "_view_name": "StyleView",
            "description_width": ""
          }
        },
        "6db57ebb01f44e2c950deff0e0a4e2db": {
          "model_module": "@jupyter-widgets/controls",
          "model_name": "HBoxModel",
          "model_module_version": "1.5.0",
          "state": {
            "_dom_classes": [],
            "_model_module": "@jupyter-widgets/controls",
            "_model_module_version": "1.5.0",
            "_model_name": "HBoxModel",
            "_view_count": null,
            "_view_module": "@jupyter-widgets/controls",
            "_view_module_version": "1.5.0",
            "_view_name": "HBoxView",
            "box_style": "",
            "children": [
              "IPY_MODEL_b178826bbdbb43b2bd2f32160f5670dd",
              "IPY_MODEL_588b96b4d93f47b3a6356fa7698626b9",
              "IPY_MODEL_e31fe559768f4c3f86af483d9461c662"
            ],
            "layout": "IPY_MODEL_ed1c6c9ac8094551b23c638dbfd6d6df"
          }
        },
        "b178826bbdbb43b2bd2f32160f5670dd": {
          "model_module": "@jupyter-widgets/controls",
          "model_name": "HTMLModel",
          "model_module_version": "1.5.0",
          "state": {
            "_dom_classes": [],
            "_model_module": "@jupyter-widgets/controls",
            "_model_module_version": "1.5.0",
            "_model_name": "HTMLModel",
            "_view_count": null,
            "_view_module": "@jupyter-widgets/controls",
            "_view_module_version": "1.5.0",
            "_view_name": "HTMLView",
            "description": "",
            "description_tooltip": null,
            "layout": "IPY_MODEL_3d2ee791e8fd4aa290c8ac3a001c2651",
            "placeholder": "​",
            "style": "IPY_MODEL_7fa94a49dca9475caa24f0efe53f59f6",
            "value": "Downloading data: 100%"
          }
        },
        "588b96b4d93f47b3a6356fa7698626b9": {
          "model_module": "@jupyter-widgets/controls",
          "model_name": "FloatProgressModel",
          "model_module_version": "1.5.0",
          "state": {
            "_dom_classes": [],
            "_model_module": "@jupyter-widgets/controls",
            "_model_module_version": "1.5.0",
            "_model_name": "FloatProgressModel",
            "_view_count": null,
            "_view_module": "@jupyter-widgets/controls",
            "_view_module_version": "1.5.0",
            "_view_name": "ProgressView",
            "bar_style": "success",
            "description": "",
            "description_tooltip": null,
            "layout": "IPY_MODEL_f250e2dc07bc4d59b5e198687a0e6722",
            "max": 26421880,
            "min": 0,
            "orientation": "horizontal",
            "style": "IPY_MODEL_e7a7f5f839d1429ba898e7a9c5d23291",
            "value": 26421880
          }
        },
        "e31fe559768f4c3f86af483d9461c662": {
          "model_module": "@jupyter-widgets/controls",
          "model_name": "HTMLModel",
          "model_module_version": "1.5.0",
          "state": {
            "_dom_classes": [],
            "_model_module": "@jupyter-widgets/controls",
            "_model_module_version": "1.5.0",
            "_model_name": "HTMLModel",
            "_view_count": null,
            "_view_module": "@jupyter-widgets/controls",
            "_view_module_version": "1.5.0",
            "_view_name": "HTMLView",
            "description": "",
            "description_tooltip": null,
            "layout": "IPY_MODEL_b7be6a635f5a4724b780ae0a576ac714",
            "placeholder": "​",
            "style": "IPY_MODEL_21968957cd294a7bad8b4bafd835d375",
            "value": " 26.4M/26.4M [00:00&lt;00:00, 93.5MB/s]"
          }
        },
        "ed1c6c9ac8094551b23c638dbfd6d6df": {
          "model_module": "@jupyter-widgets/base",
          "model_name": "LayoutModel",
          "model_module_version": "1.2.0",
          "state": {
            "_model_module": "@jupyter-widgets/base",
            "_model_module_version": "1.2.0",
            "_model_name": "LayoutModel",
            "_view_count": null,
            "_view_module": "@jupyter-widgets/base",
            "_view_module_version": "1.2.0",
            "_view_name": "LayoutView",
            "align_content": null,
            "align_items": null,
            "align_self": null,
            "border": null,
            "bottom": null,
            "display": null,
            "flex": null,
            "flex_flow": null,
            "grid_area": null,
            "grid_auto_columns": null,
            "grid_auto_flow": null,
            "grid_auto_rows": null,
            "grid_column": null,
            "grid_gap": null,
            "grid_row": null,
            "grid_template_areas": null,
            "grid_template_columns": null,
            "grid_template_rows": null,
            "height": null,
            "justify_content": null,
            "justify_items": null,
            "left": null,
            "margin": null,
            "max_height": null,
            "max_width": null,
            "min_height": null,
            "min_width": null,
            "object_fit": null,
            "object_position": null,
            "order": null,
            "overflow": null,
            "overflow_x": null,
            "overflow_y": null,
            "padding": null,
            "right": null,
            "top": null,
            "visibility": null,
            "width": null
          }
        },
        "3d2ee791e8fd4aa290c8ac3a001c2651": {
          "model_module": "@jupyter-widgets/base",
          "model_name": "LayoutModel",
          "model_module_version": "1.2.0",
          "state": {
            "_model_module": "@jupyter-widgets/base",
            "_model_module_version": "1.2.0",
            "_model_name": "LayoutModel",
            "_view_count": null,
            "_view_module": "@jupyter-widgets/base",
            "_view_module_version": "1.2.0",
            "_view_name": "LayoutView",
            "align_content": null,
            "align_items": null,
            "align_self": null,
            "border": null,
            "bottom": null,
            "display": null,
            "flex": null,
            "flex_flow": null,
            "grid_area": null,
            "grid_auto_columns": null,
            "grid_auto_flow": null,
            "grid_auto_rows": null,
            "grid_column": null,
            "grid_gap": null,
            "grid_row": null,
            "grid_template_areas": null,
            "grid_template_columns": null,
            "grid_template_rows": null,
            "height": null,
            "justify_content": null,
            "justify_items": null,
            "left": null,
            "margin": null,
            "max_height": null,
            "max_width": null,
            "min_height": null,
            "min_width": null,
            "object_fit": null,
            "object_position": null,
            "order": null,
            "overflow": null,
            "overflow_x": null,
            "overflow_y": null,
            "padding": null,
            "right": null,
            "top": null,
            "visibility": null,
            "width": null
          }
        },
        "7fa94a49dca9475caa24f0efe53f59f6": {
          "model_module": "@jupyter-widgets/controls",
          "model_name": "DescriptionStyleModel",
          "model_module_version": "1.5.0",
          "state": {
            "_model_module": "@jupyter-widgets/controls",
            "_model_module_version": "1.5.0",
            "_model_name": "DescriptionStyleModel",
            "_view_count": null,
            "_view_module": "@jupyter-widgets/base",
            "_view_module_version": "1.2.0",
            "_view_name": "StyleView",
            "description_width": ""
          }
        },
        "f250e2dc07bc4d59b5e198687a0e6722": {
          "model_module": "@jupyter-widgets/base",
          "model_name": "LayoutModel",
          "model_module_version": "1.2.0",
          "state": {
            "_model_module": "@jupyter-widgets/base",
            "_model_module_version": "1.2.0",
            "_model_name": "LayoutModel",
            "_view_count": null,
            "_view_module": "@jupyter-widgets/base",
            "_view_module_version": "1.2.0",
            "_view_name": "LayoutView",
            "align_content": null,
            "align_items": null,
            "align_self": null,
            "border": null,
            "bottom": null,
            "display": null,
            "flex": null,
            "flex_flow": null,
            "grid_area": null,
            "grid_auto_columns": null,
            "grid_auto_flow": null,
            "grid_auto_rows": null,
            "grid_column": null,
            "grid_gap": null,
            "grid_row": null,
            "grid_template_areas": null,
            "grid_template_columns": null,
            "grid_template_rows": null,
            "height": null,
            "justify_content": null,
            "justify_items": null,
            "left": null,
            "margin": null,
            "max_height": null,
            "max_width": null,
            "min_height": null,
            "min_width": null,
            "object_fit": null,
            "object_position": null,
            "order": null,
            "overflow": null,
            "overflow_x": null,
            "overflow_y": null,
            "padding": null,
            "right": null,
            "top": null,
            "visibility": null,
            "width": null
          }
        },
        "e7a7f5f839d1429ba898e7a9c5d23291": {
          "model_module": "@jupyter-widgets/controls",
          "model_name": "ProgressStyleModel",
          "model_module_version": "1.5.0",
          "state": {
            "_model_module": "@jupyter-widgets/controls",
            "_model_module_version": "1.5.0",
            "_model_name": "ProgressStyleModel",
            "_view_count": null,
            "_view_module": "@jupyter-widgets/base",
            "_view_module_version": "1.2.0",
            "_view_name": "StyleView",
            "bar_color": null,
            "description_width": ""
          }
        },
        "b7be6a635f5a4724b780ae0a576ac714": {
          "model_module": "@jupyter-widgets/base",
          "model_name": "LayoutModel",
          "model_module_version": "1.2.0",
          "state": {
            "_model_module": "@jupyter-widgets/base",
            "_model_module_version": "1.2.0",
            "_model_name": "LayoutModel",
            "_view_count": null,
            "_view_module": "@jupyter-widgets/base",
            "_view_module_version": "1.2.0",
            "_view_name": "LayoutView",
            "align_content": null,
            "align_items": null,
            "align_self": null,
            "border": null,
            "bottom": null,
            "display": null,
            "flex": null,
            "flex_flow": null,
            "grid_area": null,
            "grid_auto_columns": null,
            "grid_auto_flow": null,
            "grid_auto_rows": null,
            "grid_column": null,
            "grid_gap": null,
            "grid_row": null,
            "grid_template_areas": null,
            "grid_template_columns": null,
            "grid_template_rows": null,
            "height": null,
            "justify_content": null,
            "justify_items": null,
            "left": null,
            "margin": null,
            "max_height": null,
            "max_width": null,
            "min_height": null,
            "min_width": null,
            "object_fit": null,
            "object_position": null,
            "order": null,
            "overflow": null,
            "overflow_x": null,
            "overflow_y": null,
            "padding": null,
            "right": null,
            "top": null,
            "visibility": null,
            "width": null
          }
        },
        "21968957cd294a7bad8b4bafd835d375": {
          "model_module": "@jupyter-widgets/controls",
          "model_name": "DescriptionStyleModel",
          "model_module_version": "1.5.0",
          "state": {
            "_model_module": "@jupyter-widgets/controls",
            "_model_module_version": "1.5.0",
            "_model_name": "DescriptionStyleModel",
            "_view_count": null,
            "_view_module": "@jupyter-widgets/base",
            "_view_module_version": "1.2.0",
            "_view_name": "StyleView",
            "description_width": ""
          }
        },
        "42d5d51e80144639b1943470967c4c22": {
          "model_module": "@jupyter-widgets/controls",
          "model_name": "HBoxModel",
          "model_module_version": "1.5.0",
          "state": {
            "_dom_classes": [],
            "_model_module": "@jupyter-widgets/controls",
            "_model_module_version": "1.5.0",
            "_model_name": "HBoxModel",
            "_view_count": null,
            "_view_module": "@jupyter-widgets/controls",
            "_view_module_version": "1.5.0",
            "_view_name": "HBoxView",
            "box_style": "",
            "children": [
              "IPY_MODEL_8d08b85848d74c55a9bc19049f19af2e",
              "IPY_MODEL_1c61216d06314add8ec29a29e0f42eb5",
              "IPY_MODEL_402fbfa6159b4e9fac74a8050d948219"
            ],
            "layout": "IPY_MODEL_20b773b8bebd434d9ab1a9f86d60cbe0"
          }
        },
        "8d08b85848d74c55a9bc19049f19af2e": {
          "model_module": "@jupyter-widgets/controls",
          "model_name": "HTMLModel",
          "model_module_version": "1.5.0",
          "state": {
            "_dom_classes": [],
            "_model_module": "@jupyter-widgets/controls",
            "_model_module_version": "1.5.0",
            "_model_name": "HTMLModel",
            "_view_count": null,
            "_view_module": "@jupyter-widgets/controls",
            "_view_module_version": "1.5.0",
            "_view_name": "HTMLView",
            "description": "",
            "description_tooltip": null,
            "layout": "IPY_MODEL_819547d0360c415c8ac2d1db1d0b23c6",
            "placeholder": "​",
            "style": "IPY_MODEL_2e275d6d036040ff9bfcd323eb8e32ba",
            "value": "Downloading data: 100%"
          }
        },
        "1c61216d06314add8ec29a29e0f42eb5": {
          "model_module": "@jupyter-widgets/controls",
          "model_name": "FloatProgressModel",
          "model_module_version": "1.5.0",
          "state": {
            "_dom_classes": [],
            "_model_module": "@jupyter-widgets/controls",
            "_model_module_version": "1.5.0",
            "_model_name": "FloatProgressModel",
            "_view_count": null,
            "_view_module": "@jupyter-widgets/controls",
            "_view_module_version": "1.5.0",
            "_view_name": "ProgressView",
            "bar_style": "success",
            "description": "",
            "description_tooltip": null,
            "layout": "IPY_MODEL_5c69e16c35dd48e29198280406f03c94",
            "max": 29515,
            "min": 0,
            "orientation": "horizontal",
            "style": "IPY_MODEL_e4870901fb474c69ae738d0c34a82707",
            "value": 29515
          }
        },
        "402fbfa6159b4e9fac74a8050d948219": {
          "model_module": "@jupyter-widgets/controls",
          "model_name": "HTMLModel",
          "model_module_version": "1.5.0",
          "state": {
            "_dom_classes": [],
            "_model_module": "@jupyter-widgets/controls",
            "_model_module_version": "1.5.0",
            "_model_name": "HTMLModel",
            "_view_count": null,
            "_view_module": "@jupyter-widgets/controls",
            "_view_module_version": "1.5.0",
            "_view_name": "HTMLView",
            "description": "",
            "description_tooltip": null,
            "layout": "IPY_MODEL_8104aa2c6a1045b887f30aef707afd93",
            "placeholder": "​",
            "style": "IPY_MODEL_40de9495ad9142acbf8f16954a0a23dc",
            "value": " 29.5k/29.5k [00:00&lt;00:00, 1.69MB/s]"
          }
        },
        "20b773b8bebd434d9ab1a9f86d60cbe0": {
          "model_module": "@jupyter-widgets/base",
          "model_name": "LayoutModel",
          "model_module_version": "1.2.0",
          "state": {
            "_model_module": "@jupyter-widgets/base",
            "_model_module_version": "1.2.0",
            "_model_name": "LayoutModel",
            "_view_count": null,
            "_view_module": "@jupyter-widgets/base",
            "_view_module_version": "1.2.0",
            "_view_name": "LayoutView",
            "align_content": null,
            "align_items": null,
            "align_self": null,
            "border": null,
            "bottom": null,
            "display": null,
            "flex": null,
            "flex_flow": null,
            "grid_area": null,
            "grid_auto_columns": null,
            "grid_auto_flow": null,
            "grid_auto_rows": null,
            "grid_column": null,
            "grid_gap": null,
            "grid_row": null,
            "grid_template_areas": null,
            "grid_template_columns": null,
            "grid_template_rows": null,
            "height": null,
            "justify_content": null,
            "justify_items": null,
            "left": null,
            "margin": null,
            "max_height": null,
            "max_width": null,
            "min_height": null,
            "min_width": null,
            "object_fit": null,
            "object_position": null,
            "order": null,
            "overflow": null,
            "overflow_x": null,
            "overflow_y": null,
            "padding": null,
            "right": null,
            "top": null,
            "visibility": null,
            "width": null
          }
        },
        "819547d0360c415c8ac2d1db1d0b23c6": {
          "model_module": "@jupyter-widgets/base",
          "model_name": "LayoutModel",
          "model_module_version": "1.2.0",
          "state": {
            "_model_module": "@jupyter-widgets/base",
            "_model_module_version": "1.2.0",
            "_model_name": "LayoutModel",
            "_view_count": null,
            "_view_module": "@jupyter-widgets/base",
            "_view_module_version": "1.2.0",
            "_view_name": "LayoutView",
            "align_content": null,
            "align_items": null,
            "align_self": null,
            "border": null,
            "bottom": null,
            "display": null,
            "flex": null,
            "flex_flow": null,
            "grid_area": null,
            "grid_auto_columns": null,
            "grid_auto_flow": null,
            "grid_auto_rows": null,
            "grid_column": null,
            "grid_gap": null,
            "grid_row": null,
            "grid_template_areas": null,
            "grid_template_columns": null,
            "grid_template_rows": null,
            "height": null,
            "justify_content": null,
            "justify_items": null,
            "left": null,
            "margin": null,
            "max_height": null,
            "max_width": null,
            "min_height": null,
            "min_width": null,
            "object_fit": null,
            "object_position": null,
            "order": null,
            "overflow": null,
            "overflow_x": null,
            "overflow_y": null,
            "padding": null,
            "right": null,
            "top": null,
            "visibility": null,
            "width": null
          }
        },
        "2e275d6d036040ff9bfcd323eb8e32ba": {
          "model_module": "@jupyter-widgets/controls",
          "model_name": "DescriptionStyleModel",
          "model_module_version": "1.5.0",
          "state": {
            "_model_module": "@jupyter-widgets/controls",
            "_model_module_version": "1.5.0",
            "_model_name": "DescriptionStyleModel",
            "_view_count": null,
            "_view_module": "@jupyter-widgets/base",
            "_view_module_version": "1.2.0",
            "_view_name": "StyleView",
            "description_width": ""
          }
        },
        "5c69e16c35dd48e29198280406f03c94": {
          "model_module": "@jupyter-widgets/base",
          "model_name": "LayoutModel",
          "model_module_version": "1.2.0",
          "state": {
            "_model_module": "@jupyter-widgets/base",
            "_model_module_version": "1.2.0",
            "_model_name": "LayoutModel",
            "_view_count": null,
            "_view_module": "@jupyter-widgets/base",
            "_view_module_version": "1.2.0",
            "_view_name": "LayoutView",
            "align_content": null,
            "align_items": null,
            "align_self": null,
            "border": null,
            "bottom": null,
            "display": null,
            "flex": null,
            "flex_flow": null,
            "grid_area": null,
            "grid_auto_columns": null,
            "grid_auto_flow": null,
            "grid_auto_rows": null,
            "grid_column": null,
            "grid_gap": null,
            "grid_row": null,
            "grid_template_areas": null,
            "grid_template_columns": null,
            "grid_template_rows": null,
            "height": null,
            "justify_content": null,
            "justify_items": null,
            "left": null,
            "margin": null,
            "max_height": null,
            "max_width": null,
            "min_height": null,
            "min_width": null,
            "object_fit": null,
            "object_position": null,
            "order": null,
            "overflow": null,
            "overflow_x": null,
            "overflow_y": null,
            "padding": null,
            "right": null,
            "top": null,
            "visibility": null,
            "width": null
          }
        },
        "e4870901fb474c69ae738d0c34a82707": {
          "model_module": "@jupyter-widgets/controls",
          "model_name": "ProgressStyleModel",
          "model_module_version": "1.5.0",
          "state": {
            "_model_module": "@jupyter-widgets/controls",
            "_model_module_version": "1.5.0",
            "_model_name": "ProgressStyleModel",
            "_view_count": null,
            "_view_module": "@jupyter-widgets/base",
            "_view_module_version": "1.2.0",
            "_view_name": "StyleView",
            "bar_color": null,
            "description_width": ""
          }
        },
        "8104aa2c6a1045b887f30aef707afd93": {
          "model_module": "@jupyter-widgets/base",
          "model_name": "LayoutModel",
          "model_module_version": "1.2.0",
          "state": {
            "_model_module": "@jupyter-widgets/base",
            "_model_module_version": "1.2.0",
            "_model_name": "LayoutModel",
            "_view_count": null,
            "_view_module": "@jupyter-widgets/base",
            "_view_module_version": "1.2.0",
            "_view_name": "LayoutView",
            "align_content": null,
            "align_items": null,
            "align_self": null,
            "border": null,
            "bottom": null,
            "display": null,
            "flex": null,
            "flex_flow": null,
            "grid_area": null,
            "grid_auto_columns": null,
            "grid_auto_flow": null,
            "grid_auto_rows": null,
            "grid_column": null,
            "grid_gap": null,
            "grid_row": null,
            "grid_template_areas": null,
            "grid_template_columns": null,
            "grid_template_rows": null,
            "height": null,
            "justify_content": null,
            "justify_items": null,
            "left": null,
            "margin": null,
            "max_height": null,
            "max_width": null,
            "min_height": null,
            "min_width": null,
            "object_fit": null,
            "object_position": null,
            "order": null,
            "overflow": null,
            "overflow_x": null,
            "overflow_y": null,
            "padding": null,
            "right": null,
            "top": null,
            "visibility": null,
            "width": null
          }
        },
        "40de9495ad9142acbf8f16954a0a23dc": {
          "model_module": "@jupyter-widgets/controls",
          "model_name": "DescriptionStyleModel",
          "model_module_version": "1.5.0",
          "state": {
            "_model_module": "@jupyter-widgets/controls",
            "_model_module_version": "1.5.0",
            "_model_name": "DescriptionStyleModel",
            "_view_count": null,
            "_view_module": "@jupyter-widgets/base",
            "_view_module_version": "1.2.0",
            "_view_name": "StyleView",
            "description_width": ""
          }
        },
        "68a07ea9296e45c5b179dcce57306542": {
          "model_module": "@jupyter-widgets/controls",
          "model_name": "HBoxModel",
          "model_module_version": "1.5.0",
          "state": {
            "_dom_classes": [],
            "_model_module": "@jupyter-widgets/controls",
            "_model_module_version": "1.5.0",
            "_model_name": "HBoxModel",
            "_view_count": null,
            "_view_module": "@jupyter-widgets/controls",
            "_view_module_version": "1.5.0",
            "_view_name": "HBoxView",
            "box_style": "",
            "children": [
              "IPY_MODEL_093a4c09c354479caa2d8df100e5ceed",
              "IPY_MODEL_93c969b40e9341e2aaa4a70d4b7537ed",
              "IPY_MODEL_37cc2cfbde194ffe8a8c9e5bef5b532b"
            ],
            "layout": "IPY_MODEL_c2de3031a4c142df9d13331a00f5f4af"
          }
        },
        "093a4c09c354479caa2d8df100e5ceed": {
          "model_module": "@jupyter-widgets/controls",
          "model_name": "HTMLModel",
          "model_module_version": "1.5.0",
          "state": {
            "_dom_classes": [],
            "_model_module": "@jupyter-widgets/controls",
            "_model_module_version": "1.5.0",
            "_model_name": "HTMLModel",
            "_view_count": null,
            "_view_module": "@jupyter-widgets/controls",
            "_view_module_version": "1.5.0",
            "_view_name": "HTMLView",
            "description": "",
            "description_tooltip": null,
            "layout": "IPY_MODEL_842e2f988c89470fb3a6dfd5dde01a7a",
            "placeholder": "​",
            "style": "IPY_MODEL_0f3c39dcf38d475d9b3fd2ea0c6ff4b2",
            "value": "Downloading data: 100%"
          }
        },
        "93c969b40e9341e2aaa4a70d4b7537ed": {
          "model_module": "@jupyter-widgets/controls",
          "model_name": "FloatProgressModel",
          "model_module_version": "1.5.0",
          "state": {
            "_dom_classes": [],
            "_model_module": "@jupyter-widgets/controls",
            "_model_module_version": "1.5.0",
            "_model_name": "FloatProgressModel",
            "_view_count": null,
            "_view_module": "@jupyter-widgets/controls",
            "_view_module_version": "1.5.0",
            "_view_name": "ProgressView",
            "bar_style": "success",
            "description": "",
            "description_tooltip": null,
            "layout": "IPY_MODEL_89883256781e4648925482c8f103c7aa",
            "max": 4422102,
            "min": 0,
            "orientation": "horizontal",
            "style": "IPY_MODEL_85ae504b89f2431b8460e181efadc184",
            "value": 4422102
          }
        },
        "37cc2cfbde194ffe8a8c9e5bef5b532b": {
          "model_module": "@jupyter-widgets/controls",
          "model_name": "HTMLModel",
          "model_module_version": "1.5.0",
          "state": {
            "_dom_classes": [],
            "_model_module": "@jupyter-widgets/controls",
            "_model_module_version": "1.5.0",
            "_model_name": "HTMLModel",
            "_view_count": null,
            "_view_module": "@jupyter-widgets/controls",
            "_view_module_version": "1.5.0",
            "_view_name": "HTMLView",
            "description": "",
            "description_tooltip": null,
            "layout": "IPY_MODEL_a285b8891bdc496fa2d71f6534b74615",
            "placeholder": "​",
            "style": "IPY_MODEL_1c96b105f6074a26a7162dc29adb7cc9",
            "value": " 4.42M/4.42M [00:00&lt;00:00, 63.5MB/s]"
          }
        },
        "c2de3031a4c142df9d13331a00f5f4af": {
          "model_module": "@jupyter-widgets/base",
          "model_name": "LayoutModel",
          "model_module_version": "1.2.0",
          "state": {
            "_model_module": "@jupyter-widgets/base",
            "_model_module_version": "1.2.0",
            "_model_name": "LayoutModel",
            "_view_count": null,
            "_view_module": "@jupyter-widgets/base",
            "_view_module_version": "1.2.0",
            "_view_name": "LayoutView",
            "align_content": null,
            "align_items": null,
            "align_self": null,
            "border": null,
            "bottom": null,
            "display": null,
            "flex": null,
            "flex_flow": null,
            "grid_area": null,
            "grid_auto_columns": null,
            "grid_auto_flow": null,
            "grid_auto_rows": null,
            "grid_column": null,
            "grid_gap": null,
            "grid_row": null,
            "grid_template_areas": null,
            "grid_template_columns": null,
            "grid_template_rows": null,
            "height": null,
            "justify_content": null,
            "justify_items": null,
            "left": null,
            "margin": null,
            "max_height": null,
            "max_width": null,
            "min_height": null,
            "min_width": null,
            "object_fit": null,
            "object_position": null,
            "order": null,
            "overflow": null,
            "overflow_x": null,
            "overflow_y": null,
            "padding": null,
            "right": null,
            "top": null,
            "visibility": null,
            "width": null
          }
        },
        "842e2f988c89470fb3a6dfd5dde01a7a": {
          "model_module": "@jupyter-widgets/base",
          "model_name": "LayoutModel",
          "model_module_version": "1.2.0",
          "state": {
            "_model_module": "@jupyter-widgets/base",
            "_model_module_version": "1.2.0",
            "_model_name": "LayoutModel",
            "_view_count": null,
            "_view_module": "@jupyter-widgets/base",
            "_view_module_version": "1.2.0",
            "_view_name": "LayoutView",
            "align_content": null,
            "align_items": null,
            "align_self": null,
            "border": null,
            "bottom": null,
            "display": null,
            "flex": null,
            "flex_flow": null,
            "grid_area": null,
            "grid_auto_columns": null,
            "grid_auto_flow": null,
            "grid_auto_rows": null,
            "grid_column": null,
            "grid_gap": null,
            "grid_row": null,
            "grid_template_areas": null,
            "grid_template_columns": null,
            "grid_template_rows": null,
            "height": null,
            "justify_content": null,
            "justify_items": null,
            "left": null,
            "margin": null,
            "max_height": null,
            "max_width": null,
            "min_height": null,
            "min_width": null,
            "object_fit": null,
            "object_position": null,
            "order": null,
            "overflow": null,
            "overflow_x": null,
            "overflow_y": null,
            "padding": null,
            "right": null,
            "top": null,
            "visibility": null,
            "width": null
          }
        },
        "0f3c39dcf38d475d9b3fd2ea0c6ff4b2": {
          "model_module": "@jupyter-widgets/controls",
          "model_name": "DescriptionStyleModel",
          "model_module_version": "1.5.0",
          "state": {
            "_model_module": "@jupyter-widgets/controls",
            "_model_module_version": "1.5.0",
            "_model_name": "DescriptionStyleModel",
            "_view_count": null,
            "_view_module": "@jupyter-widgets/base",
            "_view_module_version": "1.2.0",
            "_view_name": "StyleView",
            "description_width": ""
          }
        },
        "89883256781e4648925482c8f103c7aa": {
          "model_module": "@jupyter-widgets/base",
          "model_name": "LayoutModel",
          "model_module_version": "1.2.0",
          "state": {
            "_model_module": "@jupyter-widgets/base",
            "_model_module_version": "1.2.0",
            "_model_name": "LayoutModel",
            "_view_count": null,
            "_view_module": "@jupyter-widgets/base",
            "_view_module_version": "1.2.0",
            "_view_name": "LayoutView",
            "align_content": null,
            "align_items": null,
            "align_self": null,
            "border": null,
            "bottom": null,
            "display": null,
            "flex": null,
            "flex_flow": null,
            "grid_area": null,
            "grid_auto_columns": null,
            "grid_auto_flow": null,
            "grid_auto_rows": null,
            "grid_column": null,
            "grid_gap": null,
            "grid_row": null,
            "grid_template_areas": null,
            "grid_template_columns": null,
            "grid_template_rows": null,
            "height": null,
            "justify_content": null,
            "justify_items": null,
            "left": null,
            "margin": null,
            "max_height": null,
            "max_width": null,
            "min_height": null,
            "min_width": null,
            "object_fit": null,
            "object_position": null,
            "order": null,
            "overflow": null,
            "overflow_x": null,
            "overflow_y": null,
            "padding": null,
            "right": null,
            "top": null,
            "visibility": null,
            "width": null
          }
        },
        "85ae504b89f2431b8460e181efadc184": {
          "model_module": "@jupyter-widgets/controls",
          "model_name": "ProgressStyleModel",
          "model_module_version": "1.5.0",
          "state": {
            "_model_module": "@jupyter-widgets/controls",
            "_model_module_version": "1.5.0",
            "_model_name": "ProgressStyleModel",
            "_view_count": null,
            "_view_module": "@jupyter-widgets/base",
            "_view_module_version": "1.2.0",
            "_view_name": "StyleView",
            "bar_color": null,
            "description_width": ""
          }
        },
        "a285b8891bdc496fa2d71f6534b74615": {
          "model_module": "@jupyter-widgets/base",
          "model_name": "LayoutModel",
          "model_module_version": "1.2.0",
          "state": {
            "_model_module": "@jupyter-widgets/base",
            "_model_module_version": "1.2.0",
            "_model_name": "LayoutModel",
            "_view_count": null,
            "_view_module": "@jupyter-widgets/base",
            "_view_module_version": "1.2.0",
            "_view_name": "LayoutView",
            "align_content": null,
            "align_items": null,
            "align_self": null,
            "border": null,
            "bottom": null,
            "display": null,
            "flex": null,
            "flex_flow": null,
            "grid_area": null,
            "grid_auto_columns": null,
            "grid_auto_flow": null,
            "grid_auto_rows": null,
            "grid_column": null,
            "grid_gap": null,
            "grid_row": null,
            "grid_template_areas": null,
            "grid_template_columns": null,
            "grid_template_rows": null,
            "height": null,
            "justify_content": null,
            "justify_items": null,
            "left": null,
            "margin": null,
            "max_height": null,
            "max_width": null,
            "min_height": null,
            "min_width": null,
            "object_fit": null,
            "object_position": null,
            "order": null,
            "overflow": null,
            "overflow_x": null,
            "overflow_y": null,
            "padding": null,
            "right": null,
            "top": null,
            "visibility": null,
            "width": null
          }
        },
        "1c96b105f6074a26a7162dc29adb7cc9": {
          "model_module": "@jupyter-widgets/controls",
          "model_name": "DescriptionStyleModel",
          "model_module_version": "1.5.0",
          "state": {
            "_model_module": "@jupyter-widgets/controls",
            "_model_module_version": "1.5.0",
            "_model_name": "DescriptionStyleModel",
            "_view_count": null,
            "_view_module": "@jupyter-widgets/base",
            "_view_module_version": "1.2.0",
            "_view_name": "StyleView",
            "description_width": ""
          }
        },
        "79743d3e227e420e88b718860aa2abd9": {
          "model_module": "@jupyter-widgets/controls",
          "model_name": "HBoxModel",
          "model_module_version": "1.5.0",
          "state": {
            "_dom_classes": [],
            "_model_module": "@jupyter-widgets/controls",
            "_model_module_version": "1.5.0",
            "_model_name": "HBoxModel",
            "_view_count": null,
            "_view_module": "@jupyter-widgets/controls",
            "_view_module_version": "1.5.0",
            "_view_name": "HBoxView",
            "box_style": "",
            "children": [
              "IPY_MODEL_aa6e045664a64f55a8018701184a059e",
              "IPY_MODEL_fda514c716b84759a6325150e42425ea",
              "IPY_MODEL_62230527a8064bf89e874dffa79b5759"
            ],
            "layout": "IPY_MODEL_714dba84dd7449b2a735705e2b11131a"
          }
        },
        "aa6e045664a64f55a8018701184a059e": {
          "model_module": "@jupyter-widgets/controls",
          "model_name": "HTMLModel",
          "model_module_version": "1.5.0",
          "state": {
            "_dom_classes": [],
            "_model_module": "@jupyter-widgets/controls",
            "_model_module_version": "1.5.0",
            "_model_name": "HTMLModel",
            "_view_count": null,
            "_view_module": "@jupyter-widgets/controls",
            "_view_module_version": "1.5.0",
            "_view_name": "HTMLView",
            "description": "",
            "description_tooltip": null,
            "layout": "IPY_MODEL_b2c9cbd2155c4eb8bbaab4a612a7458b",
            "placeholder": "​",
            "style": "IPY_MODEL_decbddf7db174fc3a84f243739ca85d4",
            "value": "Downloading data: 100%"
          }
        },
        "fda514c716b84759a6325150e42425ea": {
          "model_module": "@jupyter-widgets/controls",
          "model_name": "FloatProgressModel",
          "model_module_version": "1.5.0",
          "state": {
            "_dom_classes": [],
            "_model_module": "@jupyter-widgets/controls",
            "_model_module_version": "1.5.0",
            "_model_name": "FloatProgressModel",
            "_view_count": null,
            "_view_module": "@jupyter-widgets/controls",
            "_view_module_version": "1.5.0",
            "_view_name": "ProgressView",
            "bar_style": "success",
            "description": "",
            "description_tooltip": null,
            "layout": "IPY_MODEL_4fc6a745d9a343ce99eb7690ecaed899",
            "max": 5148,
            "min": 0,
            "orientation": "horizontal",
            "style": "IPY_MODEL_4a533b240e4f4b97832f185e1cb46245",
            "value": 5148
          }
        },
        "62230527a8064bf89e874dffa79b5759": {
          "model_module": "@jupyter-widgets/controls",
          "model_name": "HTMLModel",
          "model_module_version": "1.5.0",
          "state": {
            "_dom_classes": [],
            "_model_module": "@jupyter-widgets/controls",
            "_model_module_version": "1.5.0",
            "_model_name": "HTMLModel",
            "_view_count": null,
            "_view_module": "@jupyter-widgets/controls",
            "_view_module_version": "1.5.0",
            "_view_name": "HTMLView",
            "description": "",
            "description_tooltip": null,
            "layout": "IPY_MODEL_443a73f6052442078b462fe9eea4fd63",
            "placeholder": "​",
            "style": "IPY_MODEL_db97940fa26d4fecb4c9d4ec2d1c4d03",
            "value": " 5.15k/5.15k [00:00&lt;00:00, 248kB/s]"
          }
        },
        "714dba84dd7449b2a735705e2b11131a": {
          "model_module": "@jupyter-widgets/base",
          "model_name": "LayoutModel",
          "model_module_version": "1.2.0",
          "state": {
            "_model_module": "@jupyter-widgets/base",
            "_model_module_version": "1.2.0",
            "_model_name": "LayoutModel",
            "_view_count": null,
            "_view_module": "@jupyter-widgets/base",
            "_view_module_version": "1.2.0",
            "_view_name": "LayoutView",
            "align_content": null,
            "align_items": null,
            "align_self": null,
            "border": null,
            "bottom": null,
            "display": null,
            "flex": null,
            "flex_flow": null,
            "grid_area": null,
            "grid_auto_columns": null,
            "grid_auto_flow": null,
            "grid_auto_rows": null,
            "grid_column": null,
            "grid_gap": null,
            "grid_row": null,
            "grid_template_areas": null,
            "grid_template_columns": null,
            "grid_template_rows": null,
            "height": null,
            "justify_content": null,
            "justify_items": null,
            "left": null,
            "margin": null,
            "max_height": null,
            "max_width": null,
            "min_height": null,
            "min_width": null,
            "object_fit": null,
            "object_position": null,
            "order": null,
            "overflow": null,
            "overflow_x": null,
            "overflow_y": null,
            "padding": null,
            "right": null,
            "top": null,
            "visibility": null,
            "width": null
          }
        },
        "b2c9cbd2155c4eb8bbaab4a612a7458b": {
          "model_module": "@jupyter-widgets/base",
          "model_name": "LayoutModel",
          "model_module_version": "1.2.0",
          "state": {
            "_model_module": "@jupyter-widgets/base",
            "_model_module_version": "1.2.0",
            "_model_name": "LayoutModel",
            "_view_count": null,
            "_view_module": "@jupyter-widgets/base",
            "_view_module_version": "1.2.0",
            "_view_name": "LayoutView",
            "align_content": null,
            "align_items": null,
            "align_self": null,
            "border": null,
            "bottom": null,
            "display": null,
            "flex": null,
            "flex_flow": null,
            "grid_area": null,
            "grid_auto_columns": null,
            "grid_auto_flow": null,
            "grid_auto_rows": null,
            "grid_column": null,
            "grid_gap": null,
            "grid_row": null,
            "grid_template_areas": null,
            "grid_template_columns": null,
            "grid_template_rows": null,
            "height": null,
            "justify_content": null,
            "justify_items": null,
            "left": null,
            "margin": null,
            "max_height": null,
            "max_width": null,
            "min_height": null,
            "min_width": null,
            "object_fit": null,
            "object_position": null,
            "order": null,
            "overflow": null,
            "overflow_x": null,
            "overflow_y": null,
            "padding": null,
            "right": null,
            "top": null,
            "visibility": null,
            "width": null
          }
        },
        "decbddf7db174fc3a84f243739ca85d4": {
          "model_module": "@jupyter-widgets/controls",
          "model_name": "DescriptionStyleModel",
          "model_module_version": "1.5.0",
          "state": {
            "_model_module": "@jupyter-widgets/controls",
            "_model_module_version": "1.5.0",
            "_model_name": "DescriptionStyleModel",
            "_view_count": null,
            "_view_module": "@jupyter-widgets/base",
            "_view_module_version": "1.2.0",
            "_view_name": "StyleView",
            "description_width": ""
          }
        },
        "4fc6a745d9a343ce99eb7690ecaed899": {
          "model_module": "@jupyter-widgets/base",
          "model_name": "LayoutModel",
          "model_module_version": "1.2.0",
          "state": {
            "_model_module": "@jupyter-widgets/base",
            "_model_module_version": "1.2.0",
            "_model_name": "LayoutModel",
            "_view_count": null,
            "_view_module": "@jupyter-widgets/base",
            "_view_module_version": "1.2.0",
            "_view_name": "LayoutView",
            "align_content": null,
            "align_items": null,
            "align_self": null,
            "border": null,
            "bottom": null,
            "display": null,
            "flex": null,
            "flex_flow": null,
            "grid_area": null,
            "grid_auto_columns": null,
            "grid_auto_flow": null,
            "grid_auto_rows": null,
            "grid_column": null,
            "grid_gap": null,
            "grid_row": null,
            "grid_template_areas": null,
            "grid_template_columns": null,
            "grid_template_rows": null,
            "height": null,
            "justify_content": null,
            "justify_items": null,
            "left": null,
            "margin": null,
            "max_height": null,
            "max_width": null,
            "min_height": null,
            "min_width": null,
            "object_fit": null,
            "object_position": null,
            "order": null,
            "overflow": null,
            "overflow_x": null,
            "overflow_y": null,
            "padding": null,
            "right": null,
            "top": null,
            "visibility": null,
            "width": null
          }
        },
        "4a533b240e4f4b97832f185e1cb46245": {
          "model_module": "@jupyter-widgets/controls",
          "model_name": "ProgressStyleModel",
          "model_module_version": "1.5.0",
          "state": {
            "_model_module": "@jupyter-widgets/controls",
            "_model_module_version": "1.5.0",
            "_model_name": "ProgressStyleModel",
            "_view_count": null,
            "_view_module": "@jupyter-widgets/base",
            "_view_module_version": "1.2.0",
            "_view_name": "StyleView",
            "bar_color": null,
            "description_width": ""
          }
        },
        "443a73f6052442078b462fe9eea4fd63": {
          "model_module": "@jupyter-widgets/base",
          "model_name": "LayoutModel",
          "model_module_version": "1.2.0",
          "state": {
            "_model_module": "@jupyter-widgets/base",
            "_model_module_version": "1.2.0",
            "_model_name": "LayoutModel",
            "_view_count": null,
            "_view_module": "@jupyter-widgets/base",
            "_view_module_version": "1.2.0",
            "_view_name": "LayoutView",
            "align_content": null,
            "align_items": null,
            "align_self": null,
            "border": null,
            "bottom": null,
            "display": null,
            "flex": null,
            "flex_flow": null,
            "grid_area": null,
            "grid_auto_columns": null,
            "grid_auto_flow": null,
            "grid_auto_rows": null,
            "grid_column": null,
            "grid_gap": null,
            "grid_row": null,
            "grid_template_areas": null,
            "grid_template_columns": null,
            "grid_template_rows": null,
            "height": null,
            "justify_content": null,
            "justify_items": null,
            "left": null,
            "margin": null,
            "max_height": null,
            "max_width": null,
            "min_height": null,
            "min_width": null,
            "object_fit": null,
            "object_position": null,
            "order": null,
            "overflow": null,
            "overflow_x": null,
            "overflow_y": null,
            "padding": null,
            "right": null,
            "top": null,
            "visibility": null,
            "width": null
          }
        },
        "db97940fa26d4fecb4c9d4ec2d1c4d03": {
          "model_module": "@jupyter-widgets/controls",
          "model_name": "DescriptionStyleModel",
          "model_module_version": "1.5.0",
          "state": {
            "_model_module": "@jupyter-widgets/controls",
            "_model_module_version": "1.5.0",
            "_model_name": "DescriptionStyleModel",
            "_view_count": null,
            "_view_module": "@jupyter-widgets/base",
            "_view_module_version": "1.2.0",
            "_view_name": "StyleView",
            "description_width": ""
          }
        },
        "b54e4816a8bc4774a24f03c20f7e0118": {
          "model_module": "@jupyter-widgets/controls",
          "model_name": "HBoxModel",
          "model_module_version": "1.5.0",
          "state": {
            "_dom_classes": [],
            "_model_module": "@jupyter-widgets/controls",
            "_model_module_version": "1.5.0",
            "_model_name": "HBoxModel",
            "_view_count": null,
            "_view_module": "@jupyter-widgets/controls",
            "_view_module_version": "1.5.0",
            "_view_name": "HBoxView",
            "box_style": "",
            "children": [
              "IPY_MODEL_c4995d8c2e464761b568cb3d855894cc",
              "IPY_MODEL_37d11263573e4e3e9e226de77e49068c",
              "IPY_MODEL_448c6fc695e14260897dba2600349490"
            ],
            "layout": "IPY_MODEL_d04b6d59f23644679f5363fbcaae4f73"
          }
        },
        "c4995d8c2e464761b568cb3d855894cc": {
          "model_module": "@jupyter-widgets/controls",
          "model_name": "HTMLModel",
          "model_module_version": "1.5.0",
          "state": {
            "_dom_classes": [],
            "_model_module": "@jupyter-widgets/controls",
            "_model_module_version": "1.5.0",
            "_model_name": "HTMLModel",
            "_view_count": null,
            "_view_module": "@jupyter-widgets/controls",
            "_view_module_version": "1.5.0",
            "_view_name": "HTMLView",
            "description": "",
            "description_tooltip": null,
            "layout": "IPY_MODEL_aaab8e754cc34f999b20d312ffc87649",
            "placeholder": "​",
            "style": "IPY_MODEL_feece19a42194d2390098179abf5cda7",
            "value": "Extracting data files: 100%"
          }
        },
        "37d11263573e4e3e9e226de77e49068c": {
          "model_module": "@jupyter-widgets/controls",
          "model_name": "FloatProgressModel",
          "model_module_version": "1.5.0",
          "state": {
            "_dom_classes": [],
            "_model_module": "@jupyter-widgets/controls",
            "_model_module_version": "1.5.0",
            "_model_name": "FloatProgressModel",
            "_view_count": null,
            "_view_module": "@jupyter-widgets/controls",
            "_view_module_version": "1.5.0",
            "_view_name": "ProgressView",
            "bar_style": "success",
            "description": "",
            "description_tooltip": null,
            "layout": "IPY_MODEL_02a8585f3f1043b1b9ade904a7ba65d4",
            "max": 4,
            "min": 0,
            "orientation": "horizontal",
            "style": "IPY_MODEL_2524b915086a4d2297fc245206cf1bd7",
            "value": 4
          }
        },
        "448c6fc695e14260897dba2600349490": {
          "model_module": "@jupyter-widgets/controls",
          "model_name": "HTMLModel",
          "model_module_version": "1.5.0",
          "state": {
            "_dom_classes": [],
            "_model_module": "@jupyter-widgets/controls",
            "_model_module_version": "1.5.0",
            "_model_name": "HTMLModel",
            "_view_count": null,
            "_view_module": "@jupyter-widgets/controls",
            "_view_module_version": "1.5.0",
            "_view_name": "HTMLView",
            "description": "",
            "description_tooltip": null,
            "layout": "IPY_MODEL_99f579e647bd4f10a77f9c52691a4726",
            "placeholder": "​",
            "style": "IPY_MODEL_c39cc0e587094c9eb38d74ed9d57734b",
            "value": " 4/4 [00:00&lt;00:00,  2.74it/s]"
          }
        },
        "d04b6d59f23644679f5363fbcaae4f73": {
          "model_module": "@jupyter-widgets/base",
          "model_name": "LayoutModel",
          "model_module_version": "1.2.0",
          "state": {
            "_model_module": "@jupyter-widgets/base",
            "_model_module_version": "1.2.0",
            "_model_name": "LayoutModel",
            "_view_count": null,
            "_view_module": "@jupyter-widgets/base",
            "_view_module_version": "1.2.0",
            "_view_name": "LayoutView",
            "align_content": null,
            "align_items": null,
            "align_self": null,
            "border": null,
            "bottom": null,
            "display": null,
            "flex": null,
            "flex_flow": null,
            "grid_area": null,
            "grid_auto_columns": null,
            "grid_auto_flow": null,
            "grid_auto_rows": null,
            "grid_column": null,
            "grid_gap": null,
            "grid_row": null,
            "grid_template_areas": null,
            "grid_template_columns": null,
            "grid_template_rows": null,
            "height": null,
            "justify_content": null,
            "justify_items": null,
            "left": null,
            "margin": null,
            "max_height": null,
            "max_width": null,
            "min_height": null,
            "min_width": null,
            "object_fit": null,
            "object_position": null,
            "order": null,
            "overflow": null,
            "overflow_x": null,
            "overflow_y": null,
            "padding": null,
            "right": null,
            "top": null,
            "visibility": null,
            "width": null
          }
        },
        "aaab8e754cc34f999b20d312ffc87649": {
          "model_module": "@jupyter-widgets/base",
          "model_name": "LayoutModel",
          "model_module_version": "1.2.0",
          "state": {
            "_model_module": "@jupyter-widgets/base",
            "_model_module_version": "1.2.0",
            "_model_name": "LayoutModel",
            "_view_count": null,
            "_view_module": "@jupyter-widgets/base",
            "_view_module_version": "1.2.0",
            "_view_name": "LayoutView",
            "align_content": null,
            "align_items": null,
            "align_self": null,
            "border": null,
            "bottom": null,
            "display": null,
            "flex": null,
            "flex_flow": null,
            "grid_area": null,
            "grid_auto_columns": null,
            "grid_auto_flow": null,
            "grid_auto_rows": null,
            "grid_column": null,
            "grid_gap": null,
            "grid_row": null,
            "grid_template_areas": null,
            "grid_template_columns": null,
            "grid_template_rows": null,
            "height": null,
            "justify_content": null,
            "justify_items": null,
            "left": null,
            "margin": null,
            "max_height": null,
            "max_width": null,
            "min_height": null,
            "min_width": null,
            "object_fit": null,
            "object_position": null,
            "order": null,
            "overflow": null,
            "overflow_x": null,
            "overflow_y": null,
            "padding": null,
            "right": null,
            "top": null,
            "visibility": null,
            "width": null
          }
        },
        "feece19a42194d2390098179abf5cda7": {
          "model_module": "@jupyter-widgets/controls",
          "model_name": "DescriptionStyleModel",
          "model_module_version": "1.5.0",
          "state": {
            "_model_module": "@jupyter-widgets/controls",
            "_model_module_version": "1.5.0",
            "_model_name": "DescriptionStyleModel",
            "_view_count": null,
            "_view_module": "@jupyter-widgets/base",
            "_view_module_version": "1.2.0",
            "_view_name": "StyleView",
            "description_width": ""
          }
        },
        "02a8585f3f1043b1b9ade904a7ba65d4": {
          "model_module": "@jupyter-widgets/base",
          "model_name": "LayoutModel",
          "model_module_version": "1.2.0",
          "state": {
            "_model_module": "@jupyter-widgets/base",
            "_model_module_version": "1.2.0",
            "_model_name": "LayoutModel",
            "_view_count": null,
            "_view_module": "@jupyter-widgets/base",
            "_view_module_version": "1.2.0",
            "_view_name": "LayoutView",
            "align_content": null,
            "align_items": null,
            "align_self": null,
            "border": null,
            "bottom": null,
            "display": null,
            "flex": null,
            "flex_flow": null,
            "grid_area": null,
            "grid_auto_columns": null,
            "grid_auto_flow": null,
            "grid_auto_rows": null,
            "grid_column": null,
            "grid_gap": null,
            "grid_row": null,
            "grid_template_areas": null,
            "grid_template_columns": null,
            "grid_template_rows": null,
            "height": null,
            "justify_content": null,
            "justify_items": null,
            "left": null,
            "margin": null,
            "max_height": null,
            "max_width": null,
            "min_height": null,
            "min_width": null,
            "object_fit": null,
            "object_position": null,
            "order": null,
            "overflow": null,
            "overflow_x": null,
            "overflow_y": null,
            "padding": null,
            "right": null,
            "top": null,
            "visibility": null,
            "width": null
          }
        },
        "2524b915086a4d2297fc245206cf1bd7": {
          "model_module": "@jupyter-widgets/controls",
          "model_name": "ProgressStyleModel",
          "model_module_version": "1.5.0",
          "state": {
            "_model_module": "@jupyter-widgets/controls",
            "_model_module_version": "1.5.0",
            "_model_name": "ProgressStyleModel",
            "_view_count": null,
            "_view_module": "@jupyter-widgets/base",
            "_view_module_version": "1.2.0",
            "_view_name": "StyleView",
            "bar_color": null,
            "description_width": ""
          }
        },
        "99f579e647bd4f10a77f9c52691a4726": {
          "model_module": "@jupyter-widgets/base",
          "model_name": "LayoutModel",
          "model_module_version": "1.2.0",
          "state": {
            "_model_module": "@jupyter-widgets/base",
            "_model_module_version": "1.2.0",
            "_model_name": "LayoutModel",
            "_view_count": null,
            "_view_module": "@jupyter-widgets/base",
            "_view_module_version": "1.2.0",
            "_view_name": "LayoutView",
            "align_content": null,
            "align_items": null,
            "align_self": null,
            "border": null,
            "bottom": null,
            "display": null,
            "flex": null,
            "flex_flow": null,
            "grid_area": null,
            "grid_auto_columns": null,
            "grid_auto_flow": null,
            "grid_auto_rows": null,
            "grid_column": null,
            "grid_gap": null,
            "grid_row": null,
            "grid_template_areas": null,
            "grid_template_columns": null,
            "grid_template_rows": null,
            "height": null,
            "justify_content": null,
            "justify_items": null,
            "left": null,
            "margin": null,
            "max_height": null,
            "max_width": null,
            "min_height": null,
            "min_width": null,
            "object_fit": null,
            "object_position": null,
            "order": null,
            "overflow": null,
            "overflow_x": null,
            "overflow_y": null,
            "padding": null,
            "right": null,
            "top": null,
            "visibility": null,
            "width": null
          }
        },
        "c39cc0e587094c9eb38d74ed9d57734b": {
          "model_module": "@jupyter-widgets/controls",
          "model_name": "DescriptionStyleModel",
          "model_module_version": "1.5.0",
          "state": {
            "_model_module": "@jupyter-widgets/controls",
            "_model_module_version": "1.5.0",
            "_model_name": "DescriptionStyleModel",
            "_view_count": null,
            "_view_module": "@jupyter-widgets/base",
            "_view_module_version": "1.2.0",
            "_view_name": "StyleView",
            "description_width": ""
          }
        },
        "4146e2adf55d4e939053cd8dea2d37a1": {
          "model_module": "@jupyter-widgets/controls",
          "model_name": "HBoxModel",
          "model_module_version": "1.5.0",
          "state": {
            "_dom_classes": [],
            "_model_module": "@jupyter-widgets/controls",
            "_model_module_version": "1.5.0",
            "_model_name": "HBoxModel",
            "_view_count": null,
            "_view_module": "@jupyter-widgets/controls",
            "_view_module_version": "1.5.0",
            "_view_name": "HBoxView",
            "box_style": "",
            "children": [
              "IPY_MODEL_63c381a4be5d4e94aeadf5d4f8c4ed76",
              "IPY_MODEL_ef8207a6f1db470cb8e29669ceea11e7",
              "IPY_MODEL_81679fb5051146aba651f0fcf9cccfc8"
            ],
            "layout": "IPY_MODEL_cf67f857ed1748dc90936812d257beee"
          }
        },
        "63c381a4be5d4e94aeadf5d4f8c4ed76": {
          "model_module": "@jupyter-widgets/controls",
          "model_name": "HTMLModel",
          "model_module_version": "1.5.0",
          "state": {
            "_dom_classes": [],
            "_model_module": "@jupyter-widgets/controls",
            "_model_module_version": "1.5.0",
            "_model_name": "HTMLModel",
            "_view_count": null,
            "_view_module": "@jupyter-widgets/controls",
            "_view_module_version": "1.5.0",
            "_view_name": "HTMLView",
            "description": "",
            "description_tooltip": null,
            "layout": "IPY_MODEL_c3fa901bad134cb2963f9825c6fa6b6d",
            "placeholder": "​",
            "style": "IPY_MODEL_0e66deb6930f455f96542f7a6c7ec882",
            "value": "Generating train split: 100%"
          }
        },
        "ef8207a6f1db470cb8e29669ceea11e7": {
          "model_module": "@jupyter-widgets/controls",
          "model_name": "FloatProgressModel",
          "model_module_version": "1.5.0",
          "state": {
            "_dom_classes": [],
            "_model_module": "@jupyter-widgets/controls",
            "_model_module_version": "1.5.0",
            "_model_name": "FloatProgressModel",
            "_view_count": null,
            "_view_module": "@jupyter-widgets/controls",
            "_view_module_version": "1.5.0",
            "_view_name": "ProgressView",
            "bar_style": "",
            "description": "",
            "description_tooltip": null,
            "layout": "IPY_MODEL_628967904d724ac4a16bbbb9cc91a474",
            "max": 60000,
            "min": 0,
            "orientation": "horizontal",
            "style": "IPY_MODEL_addc451382d54e54bc55f9989b497865",
            "value": 60000
          }
        },
        "81679fb5051146aba651f0fcf9cccfc8": {
          "model_module": "@jupyter-widgets/controls",
          "model_name": "HTMLModel",
          "model_module_version": "1.5.0",
          "state": {
            "_dom_classes": [],
            "_model_module": "@jupyter-widgets/controls",
            "_model_module_version": "1.5.0",
            "_model_name": "HTMLModel",
            "_view_count": null,
            "_view_module": "@jupyter-widgets/controls",
            "_view_module_version": "1.5.0",
            "_view_name": "HTMLView",
            "description": "",
            "description_tooltip": null,
            "layout": "IPY_MODEL_1d14be81a6c04b9199e512f9b383ef6c",
            "placeholder": "​",
            "style": "IPY_MODEL_4820dd28855346a7bf4796d9c8abdf36",
            "value": " 59720/60000 [00:12&lt;00:00, 5894.47 examples/s]"
          }
        },
        "cf67f857ed1748dc90936812d257beee": {
          "model_module": "@jupyter-widgets/base",
          "model_name": "LayoutModel",
          "model_module_version": "1.2.0",
          "state": {
            "_model_module": "@jupyter-widgets/base",
            "_model_module_version": "1.2.0",
            "_model_name": "LayoutModel",
            "_view_count": null,
            "_view_module": "@jupyter-widgets/base",
            "_view_module_version": "1.2.0",
            "_view_name": "LayoutView",
            "align_content": null,
            "align_items": null,
            "align_self": null,
            "border": null,
            "bottom": null,
            "display": null,
            "flex": null,
            "flex_flow": null,
            "grid_area": null,
            "grid_auto_columns": null,
            "grid_auto_flow": null,
            "grid_auto_rows": null,
            "grid_column": null,
            "grid_gap": null,
            "grid_row": null,
            "grid_template_areas": null,
            "grid_template_columns": null,
            "grid_template_rows": null,
            "height": null,
            "justify_content": null,
            "justify_items": null,
            "left": null,
            "margin": null,
            "max_height": null,
            "max_width": null,
            "min_height": null,
            "min_width": null,
            "object_fit": null,
            "object_position": null,
            "order": null,
            "overflow": null,
            "overflow_x": null,
            "overflow_y": null,
            "padding": null,
            "right": null,
            "top": null,
            "visibility": "hidden",
            "width": null
          }
        },
        "c3fa901bad134cb2963f9825c6fa6b6d": {
          "model_module": "@jupyter-widgets/base",
          "model_name": "LayoutModel",
          "model_module_version": "1.2.0",
          "state": {
            "_model_module": "@jupyter-widgets/base",
            "_model_module_version": "1.2.0",
            "_model_name": "LayoutModel",
            "_view_count": null,
            "_view_module": "@jupyter-widgets/base",
            "_view_module_version": "1.2.0",
            "_view_name": "LayoutView",
            "align_content": null,
            "align_items": null,
            "align_self": null,
            "border": null,
            "bottom": null,
            "display": null,
            "flex": null,
            "flex_flow": null,
            "grid_area": null,
            "grid_auto_columns": null,
            "grid_auto_flow": null,
            "grid_auto_rows": null,
            "grid_column": null,
            "grid_gap": null,
            "grid_row": null,
            "grid_template_areas": null,
            "grid_template_columns": null,
            "grid_template_rows": null,
            "height": null,
            "justify_content": null,
            "justify_items": null,
            "left": null,
            "margin": null,
            "max_height": null,
            "max_width": null,
            "min_height": null,
            "min_width": null,
            "object_fit": null,
            "object_position": null,
            "order": null,
            "overflow": null,
            "overflow_x": null,
            "overflow_y": null,
            "padding": null,
            "right": null,
            "top": null,
            "visibility": null,
            "width": null
          }
        },
        "0e66deb6930f455f96542f7a6c7ec882": {
          "model_module": "@jupyter-widgets/controls",
          "model_name": "DescriptionStyleModel",
          "model_module_version": "1.5.0",
          "state": {
            "_model_module": "@jupyter-widgets/controls",
            "_model_module_version": "1.5.0",
            "_model_name": "DescriptionStyleModel",
            "_view_count": null,
            "_view_module": "@jupyter-widgets/base",
            "_view_module_version": "1.2.0",
            "_view_name": "StyleView",
            "description_width": ""
          }
        },
        "628967904d724ac4a16bbbb9cc91a474": {
          "model_module": "@jupyter-widgets/base",
          "model_name": "LayoutModel",
          "model_module_version": "1.2.0",
          "state": {
            "_model_module": "@jupyter-widgets/base",
            "_model_module_version": "1.2.0",
            "_model_name": "LayoutModel",
            "_view_count": null,
            "_view_module": "@jupyter-widgets/base",
            "_view_module_version": "1.2.0",
            "_view_name": "LayoutView",
            "align_content": null,
            "align_items": null,
            "align_self": null,
            "border": null,
            "bottom": null,
            "display": null,
            "flex": null,
            "flex_flow": null,
            "grid_area": null,
            "grid_auto_columns": null,
            "grid_auto_flow": null,
            "grid_auto_rows": null,
            "grid_column": null,
            "grid_gap": null,
            "grid_row": null,
            "grid_template_areas": null,
            "grid_template_columns": null,
            "grid_template_rows": null,
            "height": null,
            "justify_content": null,
            "justify_items": null,
            "left": null,
            "margin": null,
            "max_height": null,
            "max_width": null,
            "min_height": null,
            "min_width": null,
            "object_fit": null,
            "object_position": null,
            "order": null,
            "overflow": null,
            "overflow_x": null,
            "overflow_y": null,
            "padding": null,
            "right": null,
            "top": null,
            "visibility": null,
            "width": null
          }
        },
        "addc451382d54e54bc55f9989b497865": {
          "model_module": "@jupyter-widgets/controls",
          "model_name": "ProgressStyleModel",
          "model_module_version": "1.5.0",
          "state": {
            "_model_module": "@jupyter-widgets/controls",
            "_model_module_version": "1.5.0",
            "_model_name": "ProgressStyleModel",
            "_view_count": null,
            "_view_module": "@jupyter-widgets/base",
            "_view_module_version": "1.2.0",
            "_view_name": "StyleView",
            "bar_color": null,
            "description_width": ""
          }
        },
        "1d14be81a6c04b9199e512f9b383ef6c": {
          "model_module": "@jupyter-widgets/base",
          "model_name": "LayoutModel",
          "model_module_version": "1.2.0",
          "state": {
            "_model_module": "@jupyter-widgets/base",
            "_model_module_version": "1.2.0",
            "_model_name": "LayoutModel",
            "_view_count": null,
            "_view_module": "@jupyter-widgets/base",
            "_view_module_version": "1.2.0",
            "_view_name": "LayoutView",
            "align_content": null,
            "align_items": null,
            "align_self": null,
            "border": null,
            "bottom": null,
            "display": null,
            "flex": null,
            "flex_flow": null,
            "grid_area": null,
            "grid_auto_columns": null,
            "grid_auto_flow": null,
            "grid_auto_rows": null,
            "grid_column": null,
            "grid_gap": null,
            "grid_row": null,
            "grid_template_areas": null,
            "grid_template_columns": null,
            "grid_template_rows": null,
            "height": null,
            "justify_content": null,
            "justify_items": null,
            "left": null,
            "margin": null,
            "max_height": null,
            "max_width": null,
            "min_height": null,
            "min_width": null,
            "object_fit": null,
            "object_position": null,
            "order": null,
            "overflow": null,
            "overflow_x": null,
            "overflow_y": null,
            "padding": null,
            "right": null,
            "top": null,
            "visibility": null,
            "width": null
          }
        },
        "4820dd28855346a7bf4796d9c8abdf36": {
          "model_module": "@jupyter-widgets/controls",
          "model_name": "DescriptionStyleModel",
          "model_module_version": "1.5.0",
          "state": {
            "_model_module": "@jupyter-widgets/controls",
            "_model_module_version": "1.5.0",
            "_model_name": "DescriptionStyleModel",
            "_view_count": null,
            "_view_module": "@jupyter-widgets/base",
            "_view_module_version": "1.2.0",
            "_view_name": "StyleView",
            "description_width": ""
          }
        },
        "41de2ee01ae04e9fadb88b63fb061079": {
          "model_module": "@jupyter-widgets/controls",
          "model_name": "HBoxModel",
          "model_module_version": "1.5.0",
          "state": {
            "_dom_classes": [],
            "_model_module": "@jupyter-widgets/controls",
            "_model_module_version": "1.5.0",
            "_model_name": "HBoxModel",
            "_view_count": null,
            "_view_module": "@jupyter-widgets/controls",
            "_view_module_version": "1.5.0",
            "_view_name": "HBoxView",
            "box_style": "",
            "children": [
              "IPY_MODEL_f905de606a6546e090f2aa60554a6aef",
              "IPY_MODEL_0125e5e4168448088a5f0e01513b396e",
              "IPY_MODEL_3a079d37332a4565bbda14570494ca17"
            ],
            "layout": "IPY_MODEL_9be9e6e9ec4043e0b68f9a0a08900520"
          }
        },
        "f905de606a6546e090f2aa60554a6aef": {
          "model_module": "@jupyter-widgets/controls",
          "model_name": "HTMLModel",
          "model_module_version": "1.5.0",
          "state": {
            "_dom_classes": [],
            "_model_module": "@jupyter-widgets/controls",
            "_model_module_version": "1.5.0",
            "_model_name": "HTMLModel",
            "_view_count": null,
            "_view_module": "@jupyter-widgets/controls",
            "_view_module_version": "1.5.0",
            "_view_name": "HTMLView",
            "description": "",
            "description_tooltip": null,
            "layout": "IPY_MODEL_62adf79febad4b2f9864b37a033f26f7",
            "placeholder": "​",
            "style": "IPY_MODEL_3c74534bc713409788749beaebb81731",
            "value": "Generating test split:  96%"
          }
        },
        "0125e5e4168448088a5f0e01513b396e": {
          "model_module": "@jupyter-widgets/controls",
          "model_name": "FloatProgressModel",
          "model_module_version": "1.5.0",
          "state": {
            "_dom_classes": [],
            "_model_module": "@jupyter-widgets/controls",
            "_model_module_version": "1.5.0",
            "_model_name": "FloatProgressModel",
            "_view_count": null,
            "_view_module": "@jupyter-widgets/controls",
            "_view_module_version": "1.5.0",
            "_view_name": "ProgressView",
            "bar_style": "",
            "description": "",
            "description_tooltip": null,
            "layout": "IPY_MODEL_76dfddae01194536b3cda15e07098177",
            "max": 10000,
            "min": 0,
            "orientation": "horizontal",
            "style": "IPY_MODEL_82f9baf14cd541b4889e3886a529c7e2",
            "value": 10000
          }
        },
        "3a079d37332a4565bbda14570494ca17": {
          "model_module": "@jupyter-widgets/controls",
          "model_name": "HTMLModel",
          "model_module_version": "1.5.0",
          "state": {
            "_dom_classes": [],
            "_model_module": "@jupyter-widgets/controls",
            "_model_module_version": "1.5.0",
            "_model_name": "HTMLModel",
            "_view_count": null,
            "_view_module": "@jupyter-widgets/controls",
            "_view_module_version": "1.5.0",
            "_view_name": "HTMLView",
            "description": "",
            "description_tooltip": null,
            "layout": "IPY_MODEL_1ba31ef41d2a42f3b7b03c49a009e4b9",
            "placeholder": "​",
            "style": "IPY_MODEL_cc9d6e622b04410fa96aaf5955a7773a",
            "value": " 9640/10000 [00:01&lt;00:00, 5938.27 examples/s]"
          }
        },
        "9be9e6e9ec4043e0b68f9a0a08900520": {
          "model_module": "@jupyter-widgets/base",
          "model_name": "LayoutModel",
          "model_module_version": "1.2.0",
          "state": {
            "_model_module": "@jupyter-widgets/base",
            "_model_module_version": "1.2.0",
            "_model_name": "LayoutModel",
            "_view_count": null,
            "_view_module": "@jupyter-widgets/base",
            "_view_module_version": "1.2.0",
            "_view_name": "LayoutView",
            "align_content": null,
            "align_items": null,
            "align_self": null,
            "border": null,
            "bottom": null,
            "display": null,
            "flex": null,
            "flex_flow": null,
            "grid_area": null,
            "grid_auto_columns": null,
            "grid_auto_flow": null,
            "grid_auto_rows": null,
            "grid_column": null,
            "grid_gap": null,
            "grid_row": null,
            "grid_template_areas": null,
            "grid_template_columns": null,
            "grid_template_rows": null,
            "height": null,
            "justify_content": null,
            "justify_items": null,
            "left": null,
            "margin": null,
            "max_height": null,
            "max_width": null,
            "min_height": null,
            "min_width": null,
            "object_fit": null,
            "object_position": null,
            "order": null,
            "overflow": null,
            "overflow_x": null,
            "overflow_y": null,
            "padding": null,
            "right": null,
            "top": null,
            "visibility": "hidden",
            "width": null
          }
        },
        "62adf79febad4b2f9864b37a033f26f7": {
          "model_module": "@jupyter-widgets/base",
          "model_name": "LayoutModel",
          "model_module_version": "1.2.0",
          "state": {
            "_model_module": "@jupyter-widgets/base",
            "_model_module_version": "1.2.0",
            "_model_name": "LayoutModel",
            "_view_count": null,
            "_view_module": "@jupyter-widgets/base",
            "_view_module_version": "1.2.0",
            "_view_name": "LayoutView",
            "align_content": null,
            "align_items": null,
            "align_self": null,
            "border": null,
            "bottom": null,
            "display": null,
            "flex": null,
            "flex_flow": null,
            "grid_area": null,
            "grid_auto_columns": null,
            "grid_auto_flow": null,
            "grid_auto_rows": null,
            "grid_column": null,
            "grid_gap": null,
            "grid_row": null,
            "grid_template_areas": null,
            "grid_template_columns": null,
            "grid_template_rows": null,
            "height": null,
            "justify_content": null,
            "justify_items": null,
            "left": null,
            "margin": null,
            "max_height": null,
            "max_width": null,
            "min_height": null,
            "min_width": null,
            "object_fit": null,
            "object_position": null,
            "order": null,
            "overflow": null,
            "overflow_x": null,
            "overflow_y": null,
            "padding": null,
            "right": null,
            "top": null,
            "visibility": null,
            "width": null
          }
        },
        "3c74534bc713409788749beaebb81731": {
          "model_module": "@jupyter-widgets/controls",
          "model_name": "DescriptionStyleModel",
          "model_module_version": "1.5.0",
          "state": {
            "_model_module": "@jupyter-widgets/controls",
            "_model_module_version": "1.5.0",
            "_model_name": "DescriptionStyleModel",
            "_view_count": null,
            "_view_module": "@jupyter-widgets/base",
            "_view_module_version": "1.2.0",
            "_view_name": "StyleView",
            "description_width": ""
          }
        },
        "76dfddae01194536b3cda15e07098177": {
          "model_module": "@jupyter-widgets/base",
          "model_name": "LayoutModel",
          "model_module_version": "1.2.0",
          "state": {
            "_model_module": "@jupyter-widgets/base",
            "_model_module_version": "1.2.0",
            "_model_name": "LayoutModel",
            "_view_count": null,
            "_view_module": "@jupyter-widgets/base",
            "_view_module_version": "1.2.0",
            "_view_name": "LayoutView",
            "align_content": null,
            "align_items": null,
            "align_self": null,
            "border": null,
            "bottom": null,
            "display": null,
            "flex": null,
            "flex_flow": null,
            "grid_area": null,
            "grid_auto_columns": null,
            "grid_auto_flow": null,
            "grid_auto_rows": null,
            "grid_column": null,
            "grid_gap": null,
            "grid_row": null,
            "grid_template_areas": null,
            "grid_template_columns": null,
            "grid_template_rows": null,
            "height": null,
            "justify_content": null,
            "justify_items": null,
            "left": null,
            "margin": null,
            "max_height": null,
            "max_width": null,
            "min_height": null,
            "min_width": null,
            "object_fit": null,
            "object_position": null,
            "order": null,
            "overflow": null,
            "overflow_x": null,
            "overflow_y": null,
            "padding": null,
            "right": null,
            "top": null,
            "visibility": null,
            "width": null
          }
        },
        "82f9baf14cd541b4889e3886a529c7e2": {
          "model_module": "@jupyter-widgets/controls",
          "model_name": "ProgressStyleModel",
          "model_module_version": "1.5.0",
          "state": {
            "_model_module": "@jupyter-widgets/controls",
            "_model_module_version": "1.5.0",
            "_model_name": "ProgressStyleModel",
            "_view_count": null,
            "_view_module": "@jupyter-widgets/base",
            "_view_module_version": "1.2.0",
            "_view_name": "StyleView",
            "bar_color": null,
            "description_width": ""
          }
        },
        "1ba31ef41d2a42f3b7b03c49a009e4b9": {
          "model_module": "@jupyter-widgets/base",
          "model_name": "LayoutModel",
          "model_module_version": "1.2.0",
          "state": {
            "_model_module": "@jupyter-widgets/base",
            "_model_module_version": "1.2.0",
            "_model_name": "LayoutModel",
            "_view_count": null,
            "_view_module": "@jupyter-widgets/base",
            "_view_module_version": "1.2.0",
            "_view_name": "LayoutView",
            "align_content": null,
            "align_items": null,
            "align_self": null,
            "border": null,
            "bottom": null,
            "display": null,
            "flex": null,
            "flex_flow": null,
            "grid_area": null,
            "grid_auto_columns": null,
            "grid_auto_flow": null,
            "grid_auto_rows": null,
            "grid_column": null,
            "grid_gap": null,
            "grid_row": null,
            "grid_template_areas": null,
            "grid_template_columns": null,
            "grid_template_rows": null,
            "height": null,
            "justify_content": null,
            "justify_items": null,
            "left": null,
            "margin": null,
            "max_height": null,
            "max_width": null,
            "min_height": null,
            "min_width": null,
            "object_fit": null,
            "object_position": null,
            "order": null,
            "overflow": null,
            "overflow_x": null,
            "overflow_y": null,
            "padding": null,
            "right": null,
            "top": null,
            "visibility": null,
            "width": null
          }
        },
        "cc9d6e622b04410fa96aaf5955a7773a": {
          "model_module": "@jupyter-widgets/controls",
          "model_name": "DescriptionStyleModel",
          "model_module_version": "1.5.0",
          "state": {
            "_model_module": "@jupyter-widgets/controls",
            "_model_module_version": "1.5.0",
            "_model_name": "DescriptionStyleModel",
            "_view_count": null,
            "_view_module": "@jupyter-widgets/base",
            "_view_module_version": "1.2.0",
            "_view_name": "StyleView",
            "description_width": ""
          }
        },
        "69250481dde142bfb86b51b1e672eb3a": {
          "model_module": "@jupyter-widgets/controls",
          "model_name": "HBoxModel",
          "model_module_version": "1.5.0",
          "state": {
            "_dom_classes": [],
            "_model_module": "@jupyter-widgets/controls",
            "_model_module_version": "1.5.0",
            "_model_name": "HBoxModel",
            "_view_count": null,
            "_view_module": "@jupyter-widgets/controls",
            "_view_module_version": "1.5.0",
            "_view_name": "HBoxView",
            "box_style": "",
            "children": [
              "IPY_MODEL_58e70c256433400cbb7e046559ee51f0",
              "IPY_MODEL_c8a8af5729764d918de2d3f3c07d367a",
              "IPY_MODEL_729e65febebf4ab2a8c813dcd73c293b"
            ],
            "layout": "IPY_MODEL_a992793452de4d5aa41232abcba7d702"
          }
        },
        "58e70c256433400cbb7e046559ee51f0": {
          "model_module": "@jupyter-widgets/controls",
          "model_name": "HTMLModel",
          "model_module_version": "1.5.0",
          "state": {
            "_dom_classes": [],
            "_model_module": "@jupyter-widgets/controls",
            "_model_module_version": "1.5.0",
            "_model_name": "HTMLModel",
            "_view_count": null,
            "_view_module": "@jupyter-widgets/controls",
            "_view_module_version": "1.5.0",
            "_view_name": "HTMLView",
            "description": "",
            "description_tooltip": null,
            "layout": "IPY_MODEL_cdf1821a0ccd44eb80243b6245b48b85",
            "placeholder": "​",
            "style": "IPY_MODEL_c28a70adafd241219f52cdb0025927bd",
            "value": "100%"
          }
        },
        "c8a8af5729764d918de2d3f3c07d367a": {
          "model_module": "@jupyter-widgets/controls",
          "model_name": "FloatProgressModel",
          "model_module_version": "1.5.0",
          "state": {
            "_dom_classes": [],
            "_model_module": "@jupyter-widgets/controls",
            "_model_module_version": "1.5.0",
            "_model_name": "FloatProgressModel",
            "_view_count": null,
            "_view_module": "@jupyter-widgets/controls",
            "_view_module_version": "1.5.0",
            "_view_name": "ProgressView",
            "bar_style": "success",
            "description": "",
            "description_tooltip": null,
            "layout": "IPY_MODEL_85e06894c97f4b8680e586fe09a18847",
            "max": 2,
            "min": 0,
            "orientation": "horizontal",
            "style": "IPY_MODEL_46147143f6cf418a86b7ba34ac0eb600",
            "value": 2
          }
        },
        "729e65febebf4ab2a8c813dcd73c293b": {
          "model_module": "@jupyter-widgets/controls",
          "model_name": "HTMLModel",
          "model_module_version": "1.5.0",
          "state": {
            "_dom_classes": [],
            "_model_module": "@jupyter-widgets/controls",
            "_model_module_version": "1.5.0",
            "_model_name": "HTMLModel",
            "_view_count": null,
            "_view_module": "@jupyter-widgets/controls",
            "_view_module_version": "1.5.0",
            "_view_name": "HTMLView",
            "description": "",
            "description_tooltip": null,
            "layout": "IPY_MODEL_c3956ac99ba748b388a402a2a87cac60",
            "placeholder": "​",
            "style": "IPY_MODEL_aaad14bb333845bdb30b93d751a1fed1",
            "value": " 2/2 [00:00&lt;00:00, 55.00it/s]"
          }
        },
        "a992793452de4d5aa41232abcba7d702": {
          "model_module": "@jupyter-widgets/base",
          "model_name": "LayoutModel",
          "model_module_version": "1.2.0",
          "state": {
            "_model_module": "@jupyter-widgets/base",
            "_model_module_version": "1.2.0",
            "_model_name": "LayoutModel",
            "_view_count": null,
            "_view_module": "@jupyter-widgets/base",
            "_view_module_version": "1.2.0",
            "_view_name": "LayoutView",
            "align_content": null,
            "align_items": null,
            "align_self": null,
            "border": null,
            "bottom": null,
            "display": null,
            "flex": null,
            "flex_flow": null,
            "grid_area": null,
            "grid_auto_columns": null,
            "grid_auto_flow": null,
            "grid_auto_rows": null,
            "grid_column": null,
            "grid_gap": null,
            "grid_row": null,
            "grid_template_areas": null,
            "grid_template_columns": null,
            "grid_template_rows": null,
            "height": null,
            "justify_content": null,
            "justify_items": null,
            "left": null,
            "margin": null,
            "max_height": null,
            "max_width": null,
            "min_height": null,
            "min_width": null,
            "object_fit": null,
            "object_position": null,
            "order": null,
            "overflow": null,
            "overflow_x": null,
            "overflow_y": null,
            "padding": null,
            "right": null,
            "top": null,
            "visibility": null,
            "width": null
          }
        },
        "cdf1821a0ccd44eb80243b6245b48b85": {
          "model_module": "@jupyter-widgets/base",
          "model_name": "LayoutModel",
          "model_module_version": "1.2.0",
          "state": {
            "_model_module": "@jupyter-widgets/base",
            "_model_module_version": "1.2.0",
            "_model_name": "LayoutModel",
            "_view_count": null,
            "_view_module": "@jupyter-widgets/base",
            "_view_module_version": "1.2.0",
            "_view_name": "LayoutView",
            "align_content": null,
            "align_items": null,
            "align_self": null,
            "border": null,
            "bottom": null,
            "display": null,
            "flex": null,
            "flex_flow": null,
            "grid_area": null,
            "grid_auto_columns": null,
            "grid_auto_flow": null,
            "grid_auto_rows": null,
            "grid_column": null,
            "grid_gap": null,
            "grid_row": null,
            "grid_template_areas": null,
            "grid_template_columns": null,
            "grid_template_rows": null,
            "height": null,
            "justify_content": null,
            "justify_items": null,
            "left": null,
            "margin": null,
            "max_height": null,
            "max_width": null,
            "min_height": null,
            "min_width": null,
            "object_fit": null,
            "object_position": null,
            "order": null,
            "overflow": null,
            "overflow_x": null,
            "overflow_y": null,
            "padding": null,
            "right": null,
            "top": null,
            "visibility": null,
            "width": null
          }
        },
        "c28a70adafd241219f52cdb0025927bd": {
          "model_module": "@jupyter-widgets/controls",
          "model_name": "DescriptionStyleModel",
          "model_module_version": "1.5.0",
          "state": {
            "_model_module": "@jupyter-widgets/controls",
            "_model_module_version": "1.5.0",
            "_model_name": "DescriptionStyleModel",
            "_view_count": null,
            "_view_module": "@jupyter-widgets/base",
            "_view_module_version": "1.2.0",
            "_view_name": "StyleView",
            "description_width": ""
          }
        },
        "85e06894c97f4b8680e586fe09a18847": {
          "model_module": "@jupyter-widgets/base",
          "model_name": "LayoutModel",
          "model_module_version": "1.2.0",
          "state": {
            "_model_module": "@jupyter-widgets/base",
            "_model_module_version": "1.2.0",
            "_model_name": "LayoutModel",
            "_view_count": null,
            "_view_module": "@jupyter-widgets/base",
            "_view_module_version": "1.2.0",
            "_view_name": "LayoutView",
            "align_content": null,
            "align_items": null,
            "align_self": null,
            "border": null,
            "bottom": null,
            "display": null,
            "flex": null,
            "flex_flow": null,
            "grid_area": null,
            "grid_auto_columns": null,
            "grid_auto_flow": null,
            "grid_auto_rows": null,
            "grid_column": null,
            "grid_gap": null,
            "grid_row": null,
            "grid_template_areas": null,
            "grid_template_columns": null,
            "grid_template_rows": null,
            "height": null,
            "justify_content": null,
            "justify_items": null,
            "left": null,
            "margin": null,
            "max_height": null,
            "max_width": null,
            "min_height": null,
            "min_width": null,
            "object_fit": null,
            "object_position": null,
            "order": null,
            "overflow": null,
            "overflow_x": null,
            "overflow_y": null,
            "padding": null,
            "right": null,
            "top": null,
            "visibility": null,
            "width": null
          }
        },
        "46147143f6cf418a86b7ba34ac0eb600": {
          "model_module": "@jupyter-widgets/controls",
          "model_name": "ProgressStyleModel",
          "model_module_version": "1.5.0",
          "state": {
            "_model_module": "@jupyter-widgets/controls",
            "_model_module_version": "1.5.0",
            "_model_name": "ProgressStyleModel",
            "_view_count": null,
            "_view_module": "@jupyter-widgets/base",
            "_view_module_version": "1.2.0",
            "_view_name": "StyleView",
            "bar_color": null,
            "description_width": ""
          }
        },
        "c3956ac99ba748b388a402a2a87cac60": {
          "model_module": "@jupyter-widgets/base",
          "model_name": "LayoutModel",
          "model_module_version": "1.2.0",
          "state": {
            "_model_module": "@jupyter-widgets/base",
            "_model_module_version": "1.2.0",
            "_model_name": "LayoutModel",
            "_view_count": null,
            "_view_module": "@jupyter-widgets/base",
            "_view_module_version": "1.2.0",
            "_view_name": "LayoutView",
            "align_content": null,
            "align_items": null,
            "align_self": null,
            "border": null,
            "bottom": null,
            "display": null,
            "flex": null,
            "flex_flow": null,
            "grid_area": null,
            "grid_auto_columns": null,
            "grid_auto_flow": null,
            "grid_auto_rows": null,
            "grid_column": null,
            "grid_gap": null,
            "grid_row": null,
            "grid_template_areas": null,
            "grid_template_columns": null,
            "grid_template_rows": null,
            "height": null,
            "justify_content": null,
            "justify_items": null,
            "left": null,
            "margin": null,
            "max_height": null,
            "max_width": null,
            "min_height": null,
            "min_width": null,
            "object_fit": null,
            "object_position": null,
            "order": null,
            "overflow": null,
            "overflow_x": null,
            "overflow_y": null,
            "padding": null,
            "right": null,
            "top": null,
            "visibility": null,
            "width": null
          }
        },
        "aaad14bb333845bdb30b93d751a1fed1": {
          "model_module": "@jupyter-widgets/controls",
          "model_name": "DescriptionStyleModel",
          "model_module_version": "1.5.0",
          "state": {
            "_model_module": "@jupyter-widgets/controls",
            "_model_module_version": "1.5.0",
            "_model_name": "DescriptionStyleModel",
            "_view_count": null,
            "_view_module": "@jupyter-widgets/base",
            "_view_module_version": "1.2.0",
            "_view_name": "StyleView",
            "description_width": ""
          }
        }
      }
    }
  },
  "nbformat": 4,
  "nbformat_minor": 5
}