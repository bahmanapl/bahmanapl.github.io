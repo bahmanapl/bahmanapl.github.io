{
  "cells": [
    {
      "cell_type": "markdown",
      "source": [
        "---\n",
        "title: \"Writing Stable Diffusion from Scratch 12\"\n",
        "reading-time: \n",
        "date: \"2023-4-6\"\n",
        "categories: [fastaipart2,Stable-Diffusion]\n",
        "---"
      ],
      "metadata": {
        "id": "bvlwoBppol1E"
      },
      "id": "bvlwoBppol1E"
    },
    {
      "cell_type": "markdown",
      "source": [
        "**All** credits goes to fast.ai <br> All mistakes are mine.<br>\n",
        "You should know and practice following after this blog post : <br>\n",
        "1- Way better Learner <br>\n",
        "2- Learner finder "
      ],
      "metadata": {
        "id": "ZWx48iQdosmj"
      },
      "id": "ZWx48iQdosmj"
    },
    {
      "cell_type": "code",
      "source": [
        "!pip install -Uqq git+https://github.com/fastai/course22p2\n"
      ],
      "metadata": {
        "colab": {
          "base_uri": "https://localhost:8080/"
        },
        "id": "3nhTuzT-pDWk",
        "outputId": "80ae2c74-8245-4e9d-ce22-1fc6b5b5b439"
      },
      "id": "3nhTuzT-pDWk",
      "execution_count": 1,
      "outputs": [
        {
          "output_type": "stream",
          "name": "stdout",
          "text": [
            "  Preparing metadata (setup.py) ... \u001b[?25l\u001b[?25hdone\n",
            "\u001b[2K     \u001b[90m━━━━━━━━━━━━━━━━━━━━━━━━━━━━━━━━━━━━━━\u001b[0m \u001b[32m474.6/474.6 kB\u001b[0m \u001b[31m14.9 MB/s\u001b[0m eta \u001b[36m0:00:00\u001b[0m\n",
            "\u001b[2K     \u001b[90m━━━━━━━━━━━━━━━━━━━━━━━━━━━━━━━━━━━━━━\u001b[0m \u001b[32m158.4/158.4 kB\u001b[0m \u001b[31m15.9 MB/s\u001b[0m eta \u001b[36m0:00:00\u001b[0m\n",
            "\u001b[2K     \u001b[90m━━━━━━━━━━━━━━━━━━━━━━━━━━━━━━━━━━━━━━\u001b[0m \u001b[32m934.9/934.9 kB\u001b[0m \u001b[31m48.9 MB/s\u001b[0m eta \u001b[36m0:00:00\u001b[0m\n",
            "\u001b[2K     \u001b[90m━━━━━━━━━━━━━━━━━━━━━━━━━━━━━━━━━━━━━━━━\u001b[0m \u001b[32m42.2/42.2 kB\u001b[0m \u001b[31m3.1 MB/s\u001b[0m eta \u001b[36m0:00:00\u001b[0m\n",
            "\u001b[2K     \u001b[90m━━━━━━━━━━━━━━━━━━━━━━━━━━━━━━━━━━━━━━━━\u001b[0m \u001b[32m2.2/2.2 MB\u001b[0m \u001b[31m61.0 MB/s\u001b[0m eta \u001b[36m0:00:00\u001b[0m\n",
            "\u001b[2K     \u001b[90m━━━━━━━━━━━━━━━━━━━━━━━━━━━━━━━━━━━━━━\u001b[0m \u001b[32m110.5/110.5 kB\u001b[0m \u001b[31m12.0 MB/s\u001b[0m eta \u001b[36m0:00:00\u001b[0m\n",
            "\u001b[2K     \u001b[90m━━━━━━━━━━━━━━━━━━━━━━━━━━━━━━━━━━━━━━\u001b[0m \u001b[32m212.5/212.5 kB\u001b[0m \u001b[31m15.1 MB/s\u001b[0m eta \u001b[36m0:00:00\u001b[0m\n",
            "\u001b[2K     \u001b[90m━━━━━━━━━━━━━━━━━━━━━━━━━━━━━━━━━━━━━━\u001b[0m \u001b[32m134.3/134.3 kB\u001b[0m \u001b[31m13.1 MB/s\u001b[0m eta \u001b[36m0:00:00\u001b[0m\n",
            "\u001b[2K     \u001b[90m━━━━━━━━━━━━━━━━━━━━━━━━━━━━━━━━━━━━━━━━\u001b[0m \u001b[32m1.0/1.0 MB\u001b[0m \u001b[31m44.9 MB/s\u001b[0m eta \u001b[36m0:00:00\u001b[0m\n",
            "\u001b[2K     \u001b[90m━━━━━━━━━━━━━━━━━━━━━━━━━━━━━━━━━━━━━━\u001b[0m \u001b[32m224.5/224.5 kB\u001b[0m \u001b[31m27.6 MB/s\u001b[0m eta \u001b[36m0:00:00\u001b[0m\n",
            "\u001b[2K     \u001b[90m━━━━━━━━━━━━━━━━━━━━━━━━━━━━━━━━━━━━━━━━\u001b[0m \u001b[32m1.3/1.3 MB\u001b[0m \u001b[31m23.5 MB/s\u001b[0m eta \u001b[36m0:00:00\u001b[0m\n",
            "\u001b[2K     \u001b[90m━━━━━━━━━━━━━━━━━━━━━━━━━━━━━━━━━━━━━━━━\u001b[0m \u001b[32m87.9/87.9 kB\u001b[0m \u001b[31m8.0 MB/s\u001b[0m eta \u001b[36m0:00:00\u001b[0m\n",
            "\u001b[2K     \u001b[90m━━━━━━━━━━━━━━━━━━━━━━━━━━━━━━━━━━━━━━\u001b[0m \u001b[32m114.5/114.5 kB\u001b[0m \u001b[31m10.3 MB/s\u001b[0m eta \u001b[36m0:00:00\u001b[0m\n",
            "\u001b[2K     \u001b[90m━━━━━━━━━━━━━━━━━━━━━━━━━━━━━━━━━━━━━━\u001b[0m \u001b[32m268.8/268.8 kB\u001b[0m \u001b[31m25.5 MB/s\u001b[0m eta \u001b[36m0:00:00\u001b[0m\n",
            "\u001b[2K     \u001b[90m━━━━━━━━━━━━━━━━━━━━━━━━━━━━━━━━━━━━━━\u001b[0m \u001b[32m149.6/149.6 kB\u001b[0m \u001b[31m10.0 MB/s\u001b[0m eta \u001b[36m0:00:00\u001b[0m\n",
            "\u001b[?25h  Building wheel for miniai (setup.py) ... \u001b[?25l\u001b[?25hdone\n"
          ]
        }
      ]
    },
    {
      "cell_type": "code",
      "execution_count": 2,
      "id": "7e8f8491",
      "metadata": {
        "id": "7e8f8491"
      },
      "outputs": [],
      "source": [
        "#|export\n",
        "import math,torch,matplotlib.pyplot as plt\n",
        "import fastcore.all as fc\n",
        "from collections.abc import Mapping\n",
        "from operator import attrgetter\n",
        "from functools import partial\n",
        "from copy import copy\n",
        "\n",
        "from torch import optim\n",
        "import torch.nn.functional as F\n",
        "\n",
        "from miniai.conv import *\n",
        "\n",
        "from fastprogress import progress_bar,master_bar"
      ]
    },
    {
      "cell_type": "code",
      "execution_count": 3,
      "id": "b2cfc67c",
      "metadata": {
        "id": "b2cfc67c"
      },
      "outputs": [],
      "source": [
        "import matplotlib as mpl\n",
        "import torchvision.transforms.functional as TF\n",
        "from contextlib import contextmanager\n",
        "from torch import nn,tensor\n",
        "from datasets import load_dataset,load_dataset_builder\n",
        "from miniai.datasets import *\n",
        "from miniai.conv import *\n",
        "import logging\n",
        "from fastcore.test import test_close"
      ]
    },
    {
      "cell_type": "code",
      "execution_count": 4,
      "id": "8c1d7be1",
      "metadata": {
        "id": "8c1d7be1"
      },
      "outputs": [],
      "source": [
        "torch.set_printoptions(precision=2, linewidth=140, sci_mode=False)\n",
        "torch.manual_seed(1)\n",
        "mpl.rcParams['image.cmap'] = 'gray'"
      ]
    },
    {
      "cell_type": "code",
      "execution_count": 5,
      "id": "84a947f2",
      "metadata": {
        "id": "84a947f2"
      },
      "outputs": [],
      "source": [
        "logging.disable(logging.WARNING)"
      ]
    },
    {
      "cell_type": "markdown",
      "id": "8f5eea66",
      "metadata": {
        "id": "8f5eea66"
      },
      "source": [
        "## Learner"
      ]
    },
    {
      "cell_type": "markdown",
      "source": [
        "Hi there, and welcome to lesson 16, where we are working on building our first flexible trading framework, the learner. And I've got some very good news, which is that I have thought of a way of doing it a little bit more gradually and simply actually than last time. So that should that should make things a bit easier. So we're going to take it a bit more step by step. So we're working in the 9 learner notebook today and we've seen already this, this basic callbacks learner And so the idea is that this learner, all right, this is why we saw no, we've seen so far this learner, which wasn't flexible at all, but it had all the basic pieces, which is we've got a fit method. We had coding that we can only calculate accuracy and average loss. We're had coding, we're putting things on a default device, hard coding, a single learning rate. But the basic idea is here we go through each epoch and call one epoch to to train or evaluate depending on this flag, and then we loop through each batch and the dataloader and one batch is going to grab the x and y parts of the batch, call the model, call the loss function. And if we're training, do the backward pass and then print out well, calculate the statistics for our accuracy and then at the end of the epoch, print that out. So it wasn't very flexible, but it did do something. So that's good. \n"
      ],
      "metadata": {
        "id": "c19_0FwTLXmO"
      },
      "id": "c19_0FwTLXmO"
    },
    {
      "cell_type": "code",
      "execution_count": 6,
      "id": "b22868a9",
      "metadata": {
        "id": "b22868a9",
        "outputId": "18ab2acb-cfd2-418b-e79b-10df911db65c",
        "colab": {
          "referenced_widgets": [
            "f09f35ef2d6d4321925a99da4f4641d8",
            "38e5ec61f7224608b33aea487800358f",
            "eb809c2ad35642dd8b21ab6ac50c258e",
            "ef3c9cf575b54b7fb01c6e756cc9ae49",
            "1489ce08d0154076ae84921f04716638",
            "f820c4b22e1a49fea158218c8c5f4e43",
            "1126a2b19d2f412fbe6cf3f6be151d09",
            "69d330e2e05f40b5a552a115e16aab2c",
            "be9ec96c0e554ef9837254b37789b704",
            "59881a28cd7c425182a5868054433a68",
            "fe69975604964d6992f08fd8753b309d",
            "ae3861072be14ae49ef0587a6cd96a55",
            "7dd82d77e6b944018f3edd4a904f0d1d",
            "f99436d0f57142d98289f6f6372e3c70",
            "064deaf44d9641f188ecaca0c79bf11c",
            "8b960b27c34846e99e11e87fdd06a078",
            "241395ecc37d430783ea648991c6fa8b",
            "d8e26b168e644006a12126cea276d3e1",
            "c458f5113a8b417f893624f67d8e5e09",
            "106d56172c594d7598e88ec5f72f0cc9",
            "f1b787be54c5424b864ff38e75a23ae0",
            "98dc4ab2619d4b74a24a578e5f43f750",
            "bdc50727ee214216be18fb7edbad06f0",
            "42dbc3e95cb44adaa7a7739aba2e8e94",
            "a4940377a9594f44867ba117f41a62b3",
            "8eec1115a0b043cd952fd1b9b4bc5901",
            "f4362af725d54d2696a955c25c0199e5",
            "a7366dc4290744fa9c15c0e29f268f1b",
            "5ac0984625ce47afbd16f9c7a02ad0bb",
            "d3551ade64cc4309825bab9cfb6f04be",
            "a67e5b75da83431a821f7585cb3035e8",
            "b4a3676d193e4d48b43a456860dbe578",
            "f12c8c872f754bac99f1dec2fbbcc61d",
            "e7a7cc9074104ceab4ed1ce29d30f611",
            "3e95146a490f4a4aa578abdc8ef207d8",
            "eb8310b62de14ecc97435e6f4262283c",
            "8612a42f429e47c486234d75a3b62fe2",
            "c583d67a34334fe5bf0565cf7cefcef9",
            "e49c831be59f41c3bdb230e40a65b2fe",
            "eefb7060c1d34cb2b7e9293da6128f64",
            "85d1dc65255e40618c32f78b31cc6d63",
            "1f3b149623674671aad1819af04002d0",
            "4218d8b495a747e7a616d987277a289a",
            "b4fffc1e258c4e198b4e384560165104",
            "93f4556c4f4f41bc8e9decfbf883fc84",
            "a083e136569e439ab15bfaf16391821e",
            "ae9a2637fbd84c80a9d6205bd8535cf2",
            "12d07c677cfd4adfbe2dc9ba6a85ba0f",
            "bc35d16b07b247e69b893deedc4cb884",
            "8501cdf5e4854d29a54b644d5564ccdd",
            "2b5239fc324746439cc2729a61267d56",
            "f53087ef05954b27a8828d7ce0809ddf",
            "a40f712c97f844c8b9e34b7446635f0b",
            "247fbc5c3cb84298a25da7b28aea16aa",
            "292e133578234c3d89aeb2186890f6f5",
            "bcfce533ff2c47d8877bd3be47d8a150",
            "57416e2d89d7491ab707ab54c30d940f",
            "20bc8d78e8104610a8a1f08e62cdb2c4",
            "aeca210f40974959a962a51b5ebbdb8e",
            "dc3adcee40ad493b9204de4e95a0151d",
            "ba72616493ca4731abb8fd3eaaee32c2",
            "a91d3d41c47946c99c4cf7e04cb1f98f",
            "7a6729bfae544c8d8940da445dc09879",
            "b8e76c96c20044c398825d471f9e4669",
            "880229ba70d94c09a8a5b6d8953ec829",
            "e8e2ca52cfb1496a84edfdc99bf6ccd0",
            "3a56661b3cd74136a5f732bd8c25117a",
            "8cbcc4df0fae4f23809344bad04b0054",
            "8177b8f36fba44bb9a91979752d8f396",
            "f4d33900e9784676ac4ff5ec10172edb",
            "455eed4a0fd74bfca152fe857c9b0007",
            "3eda731e108e43478ec571e82fdbe9a5",
            "ae77b7195db143298f9b6c083338ff02",
            "5d440287cc8d415d822b4471935ef16a",
            "a1a2605818014991a2516a532d60b926",
            "6b158bdcf2f5480f95d06d9a14dd8c65",
            "0c44843f365248babb6e448e7a0daea3",
            "a3480b4354094611bfcbd4fc7b997aff",
            "0091142c72ac4054a437200f0fd4e0c2",
            "4aa310a4f5744fe69efb694ab2d358bf",
            "94fd889b4b574658ac0ce235fc4d3bf5",
            "d0c0389d171a4490b86c7a4043af9a4b",
            "e35c06f786b44dc08f019986018709e5",
            "d989942e49004e628964530e7deab508",
            "ce602c2475384671b6bf7acb8018277f",
            "5a0677df48b9489e9371125882e4467c",
            "e676e1791f404c24b17de8fe198750cf",
            "da181706300d44d8856cb96ba2e2b886",
            "8925cc48f37d4bc795b559bf070be959",
            "49f17a5a951444e1b1d7b2dbfed387c5",
            "03a39ae19d0144328c40e02745866c3d",
            "94dbd9dcc1b2400cbfd73d4daf59b59c",
            "51d6e576412643dfbb11f158126edde8",
            "25a5df27cd7745f2a4ec0200fcb1a2fc",
            "deb5ba7e49714d86818aa5dcb6b78adb",
            "c16ceda1f79047c3bf55ce7a7d830047",
            "bffa3ceb8cff4df59479fcd9bf208dc2",
            "a4e74c2649244012a8431404038edd7f",
            "5a3c4b0200814deab52e9a0c3c95442d",
            "6e9b5c95b39e4c1baa2502e9b5e63862",
            "b56dc65114cb472ba5220428e246c778",
            "679feacf055f4501b48bdf540fc52349",
            "9fd9f2e422024959b8d0988b59ef0505",
            "39b6b0f0226e462892424bf472cca3e7",
            "114edf46c4014a028bd8cb1ba057004f",
            "fe43c43433e24af993008a85d9923fab",
            "ac6375aafdbf4e6daa3cad8e133ca44a",
            "890e275320b04360a25768ee3ab77d3c",
            "b31f9464d8eb46d1bd18f22e70b52023",
            "4bf490b2ff98407db60078c23b4036c5",
            "bf4c7fd127a54c1ba3e3420dbb08dfdb",
            "1c329915abb94ed68055be4fa33bd640",
            "06a7ffeffd5b4b45a4a6a2df9e883c05",
            "12afc33f1ac44fd4823b273fac3708f8",
            "548599b17d2047358117708bcdc2c554",
            "7f2d959396d1449290553f8c08bbc1e6",
            "a8bfef32978042a2bfbd7b4a8fbc85ab",
            "7429549059b04afaac3f876e291b016b",
            "629eadf4d9cd46ac89c41287f9f60364",
            "89364dada57c43a5ab76cd0e8503df71",
            "5ef66cb9fa264ed5877493c0f74cd7ad",
            "9b9d39a6f5a647f59b4a1f9572c01df3",
            "a45f6d057cd247e3a71bc0a0ddf104e6",
            "a2a0aee9698a48e2b7b0fcd102659052",
            "30310a6a732246a5bf903d1e5d955789",
            "74ad50c36a1f4237a0e72a24e03f317f",
            "d0ac291195dc488d924f54d66a9a6a32",
            "be77ecc9c5fb4900a62d20d201c25825",
            "ef08505a60404e5b86ac4e618dadab90",
            "5280cd15916b4e0c86c119452763ac32",
            "d2e6b5e0055540d686cd67927bc57c8f",
            "d66177a8f16e4763a560ee2cb95f2e5b"
          ],
          "base_uri": "https://localhost:8080/",
          "height": 390
        }
      },
      "outputs": [
        {
          "output_type": "display_data",
          "data": {
            "text/plain": [
              "Downloading builder script:   0%|          | 0.00/4.83k [00:00<?, ?B/s]"
            ],
            "application/vnd.jupyter.widget-view+json": {
              "version_major": 2,
              "version_minor": 0,
              "model_id": "f09f35ef2d6d4321925a99da4f4641d8"
            }
          },
          "metadata": {}
        },
        {
          "output_type": "display_data",
          "data": {
            "text/plain": [
              "Downloading metadata:   0%|          | 0.00/3.13k [00:00<?, ?B/s]"
            ],
            "application/vnd.jupyter.widget-view+json": {
              "version_major": 2,
              "version_minor": 0,
              "model_id": "ae3861072be14ae49ef0587a6cd96a55"
            }
          },
          "metadata": {}
        },
        {
          "output_type": "display_data",
          "data": {
            "text/plain": [
              "Downloading readme:   0%|          | 0.00/8.85k [00:00<?, ?B/s]"
            ],
            "application/vnd.jupyter.widget-view+json": {
              "version_major": 2,
              "version_minor": 0,
              "model_id": "bdc50727ee214216be18fb7edbad06f0"
            }
          },
          "metadata": {}
        },
        {
          "output_type": "stream",
          "name": "stdout",
          "text": [
            "Downloading and preparing dataset fashion_mnist/fashion_mnist to /root/.cache/huggingface/datasets/fashion_mnist/fashion_mnist/1.0.0/0a671f063342996f19779d38c0ab4abef9c64f757b35af8134b331c294d7ba48...\n"
          ]
        },
        {
          "output_type": "display_data",
          "data": {
            "text/plain": [
              "Downloading data files:   0%|          | 0/4 [00:00<?, ?it/s]"
            ],
            "application/vnd.jupyter.widget-view+json": {
              "version_major": 2,
              "version_minor": 0,
              "model_id": "e7a7cc9074104ceab4ed1ce29d30f611"
            }
          },
          "metadata": {}
        },
        {
          "output_type": "display_data",
          "data": {
            "text/plain": [
              "Downloading data:   0%|          | 0.00/26.4M [00:00<?, ?B/s]"
            ],
            "application/vnd.jupyter.widget-view+json": {
              "version_major": 2,
              "version_minor": 0,
              "model_id": "93f4556c4f4f41bc8e9decfbf883fc84"
            }
          },
          "metadata": {}
        },
        {
          "output_type": "display_data",
          "data": {
            "text/plain": [
              "Downloading data:   0%|          | 0.00/29.5k [00:00<?, ?B/s]"
            ],
            "application/vnd.jupyter.widget-view+json": {
              "version_major": 2,
              "version_minor": 0,
              "model_id": "bcfce533ff2c47d8877bd3be47d8a150"
            }
          },
          "metadata": {}
        },
        {
          "output_type": "display_data",
          "data": {
            "text/plain": [
              "Downloading data:   0%|          | 0.00/4.42M [00:00<?, ?B/s]"
            ],
            "application/vnd.jupyter.widget-view+json": {
              "version_major": 2,
              "version_minor": 0,
              "model_id": "3a56661b3cd74136a5f732bd8c25117a"
            }
          },
          "metadata": {}
        },
        {
          "output_type": "display_data",
          "data": {
            "text/plain": [
              "Downloading data:   0%|          | 0.00/5.15k [00:00<?, ?B/s]"
            ],
            "application/vnd.jupyter.widget-view+json": {
              "version_major": 2,
              "version_minor": 0,
              "model_id": "a3480b4354094611bfcbd4fc7b997aff"
            }
          },
          "metadata": {}
        },
        {
          "output_type": "display_data",
          "data": {
            "text/plain": [
              "Extracting data files:   0%|          | 0/4 [00:00<?, ?it/s]"
            ],
            "application/vnd.jupyter.widget-view+json": {
              "version_major": 2,
              "version_minor": 0,
              "model_id": "8925cc48f37d4bc795b559bf070be959"
            }
          },
          "metadata": {}
        },
        {
          "output_type": "display_data",
          "data": {
            "text/plain": [
              "Generating train split:   0%|          | 0/60000 [00:00<?, ? examples/s]"
            ],
            "application/vnd.jupyter.widget-view+json": {
              "version_major": 2,
              "version_minor": 0,
              "model_id": "6e9b5c95b39e4c1baa2502e9b5e63862"
            }
          },
          "metadata": {}
        },
        {
          "output_type": "display_data",
          "data": {
            "text/plain": [
              "Generating test split:   0%|          | 0/10000 [00:00<?, ? examples/s]"
            ],
            "application/vnd.jupyter.widget-view+json": {
              "version_major": 2,
              "version_minor": 0,
              "model_id": "bf4c7fd127a54c1ba3e3420dbb08dfdb"
            }
          },
          "metadata": {}
        },
        {
          "output_type": "stream",
          "name": "stdout",
          "text": [
            "Dataset fashion_mnist downloaded and prepared to /root/.cache/huggingface/datasets/fashion_mnist/fashion_mnist/1.0.0/0a671f063342996f19779d38c0ab4abef9c64f757b35af8134b331c294d7ba48. Subsequent calls will reuse this data.\n"
          ]
        },
        {
          "output_type": "display_data",
          "data": {
            "text/plain": [
              "  0%|          | 0/2 [00:00<?, ?it/s]"
            ],
            "application/vnd.jupyter.widget-view+json": {
              "version_major": 2,
              "version_minor": 0,
              "model_id": "9b9d39a6f5a647f59b4a1f9572c01df3"
            }
          },
          "metadata": {}
        }
      ],
      "source": [
        "x,y = 'image','label'\n",
        "name = \"fashion_mnist\"\n",
        "dsd = load_dataset(name)"
      ]
    },
    {
      "cell_type": "code",
      "execution_count": 7,
      "id": "1ad7ecde",
      "metadata": {
        "id": "1ad7ecde"
      },
      "outputs": [],
      "source": [
        "@inplace\n",
        "def transformi(b): b[x] = [torch.flatten(TF.to_tensor(o)) for o in b[x]]"
      ]
    },
    {
      "cell_type": "code",
      "execution_count": 8,
      "id": "ad4d2ec0",
      "metadata": {
        "id": "ad4d2ec0"
      },
      "outputs": [],
      "source": [
        "bs = 1024\n",
        "tds = dsd.with_transform(transformi)"
      ]
    },
    {
      "cell_type": "code",
      "execution_count": 9,
      "id": "9cb11029",
      "metadata": {
        "id": "9cb11029",
        "outputId": "bdeb10a1-50ca-4b53-ee01-da8d2b600ec5",
        "colab": {
          "base_uri": "https://localhost:8080/"
        }
      },
      "outputs": [
        {
          "output_type": "stream",
          "name": "stderr",
          "text": [
            "/usr/local/lib/python3.10/dist-packages/torch/utils/data/dataloader.py:560: UserWarning: This DataLoader will create 4 worker processes in total. Our suggested max number of worker in current system is 2, which is smaller than what this DataLoader is going to create. Please be aware that excessive worker creation might get DataLoader running slow or even freeze, lower the worker number to avoid potential slowness/freeze if necessary.\n",
            "  warnings.warn(_create_warning_msg(\n"
          ]
        },
        {
          "output_type": "execute_result",
          "data": {
            "text/plain": [
              "(torch.Size([1024, 784]), tensor([5, 4, 9, 4, 3, 0, 6, 5, 7, 6]))"
            ]
          },
          "metadata": {},
          "execution_count": 9
        }
      ],
      "source": [
        "dls = DataLoaders.from_dd(tds, bs, num_workers=4)\n",
        "dt = dls.train\n",
        "xb,yb = next(iter(dt))\n",
        "xb.shape,yb[:10]"
      ]
    },
    {
      "cell_type": "markdown",
      "source": [
        " So what we're going to do now is we're going to do as an intermediate step, we're going to look at a but I'm calling a basic callback, learner, And it actually has nearly all the functionality of the full thing, the way we're going to after we look at this basic callback learner, we're then going to after creating some callbacks and metrics, we're going to look at something called the Flexible learner So let's go step by step. So the basic callbacks,learner looks very similar to the previous. learner It, it's got a fit function which is going to go through each epoch calling one epoch with training on and then training off, and then one epoch. We'll go through each batch and call one batch and one batch will call the model the loss function. And if we're training, it will do the backward step. So that's all pretty similar. But there's a few more things going on here. For example, if we have a look at fit, you'll see that after creating the optimizer, so called self.opt_func. So opt func here defaults to SGD. So we instantiate an object passing in our models parameters and the requested learning rate. And then before we start looping through one epoch at a time. Now we've set epochs here. We first of all call self.callback and passing in before fit. Now what does that do? Self.callback is here and it takes a method name. So in this case it's before fit and it calls a function called run callbacks. It passes in a list of our callbacks and the method name in this case before fit. So Run callbacks is something that's going to go for each callback and it's going to sort them in order of their order attribute. And so there's a base class of callbacks which has an order of zero. So our callbacks are all going to have the same order of zero in which you ask otherwise. So here's an example of a callback. So before we look at how callbacks work, let's just let's just run a callback so we can create a ridiculously simple callback code completion callback, which before we start fitting a new model it will set its count attribute to zero , after each batch it will increment that after completing fitting process, it will print out how many batches we've done. So before we even train the model, we could just run manually before fit ,after_batch and ,after_fit using this run_cbs. And you can see it's ended up saying completed one batches. So what did that do? So it went through each of the cbs. In this list there's only one. So it's going to look at the one CB and it's going to try to use getattr to find an attribute with this name, which is before_fit. So if we try that manually. So this is the kind of thing I want you to do if you find anything difficult to understand is do it all manually. So create a callback, set it cbs zero, just like you're doing in a loop, right? And then find out what happens if we call this and pass in this and you'll say it's returned a method. And then what happens to that method? It gets called. So let's try calling it there. Yeah. So that's what happened when we call the before_fit, which doesn't do anything very interesting. But if we then call after_batch and then we call after_fit, there it is. Right. So yeah, make sure you don't just run code willy nilly, but understand it by experimenting with it. And I don't always experiment with it myself in these classes. Often I'm leaving that to you, but sometimes I'm trying to give you a sense of how I would experiment with code if I was learning it. So then having done that, I would then go ahead and delete those cells. But you can say I'm using this interactive notebook environment to to explore and learn and understand. And so now we've got and if I haven't created a simple example of something to make it really easy to understand, you should do that right? Then just use what I've already created or what somebody else has already created. So we've now got something that works totally independently. We can see how it works. This is what a callback does. So a callback is something which we'll look at a class, a callback as a class where you can define one or more of before, after fit, before, after batch, and before after epoch. So it's going to go through and run all the callbacks that have a before fit method before we start fitting. Then it'll go through each epoch and call one epoch with training and one epoch with evaluation. And then when that's all done, it will call after it callbacks and one epoch well before it starts on enumerating through the batches. It will call before epoch, and when it's done, it will call after_epoch. The other thing you'll notice is that there's a try, except immediately before every before method and immediately after every after method there's a try and there's an except and each one has a different thing to look for. Cancel fit exception, cancel a epoch exception and cancel that exception. So here's the bit which goes through each batch calls before batch processes, the batch calls after batch, and if there's an exception that says type cancel batch exception, it gets ignored. So what's that for? So the reason we have this is that any of our callbacks code call could raise any one of these three exceptions to say, I don't want to do this batch, please. So maybe I'll look an example of that in a moment so we can now train with this. So let's call create a little get model function that creates a sequential model with just some linear layers. And then we'll probably didn't run all those and then we'll call fit. And it's not telling us anything interesting because the only callback we added was the completion callback. That's fine. It's, it's training, it's doing something and we now have a train model, just didn't print out any metrics. And I think that we don't have any callbacks for that. But that's the basic idea. So we could create a maybe we could call it a single batch callback, which after batch, after a single batch, it raises a cancel fit the exception. So that's a pretty I mean, I suppose that could be kind of useful actually, if you want to just run one batch tomorrow to make sure it works. So we could try that. Yeah. So now we're going to add to our list of callbacks. The single batch callback. Let's try it. And in fact, you know, we probably want this. Let's just have a think here. Oh, that's fine. \n"
      ],
      "metadata": {
        "id": "k4GNTrOmL1XI"
      },
      "id": "k4GNTrOmL1XI"
    },
    {
      "cell_type": "code",
      "execution_count": 10,
      "id": "d733c9b0",
      "metadata": {
        "id": "d733c9b0"
      },
      "outputs": [],
      "source": [
        "class Learner:\n",
        "    def __init__(self, model, dls, loss_func, lr, opt_func=optim.SGD): fc.store_attr()\n",
        "\n",
        "    def one_batch(self):\n",
        "        self.xb,self.yb = to_device(self.batch)\n",
        "        self.preds = self.model(self.xb)\n",
        "        self.loss = self.loss_func(self.preds, self.yb)\n",
        "        if self.model.training:\n",
        "            self.loss.backward()\n",
        "            self.opt.step()\n",
        "            self.opt.zero_grad()\n",
        "        with torch.no_grad(): self.calc_stats()\n",
        "\n",
        "    def calc_stats(self):\n",
        "        acc = (self.preds.argmax(dim=1)==self.yb).float().sum()\n",
        "        self.accs.append(acc)\n",
        "        n = len(self.xb)\n",
        "        self.losses.append(self.loss*n)\n",
        "        self.ns.append(n)\n",
        "\n",
        "    def one_epoch(self, train):\n",
        "        self.model.training = train\n",
        "        dl = self.dls.train if train else self.dls.valid\n",
        "        for self.num,self.batch in enumerate(dl): self.one_batch()\n",
        "        n = sum(self.ns)\n",
        "        print(self.epoch, self.model.training, sum(self.losses).item()/n, sum(self.accs).item()/n)\n",
        "    \n",
        "    def fit(self, n_epochs):\n",
        "        self.accs,self.losses,self.ns = [],[],[]\n",
        "        self.model.to(def_device)\n",
        "        self.opt = self.opt_func(self.model.parameters(), self.lr)\n",
        "        self.n_epochs = n_epochs\n",
        "        for self.epoch in range(n_epochs):\n",
        "            self.one_epoch(True)\n",
        "            with torch.no_grad(): self.one_epoch(False)"
      ]
    },
    {
      "cell_type": "code",
      "execution_count": 11,
      "id": "8edf58ea",
      "metadata": {
        "id": "8edf58ea"
      },
      "outputs": [],
      "source": [
        "m,nh = 28*28,50\n",
        "model = nn.Sequential(nn.Linear(m,nh), nn.ReLU(), nn.Linear(nh,10))"
      ]
    },
    {
      "cell_type": "code",
      "execution_count": 12,
      "id": "be2af2a1",
      "metadata": {
        "id": "be2af2a1",
        "outputId": "7669bc2c-5e93-4af0-f2b3-0293ed439d4b",
        "colab": {
          "base_uri": "https://localhost:8080/"
        }
      },
      "outputs": [
        {
          "output_type": "stream",
          "name": "stdout",
          "text": [
            "0 True 1.17530390625 0.5987\n",
            "0 False 1.1203112723214286 0.6135857142857143\n"
          ]
        }
      ],
      "source": [
        "learn = Learner(model, dls, F.cross_entropy, lr=0.2)\n",
        "learn.fit(1)"
      ]
    },
    {
      "cell_type": "markdown",
      "id": "82718c6d",
      "metadata": {
        "id": "82718c6d"
      },
      "source": [
        "## Basic Callbacks Learner"
      ]
    },
    {
      "cell_type": "code",
      "execution_count": 13,
      "id": "534c00e6",
      "metadata": {
        "id": "534c00e6"
      },
      "outputs": [],
      "source": [
        "#|export\n",
        "class CancelFitException(Exception): pass\n",
        "class CancelBatchException(Exception): pass\n",
        "class CancelEpochException(Exception): pass"
      ]
    },
    {
      "cell_type": "code",
      "execution_count": 14,
      "id": "ee43512e",
      "metadata": {
        "id": "ee43512e"
      },
      "outputs": [],
      "source": [
        "#|export\n",
        "class Callback(): order = 0"
      ]
    },
    {
      "cell_type": "code",
      "execution_count": 15,
      "id": "7439ca0b",
      "metadata": {
        "id": "7439ca0b"
      },
      "outputs": [],
      "source": [
        "#|export\n",
        "def run_cbs(cbs, method_nm, learn=None):\n",
        "    for cb in sorted(cbs, key=attrgetter('order')):\n",
        "        method = getattr(cb, method_nm, None)\n",
        "        if method is not None: method(learn)"
      ]
    },
    {
      "cell_type": "code",
      "execution_count": 16,
      "id": "583ce114",
      "metadata": {
        "id": "583ce114"
      },
      "outputs": [],
      "source": [
        "class CompletionCB(Callback):\n",
        "    def before_fit(self, learn): self.count = 0\n",
        "    def after_batch(self, learn): self.count += 1\n",
        "    def after_fit(self, learn): print(f'Completed {self.count} batches')"
      ]
    },
    {
      "cell_type": "code",
      "execution_count": 17,
      "id": "c2b41ea4",
      "metadata": {
        "id": "c2b41ea4",
        "outputId": "0ac2579e-c6ae-4c45-ce68-8e392ecaa66b",
        "colab": {
          "base_uri": "https://localhost:8080/"
        }
      },
      "outputs": [
        {
          "output_type": "stream",
          "name": "stdout",
          "text": [
            "Completed 1 batches\n"
          ]
        }
      ],
      "source": [
        "cbs = [CompletionCB()]\n",
        "run_cbs(cbs, 'before_fit')\n",
        "run_cbs(cbs, 'after_batch')\n",
        "run_cbs(cbs, 'after_fit')"
      ]
    },
    {
      "cell_type": "code",
      "execution_count": 18,
      "id": "01de6ea0",
      "metadata": {
        "id": "01de6ea0"
      },
      "outputs": [],
      "source": [
        "class Learner():\n",
        "    def __init__(self, model, dls, loss_func, lr, cbs, opt_func=optim.SGD): fc.store_attr()\n",
        "\n",
        "    def one_batch(self):\n",
        "        self.preds = self.model(self.batch[0])\n",
        "        self.loss = self.loss_func(self.preds, self.batch[1])\n",
        "        if self.model.training:\n",
        "            self.loss.backward()\n",
        "            self.opt.step()\n",
        "            self.opt.zero_grad()\n",
        "\n",
        "    def one_epoch(self, train):\n",
        "        self.model.train(train)\n",
        "        self.dl = self.dls.train if train else self.dls.valid\n",
        "        try:\n",
        "            self.callback('before_epoch')\n",
        "            for self.iter,self.batch in enumerate(self.dl):\n",
        "                try:\n",
        "                    self.callback('before_batch')\n",
        "                    self.one_batch()\n",
        "                    self.callback('after_batch')\n",
        "                except CancelBatchException: pass\n",
        "            self.callback('after_epoch')\n",
        "        except CancelEpochException: pass\n",
        "    \n",
        "    def fit(self, n_epochs):\n",
        "        self.n_epochs = n_epochs\n",
        "        self.epochs = range(n_epochs)\n",
        "        self.opt = self.opt_func(self.model.parameters(), self.lr)\n",
        "        try:\n",
        "            self.callback('before_fit')\n",
        "            for self.epoch in self.epochs:\n",
        "                self.one_epoch(True)\n",
        "                self.one_epoch(False)\n",
        "            self.callback('after_fit')\n",
        "        except CancelFitException: pass\n",
        "\n",
        "    def callback(self, method_nm): run_cbs(self.cbs, method_nm, self)"
      ]
    },
    {
      "cell_type": "code",
      "execution_count": 19,
      "id": "38009cbf",
      "metadata": {
        "id": "38009cbf"
      },
      "outputs": [],
      "source": [
        "m,nh = 28*28,50\n",
        "def get_model(): return nn.Sequential(nn.Linear(m,nh), nn.ReLU(), nn.Linear(nh,10))"
      ]
    },
    {
      "cell_type": "code",
      "execution_count": 20,
      "id": "7559838f",
      "metadata": {
        "id": "7559838f",
        "outputId": "a3845392-4ff2-47d4-a59f-8fec503906f5",
        "colab": {
          "base_uri": "https://localhost:8080/"
        }
      },
      "outputs": [
        {
          "output_type": "stream",
          "name": "stdout",
          "text": [
            "Completed 64 batches\n"
          ]
        }
      ],
      "source": [
        "model = get_model()\n",
        "learn = Learner(model, dls, F.cross_entropy, lr=0.2, cbs=[CompletionCB()])\n",
        "learn.fit(1)"
      ]
    },
    {
      "cell_type": "code",
      "execution_count": 21,
      "id": "e5c14d8e",
      "metadata": {
        "id": "e5c14d8e"
      },
      "outputs": [],
      "source": [
        "#| export\n",
        "class SingleBatchCB(Callback):\n",
        "    order = 1\n",
        "    def after_batch(self, learn): raise CancelFitException()"
      ]
    },
    {
      "cell_type": "code",
      "execution_count": 22,
      "id": "29310ca2",
      "metadata": {
        "id": "29310ca2"
      },
      "outputs": [],
      "source": [
        "learn = Learner(get_model(), dls, F.cross_entropy, lr=0.2, cbs=[SingleBatchCB(), CompletionCB()])\n",
        "learn.fit(1)"
      ]
    },
    {
      "cell_type": "markdown",
      "source": [
        "Let's run it. There we go. So it ran and nothing happened. And the reason Nothing happened is because this canceled before this ran so we could make this run second, by setting its order to be higher. And we could say just order equals one because the default order is zero. And we saw in order of the order attribute, it didn't work either. What did I do wrong that cancels fit? Oh, that's interesting. It's the after_fit here. Yes, actually, let's just cancel a epock exception. Yeah, we go that way to run the final fit. Yeah. Yeah. So it did one batch for the  the training and one batch for the evaluation. So it's a total of two batches. So remember, callbacks are not a special magic part of like the Python language or anything. It's just a name we use to refer to these functions or classes or quotables. More accurately, that we that we pass into something that will then call back to that callable at particular times. And I think these are kind of interesting kinds of callbacks because these callbacks have multiple methods in them. So as each method of callback is each class with all those methods of callback, I don't know. I tend to think of the class with all the methods in as a single callback. I'm not sure if we have great nomenclature for this. All right. So let's actually try to get this doing something more interesting by not modifying the learner at all, but just by adding callbacks because that's the great hope of callbacks. Right? \n",
        "\n",
        "So it would be very nice if it told us the accuracy and the loss. So to do that, it would be great to have a class that can keep track of a metric. So I've created here a metric class, and maybe before we look at it, we'll see how it works. You could create, for example, an accuracy metric by defining the calculation necessary to calculate the accuracy metric, which is the mean of how often the inputs equal the targets. And the idea is you could then create an accuracy metric object. You could add a batch of inputs and targets and add another batch of inputs and targets and get the value. And then you would get the point four or five accuracy or another way you could do it would be just to create a metric which simply text gets the weighted average, for example, of your loss. So you could add point six as the loss with a batch size of 32.9 as a loss and a batch size of two. And then that's going to give us a weighted average loss of 0.62, which is equal to this weighted average calculation. So that's like one way we could kind of make it easy to calculate metrics. So here's the class. Basically, we're going to keep track of all of the actual values that we're averaging and the number in each many batch. And so when you add a mini batch, we call calculate which, for example, for accuracy, remember, this is going to override the parent classes, calculate that does the calculation here, and then we'll add that to our list of values. We will add to our list of batch sizes. The current batch size. And then when you calculate the value, we will calculate the weighted sum. That's right. The weighted mean ,weighted average. Now notice that here value, I didn't have to put parentheses after it, and that's because it's a property. I think we've seen this before. So just to remind you, property just means you don't have to put parentheses after it to get it to get the calculation to happen. All right. So just let me know if anybody's got any questions up to here. Of course. So we now need some way to use this metric in a callback to actually print out first thing I'm going to do, though, is going to create one more one useful metric first, "
      ],
      "metadata": {
        "id": "XkaWAufWPi2z"
      },
      "id": "XkaWAufWPi2z"
    },
    {
      "cell_type": "markdown",
      "id": "559c0986",
      "metadata": {
        "id": "559c0986"
      },
      "source": [
        "## Metrics"
      ]
    },
    {
      "cell_type": "code",
      "execution_count": 23,
      "id": "f810c642",
      "metadata": {
        "id": "f810c642"
      },
      "outputs": [],
      "source": [
        "class Metric:\n",
        "    def __init__(self): self.reset()\n",
        "    def reset(self): self.vals,self.ns = [],[]\n",
        "    def add(self, inp, targ=None, n=1):\n",
        "        self.last = self.calc(inp, targ)\n",
        "        self.vals.append(self.last)\n",
        "        self.ns.append(n)\n",
        "    @property\n",
        "    def value(self):\n",
        "        ns = tensor(self.ns)\n",
        "        return (tensor(self.vals)*ns).sum()/ns.sum()\n",
        "    def calc(self, inps, targs): return inps"
      ]
    },
    {
      "cell_type": "code",
      "execution_count": 24,
      "id": "092dd298",
      "metadata": {
        "id": "092dd298"
      },
      "outputs": [],
      "source": [
        "class Accuracy(Metric):\n",
        "    def calc(self, inps, targs): return (inps==targs).float().mean()"
      ]
    },
    {
      "cell_type": "code",
      "execution_count": 25,
      "id": "87752b24",
      "metadata": {
        "id": "87752b24",
        "outputId": "b34c7eb8-c7bd-47a5-81a6-c6e8b6605900",
        "colab": {
          "base_uri": "https://localhost:8080/"
        }
      },
      "outputs": [
        {
          "output_type": "execute_result",
          "data": {
            "text/plain": [
              "tensor(0.45)"
            ]
          },
          "metadata": {},
          "execution_count": 25
        }
      ],
      "source": [
        "acc = Accuracy()\n",
        "acc.add(tensor([0, 1, 2, 0, 1, 2]), tensor([0, 1, 1, 2, 1, 0]))\n",
        "acc.add(tensor([1, 1, 2, 0, 1]), tensor([0, 1, 1, 2, 1]))\n",
        "acc.value"
      ]
    },
    {
      "cell_type": "code",
      "execution_count": 26,
      "id": "4cdf18e8",
      "metadata": {
        "id": "4cdf18e8",
        "outputId": "631f2b0f-32f7-48c4-bd2e-df0ddffbe5fa",
        "colab": {
          "base_uri": "https://localhost:8080/"
        }
      },
      "outputs": [
        {
          "output_type": "execute_result",
          "data": {
            "text/plain": [
              "(tensor(0.62), 0.62)"
            ]
          },
          "metadata": {},
          "execution_count": 26
        }
      ],
      "source": [
        "loss = Metric()\n",
        "loss.add(0.6, n=32)\n",
        "loss.add(0.9, n=2)\n",
        "loss.value, round((0.6*32+0.9*2)/(32+2), 2)"
      ]
    },
    {
      "cell_type": "markdown",
      "id": "1ca935dc",
      "metadata": {
        "id": "1ca935dc"
      },
      "source": [
        "## Some callbacks"
      ]
    },
    {
      "cell_type": "markdown",
      "source": [
        "so now let's do our metrics. Now, of course we couldn't use metrics until we built them by hand. The good news is we don't have to write every single metric now by hand because they already exist in a fairly new project called torcheval, which is an official PyTorch project. And so torcheval is something that gives us actually I came across it after I tried it biometric class, but it actually looks pretty similar to the one that I built earlier. So you can install it with PIP. I'm not sure if it's on Conda yet, but it probably will be soon. By the time you see the video, I think it's pure python anyway, so it doesn't matter how you install it. And yeah, it has a pretty similar, pretty similar approach where you call dot update any call dot compute. So the slightly different names, but they're basically super similar to the thing that we just built. But there's a nice good list of metrics to pick from. So because we've already built our own, now that means we're allowed to use this so we can import the multiclass accuracy metric. And the mean metric. And just to show you, they look very, very similar. If we call multiclass accuracy and we can pass in a mini batch of inputs and targets and compute. And that all works nicely now.In fact, it's exactly the same as what I wrote. We both added this thing called Reset, which basically, well, resets it and so obviously we're going to be wanting to do that properly at the start of each epoch. And so if you reset it and then try to compute, you'll get Nan because you can't get accuracy accuracy's meaningless when you don't have any data yet. Okay, So let's create a metrics callback so we can print out our metrics. I've got some ideas to improve this, which maybe I'll do this week, but here's a basic working version slightly hacky, but it's not too bad. So generally speaking, one thing I noticed actually is I don't know if this is considered a bug, but a lot of the metrics didn't seem to work correctly and torcheval When I had tensors that were on the paper and had requires grad, so I created a little to_cpu function, which I think is very useful, and that's just going to detach the So Detach takes the tensor and removes all the gradient history, the computation history used to calculate a gradient and puts it on the CPU. Better do the same for dictionaries of tenses, lists of tenses and tuples of tenses. So our metrics callback basically here's how we're going to use it. So let's run it. So here we are creating a metrics callback object and saying we want to create a metric called accuracy. That's what's going to print out. And this is the metric that object we're going to use to calculate accuracy. And so then we just passed that in as one of our callbacks. \n",
        "\n",
        "And so you can see what it's going to do is it's going to print out the epoch number, whether it's training or evaluating. So training set or validation set, and it'll print out our metrics and our current status. Actually, we can simplify that. We don't need to print those bits because it's all in the dictionary. Now let's do that. Yeah, okay. So let's take a look at how this works. \n",
        "\n",
        "So we are going to be creating for the callback. We're going to be passing in the names and object metric objects for the metrics to track and print. So here it is. Here **metric. So since start, stop before and as a little shortcut, I decided that it might be nice if you didn't want to write accuracy equals you could just remove that and run it. And if you do that then it will give it a name and address. Use the same name as the class. And so that's why you can either pass in *ms will be a tuple. Well, I mean, it's going to be pulled out, so it's just passing a list of positional arguments. It should be turned into a tuple or you can pass in name arguments, sort of be turned into a dictionary. If you pass in positional arguments, then I'm going to turn them into named arguments in the dictionary by just grabbing the name from their type. So that's where this comes from. That's all that's going on here. Just a little shortcut, bit of convenience. I was told that, okay. And this is yeah, this is a bit I think I can simplify a little bit, but I'm just adding manually an additional metric, which is I'm going to call the loss, and that's just going to be , the weighted average of the losses. So before we start fitting, we we're going to actually tell the learner that we are the metrics callback. And so you'll see later where we're going to actually use this before each epoch. We will reset all of our metrics. After each epoch, we will create a dictionary of the keys and values, which are the actual strings that we want to print out and we will call log, which for now we're just print them. And then after each batch, this is the key thing. We're going to actually grab the input and target. We're going to put them on the CPU and then we're going to go through each of our metrics and call that update. So remember the update in the metric is the thing that actually says, here's a batch of data, right? So we're passing in the batch of data, which is the predictions and the targets, and then we do the same thing for our special loss metric passing in the actual loss and the size of any batch. And so that's how we're able to get this. Yeah, this actual running on the NVIDIA here and showing our metrics and obviously there's lots of room to improve how this is displayed. But all the information we needed here and it's just a case of changing that function. Okay. So that's our kind of like intermediate complexity learner. We can make it more sophisticated, but it's still exactly so it's still going to fit in a single screen of so this is kind of my goal here was to keep everything in a single screen of code. This first bit is exactly the same as before, but you'll see that the one epoch can fit and batch has gone from, let's say, about what it was before. It's gone from quite a lot of code, all this to much less code. And the trick to doing that is I decided to use a \n",
        "\n",
        "context manager. We're going to learn more about context managers in the next notebook. But basically originally last week I was saying, I'm going to do this as a decorator, but I realized a context managers better. Basically what we're going to do is we're going to call our before and after callbacks in a try, except BLOCK And to say that we want to use the callbacks in the try and except  BLOCK we're going to use a with statement. So in Python, a statement says everything in that block, call our context manager before and after it. Now, there's a few ways to do that, but one really easy one is using this context manager, decorator and everything up and to the up tool. The yield statement is called before your code where it says yield it, then calls your code and then everything after the yield is called after your code. So in this case it's going to be try self dot, callback before name where name is fit and then it will call for self dot, epoch, etc. because that's where the yield is and then it'll call self-talk callback after fit. Except okay. And now we need to grab the cancel fit exception. So all of the variables that you have in Python all live inside a special dictionary called globals. So this dictionary contains all of your variables, so I can just look up in that dictionary. The variable called cancel Fit with a capital F exception. So this is except cancel fit exception. So this is exactly the same then as this code. Except the nice thing is now I only have to write it once rather than at least three times. Now I'm really going to want more of them. So, you know, I tend to think it's worth yeah, \n",
        "\n",
        "I tend to think it's worth refactoring a code When you have duplicate code, particularly here, we had the same code three times, so that's going to be more of a maintenance headache. We probably don't want to add callbacks to more things later. So by putting it into a context manager just once, I think we're going to reduce our maintenance burden by redo, because I've had a similar thing in Fastai for some years now and it's been quite convenient. So that's what this context managers about. Yeah, don't think that the code is exactly the same. So we create our optimizer and then with our callback context Manager for fit go through each epoch one epoch set it to training or non-trading mode based on the argument we pass in perhaps a training or validation set based on the argument we in. And then using the context manager for epoch go through each batch in the dataloader and then for each batch in the data loader using the batch context. \n",
        "\n",
        "Now this is where something gets quite interesting. We call predict get lost and if we're training backward step and zero grad but previously we actually called self dot model etc. self dot lost function, etc. Williams saying that the notebooks in the repos a bit behind that you pulled it before class because I committed just before class it it's always worth pulling when class starts. So we go through each batch and code before batch do the batch. That's our slow version. Right? What are we doing? Oh, yes. I'm going to be over here. Okay. I'm back where we are. Yes. So previously we were calling. Yeah, calling, calling. The model, calling the lost function, calling , backward, up, step up to zero grad. But now we are calling instead. Self-Talk predicts, self dot get lost, self dot backward. And how on earth is that working? Because they are not defined here at all. And so the reason I've decided to do this is it gives us a lot of flexibility."
      ],
      "metadata": {
        "id": "KhAngXCmSJ7H"
      },
      "id": "KhAngXCmSJ7H"
    },
    {
      "cell_type": "markdown",
      "id": "e16df8dd",
      "metadata": {
        "id": "e16df8dd"
      },
      "source": [
        "```\n",
        "pip install torcheval\n",
        "```"
      ]
    },
    {
      "cell_type": "code",
      "execution_count": 27,
      "id": "e67c006c",
      "metadata": {
        "id": "e67c006c"
      },
      "outputs": [],
      "source": [
        "#|export\n",
        "from torcheval.metrics import MulticlassAccuracy,Mean"
      ]
    },
    {
      "cell_type": "code",
      "execution_count": 28,
      "id": "ee473e22",
      "metadata": {
        "id": "ee473e22",
        "outputId": "e3ed8133-9ed2-43c2-e8c1-eb8987b8bd17",
        "colab": {
          "base_uri": "https://localhost:8080/"
        }
      },
      "outputs": [
        {
          "output_type": "execute_result",
          "data": {
            "text/plain": [
              "tensor(0.50)"
            ]
          },
          "metadata": {},
          "execution_count": 28
        }
      ],
      "source": [
        "metric = MulticlassAccuracy()\n",
        "metric.update(tensor([0, 2, 1, 3]), tensor([0, 1, 2, 3]))\n",
        "metric.compute()"
      ]
    },
    {
      "cell_type": "code",
      "execution_count": 29,
      "id": "0c531ca0",
      "metadata": {
        "id": "0c531ca0",
        "outputId": "31cced46-98d1-47ef-82f1-c54726a883f5",
        "colab": {
          "base_uri": "https://localhost:8080/"
        }
      },
      "outputs": [
        {
          "output_type": "execute_result",
          "data": {
            "text/plain": [
              "tensor(nan)"
            ]
          },
          "metadata": {},
          "execution_count": 29
        }
      ],
      "source": [
        "metric.reset()\n",
        "metric.compute()"
      ]
    },
    {
      "cell_type": "code",
      "execution_count": 30,
      "id": "6f8692bd",
      "metadata": {
        "id": "6f8692bd"
      },
      "outputs": [],
      "source": [
        "#|export\n",
        "def to_cpu(x):\n",
        "    if isinstance(x, Mapping): return {k:to_cpu(v) for k,v in x.items()}\n",
        "    if isinstance(x, list): return [to_cpu(o) for o in x]\n",
        "    if isinstance(x, tuple): return tuple(to_cpu(list(x)))\n",
        "    return x.detach().cpu()"
      ]
    },
    {
      "cell_type": "code",
      "execution_count": 31,
      "id": "678712dc",
      "metadata": {
        "id": "678712dc"
      },
      "outputs": [],
      "source": [
        "#|export\n",
        "class MetricsCB(Callback):\n",
        "    def __init__(self, *ms, **metrics):\n",
        "        for o in ms: metrics[type(o).__name__] = o\n",
        "        self.metrics = metrics\n",
        "        self.all_metrics = copy(metrics)\n",
        "        self.all_metrics['loss'] = self.loss = Mean()\n",
        "\n",
        "    def _log(self, d): print(d)\n",
        "    def before_fit(self, learn): learn.metrics = self\n",
        "    def before_epoch(self, learn): [o.reset() for o in self.all_metrics.values()]\n",
        "\n",
        "    def after_epoch(self, learn):\n",
        "        log = {k:f'{v.compute():.3f}' for k,v in self.all_metrics.items()}\n",
        "        log['epoch'] = learn.epoch\n",
        "        log['train'] = 'train' if learn.model.training else 'eval'\n",
        "        self._log(log)\n",
        "\n",
        "    def after_batch(self, learn):\n",
        "        x,y,*_ = to_cpu(learn.batch)\n",
        "        for m in self.metrics.values(): m.update(to_cpu(learn.preds), y)\n",
        "        self.loss.update(to_cpu(learn.loss), weight=len(x))"
      ]
    },
    {
      "cell_type": "markdown",
      "source": [
        "a very simple one, just two lines of code called the device_callback. And that is something which is going to allow us to use CUDA or or the Apple GPU or whatever without the complications we had before of, you know, how do we have multiple processes in our data loader and also use our device and not have everything fall over. So the way we could do it is we could say before it put the model onto the default device and before each batch is run, put that batch onto the device because look what happened in in the \n",
        "\n",
        "this is really, really important in the learner. Absolutely. Everything is put inside self dot, which means it's all modifiable. So we go for self dot iteration, number, comma, self self dot, the batch itself. And you've been writing the data letter and then we call one batch, but before that we call the callback so we can modify this. Now, how does the callback get access to the learner? Well, what actually happens is we go through each of our callbacks and put set an attribute called learn equal to the learner. And so that means in the callback itself, we can say self.learn, don't learn that model. And actually we could make this a bit better. I think so make it like maybe you don't want to use a default device. So this is where I would be inclined to add a constructor and set device and we could default it to the default device. Of course, and then we could use that instead and that would give us a bit more flexibility. So if you wanted to try it on some different device, then you could. I think that might be a slight improvement. Okay, so there's a callback we can use to put things on cuda to, and we could check that it works by. Just quickly going back to our outline here and maybe if a single batch CB and replace it with device_cb Yeah, it still works. So that's a good sign."
      ],
      "metadata": {
        "id": "0gt-vbUNRBZd"
      },
      "id": "0gt-vbUNRBZd"
    },
    {
      "cell_type": "code",
      "execution_count": 32,
      "id": "339962be",
      "metadata": {
        "id": "339962be"
      },
      "outputs": [],
      "source": [
        "#|export\n",
        "class DeviceCB(Callback):\n",
        "    def __init__(self, device=def_device): fc.store_attr()\n",
        "    def before_fit(self, learn):\n",
        "        if hasattr(learn.model, 'to'): learn.model.to(self.device)\n",
        "    def before_batch(self, learn): learn.batch = to_device(learn.batch, device=self.device)"
      ]
    },
    {
      "cell_type": "code",
      "execution_count": 33,
      "id": "f5ce9364",
      "metadata": {
        "id": "f5ce9364",
        "outputId": "93fbab19-bd3b-4914-9c45-16516621cb6c",
        "colab": {
          "base_uri": "https://localhost:8080/"
        }
      },
      "outputs": [
        {
          "output_type": "stream",
          "name": "stdout",
          "text": [
            "{'accuracy': '0.602', 'loss': '1.183', 'epoch': 0, 'train': 'train'}\n",
            "{'accuracy': '0.700', 'loss': '0.847', 'epoch': 0, 'train': 'eval'}\n"
          ]
        }
      ],
      "source": [
        "model = get_model()\n",
        "metrics = MetricsCB(accuracy=MulticlassAccuracy())\n",
        "learn = Learner(model, dls, F.cross_entropy, lr=0.2, cbs=[DeviceCB(), metrics])\n",
        "learn.fit(1)"
      ]
    },
    {
      "cell_type": "markdown",
      "id": "24420ba4",
      "metadata": {
        "id": "24420ba4"
      },
      "source": [
        "## Flexible learner"
      ]
    },
    {
      "cell_type": "markdown",
      "source": [
        "And so the reason I've decided to do this is it gives us a lot of flexibility. We can now actually create our own way of doing predict, get lost, backward step and zero grad in different situations. We're going to see some of those situations. So what happens if we call self dot predict and it doesn't exist? Well, it doesn't necessarily cause an error. What actually happens is it calls a special magic method in Python called __getattr__. That's been seen before. And what I'm doing here is I'm saying, okay, well if it's one of these special five things, don't raise an attribute error, which is this is the default thing. It does. But instead create a callback. Oh, actually, I should say call self  dot, callback, passing in that name. So it's actually going to call self dot, callback, quote, predict and self-talk callback is exactly the same as before. And so what that means now is to make this work exactly the same as it did before. I need a callback which does these five things, and here it is, I'm going to call it train callback. So here are the five things predict get lost backwards step and zero grade. So they're here. Predict get loss backward step and zero grad. Okay. So they're almost exactly the same as what they looked like in our intermediate learner. Except now I just need to have self dot learn in front of everything because we remember this is a callback. It's not the learner. And so for a callback, the callback can access the learner using self dot learned So self dot learned operates prets self dot learned model passing and self dot learned what batch and just the independent variables did over the loss calls the last function backward step zero grid. So that's at this point. This isn't doing anything that I wasn't doing before. But the nice thing is now, if you want to use huggingface, accelerate or you want something that works on huggingface, data styles, dictionary things or whatever, you can actually change exactly how it behaves by just call it passing by creating a callback to training. And if you want everything except one thing to be the same, you can inherit from train. CB So this is I've, I've not tried this before, I haven't seen this done anywhere else. So it's a bit of an experiment. So I wanted to hear how you go with it. And then finally I thought it'd be nice to have a progress bar. So let's create a progress callback. And the progress bar is going to show on a current loss and going to put create a plot of it. So I'm going to use a project that we created called Fast Progress, mainly created by the Wonderful Solver. And basically fast progress is, yeah, a very nice way to create a very flexible progress bars. So let me show you what it looks like first. So let's get the model and train and as you can see it actually in real time updates the graph and everything, they go, Yeah, that's pretty cool. So that's the that's the progress bar, the metrics callback, the device callback and the training callback all in action. So before we fit, we actually have to set self dot learn epochs. Now that might look a little bit weird, but self dot learned on epochs is the thing that we loop through for self dot epoch in so we can change that. So it's not just a normal range, but instead it is a progress bar around the range. We can then check. Remember I told you that the learner is going to have the metrics attribute applied. We can then say, Oh, if the learner has a metrics attribute, then let's replace the underscore log method there with ours and our one instead will write to the progress bar. Now this is pretty simple. It looks very similar to before, but we could easily replace this, for example, with something that creates an optimal table, which is another thing. Fast progress, so or other stuff like that. So you can see we can modify. \n",
        "\n"
      ],
      "metadata": {
        "id": "6LJ0dJ--I09M"
      },
      "id": "6LJ0dJ--I09M"
    },
    {
      "cell_type": "code",
      "execution_count": null,
      "id": "e1732aac",
      "metadata": {
        "id": "e1732aac"
      },
      "outputs": [],
      "source": [
        "class Learner():\n",
        "    def __init__(self, model, dls=(0,), loss_func=F.mse_loss, lr=0.1, cbs=None, opt_func=optim.SGD):\n",
        "        cbs = fc.L(cbs)\n",
        "        fc.store_attr()\n",
        "\n",
        "    @contextmanager\n",
        "    def cb_ctx(self, nm):\n",
        "        try:\n",
        "            self.callback(f'before_{nm}')\n",
        "            yield\n",
        "            self.callback(f'after_{nm}')\n",
        "        except globals()[f'Cancel{nm.title()}Exception']: pass\n",
        "        finally: self.callback(f'cleanup_{nm}')\n",
        "                \n",
        "    def one_epoch(self, train):\n",
        "        self.model.train(train)\n",
        "        self.dl = self.dls.train if train else self.dls.valid\n",
        "        with self.cb_ctx('epoch'):\n",
        "            for self.iter,self.batch in enumerate(self.dl):\n",
        "                with self.cb_ctx('batch'):\n",
        "                    self.predict()\n",
        "                    self.get_loss()\n",
        "                    if self.training:\n",
        "                        self.backward()\n",
        "                        self.step()\n",
        "                        self.zero_grad()\n",
        "    \n",
        "    def fit(self, n_epochs=1, train=True, valid=True, cbs=None, lr=None):\n",
        "        cbs = fc.L(cbs)\n",
        "        # `add_cb` and `rm_cb` were added in lesson 18\n",
        "        for cb in cbs: self.cbs.append(cb)\n",
        "        try:\n",
        "            self.n_epochs = n_epochs\n",
        "            self.epochs = range(n_epochs)\n",
        "            self.opt = self.opt_func(self.model.parameters(), self.lr if lr is None else lr)\n",
        "            with self.cb_ctx('fit'):\n",
        "                for self.epoch in self.epochs:\n",
        "                    if train: self.one_epoch(True)\n",
        "                    if valid: torch.no_grad()(self.one_epoch)(False)\n",
        "        finally:\n",
        "            for cb in cbs: self.cbs.remove(cb)\n",
        "\n",
        "    def __getattr__(self, name):\n",
        "        if name in ('predict','get_loss','backward','step','zero_grad'): return partial(self.callback, name)\n",
        "        raise AttributeError(name)\n",
        "\n",
        "    def callback(self, method_nm): run_cbs(self.cbs, method_nm, self)\n",
        "    \n",
        "    @property\n",
        "    def training(self): return self.model.training"
      ]
    },
    {
      "cell_type": "code",
      "execution_count": 35,
      "id": "bee3643f",
      "metadata": {
        "id": "bee3643f"
      },
      "outputs": [],
      "source": [
        "#|export\n",
        "class TrainCB(Callback):\n",
        "    def __init__(self, n_inp=1): self.n_inp = n_inp\n",
        "    def predict(self, learn): learn.preds = learn.model(*learn.batch[:self.n_inp])\n",
        "    def get_loss(self, learn): learn.loss = learn.loss_func(learn.preds, *learn.batch[self.n_inp:])\n",
        "    def backward(self, learn): learn.loss.backward()\n",
        "    def step(self, learn): learn.opt.step()\n",
        "    def zero_grad(self, learn): learn.opt.zero_grad()"
      ]
    },
    {
      "cell_type": "markdown",
      "id": "9b2e6eb3",
      "metadata": {
        "id": "9b2e6eb3"
      },
      "source": [
        "NB: I added `self.n_inp` after the lesson. This allows us to train models with more than one input or output."
      ]
    },
    {
      "cell_type": "markdown",
      "source": [
        "And it's going to do our thing. And look, we're going to have charts and stuff. All right? So the basic idea is going to look very similar. So we're going to call fit. So when we construct it, we're going to be passing in exactly the same things as before. But we've got one extra thing callbacks, which we'll see in a moment, store the attributes as before, and we're going to be doing some stuff with the callbacks. So when we call Fit for this number of epochs, we're going to store away how many epochs we're going to do. We're also going to store away the actual range that we're going to loop through as soft epochs. So here's that looping through so epochs, we're going to create the optimizer using the optimizer function and the parameters, and then we're going to call _fit. Now, I want to know if is underscore fit, why didn't we just copy and paste so this into here Why why do this? It's because we've created a special decorator with callbacks. What does that do? \n",
        "\n",
        "So it's up here with callbacks. With callbacks is a class. It's going to just store one thing, which is the name. In this case, the name is fit. And what it's going to do is Now, this is a decorator, right? So when we call it remember, decorators get past a function. So it's going to get past whole function. And that's going to be called if that's a __call. Remember, is what happens when a class is treated, an object is treated as if it's a function. So it's going to get past this function. So this function is underscore fit. And so what we want to do is we want to return a different function. It's going to, cause, call the function that we were asked to call using the arguments and key documents we were asked to use. But before it calls that function, it's going to call a special method called callback passing in the string before in this case before underscore, fit. After it's completed, it's going to call that method called callback and passing the string after underscore fit, and it's going to wrap the whole thing in a try except. BLOCK And it's going to be looking for an exception called Cancel Fit Exception. And if it gets one, it's not going to complain. So let me explain what's going on with all of those things. \n",
        "\n",
        "Let's look at example of a callback. Let's change this DeviceCB So for example, here is a callback called DeviceCB Device callback and before FIT will be called automatically before that underscore fit method is called and it's going to put the model onto our device CUDA or MPS if we have one. Otherwise it would just be on GPU. So what's going to happen here? So it's going to call, we're going to call fit. It's going to go through these lines of code. It's going to call, underscore, a fit. Underscore fit is not this function underscore fit is this function with F is this function. So it's going to call our learn act callback passing in before underscore, fit and callback is defined here. What's callback going to do? It's going to be past the string before underscore it. It's going to then go through each of our callbacks sorted based on their order. And you can see here callback can have an order and it's going to look at that callback and try to get an attribute called before underscore fit and it will find one. And so then it's going to call that method. Now, if that method doesn't exist, it doesn't appear at all, then getattr will return this instead. Identity is a function just here. This is an identity function. All it does is whatever arguments it gets passed, it returns them. If it's not past any arguments, it just returns. So there's a lot of python going on here and that is why we did that. \n",
        "\n",
        "Foundations lesson. And so for people who haven't done a lot of this python, there's going to be a lot of stuff to experiment with and learn about. And so do ask on the forums if any of these bits get confusing. But the best way to learn about these things is to open up this Jupyter Notebook and try and create really simple versions of things. Right? So for example, let's try identity. Identity. How exactly does identity work? I can call it, and it gets nothing. I can call it with one spec one I could call it with. I get back, I got it with a yes, fully tested this, call it with a one and get a one. And how is it doing that exactly. So remember we can add a break point and this is be a great time to really test your debugging skills. Okay so remember in our debugger we can hit H to find out what the commands are, but you really should do a tutorial on the debugger if you're not familiar with it. And then we can step through each one. So I can now print args and it's actually a trick which I like is that args is actually a command funnily enough, which I'll just tell you the arguments to any function, regardless of what they're called, which is kind of nice. And so then we can step through by pressing and, and after this we can check like, okay, what is X now and what is args now, right? So remember it really experiment with these things. So anyway, we're going to talk about this a lot more in the next lesson. But before that, if you're not familiar with try except blocks, you know, spend some time practicing them. If you're not familiar with decorators, well, we've seen them before, So go back and look at them again really carefully. If you're not familiar with the debugger practice with that, if you haven't spent much time with get at, try remind yourself about that. So try to get yourself really familiar and comfortable as much as possible with the pieces, because if you're not comfortable with the pieces and the way put the pieces together is going to be confusing. There's actually something in education in kind of the theory of education called cognitive load theory. And The theory of cognitive basically cognitive load theory says if you're trying to learn something, but your cognitive load is really high because of all lots of other things going on at the same time, you're not going to learn it. So it's going to be hard for you to learn this framework that we're building. If you have too much cognitive load of like, what the hell's a decorator or what they getattr or what to sort of do or what's possible, you know, all these things. Now, I actually spent quite a bit of time trying to make this as simple as possible, but but also as flexible as it needs to be for the rest of the course. And this is this is this is as simple as I could get it. So these are kind of things that you actually have to learn. But in doing so, you're going to be able to write some really, you know, powerful and general code yourself. So hopefully you'll find this a really valuable and mind expanding exercise in in bringing high level software engineering skills to your data science work. Okay. So with that, this looks like a good place to leave it and look forward to seeing you next time. \n"
      ],
      "metadata": {
        "id": "6Q0z-BEcCuEN"
      },
      "id": "6Q0z-BEcCuEN"
    },
    {
      "cell_type": "code",
      "execution_count": 36,
      "id": "e9537f9f",
      "metadata": {
        "id": "e9537f9f"
      },
      "outputs": [],
      "source": [
        "#|export\n",
        "class ProgressCB(Callback):\n",
        "    order = MetricsCB.order+1\n",
        "    def __init__(self, plot=False): self.plot = plot\n",
        "    def before_fit(self, learn):\n",
        "        learn.epochs = self.mbar = master_bar(learn.epochs)\n",
        "        self.first = True\n",
        "        if hasattr(learn, 'metrics'): learn.metrics._log = self._log\n",
        "        self.losses = []\n",
        "\n",
        "    def _log(self, d):\n",
        "        if self.first:\n",
        "            self.mbar.write(list(d), table=True)\n",
        "            self.first = False\n",
        "        self.mbar.write(list(d.values()), table=True)\n",
        "\n",
        "    def before_epoch(self, learn): learn.dl = progress_bar(learn.dl, leave=False, parent=self.mbar)\n",
        "    def after_batch(self, learn):\n",
        "        learn.dl.comment = f'{learn.loss:.3f}'\n",
        "        if self.plot and hasattr(learn, 'metrics') and learn.training:\n",
        "            self.losses.append(learn.loss.item())\n",
        "            self.mbar.update_graph([[fc.L.range(self.losses), self.losses]])"
      ]
    },
    {
      "cell_type": "code",
      "execution_count": 37,
      "id": "b82dcb40",
      "metadata": {
        "id": "b82dcb40"
      },
      "outputs": [],
      "source": [
        "model = get_model()"
      ]
    },
    {
      "cell_type": "code",
      "execution_count": 38,
      "id": "3b77daf3",
      "metadata": {
        "id": "3b77daf3",
        "outputId": "a1ff8626-fa34-466a-b54c-e9834ab1c353",
        "colab": {
          "base_uri": "https://localhost:8080/",
          "height": 481
        }
      },
      "outputs": [
        {
          "output_type": "display_data",
          "data": {
            "text/plain": [
              "<IPython.core.display.HTML object>"
            ],
            "text/html": [
              "\n",
              "<style>\n",
              "    /* Turns off some styling */\n",
              "    progress {\n",
              "        /* gets rid of default border in Firefox and Opera. */\n",
              "        border: none;\n",
              "        /* Needs to be in here for Safari polyfill so background images work as expected. */\n",
              "        background-size: auto;\n",
              "    }\n",
              "    progress:not([value]), progress:not([value])::-webkit-progress-bar {\n",
              "        background: repeating-linear-gradient(45deg, #7e7e7e, #7e7e7e 10px, #5c5c5c 10px, #5c5c5c 20px);\n",
              "    }\n",
              "    .progress-bar-interrupted, .progress-bar-interrupted::-webkit-progress-bar {\n",
              "        background: #F44336;\n",
              "    }\n",
              "</style>\n"
            ]
          },
          "metadata": {}
        },
        {
          "output_type": "display_data",
          "data": {
            "text/plain": [
              "<IPython.core.display.HTML object>"
            ],
            "text/html": [
              "<table border=\"1\" class=\"dataframe\">\n",
              "  <thead>\n",
              "    <tr style=\"text-align: left;\">\n",
              "      <th>accuracy</th>\n",
              "      <th>loss</th>\n",
              "      <th>epoch</th>\n",
              "      <th>train</th>\n",
              "    </tr>\n",
              "  </thead>\n",
              "  <tbody>\n",
              "    <tr>\n",
              "      <td>0.596</td>\n",
              "      <td>1.167</td>\n",
              "      <td>0</td>\n",
              "      <td>train</td>\n",
              "    </tr>\n",
              "    <tr>\n",
              "      <td>0.729</td>\n",
              "      <td>0.794</td>\n",
              "      <td>0</td>\n",
              "      <td>eval</td>\n",
              "    </tr>\n",
              "  </tbody>\n",
              "</table>"
            ]
          },
          "metadata": {}
        },
        {
          "output_type": "display_data",
          "data": {
            "text/plain": [
              "<Figure size 600x400 with 1 Axes>"
            ],
            "image/png": "[encoded data removed]"
          },
          "metadata": {}
        }
      ],
      "source": [
        "metrics = MetricsCB(accuracy=MulticlassAccuracy())\n",
        "cbs = [TrainCB(), DeviceCB(), metrics, ProgressCB(plot=True)]\n",
        "learn = Learner(model, dls, F.cross_entropy, lr=0.2, cbs=cbs)\n",
        "learn.fit(1)"
      ]
    },
    {
      "cell_type": "markdown",
      "id": "9978f0fe",
      "metadata": {
        "id": "9978f0fe"
      },
      "source": [
        "## Updated versions since the lesson"
      ]
    },
    {
      "cell_type": "markdown",
      "source": [
        "Hi there, and welcome to lesson 16, where we are working on building our first flexible trading framework, the learner. And I've got some very good news, which is that I have thought of a way of doing it a little bit more gradually and simply actually than last time. So that should that should make things a bit easier. So we're going to take it a bit more step by step. So we're working in the 9 learner notebook today and we've seen already this, this basic callbacks learner And so the idea is that this learner, all right, this is why we saw no, we've seen so far this learner, which wasn't flexible at all, but it had all the basic pieces, which is we've got a fit method. We had coding that we can only calculate accuracy and average loss. We're had coding, we're putting things on a default device, hard coding, a single learning rate. But the basic idea is here we go through each epoch and call one epoch to to train or evaluate depending on this flag, and then we loop through each batch and the dataloader and one batch is going to grab the x and y parts of the batch, call the model, call the loss function. And if we're training, do the backward pass and then print out well, calculate the statistics for our accuracy and then at the end of the epoch, print that out. So it wasn't very flexible, but it did do something. So that's good. So what we're going to do now is we're going to do as an intermediate step, we're going to look at a but I'm calling a basic callback, learner, And it actually has nearly all the functionality of the full thing, the way we're going to after we look at this basic callback learner, we're then going to after creating some callbacks and metrics, we're going to look at something called the Flexible learner So let's go step by step. So the basic callbacks,learner looks very similar to the previous. learner It, it's got a fit function which is going to go through each epoch calling one epoch with training on and then training off, and then one epoch. We'll go through each batch and call one batch and one batch will call the model the loss function. And if we're training, it will do the backward step. So that's all pretty similar. But there's a few more things going on here. For example, if we have a look at fit, you'll see that after creating the optimizer, so called self.opt_func. So opt func here defaults to SGD. So we instantiate an object passing in our models parameters and the requested learning rate. And then before we start looping through one epoch at a time. Now we've set epochs here. We first of all call self.callback and passing in before fit. Now what does that do? Self.callback is here and it takes a method name. So in this case it's before fit and it calls a function called run callbacks. It passes in a list of our callbacks and the method name in this case before fit. So Run callbacks is something that's going to go for each callback and it's going to sort them in order of their order attribute. And so there's a base class of callbacks which has an order of zero. So our callbacks are all going to have the same order of zero in which you ask otherwise. So here's an example of a callback. So before we look at how callbacks work, let's just let's just run a callback so we can create a ridiculously simple callback code completion callback, which before we start fitting a new \n"
      ],
      "metadata": {
        "id": "W0UoKDqKJAK3"
      },
      "id": "W0UoKDqKJAK3"
    },
    {
      "cell_type": "markdown",
      "id": "31c38064",
      "metadata": {
        "id": "31c38064"
      },
      "source": [
        "After the lesson we noticed that `contextlib.context_manager` has a surprising \"feature\" which doesn't let us raise an exception before the `yield`. Therefore we've replaced the context manager with a decorator in this updated version of `Learner`. We have also added a few more callbacks in `one_epoch()`."
      ]
    },
    {
      "cell_type": "code",
      "execution_count": 39,
      "id": "f1ddb822",
      "metadata": {
        "id": "f1ddb822"
      },
      "outputs": [],
      "source": [
        "#|export\n",
        "class with_cbs:\n",
        "    def __init__(self, nm): self.nm = nm\n",
        "    def __call__(self, f):\n",
        "        def _f(o, *args, **kwargs):\n",
        "            try:\n",
        "                o.callback(f'before_{self.nm}')\n",
        "                f(o, *args, **kwargs)\n",
        "                o.callback(f'after_{self.nm}')\n",
        "            except globals()[f'Cancel{self.nm.title()}Exception']: pass\n",
        "            finally: o.callback(f'cleanup_{self.nm}')\n",
        "        return _f"
      ]
    },
    {
      "cell_type": "code",
      "execution_count": 40,
      "id": "33c1a1db",
      "metadata": {
        "id": "33c1a1db"
      },
      "outputs": [],
      "source": [
        "#|export\n",
        "class Learner():\n",
        "    def __init__(self, model, dls=(0,), loss_func=F.mse_loss, lr=0.1, cbs=None, opt_func=optim.SGD):\n",
        "        cbs = fc.L(cbs)\n",
        "        fc.store_attr()\n",
        "\n",
        "    @with_cbs('batch')\n",
        "    def _one_batch(self):\n",
        "        self.predict()\n",
        "        self.callback('after_predict')\n",
        "        self.get_loss()\n",
        "        self.callback('after_loss')\n",
        "        if self.training:\n",
        "            self.backward()\n",
        "            self.callback('after_backward')\n",
        "            self.step()\n",
        "            self.callback('after_step')\n",
        "            self.zero_grad()\n",
        "\n",
        "    @with_cbs('epoch')\n",
        "    def _one_epoch(self):\n",
        "        for self.iter,self.batch in enumerate(self.dl): self._one_batch()\n",
        "\n",
        "    def one_epoch(self, training):\n",
        "        self.model.train(training)\n",
        "        self.dl = self.dls.train if training else self.dls.valid\n",
        "        self._one_epoch()\n",
        "\n",
        "    @with_cbs('fit')\n",
        "    def _fit(self, train, valid):\n",
        "        for self.epoch in self.epochs:\n",
        "            if train: self.one_epoch(True)\n",
        "            if valid: torch.no_grad()(self.one_epoch)(False)\n",
        "\n",
        "    def fit(self, n_epochs=1, train=True, valid=True, cbs=None, lr=None):\n",
        "        cbs = fc.L(cbs)\n",
        "        # `add_cb` and `rm_cb` were added in lesson 18\n",
        "        for cb in cbs: self.cbs.append(cb)\n",
        "        try:\n",
        "            self.n_epochs = n_epochs\n",
        "            self.epochs = range(n_epochs)\n",
        "            if lr is None: lr = self.lr\n",
        "            if self.opt_func: self.opt = self.opt_func(self.model.parameters(), lr)\n",
        "            self._fit(train, valid)\n",
        "        finally:\n",
        "            for cb in cbs: self.cbs.remove(cb)\n",
        "\n",
        "    def __getattr__(self, name):\n",
        "        if name in ('predict','get_loss','backward','step','zero_grad'): return partial(self.callback, name)\n",
        "        raise AttributeError(name)\n",
        "\n",
        "    def callback(self, method_nm): run_cbs(self.cbs, method_nm, self)\n",
        "    \n",
        "    @property\n",
        "    def training(self): return self.model.training"
      ]
    },
    {
      "cell_type": "code",
      "execution_count": 41,
      "id": "08159e02",
      "metadata": {
        "id": "08159e02",
        "outputId": "903ac350-f7f3-4a22-97e5-00f744bc0d80",
        "colab": {
          "base_uri": "https://localhost:8080/",
          "height": 481
        }
      },
      "outputs": [
        {
          "output_type": "display_data",
          "data": {
            "text/plain": [
              "<IPython.core.display.HTML object>"
            ],
            "text/html": [
              "\n",
              "<style>\n",
              "    /* Turns off some styling */\n",
              "    progress {\n",
              "        /* gets rid of default border in Firefox and Opera. */\n",
              "        border: none;\n",
              "        /* Needs to be in here for Safari polyfill so background images work as expected. */\n",
              "        background-size: auto;\n",
              "    }\n",
              "    progress:not([value]), progress:not([value])::-webkit-progress-bar {\n",
              "        background: repeating-linear-gradient(45deg, #7e7e7e, #7e7e7e 10px, #5c5c5c 10px, #5c5c5c 20px);\n",
              "    }\n",
              "    .progress-bar-interrupted, .progress-bar-interrupted::-webkit-progress-bar {\n",
              "        background: #F44336;\n",
              "    }\n",
              "</style>\n"
            ]
          },
          "metadata": {}
        },
        {
          "output_type": "display_data",
          "data": {
            "text/plain": [
              "<IPython.core.display.HTML object>"
            ],
            "text/html": [
              "<table border=\"1\" class=\"dataframe\">\n",
              "  <thead>\n",
              "    <tr style=\"text-align: left;\">\n",
              "      <th>accuracy</th>\n",
              "      <th>loss</th>\n",
              "      <th>epoch</th>\n",
              "      <th>train</th>\n",
              "    </tr>\n",
              "  </thead>\n",
              "  <tbody>\n",
              "    <tr>\n",
              "      <td>0.616</td>\n",
              "      <td>1.168</td>\n",
              "      <td>0</td>\n",
              "      <td>train</td>\n",
              "    </tr>\n",
              "    <tr>\n",
              "      <td>0.719</td>\n",
              "      <td>0.789</td>\n",
              "      <td>0</td>\n",
              "      <td>eval</td>\n",
              "    </tr>\n",
              "  </tbody>\n",
              "</table>"
            ]
          },
          "metadata": {}
        },
        {
          "output_type": "display_data",
          "data": {
            "text/plain": [
              "<Figure size 600x400 with 1 Axes>"
            ],
            "image/png": "[encoded data removed]"
          },
          "metadata": {}
        }
      ],
      "source": [
        "model = get_model()\n",
        "\n",
        "metrics = MetricsCB(accuracy=MulticlassAccuracy())\n",
        "cbs = [TrainCB(), DeviceCB(), metrics, ProgressCB(plot=True)]\n",
        "learn = Learner(model, dls, F.cross_entropy, lr=0.2, cbs=cbs)\n",
        "learn.fit(1)"
      ]
    },
    {
      "cell_type": "markdown",
      "id": "e36aef26",
      "metadata": {
        "id": "e36aef26"
      },
      "source": [
        "## TrainLearner and MomentumLearner"
      ]
    },
    {
      "cell_type": "code",
      "execution_count": 42,
      "id": "51fe2944",
      "metadata": {
        "id": "51fe2944"
      },
      "outputs": [],
      "source": [
        "#|export\n",
        "class TrainLearner(Learner):\n",
        "    def predict(self): self.preds = self.model(self.batch[0])\n",
        "    def get_loss(self): self.loss = self.loss_func(self.preds, self.batch[1])\n",
        "    def backward(self): self.loss.backward()\n",
        "    def step(self): self.opt.step()\n",
        "    def zero_grad(self): self.opt.zero_grad()"
      ]
    },
    {
      "cell_type": "code",
      "execution_count": 43,
      "id": "c68148d5",
      "metadata": {
        "id": "c68148d5"
      },
      "outputs": [],
      "source": [
        "#|export\n",
        "class MomentumLearner(TrainLearner):\n",
        "    def __init__(self, model, dls, loss_func, lr=None, cbs=None, opt_func=optim.SGD, mom=0.85):\n",
        "        self.mom = mom\n",
        "        super().__init__(model, dls, loss_func, lr, cbs, opt_func)\n",
        "\n",
        "    def zero_grad(self):\n",
        "        with torch.no_grad():\n",
        "            for p in self.model.parameters(): p.grad *= self.mom"
      ]
    },
    {
      "cell_type": "code",
      "execution_count": 44,
      "id": "452eff1d",
      "metadata": {
        "id": "452eff1d",
        "outputId": "0d788c94-4b2e-4ab3-d999-10aaa0fa3553",
        "colab": {
          "base_uri": "https://localhost:8080/",
          "height": 481
        }
      },
      "outputs": [
        {
          "output_type": "display_data",
          "data": {
            "text/plain": [
              "<IPython.core.display.HTML object>"
            ],
            "text/html": [
              "\n",
              "<style>\n",
              "    /* Turns off some styling */\n",
              "    progress {\n",
              "        /* gets rid of default border in Firefox and Opera. */\n",
              "        border: none;\n",
              "        /* Needs to be in here for Safari polyfill so background images work as expected. */\n",
              "        background-size: auto;\n",
              "    }\n",
              "    progress:not([value]), progress:not([value])::-webkit-progress-bar {\n",
              "        background: repeating-linear-gradient(45deg, #7e7e7e, #7e7e7e 10px, #5c5c5c 10px, #5c5c5c 20px);\n",
              "    }\n",
              "    .progress-bar-interrupted, .progress-bar-interrupted::-webkit-progress-bar {\n",
              "        background: #F44336;\n",
              "    }\n",
              "</style>\n"
            ]
          },
          "metadata": {}
        },
        {
          "output_type": "display_data",
          "data": {
            "text/plain": [
              "<IPython.core.display.HTML object>"
            ],
            "text/html": [
              "<table border=\"1\" class=\"dataframe\">\n",
              "  <thead>\n",
              "    <tr style=\"text-align: left;\">\n",
              "      <th>accuracy</th>\n",
              "      <th>loss</th>\n",
              "      <th>epoch</th>\n",
              "      <th>train</th>\n",
              "    </tr>\n",
              "  </thead>\n",
              "  <tbody>\n",
              "    <tr>\n",
              "      <td>0.676</td>\n",
              "      <td>0.936</td>\n",
              "      <td>0</td>\n",
              "      <td>train</td>\n",
              "    </tr>\n",
              "    <tr>\n",
              "      <td>0.791</td>\n",
              "      <td>0.585</td>\n",
              "      <td>0</td>\n",
              "      <td>eval</td>\n",
              "    </tr>\n",
              "  </tbody>\n",
              "</table>"
            ]
          },
          "metadata": {}
        },
        {
          "output_type": "display_data",
          "data": {
            "text/plain": [
              "<Figure size 600x400 with 1 Axes>"
            ],
            "image/png": "[encoded data removed]"
          },
          "metadata": {}
        }
      ],
      "source": [
        "# NB: No TrainCB\n",
        "metrics = MetricsCB(accuracy=MulticlassAccuracy())\n",
        "cbs = [DeviceCB(), metrics, ProgressCB(plot=True)]\n",
        "learn = MomentumLearner(get_model(), dls, F.cross_entropy, lr=0.1, cbs=cbs)\n",
        "learn.fit(1)"
      ]
    },
    {
      "cell_type": "markdown",
      "id": "c2e3f750",
      "metadata": {
        "id": "c2e3f750"
      },
      "source": [
        "## LRFinderCB"
      ]
    },
    {
      "cell_type": "code",
      "execution_count": 45,
      "id": "ca5b9f65",
      "metadata": {
        "id": "ca5b9f65"
      },
      "outputs": [],
      "source": [
        "class LRFinderCB(Callback):\n",
        "    def __init__(self, lr_mult=1.3): fc.store_attr()\n",
        "    \n",
        "    def before_fit(self, learn):\n",
        "        self.lrs,self.losses = [],[]\n",
        "        self.min = math.inf\n",
        "\n",
        "    def after_batch(self, learn):\n",
        "        if not learn.training: raise CancelEpochException()\n",
        "        self.lrs.append(learn.opt.param_groups[0]['lr'])\n",
        "        loss = to_cpu(learn.loss)\n",
        "        self.losses.append(loss)\n",
        "        if loss < self.min: self.min = loss\n",
        "        if loss > self.min*3: raise CancelFitException()\n",
        "        for g in learn.opt.param_groups: g['lr'] *= self.lr_mult"
      ]
    },
    {
      "cell_type": "code",
      "execution_count": 46,
      "id": "09da2d55",
      "metadata": {
        "id": "09da2d55",
        "outputId": "7065a359-0a51-4a5d-bab2-df0c2d5a34a5",
        "colab": {
          "base_uri": "https://localhost:8080/",
          "height": 455
        }
      },
      "outputs": [
        {
          "output_type": "display_data",
          "data": {
            "text/plain": [
              "<Figure size 640x480 with 1 Axes>"
            ],
            "image/png": "[encoded data removed]"
          },
          "metadata": {}
        }
      ],
      "source": [
        "lrfind = LRFinderCB()\n",
        "cbs = [DeviceCB(), lrfind]\n",
        "learn = MomentumLearner(get_model(), dls, F.cross_entropy, lr=1e-4, cbs=cbs)\n",
        "learn.fit(1)\n",
        "plt.plot(lrfind.lrs, lrfind.losses)\n",
        "plt.xscale('log')"
      ]
    },
    {
      "cell_type": "code",
      "execution_count": 47,
      "id": "313fcb31",
      "metadata": {
        "id": "313fcb31"
      },
      "outputs": [],
      "source": [
        "#|export\n",
        "from torch.optim.lr_scheduler import ExponentialLR"
      ]
    },
    {
      "cell_type": "markdown",
      "id": "b7f61663",
      "metadata": {
        "id": "b7f61663"
      },
      "source": [
        "[ExponentialLR](https://pytorch.org/docs/stable/generated/torch.optim.lr_scheduler.ExponentialLR.html#torch.optim.lr_scheduler.ExponentialLR)"
      ]
    },
    {
      "cell_type": "code",
      "execution_count": 48,
      "id": "1dd3748d",
      "metadata": {
        "id": "1dd3748d"
      },
      "outputs": [],
      "source": [
        "#|export\n",
        "class LRFinderCB(Callback):\n",
        "    def __init__(self, gamma=1.3, max_mult=3): fc.store_attr()\n",
        "    \n",
        "    def before_fit(self, learn):\n",
        "        self.sched = ExponentialLR(learn.opt, self.gamma)\n",
        "        self.lrs,self.losses = [],[]\n",
        "        self.min = math.inf\n",
        "\n",
        "    def after_batch(self, learn):\n",
        "        if not learn.training: raise CancelEpochException()\n",
        "        self.lrs.append(learn.opt.param_groups[0]['lr'])\n",
        "        loss = to_cpu(learn.loss)\n",
        "        self.losses.append(loss)\n",
        "        if loss < self.min: self.min = loss\n",
        "        if math.isnan(loss) or (loss > self.min*self.max_mult):\n",
        "            raise CancelFitException()\n",
        "        self.sched.step()\n",
        "\n",
        "    def cleanup_fit(self, learn):\n",
        "        plt.plot(self.lrs, self.losses)\n",
        "        plt.xscale('log')"
      ]
    },
    {
      "cell_type": "code",
      "execution_count": 49,
      "id": "d50956a0",
      "metadata": {
        "id": "d50956a0",
        "outputId": "a213f021-660c-421f-c3ae-80ebe9a78ce3",
        "colab": {
          "base_uri": "https://localhost:8080/",
          "height": 455
        }
      },
      "outputs": [
        {
          "output_type": "display_data",
          "data": {
            "text/plain": [
              "<Figure size 640x480 with 1 Axes>"
            ],
            "image/png": "[encoded data removed]"
          },
          "metadata": {}
        }
      ],
      "source": [
        "cbs = [DeviceCB()]\n",
        "learn = MomentumLearner(get_model(), dls, F.cross_entropy, lr=1e-5, cbs=cbs)\n",
        "learn.fit(3, cbs=LRFinderCB())"
      ]
    },
    {
      "cell_type": "code",
      "execution_count": 50,
      "id": "2ff226c5",
      "metadata": {
        "id": "2ff226c5"
      },
      "outputs": [],
      "source": [
        "#|export\n",
        "@fc.patch\n",
        "def lr_find(self:Learner, gamma=1.3, max_mult=3, start_lr=1e-5, max_epochs=10):\n",
        "    self.fit(max_epochs, lr=start_lr, cbs=LRFinderCB(gamma=gamma, max_mult=max_mult))"
      ]
    },
    {
      "cell_type": "markdown",
      "id": "c281c3eb",
      "metadata": {
        "id": "c281c3eb"
      },
      "source": [
        "`lr_find` was added in lesson 18. It's just a shorter way of using `LRFinderCB`."
      ]
    },
    {
      "cell_type": "code",
      "execution_count": 51,
      "id": "c945e79f",
      "metadata": {
        "id": "c945e79f",
        "outputId": "5ef5fb31-76b2-4c8e-bd74-329c76bf80f6",
        "colab": {
          "base_uri": "https://localhost:8080/",
          "height": 455
        }
      },
      "outputs": [
        {
          "output_type": "display_data",
          "data": {
            "text/plain": [
              "<Figure size 640x480 with 1 Axes>"
            ],
            "image/png": "[encoded data removed]"
          },
          "metadata": {}
        }
      ],
      "source": [
        "MomentumLearner(get_model(), dls, F.cross_entropy, cbs=cbs).lr_find()"
      ]
    }
  ],
  "metadata": {
    "kernelspec": {
      "display_name": "Python 3 (ipykernel)",
      "language": "python",
      "name": "python3"
    },
    "colab": {
      "provenance": [],
      "gpuType": "T4"
    },
    "accelerator": "GPU",
    "gpuClass": "standard",
    "widgets": {
      "application/vnd.jupyter.widget-state+json": {
        "f09f35ef2d6d4321925a99da4f4641d8": {
          "model_module": "@jupyter-widgets/controls",
          "model_name": "HBoxModel",
          "model_module_version": "1.5.0",
          "state": {
            "_dom_classes": [],
            "_model_module": "@jupyter-widgets/controls",
            "_model_module_version": "1.5.0",
            "_model_name": "HBoxModel",
            "_view_count": null,
            "_view_module": "@jupyter-widgets/controls",
            "_view_module_version": "1.5.0",
            "_view_name": "HBoxView",
            "box_style": "",
            "children": [
              "IPY_MODEL_38e5ec61f7224608b33aea487800358f",
              "IPY_MODEL_eb809c2ad35642dd8b21ab6ac50c258e",
              "IPY_MODEL_ef3c9cf575b54b7fb01c6e756cc9ae49"
            ],
            "layout": "IPY_MODEL_1489ce08d0154076ae84921f04716638"
          }
        },
        "38e5ec61f7224608b33aea487800358f": {
          "model_module": "@jupyter-widgets/controls",
          "model_name": "HTMLModel",
          "model_module_version": "1.5.0",
          "state": {
            "_dom_classes": [],
            "_model_module": "@jupyter-widgets/controls",
            "_model_module_version": "1.5.0",
            "_model_name": "HTMLModel",
            "_view_count": null,
            "_view_module": "@jupyter-widgets/controls",
            "_view_module_version": "1.5.0",
            "_view_name": "HTMLView",
            "description": "",
            "description_tooltip": null,
            "layout": "IPY_MODEL_f820c4b22e1a49fea158218c8c5f4e43",
            "placeholder": "​",
            "style": "IPY_MODEL_1126a2b19d2f412fbe6cf3f6be151d09",
            "value": "Downloading builder script: 100%"
          }
        },
        "eb809c2ad35642dd8b21ab6ac50c258e": {
          "model_module": "@jupyter-widgets/controls",
          "model_name": "FloatProgressModel",
          "model_module_version": "1.5.0",
          "state": {
            "_dom_classes": [],
            "_model_module": "@jupyter-widgets/controls",
            "_model_module_version": "1.5.0",
            "_model_name": "FloatProgressModel",
            "_view_count": null,
            "_view_module": "@jupyter-widgets/controls",
            "_view_module_version": "1.5.0",
            "_view_name": "ProgressView",
            "bar_style": "success",
            "description": "",
            "description_tooltip": null,
            "layout": "IPY_MODEL_69d330e2e05f40b5a552a115e16aab2c",
            "max": 4833,
            "min": 0,
            "orientation": "horizontal",
            "style": "IPY_MODEL_be9ec96c0e554ef9837254b37789b704",
            "value": 4833
          }
        },
        "ef3c9cf575b54b7fb01c6e756cc9ae49": {
          "model_module": "@jupyter-widgets/controls",
          "model_name": "HTMLModel",
          "model_module_version": "1.5.0",
          "state": {
            "_dom_classes": [],
            "_model_module": "@jupyter-widgets/controls",
            "_model_module_version": "1.5.0",
            "_model_name": "HTMLModel",
            "_view_count": null,
            "_view_module": "@jupyter-widgets/controls",
            "_view_module_version": "1.5.0",
            "_view_name": "HTMLView",
            "description": "",
            "description_tooltip": null,
            "layout": "IPY_MODEL_59881a28cd7c425182a5868054433a68",
            "placeholder": "​",
            "style": "IPY_MODEL_fe69975604964d6992f08fd8753b309d",
            "value": " 4.83k/4.83k [00:00&lt;00:00, 239kB/s]"
          }
        },
        "1489ce08d0154076ae84921f04716638": {
          "model_module": "@jupyter-widgets/base",
          "model_name": "LayoutModel",
          "model_module_version": "1.2.0",
          "state": {
            "_model_module": "@jupyter-widgets/base",
            "_model_module_version": "1.2.0",
            "_model_name": "LayoutModel",
            "_view_count": null,
            "_view_module": "@jupyter-widgets/base",
            "_view_module_version": "1.2.0",
            "_view_name": "LayoutView",
            "align_content": null,
            "align_items": null,
            "align_self": null,
            "border": null,
            "bottom": null,
            "display": null,
            "flex": null,
            "flex_flow": null,
            "grid_area": null,
            "grid_auto_columns": null,
            "grid_auto_flow": null,
            "grid_auto_rows": null,
            "grid_column": null,
            "grid_gap": null,
            "grid_row": null,
            "grid_template_areas": null,
            "grid_template_columns": null,
            "grid_template_rows": null,
            "height": null,
            "justify_content": null,
            "justify_items": null,
            "left": null,
            "margin": null,
            "max_height": null,
            "max_width": null,
            "min_height": null,
            "min_width": null,
            "object_fit": null,
            "object_position": null,
            "order": null,
            "overflow": null,
            "overflow_x": null,
            "overflow_y": null,
            "padding": null,
            "right": null,
            "top": null,
            "visibility": null,
            "width": null
          }
        },
        "f820c4b22e1a49fea158218c8c5f4e43": {
          "model_module": "@jupyter-widgets/base",
          "model_name": "LayoutModel",
          "model_module_version": "1.2.0",
          "state": {
            "_model_module": "@jupyter-widgets/base",
            "_model_module_version": "1.2.0",
            "_model_name": "LayoutModel",
            "_view_count": null,
            "_view_module": "@jupyter-widgets/base",
            "_view_module_version": "1.2.0",
            "_view_name": "LayoutView",
            "align_content": null,
            "align_items": null,
            "align_self": null,
            "border": null,
            "bottom": null,
            "display": null,
            "flex": null,
            "flex_flow": null,
            "grid_area": null,
            "grid_auto_columns": null,
            "grid_auto_flow": null,
            "grid_auto_rows": null,
            "grid_column": null,
            "grid_gap": null,
            "grid_row": null,
            "grid_template_areas": null,
            "grid_template_columns": null,
            "grid_template_rows": null,
            "height": null,
            "justify_content": null,
            "justify_items": null,
            "left": null,
            "margin": null,
            "max_height": null,
            "max_width": null,
            "min_height": null,
            "min_width": null,
            "object_fit": null,
            "object_position": null,
            "order": null,
            "overflow": null,
            "overflow_x": null,
            "overflow_y": null,
            "padding": null,
            "right": null,
            "top": null,
            "visibility": null,
            "width": null
          }
        },
        "1126a2b19d2f412fbe6cf3f6be151d09": {
          "model_module": "@jupyter-widgets/controls",
          "model_name": "DescriptionStyleModel",
          "model_module_version": "1.5.0",
          "state": {
            "_model_module": "@jupyter-widgets/controls",
            "_model_module_version": "1.5.0",
            "_model_name": "DescriptionStyleModel",
            "_view_count": null,
            "_view_module": "@jupyter-widgets/base",
            "_view_module_version": "1.2.0",
            "_view_name": "StyleView",
            "description_width": ""
          }
        },
        "69d330e2e05f40b5a552a115e16aab2c": {
          "model_module": "@jupyter-widgets/base",
          "model_name": "LayoutModel",
          "model_module_version": "1.2.0",
          "state": {
            "_model_module": "@jupyter-widgets/base",
            "_model_module_version": "1.2.0",
            "_model_name": "LayoutModel",
            "_view_count": null,
            "_view_module": "@jupyter-widgets/base",
            "_view_module_version": "1.2.0",
            "_view_name": "LayoutView",
            "align_content": null,
            "align_items": null,
            "align_self": null,
            "border": null,
            "bottom": null,
            "display": null,
            "flex": null,
            "flex_flow": null,
            "grid_area": null,
            "grid_auto_columns": null,
            "grid_auto_flow": null,
            "grid_auto_rows": null,
            "grid_column": null,
            "grid_gap": null,
            "grid_row": null,
            "grid_template_areas": null,
            "grid_template_columns": null,
            "grid_template_rows": null,
            "height": null,
            "justify_content": null,
            "justify_items": null,
            "left": null,
            "margin": null,
            "max_height": null,
            "max_width": null,
            "min_height": null,
            "min_width": null,
            "object_fit": null,
            "object_position": null,
            "order": null,
            "overflow": null,
            "overflow_x": null,
            "overflow_y": null,
            "padding": null,
            "right": null,
            "top": null,
            "visibility": null,
            "width": null
          }
        },
        "be9ec96c0e554ef9837254b37789b704": {
          "model_module": "@jupyter-widgets/controls",
          "model_name": "ProgressStyleModel",
          "model_module_version": "1.5.0",
          "state": {
            "_model_module": "@jupyter-widgets/controls",
            "_model_module_version": "1.5.0",
            "_model_name": "ProgressStyleModel",
            "_view_count": null,
            "_view_module": "@jupyter-widgets/base",
            "_view_module_version": "1.2.0",
            "_view_name": "StyleView",
            "bar_color": null,
            "description_width": ""
          }
        },
        "59881a28cd7c425182a5868054433a68": {
          "model_module": "@jupyter-widgets/base",
          "model_name": "LayoutModel",
          "model_module_version": "1.2.0",
          "state": {
            "_model_module": "@jupyter-widgets/base",
            "_model_module_version": "1.2.0",
            "_model_name": "LayoutModel",
            "_view_count": null,
            "_view_module": "@jupyter-widgets/base",
            "_view_module_version": "1.2.0",
            "_view_name": "LayoutView",
            "align_content": null,
            "align_items": null,
            "align_self": null,
            "border": null,
            "bottom": null,
            "display": null,
            "flex": null,
            "flex_flow": null,
            "grid_area": null,
            "grid_auto_columns": null,
            "grid_auto_flow": null,
            "grid_auto_rows": null,
            "grid_column": null,
            "grid_gap": null,
            "grid_row": null,
            "grid_template_areas": null,
            "grid_template_columns": null,
            "grid_template_rows": null,
            "height": null,
            "justify_content": null,
            "justify_items": null,
            "left": null,
            "margin": null,
            "max_height": null,
            "max_width": null,
            "min_height": null,
            "min_width": null,
            "object_fit": null,
            "object_position": null,
            "order": null,
            "overflow": null,
            "overflow_x": null,
            "overflow_y": null,
            "padding": null,
            "right": null,
            "top": null,
            "visibility": null,
            "width": null
          }
        },
        "fe69975604964d6992f08fd8753b309d": {
          "model_module": "@jupyter-widgets/controls",
          "model_name": "DescriptionStyleModel",
          "model_module_version": "1.5.0",
          "state": {
            "_model_module": "@jupyter-widgets/controls",
            "_model_module_version": "1.5.0",
            "_model_name": "DescriptionStyleModel",
            "_view_count": null,
            "_view_module": "@jupyter-widgets/base",
            "_view_module_version": "1.2.0",
            "_view_name": "StyleView",
            "description_width": ""
          }
        },
        "ae3861072be14ae49ef0587a6cd96a55": {
          "model_module": "@jupyter-widgets/controls",
          "model_name": "HBoxModel",
          "model_module_version": "1.5.0",
          "state": {
            "_dom_classes": [],
            "_model_module": "@jupyter-widgets/controls",
            "_model_module_version": "1.5.0",
            "_model_name": "HBoxModel",
            "_view_count": null,
            "_view_module": "@jupyter-widgets/controls",
            "_view_module_version": "1.5.0",
            "_view_name": "HBoxView",
            "box_style": "",
            "children": [
              "IPY_MODEL_7dd82d77e6b944018f3edd4a904f0d1d",
              "IPY_MODEL_f99436d0f57142d98289f6f6372e3c70",
              "IPY_MODEL_064deaf44d9641f188ecaca0c79bf11c"
            ],
            "layout": "IPY_MODEL_8b960b27c34846e99e11e87fdd06a078"
          }
        },
        "7dd82d77e6b944018f3edd4a904f0d1d": {
          "model_module": "@jupyter-widgets/controls",
          "model_name": "HTMLModel",
          "model_module_version": "1.5.0",
          "state": {
            "_dom_classes": [],
            "_model_module": "@jupyter-widgets/controls",
            "_model_module_version": "1.5.0",
            "_model_name": "HTMLModel",
            "_view_count": null,
            "_view_module": "@jupyter-widgets/controls",
            "_view_module_version": "1.5.0",
            "_view_name": "HTMLView",
            "description": "",
            "description_tooltip": null,
            "layout": "IPY_MODEL_241395ecc37d430783ea648991c6fa8b",
            "placeholder": "​",
            "style": "IPY_MODEL_d8e26b168e644006a12126cea276d3e1",
            "value": "Downloading metadata: 100%"
          }
        },
        "f99436d0f57142d98289f6f6372e3c70": {
          "model_module": "@jupyter-widgets/controls",
          "model_name": "FloatProgressModel",
          "model_module_version": "1.5.0",
          "state": {
            "_dom_classes": [],
            "_model_module": "@jupyter-widgets/controls",
            "_model_module_version": "1.5.0",
            "_model_name": "FloatProgressModel",
            "_view_count": null,
            "_view_module": "@jupyter-widgets/controls",
            "_view_module_version": "1.5.0",
            "_view_name": "ProgressView",
            "bar_style": "success",
            "description": "",
            "description_tooltip": null,
            "layout": "IPY_MODEL_c458f5113a8b417f893624f67d8e5e09",
            "max": 3126,
            "min": 0,
            "orientation": "horizontal",
            "style": "IPY_MODEL_106d56172c594d7598e88ec5f72f0cc9",
            "value": 3126
          }
        },
        "064deaf44d9641f188ecaca0c79bf11c": {
          "model_module": "@jupyter-widgets/controls",
          "model_name": "HTMLModel",
          "model_module_version": "1.5.0",
          "state": {
            "_dom_classes": [],
            "_model_module": "@jupyter-widgets/controls",
            "_model_module_version": "1.5.0",
            "_model_name": "HTMLModel",
            "_view_count": null,
            "_view_module": "@jupyter-widgets/controls",
            "_view_module_version": "1.5.0",
            "_view_name": "HTMLView",
            "description": "",
            "description_tooltip": null,
            "layout": "IPY_MODEL_f1b787be54c5424b864ff38e75a23ae0",
            "placeholder": "​",
            "style": "IPY_MODEL_98dc4ab2619d4b74a24a578e5f43f750",
            "value": " 3.13k/3.13k [00:00&lt;00:00, 135kB/s]"
          }
        },
        "8b960b27c34846e99e11e87fdd06a078": {
          "model_module": "@jupyter-widgets/base",
          "model_name": "LayoutModel",
          "model_module_version": "1.2.0",
          "state": {
            "_model_module": "@jupyter-widgets/base",
            "_model_module_version": "1.2.0",
            "_model_name": "LayoutModel",
            "_view_count": null,
            "_view_module": "@jupyter-widgets/base",
            "_view_module_version": "1.2.0",
            "_view_name": "LayoutView",
            "align_content": null,
            "align_items": null,
            "align_self": null,
            "border": null,
            "bottom": null,
            "display": null,
            "flex": null,
            "flex_flow": null,
            "grid_area": null,
            "grid_auto_columns": null,
            "grid_auto_flow": null,
            "grid_auto_rows": null,
            "grid_column": null,
            "grid_gap": null,
            "grid_row": null,
            "grid_template_areas": null,
            "grid_template_columns": null,
            "grid_template_rows": null,
            "height": null,
            "justify_content": null,
            "justify_items": null,
            "left": null,
            "margin": null,
            "max_height": null,
            "max_width": null,
            "min_height": null,
            "min_width": null,
            "object_fit": null,
            "object_position": null,
            "order": null,
            "overflow": null,
            "overflow_x": null,
            "overflow_y": null,
            "padding": null,
            "right": null,
            "top": null,
            "visibility": null,
            "width": null
          }
        },
        "241395ecc37d430783ea648991c6fa8b": {
          "model_module": "@jupyter-widgets/base",
          "model_name": "LayoutModel",
          "model_module_version": "1.2.0",
          "state": {
            "_model_module": "@jupyter-widgets/base",
            "_model_module_version": "1.2.0",
            "_model_name": "LayoutModel",
            "_view_count": null,
            "_view_module": "@jupyter-widgets/base",
            "_view_module_version": "1.2.0",
            "_view_name": "LayoutView",
            "align_content": null,
            "align_items": null,
            "align_self": null,
            "border": null,
            "bottom": null,
            "display": null,
            "flex": null,
            "flex_flow": null,
            "grid_area": null,
            "grid_auto_columns": null,
            "grid_auto_flow": null,
            "grid_auto_rows": null,
            "grid_column": null,
            "grid_gap": null,
            "grid_row": null,
            "grid_template_areas": null,
            "grid_template_columns": null,
            "grid_template_rows": null,
            "height": null,
            "justify_content": null,
            "justify_items": null,
            "left": null,
            "margin": null,
            "max_height": null,
            "max_width": null,
            "min_height": null,
            "min_width": null,
            "object_fit": null,
            "object_position": null,
            "order": null,
            "overflow": null,
            "overflow_x": null,
            "overflow_y": null,
            "padding": null,
            "right": null,
            "top": null,
            "visibility": null,
            "width": null
          }
        },
        "d8e26b168e644006a12126cea276d3e1": {
          "model_module": "@jupyter-widgets/controls",
          "model_name": "DescriptionStyleModel",
          "model_module_version": "1.5.0",
          "state": {
            "_model_module": "@jupyter-widgets/controls",
            "_model_module_version": "1.5.0",
            "_model_name": "DescriptionStyleModel",
            "_view_count": null,
            "_view_module": "@jupyter-widgets/base",
            "_view_module_version": "1.2.0",
            "_view_name": "StyleView",
            "description_width": ""
          }
        },
        "c458f5113a8b417f893624f67d8e5e09": {
          "model_module": "@jupyter-widgets/base",
          "model_name": "LayoutModel",
          "model_module_version": "1.2.0",
          "state": {
            "_model_module": "@jupyter-widgets/base",
            "_model_module_version": "1.2.0",
            "_model_name": "LayoutModel",
            "_view_count": null,
            "_view_module": "@jupyter-widgets/base",
            "_view_module_version": "1.2.0",
            "_view_name": "LayoutView",
            "align_content": null,
            "align_items": null,
            "align_self": null,
            "border": null,
            "bottom": null,
            "display": null,
            "flex": null,
            "flex_flow": null,
            "grid_area": null,
            "grid_auto_columns": null,
            "grid_auto_flow": null,
            "grid_auto_rows": null,
            "grid_column": null,
            "grid_gap": null,
            "grid_row": null,
            "grid_template_areas": null,
            "grid_template_columns": null,
            "grid_template_rows": null,
            "height": null,
            "justify_content": null,
            "justify_items": null,
            "left": null,
            "margin": null,
            "max_height": null,
            "max_width": null,
            "min_height": null,
            "min_width": null,
            "object_fit": null,
            "object_position": null,
            "order": null,
            "overflow": null,
            "overflow_x": null,
            "overflow_y": null,
            "padding": null,
            "right": null,
            "top": null,
            "visibility": null,
            "width": null
          }
        },
        "106d56172c594d7598e88ec5f72f0cc9": {
          "model_module": "@jupyter-widgets/controls",
          "model_name": "ProgressStyleModel",
          "model_module_version": "1.5.0",
          "state": {
            "_model_module": "@jupyter-widgets/controls",
            "_model_module_version": "1.5.0",
            "_model_name": "ProgressStyleModel",
            "_view_count": null,
            "_view_module": "@jupyter-widgets/base",
            "_view_module_version": "1.2.0",
            "_view_name": "StyleView",
            "bar_color": null,
            "description_width": ""
          }
        },
        "f1b787be54c5424b864ff38e75a23ae0": {
          "model_module": "@jupyter-widgets/base",
          "model_name": "LayoutModel",
          "model_module_version": "1.2.0",
          "state": {
            "_model_module": "@jupyter-widgets/base",
            "_model_module_version": "1.2.0",
            "_model_name": "LayoutModel",
            "_view_count": null,
            "_view_module": "@jupyter-widgets/base",
            "_view_module_version": "1.2.0",
            "_view_name": "LayoutView",
            "align_content": null,
            "align_items": null,
            "align_self": null,
            "border": null,
            "bottom": null,
            "display": null,
            "flex": null,
            "flex_flow": null,
            "grid_area": null,
            "grid_auto_columns": null,
            "grid_auto_flow": null,
            "grid_auto_rows": null,
            "grid_column": null,
            "grid_gap": null,
            "grid_row": null,
            "grid_template_areas": null,
            "grid_template_columns": null,
            "grid_template_rows": null,
            "height": null,
            "justify_content": null,
            "justify_items": null,
            "left": null,
            "margin": null,
            "max_height": null,
            "max_width": null,
            "min_height": null,
            "min_width": null,
            "object_fit": null,
            "object_position": null,
            "order": null,
            "overflow": null,
            "overflow_x": null,
            "overflow_y": null,
            "padding": null,
            "right": null,
            "top": null,
            "visibility": null,
            "width": null
          }
        },
        "98dc4ab2619d4b74a24a578e5f43f750": {
          "model_module": "@jupyter-widgets/controls",
          "model_name": "DescriptionStyleModel",
          "model_module_version": "1.5.0",
          "state": {
            "_model_module": "@jupyter-widgets/controls",
            "_model_module_version": "1.5.0",
            "_model_name": "DescriptionStyleModel",
            "_view_count": null,
            "_view_module": "@jupyter-widgets/base",
            "_view_module_version": "1.2.0",
            "_view_name": "StyleView",
            "description_width": ""
          }
        },
        "bdc50727ee214216be18fb7edbad06f0": {
          "model_module": "@jupyter-widgets/controls",
          "model_name": "HBoxModel",
          "model_module_version": "1.5.0",
          "state": {
            "_dom_classes": [],
            "_model_module": "@jupyter-widgets/controls",
            "_model_module_version": "1.5.0",
            "_model_name": "HBoxModel",
            "_view_count": null,
            "_view_module": "@jupyter-widgets/controls",
            "_view_module_version": "1.5.0",
            "_view_name": "HBoxView",
            "box_style": "",
            "children": [
              "IPY_MODEL_42dbc3e95cb44adaa7a7739aba2e8e94",
              "IPY_MODEL_a4940377a9594f44867ba117f41a62b3",
              "IPY_MODEL_8eec1115a0b043cd952fd1b9b4bc5901"
            ],
            "layout": "IPY_MODEL_f4362af725d54d2696a955c25c0199e5"
          }
        },
        "42dbc3e95cb44adaa7a7739aba2e8e94": {
          "model_module": "@jupyter-widgets/controls",
          "model_name": "HTMLModel",
          "model_module_version": "1.5.0",
          "state": {
            "_dom_classes": [],
            "_model_module": "@jupyter-widgets/controls",
            "_model_module_version": "1.5.0",
            "_model_name": "HTMLModel",
            "_view_count": null,
            "_view_module": "@jupyter-widgets/controls",
            "_view_module_version": "1.5.0",
            "_view_name": "HTMLView",
            "description": "",
            "description_tooltip": null,
            "layout": "IPY_MODEL_a7366dc4290744fa9c15c0e29f268f1b",
            "placeholder": "​",
            "style": "IPY_MODEL_5ac0984625ce47afbd16f9c7a02ad0bb",
            "value": "Downloading readme: 100%"
          }
        },
        "a4940377a9594f44867ba117f41a62b3": {
          "model_module": "@jupyter-widgets/controls",
          "model_name": "FloatProgressModel",
          "model_module_version": "1.5.0",
          "state": {
            "_dom_classes": [],
            "_model_module": "@jupyter-widgets/controls",
            "_model_module_version": "1.5.0",
            "_model_name": "FloatProgressModel",
            "_view_count": null,
            "_view_module": "@jupyter-widgets/controls",
            "_view_module_version": "1.5.0",
            "_view_name": "ProgressView",
            "bar_style": "success",
            "description": "",
            "description_tooltip": null,
            "layout": "IPY_MODEL_d3551ade64cc4309825bab9cfb6f04be",
            "max": 8845,
            "min": 0,
            "orientation": "horizontal",
            "style": "IPY_MODEL_a67e5b75da83431a821f7585cb3035e8",
            "value": 8845
          }
        },
        "8eec1115a0b043cd952fd1b9b4bc5901": {
          "model_module": "@jupyter-widgets/controls",
          "model_name": "HTMLModel",
          "model_module_version": "1.5.0",
          "state": {
            "_dom_classes": [],
            "_model_module": "@jupyter-widgets/controls",
            "_model_module_version": "1.5.0",
            "_model_name": "HTMLModel",
            "_view_count": null,
            "_view_module": "@jupyter-widgets/controls",
            "_view_module_version": "1.5.0",
            "_view_name": "HTMLView",
            "description": "",
            "description_tooltip": null,
            "layout": "IPY_MODEL_b4a3676d193e4d48b43a456860dbe578",
            "placeholder": "​",
            "style": "IPY_MODEL_f12c8c872f754bac99f1dec2fbbcc61d",
            "value": " 8.85k/8.85k [00:00&lt;00:00, 432kB/s]"
          }
        },
        "f4362af725d54d2696a955c25c0199e5": {
          "model_module": "@jupyter-widgets/base",
          "model_name": "LayoutModel",
          "model_module_version": "1.2.0",
          "state": {
            "_model_module": "@jupyter-widgets/base",
            "_model_module_version": "1.2.0",
            "_model_name": "LayoutModel",
            "_view_count": null,
            "_view_module": "@jupyter-widgets/base",
            "_view_module_version": "1.2.0",
            "_view_name": "LayoutView",
            "align_content": null,
            "align_items": null,
            "align_self": null,
            "border": null,
            "bottom": null,
            "display": null,
            "flex": null,
            "flex_flow": null,
            "grid_area": null,
            "grid_auto_columns": null,
            "grid_auto_flow": null,
            "grid_auto_rows": null,
            "grid_column": null,
            "grid_gap": null,
            "grid_row": null,
            "grid_template_areas": null,
            "grid_template_columns": null,
            "grid_template_rows": null,
            "height": null,
            "justify_content": null,
            "justify_items": null,
            "left": null,
            "margin": null,
            "max_height": null,
            "max_width": null,
            "min_height": null,
            "min_width": null,
            "object_fit": null,
            "object_position": null,
            "order": null,
            "overflow": null,
            "overflow_x": null,
            "overflow_y": null,
            "padding": null,
            "right": null,
            "top": null,
            "visibility": null,
            "width": null
          }
        },
        "a7366dc4290744fa9c15c0e29f268f1b": {
          "model_module": "@jupyter-widgets/base",
          "model_name": "LayoutModel",
          "model_module_version": "1.2.0",
          "state": {
            "_model_module": "@jupyter-widgets/base",
            "_model_module_version": "1.2.0",
            "_model_name": "LayoutModel",
            "_view_count": null,
            "_view_module": "@jupyter-widgets/base",
            "_view_module_version": "1.2.0",
            "_view_name": "LayoutView",
            "align_content": null,
            "align_items": null,
            "align_self": null,
            "border": null,
            "bottom": null,
            "display": null,
            "flex": null,
            "flex_flow": null,
            "grid_area": null,
            "grid_auto_columns": null,
            "grid_auto_flow": null,
            "grid_auto_rows": null,
            "grid_column": null,
            "grid_gap": null,
            "grid_row": null,
            "grid_template_areas": null,
            "grid_template_columns": null,
            "grid_template_rows": null,
            "height": null,
            "justify_content": null,
            "justify_items": null,
            "left": null,
            "margin": null,
            "max_height": null,
            "max_width": null,
            "min_height": null,
            "min_width": null,
            "object_fit": null,
            "object_position": null,
            "order": null,
            "overflow": null,
            "overflow_x": null,
            "overflow_y": null,
            "padding": null,
            "right": null,
            "top": null,
            "visibility": null,
            "width": null
          }
        },
        "5ac0984625ce47afbd16f9c7a02ad0bb": {
          "model_module": "@jupyter-widgets/controls",
          "model_name": "DescriptionStyleModel",
          "model_module_version": "1.5.0",
          "state": {
            "_model_module": "@jupyter-widgets/controls",
            "_model_module_version": "1.5.0",
            "_model_name": "DescriptionStyleModel",
            "_view_count": null,
            "_view_module": "@jupyter-widgets/base",
            "_view_module_version": "1.2.0",
            "_view_name": "StyleView",
            "description_width": ""
          }
        },
        "d3551ade64cc4309825bab9cfb6f04be": {
          "model_module": "@jupyter-widgets/base",
          "model_name": "LayoutModel",
          "model_module_version": "1.2.0",
          "state": {
            "_model_module": "@jupyter-widgets/base",
            "_model_module_version": "1.2.0",
            "_model_name": "LayoutModel",
            "_view_count": null,
            "_view_module": "@jupyter-widgets/base",
            "_view_module_version": "1.2.0",
            "_view_name": "LayoutView",
            "align_content": null,
            "align_items": null,
            "align_self": null,
            "border": null,
            "bottom": null,
            "display": null,
            "flex": null,
            "flex_flow": null,
            "grid_area": null,
            "grid_auto_columns": null,
            "grid_auto_flow": null,
            "grid_auto_rows": null,
            "grid_column": null,
            "grid_gap": null,
            "grid_row": null,
            "grid_template_areas": null,
            "grid_template_columns": null,
            "grid_template_rows": null,
            "height": null,
            "justify_content": null,
            "justify_items": null,
            "left": null,
            "margin": null,
            "max_height": null,
            "max_width": null,
            "min_height": null,
            "min_width": null,
            "object_fit": null,
            "object_position": null,
            "order": null,
            "overflow": null,
            "overflow_x": null,
            "overflow_y": null,
            "padding": null,
            "right": null,
            "top": null,
            "visibility": null,
            "width": null
          }
        },
        "a67e5b75da83431a821f7585cb3035e8": {
          "model_module": "@jupyter-widgets/controls",
          "model_name": "ProgressStyleModel",
          "model_module_version": "1.5.0",
          "state": {
            "_model_module": "@jupyter-widgets/controls",
            "_model_module_version": "1.5.0",
            "_model_name": "ProgressStyleModel",
            "_view_count": null,
            "_view_module": "@jupyter-widgets/base",
            "_view_module_version": "1.2.0",
            "_view_name": "StyleView",
            "bar_color": null,
            "description_width": ""
          }
        },
        "b4a3676d193e4d48b43a456860dbe578": {
          "model_module": "@jupyter-widgets/base",
          "model_name": "LayoutModel",
          "model_module_version": "1.2.0",
          "state": {
            "_model_module": "@jupyter-widgets/base",
            "_model_module_version": "1.2.0",
            "_model_name": "LayoutModel",
            "_view_count": null,
            "_view_module": "@jupyter-widgets/base",
            "_view_module_version": "1.2.0",
            "_view_name": "LayoutView",
            "align_content": null,
            "align_items": null,
            "align_self": null,
            "border": null,
            "bottom": null,
            "display": null,
            "flex": null,
            "flex_flow": null,
            "grid_area": null,
            "grid_auto_columns": null,
            "grid_auto_flow": null,
            "grid_auto_rows": null,
            "grid_column": null,
            "grid_gap": null,
            "grid_row": null,
            "grid_template_areas": null,
            "grid_template_columns": null,
            "grid_template_rows": null,
            "height": null,
            "justify_content": null,
            "justify_items": null,
            "left": null,
            "margin": null,
            "max_height": null,
            "max_width": null,
            "min_height": null,
            "min_width": null,
            "object_fit": null,
            "object_position": null,
            "order": null,
            "overflow": null,
            "overflow_x": null,
            "overflow_y": null,
            "padding": null,
            "right": null,
            "top": null,
            "visibility": null,
            "width": null
          }
        },
        "f12c8c872f754bac99f1dec2fbbcc61d": {
          "model_module": "@jupyter-widgets/controls",
          "model_name": "DescriptionStyleModel",
          "model_module_version": "1.5.0",
          "state": {
            "_model_module": "@jupyter-widgets/controls",
            "_model_module_version": "1.5.0",
            "_model_name": "DescriptionStyleModel",
            "_view_count": null,
            "_view_module": "@jupyter-widgets/base",
            "_view_module_version": "1.2.0",
            "_view_name": "StyleView",
            "description_width": ""
          }
        },
        "e7a7cc9074104ceab4ed1ce29d30f611": {
          "model_module": "@jupyter-widgets/controls",
          "model_name": "HBoxModel",
          "model_module_version": "1.5.0",
          "state": {
            "_dom_classes": [],
            "_model_module": "@jupyter-widgets/controls",
            "_model_module_version": "1.5.0",
            "_model_name": "HBoxModel",
            "_view_count": null,
            "_view_module": "@jupyter-widgets/controls",
            "_view_module_version": "1.5.0",
            "_view_name": "HBoxView",
            "box_style": "",
            "children": [
              "IPY_MODEL_3e95146a490f4a4aa578abdc8ef207d8",
              "IPY_MODEL_eb8310b62de14ecc97435e6f4262283c",
              "IPY_MODEL_8612a42f429e47c486234d75a3b62fe2"
            ],
            "layout": "IPY_MODEL_c583d67a34334fe5bf0565cf7cefcef9"
          }
        },
        "3e95146a490f4a4aa578abdc8ef207d8": {
          "model_module": "@jupyter-widgets/controls",
          "model_name": "HTMLModel",
          "model_module_version": "1.5.0",
          "state": {
            "_dom_classes": [],
            "_model_module": "@jupyter-widgets/controls",
            "_model_module_version": "1.5.0",
            "_model_name": "HTMLModel",
            "_view_count": null,
            "_view_module": "@jupyter-widgets/controls",
            "_view_module_version": "1.5.0",
            "_view_name": "HTMLView",
            "description": "",
            "description_tooltip": null,
            "layout": "IPY_MODEL_e49c831be59f41c3bdb230e40a65b2fe",
            "placeholder": "​",
            "style": "IPY_MODEL_eefb7060c1d34cb2b7e9293da6128f64",
            "value": "Downloading data files: 100%"
          }
        },
        "eb8310b62de14ecc97435e6f4262283c": {
          "model_module": "@jupyter-widgets/controls",
          "model_name": "FloatProgressModel",
          "model_module_version": "1.5.0",
          "state": {
            "_dom_classes": [],
            "_model_module": "@jupyter-widgets/controls",
            "_model_module_version": "1.5.0",
            "_model_name": "FloatProgressModel",
            "_view_count": null,
            "_view_module": "@jupyter-widgets/controls",
            "_view_module_version": "1.5.0",
            "_view_name": "ProgressView",
            "bar_style": "success",
            "description": "",
            "description_tooltip": null,
            "layout": "IPY_MODEL_85d1dc65255e40618c32f78b31cc6d63",
            "max": 4,
            "min": 0,
            "orientation": "horizontal",
            "style": "IPY_MODEL_1f3b149623674671aad1819af04002d0",
            "value": 4
          }
        },
        "8612a42f429e47c486234d75a3b62fe2": {
          "model_module": "@jupyter-widgets/controls",
          "model_name": "HTMLModel",
          "model_module_version": "1.5.0",
          "state": {
            "_dom_classes": [],
            "_model_module": "@jupyter-widgets/controls",
            "_model_module_version": "1.5.0",
            "_model_name": "HTMLModel",
            "_view_count": null,
            "_view_module": "@jupyter-widgets/controls",
            "_view_module_version": "1.5.0",
            "_view_name": "HTMLView",
            "description": "",
            "description_tooltip": null,
            "layout": "IPY_MODEL_4218d8b495a747e7a616d987277a289a",
            "placeholder": "​",
            "style": "IPY_MODEL_b4fffc1e258c4e198b4e384560165104",
            "value": " 4/4 [00:02&lt;00:00,  1.59it/s]"
          }
        },
        "c583d67a34334fe5bf0565cf7cefcef9": {
          "model_module": "@jupyter-widgets/base",
          "model_name": "LayoutModel",
          "model_module_version": "1.2.0",
          "state": {
            "_model_module": "@jupyter-widgets/base",
            "_model_module_version": "1.2.0",
            "_model_name": "LayoutModel",
            "_view_count": null,
            "_view_module": "@jupyter-widgets/base",
            "_view_module_version": "1.2.0",
            "_view_name": "LayoutView",
            "align_content": null,
            "align_items": null,
            "align_self": null,
            "border": null,
            "bottom": null,
            "display": null,
            "flex": null,
            "flex_flow": null,
            "grid_area": null,
            "grid_auto_columns": null,
            "grid_auto_flow": null,
            "grid_auto_rows": null,
            "grid_column": null,
            "grid_gap": null,
            "grid_row": null,
            "grid_template_areas": null,
            "grid_template_columns": null,
            "grid_template_rows": null,
            "height": null,
            "justify_content": null,
            "justify_items": null,
            "left": null,
            "margin": null,
            "max_height": null,
            "max_width": null,
            "min_height": null,
            "min_width": null,
            "object_fit": null,
            "object_position": null,
            "order": null,
            "overflow": null,
            "overflow_x": null,
            "overflow_y": null,
            "padding": null,
            "right": null,
            "top": null,
            "visibility": null,
            "width": null
          }
        },
        "e49c831be59f41c3bdb230e40a65b2fe": {
          "model_module": "@jupyter-widgets/base",
          "model_name": "LayoutModel",
          "model_module_version": "1.2.0",
          "state": {
            "_model_module": "@jupyter-widgets/base",
            "_model_module_version": "1.2.0",
            "_model_name": "LayoutModel",
            "_view_count": null,
            "_view_module": "@jupyter-widgets/base",
            "_view_module_version": "1.2.0",
            "_view_name": "LayoutView",
            "align_content": null,
            "align_items": null,
            "align_self": null,
            "border": null,
            "bottom": null,
            "display": null,
            "flex": null,
            "flex_flow": null,
            "grid_area": null,
            "grid_auto_columns": null,
            "grid_auto_flow": null,
            "grid_auto_rows": null,
            "grid_column": null,
            "grid_gap": null,
            "grid_row": null,
            "grid_template_areas": null,
            "grid_template_columns": null,
            "grid_template_rows": null,
            "height": null,
            "justify_content": null,
            "justify_items": null,
            "left": null,
            "margin": null,
            "max_height": null,
            "max_width": null,
            "min_height": null,
            "min_width": null,
            "object_fit": null,
            "object_position": null,
            "order": null,
            "overflow": null,
            "overflow_x": null,
            "overflow_y": null,
            "padding": null,
            "right": null,
            "top": null,
            "visibility": null,
            "width": null
          }
        },
        "eefb7060c1d34cb2b7e9293da6128f64": {
          "model_module": "@jupyter-widgets/controls",
          "model_name": "DescriptionStyleModel",
          "model_module_version": "1.5.0",
          "state": {
            "_model_module": "@jupyter-widgets/controls",
            "_model_module_version": "1.5.0",
            "_model_name": "DescriptionStyleModel",
            "_view_count": null,
            "_view_module": "@jupyter-widgets/base",
            "_view_module_version": "1.2.0",
            "_view_name": "StyleView",
            "description_width": ""
          }
        },
        "85d1dc65255e40618c32f78b31cc6d63": {
          "model_module": "@jupyter-widgets/base",
          "model_name": "LayoutModel",
          "model_module_version": "1.2.0",
          "state": {
            "_model_module": "@jupyter-widgets/base",
            "_model_module_version": "1.2.0",
            "_model_name": "LayoutModel",
            "_view_count": null,
            "_view_module": "@jupyter-widgets/base",
            "_view_module_version": "1.2.0",
            "_view_name": "LayoutView",
            "align_content": null,
            "align_items": null,
            "align_self": null,
            "border": null,
            "bottom": null,
            "display": null,
            "flex": null,
            "flex_flow": null,
            "grid_area": null,
            "grid_auto_columns": null,
            "grid_auto_flow": null,
            "grid_auto_rows": null,
            "grid_column": null,
            "grid_gap": null,
            "grid_row": null,
            "grid_template_areas": null,
            "grid_template_columns": null,
            "grid_template_rows": null,
            "height": null,
            "justify_content": null,
            "justify_items": null,
            "left": null,
            "margin": null,
            "max_height": null,
            "max_width": null,
            "min_height": null,
            "min_width": null,
            "object_fit": null,
            "object_position": null,
            "order": null,
            "overflow": null,
            "overflow_x": null,
            "overflow_y": null,
            "padding": null,
            "right": null,
            "top": null,
            "visibility": null,
            "width": null
          }
        },
        "1f3b149623674671aad1819af04002d0": {
          "model_module": "@jupyter-widgets/controls",
          "model_name": "ProgressStyleModel",
          "model_module_version": "1.5.0",
          "state": {
            "_model_module": "@jupyter-widgets/controls",
            "_model_module_version": "1.5.0",
            "_model_name": "ProgressStyleModel",
            "_view_count": null,
            "_view_module": "@jupyter-widgets/base",
            "_view_module_version": "1.2.0",
            "_view_name": "StyleView",
            "bar_color": null,
            "description_width": ""
          }
        },
        "4218d8b495a747e7a616d987277a289a": {
          "model_module": "@jupyter-widgets/base",
          "model_name": "LayoutModel",
          "model_module_version": "1.2.0",
          "state": {
            "_model_module": "@jupyter-widgets/base",
            "_model_module_version": "1.2.0",
            "_model_name": "LayoutModel",
            "_view_count": null,
            "_view_module": "@jupyter-widgets/base",
            "_view_module_version": "1.2.0",
            "_view_name": "LayoutView",
            "align_content": null,
            "align_items": null,
            "align_self": null,
            "border": null,
            "bottom": null,
            "display": null,
            "flex": null,
            "flex_flow": null,
            "grid_area": null,
            "grid_auto_columns": null,
            "grid_auto_flow": null,
            "grid_auto_rows": null,
            "grid_column": null,
            "grid_gap": null,
            "grid_row": null,
            "grid_template_areas": null,
            "grid_template_columns": null,
            "grid_template_rows": null,
            "height": null,
            "justify_content": null,
            "justify_items": null,
            "left": null,
            "margin": null,
            "max_height": null,
            "max_width": null,
            "min_height": null,
            "min_width": null,
            "object_fit": null,
            "object_position": null,
            "order": null,
            "overflow": null,
            "overflow_x": null,
            "overflow_y": null,
            "padding": null,
            "right": null,
            "top": null,
            "visibility": null,
            "width": null
          }
        },
        "b4fffc1e258c4e198b4e384560165104": {
          "model_module": "@jupyter-widgets/controls",
          "model_name": "DescriptionStyleModel",
          "model_module_version": "1.5.0",
          "state": {
            "_model_module": "@jupyter-widgets/controls",
            "_model_module_version": "1.5.0",
            "_model_name": "DescriptionStyleModel",
            "_view_count": null,
            "_view_module": "@jupyter-widgets/base",
            "_view_module_version": "1.2.0",
            "_view_name": "StyleView",
            "description_width": ""
          }
        },
        "93f4556c4f4f41bc8e9decfbf883fc84": {
          "model_module": "@jupyter-widgets/controls",
          "model_name": "HBoxModel",
          "model_module_version": "1.5.0",
          "state": {
            "_dom_classes": [],
            "_model_module": "@jupyter-widgets/controls",
            "_model_module_version": "1.5.0",
            "_model_name": "HBoxModel",
            "_view_count": null,
            "_view_module": "@jupyter-widgets/controls",
            "_view_module_version": "1.5.0",
            "_view_name": "HBoxView",
            "box_style": "",
            "children": [
              "IPY_MODEL_a083e136569e439ab15bfaf16391821e",
              "IPY_MODEL_ae9a2637fbd84c80a9d6205bd8535cf2",
              "IPY_MODEL_12d07c677cfd4adfbe2dc9ba6a85ba0f"
            ],
            "layout": "IPY_MODEL_bc35d16b07b247e69b893deedc4cb884"
          }
        },
        "a083e136569e439ab15bfaf16391821e": {
          "model_module": "@jupyter-widgets/controls",
          "model_name": "HTMLModel",
          "model_module_version": "1.5.0",
          "state": {
            "_dom_classes": [],
            "_model_module": "@jupyter-widgets/controls",
            "_model_module_version": "1.5.0",
            "_model_name": "HTMLModel",
            "_view_count": null,
            "_view_module": "@jupyter-widgets/controls",
            "_view_module_version": "1.5.0",
            "_view_name": "HTMLView",
            "description": "",
            "description_tooltip": null,
            "layout": "IPY_MODEL_8501cdf5e4854d29a54b644d5564ccdd",
            "placeholder": "​",
            "style": "IPY_MODEL_2b5239fc324746439cc2729a61267d56",
            "value": "Downloading data: 100%"
          }
        },
        "ae9a2637fbd84c80a9d6205bd8535cf2": {
          "model_module": "@jupyter-widgets/controls",
          "model_name": "FloatProgressModel",
          "model_module_version": "1.5.0",
          "state": {
            "_dom_classes": [],
            "_model_module": "@jupyter-widgets/controls",
            "_model_module_version": "1.5.0",
            "_model_name": "FloatProgressModel",
            "_view_count": null,
            "_view_module": "@jupyter-widgets/controls",
            "_view_module_version": "1.5.0",
            "_view_name": "ProgressView",
            "bar_style": "success",
            "description": "",
            "description_tooltip": null,
            "layout": "IPY_MODEL_f53087ef05954b27a8828d7ce0809ddf",
            "max": 26421880,
            "min": 0,
            "orientation": "horizontal",
            "style": "IPY_MODEL_a40f712c97f844c8b9e34b7446635f0b",
            "value": 26421880
          }
        },
        "12d07c677cfd4adfbe2dc9ba6a85ba0f": {
          "model_module": "@jupyter-widgets/controls",
          "model_name": "HTMLModel",
          "model_module_version": "1.5.0",
          "state": {
            "_dom_classes": [],
            "_model_module": "@jupyter-widgets/controls",
            "_model_module_version": "1.5.0",
            "_model_name": "HTMLModel",
            "_view_count": null,
            "_view_module": "@jupyter-widgets/controls",
            "_view_module_version": "1.5.0",
            "_view_name": "HTMLView",
            "description": "",
            "description_tooltip": null,
            "layout": "IPY_MODEL_247fbc5c3cb84298a25da7b28aea16aa",
            "placeholder": "​",
            "style": "IPY_MODEL_292e133578234c3d89aeb2186890f6f5",
            "value": " 26.4M/26.4M [00:00&lt;00:00, 82.0MB/s]"
          }
        },
        "bc35d16b07b247e69b893deedc4cb884": {
          "model_module": "@jupyter-widgets/base",
          "model_name": "LayoutModel",
          "model_module_version": "1.2.0",
          "state": {
            "_model_module": "@jupyter-widgets/base",
            "_model_module_version": "1.2.0",
            "_model_name": "LayoutModel",
            "_view_count": null,
            "_view_module": "@jupyter-widgets/base",
            "_view_module_version": "1.2.0",
            "_view_name": "LayoutView",
            "align_content": null,
            "align_items": null,
            "align_self": null,
            "border": null,
            "bottom": null,
            "display": null,
            "flex": null,
            "flex_flow": null,
            "grid_area": null,
            "grid_auto_columns": null,
            "grid_auto_flow": null,
            "grid_auto_rows": null,
            "grid_column": null,
            "grid_gap": null,
            "grid_row": null,
            "grid_template_areas": null,
            "grid_template_columns": null,
            "grid_template_rows": null,
            "height": null,
            "justify_content": null,
            "justify_items": null,
            "left": null,
            "margin": null,
            "max_height": null,
            "max_width": null,
            "min_height": null,
            "min_width": null,
            "object_fit": null,
            "object_position": null,
            "order": null,
            "overflow": null,
            "overflow_x": null,
            "overflow_y": null,
            "padding": null,
            "right": null,
            "top": null,
            "visibility": null,
            "width": null
          }
        },
        "8501cdf5e4854d29a54b644d5564ccdd": {
          "model_module": "@jupyter-widgets/base",
          "model_name": "LayoutModel",
          "model_module_version": "1.2.0",
          "state": {
            "_model_module": "@jupyter-widgets/base",
            "_model_module_version": "1.2.0",
            "_model_name": "LayoutModel",
            "_view_count": null,
            "_view_module": "@jupyter-widgets/base",
            "_view_module_version": "1.2.0",
            "_view_name": "LayoutView",
            "align_content": null,
            "align_items": null,
            "align_self": null,
            "border": null,
            "bottom": null,
            "display": null,
            "flex": null,
            "flex_flow": null,
            "grid_area": null,
            "grid_auto_columns": null,
            "grid_auto_flow": null,
            "grid_auto_rows": null,
            "grid_column": null,
            "grid_gap": null,
            "grid_row": null,
            "grid_template_areas": null,
            "grid_template_columns": null,
            "grid_template_rows": null,
            "height": null,
            "justify_content": null,
            "justify_items": null,
            "left": null,
            "margin": null,
            "max_height": null,
            "max_width": null,
            "min_height": null,
            "min_width": null,
            "object_fit": null,
            "object_position": null,
            "order": null,
            "overflow": null,
            "overflow_x": null,
            "overflow_y": null,
            "padding": null,
            "right": null,
            "top": null,
            "visibility": null,
            "width": null
          }
        },
        "2b5239fc324746439cc2729a61267d56": {
          "model_module": "@jupyter-widgets/controls",
          "model_name": "DescriptionStyleModel",
          "model_module_version": "1.5.0",
          "state": {
            "_model_module": "@jupyter-widgets/controls",
            "_model_module_version": "1.5.0",
            "_model_name": "DescriptionStyleModel",
            "_view_count": null,
            "_view_module": "@jupyter-widgets/base",
            "_view_module_version": "1.2.0",
            "_view_name": "StyleView",
            "description_width": ""
          }
        },
        "f53087ef05954b27a8828d7ce0809ddf": {
          "model_module": "@jupyter-widgets/base",
          "model_name": "LayoutModel",
          "model_module_version": "1.2.0",
          "state": {
            "_model_module": "@jupyter-widgets/base",
            "_model_module_version": "1.2.0",
            "_model_name": "LayoutModel",
            "_view_count": null,
            "_view_module": "@jupyter-widgets/base",
            "_view_module_version": "1.2.0",
            "_view_name": "LayoutView",
            "align_content": null,
            "align_items": null,
            "align_self": null,
            "border": null,
            "bottom": null,
            "display": null,
            "flex": null,
            "flex_flow": null,
            "grid_area": null,
            "grid_auto_columns": null,
            "grid_auto_flow": null,
            "grid_auto_rows": null,
            "grid_column": null,
            "grid_gap": null,
            "grid_row": null,
            "grid_template_areas": null,
            "grid_template_columns": null,
            "grid_template_rows": null,
            "height": null,
            "justify_content": null,
            "justify_items": null,
            "left": null,
            "margin": null,
            "max_height": null,
            "max_width": null,
            "min_height": null,
            "min_width": null,
            "object_fit": null,
            "object_position": null,
            "order": null,
            "overflow": null,
            "overflow_x": null,
            "overflow_y": null,
            "padding": null,
            "right": null,
            "top": null,
            "visibility": null,
            "width": null
          }
        },
        "a40f712c97f844c8b9e34b7446635f0b": {
          "model_module": "@jupyter-widgets/controls",
          "model_name": "ProgressStyleModel",
          "model_module_version": "1.5.0",
          "state": {
            "_model_module": "@jupyter-widgets/controls",
            "_model_module_version": "1.5.0",
            "_model_name": "ProgressStyleModel",
            "_view_count": null,
            "_view_module": "@jupyter-widgets/base",
            "_view_module_version": "1.2.0",
            "_view_name": "StyleView",
            "bar_color": null,
            "description_width": ""
          }
        },
        "247fbc5c3cb84298a25da7b28aea16aa": {
          "model_module": "@jupyter-widgets/base",
          "model_name": "LayoutModel",
          "model_module_version": "1.2.0",
          "state": {
            "_model_module": "@jupyter-widgets/base",
            "_model_module_version": "1.2.0",
            "_model_name": "LayoutModel",
            "_view_count": null,
            "_view_module": "@jupyter-widgets/base",
            "_view_module_version": "1.2.0",
            "_view_name": "LayoutView",
            "align_content": null,
            "align_items": null,
            "align_self": null,
            "border": null,
            "bottom": null,
            "display": null,
            "flex": null,
            "flex_flow": null,
            "grid_area": null,
            "grid_auto_columns": null,
            "grid_auto_flow": null,
            "grid_auto_rows": null,
            "grid_column": null,
            "grid_gap": null,
            "grid_row": null,
            "grid_template_areas": null,
            "grid_template_columns": null,
            "grid_template_rows": null,
            "height": null,
            "justify_content": null,
            "justify_items": null,
            "left": null,
            "margin": null,
            "max_height": null,
            "max_width": null,
            "min_height": null,
            "min_width": null,
            "object_fit": null,
            "object_position": null,
            "order": null,
            "overflow": null,
            "overflow_x": null,
            "overflow_y": null,
            "padding": null,
            "right": null,
            "top": null,
            "visibility": null,
            "width": null
          }
        },
        "292e133578234c3d89aeb2186890f6f5": {
          "model_module": "@jupyter-widgets/controls",
          "model_name": "DescriptionStyleModel",
          "model_module_version": "1.5.0",
          "state": {
            "_model_module": "@jupyter-widgets/controls",
            "_model_module_version": "1.5.0",
            "_model_name": "DescriptionStyleModel",
            "_view_count": null,
            "_view_module": "@jupyter-widgets/base",
            "_view_module_version": "1.2.0",
            "_view_name": "StyleView",
            "description_width": ""
          }
        },
        "bcfce533ff2c47d8877bd3be47d8a150": {
          "model_module": "@jupyter-widgets/controls",
          "model_name": "HBoxModel",
          "model_module_version": "1.5.0",
          "state": {
            "_dom_classes": [],
            "_model_module": "@jupyter-widgets/controls",
            "_model_module_version": "1.5.0",
            "_model_name": "HBoxModel",
            "_view_count": null,
            "_view_module": "@jupyter-widgets/controls",
            "_view_module_version": "1.5.0",
            "_view_name": "HBoxView",
            "box_style": "",
            "children": [
              "IPY_MODEL_57416e2d89d7491ab707ab54c30d940f",
              "IPY_MODEL_20bc8d78e8104610a8a1f08e62cdb2c4",
              "IPY_MODEL_aeca210f40974959a962a51b5ebbdb8e"
            ],
            "layout": "IPY_MODEL_dc3adcee40ad493b9204de4e95a0151d"
          }
        },
        "57416e2d89d7491ab707ab54c30d940f": {
          "model_module": "@jupyter-widgets/controls",
          "model_name": "HTMLModel",
          "model_module_version": "1.5.0",
          "state": {
            "_dom_classes": [],
            "_model_module": "@jupyter-widgets/controls",
            "_model_module_version": "1.5.0",
            "_model_name": "HTMLModel",
            "_view_count": null,
            "_view_module": "@jupyter-widgets/controls",
            "_view_module_version": "1.5.0",
            "_view_name": "HTMLView",
            "description": "",
            "description_tooltip": null,
            "layout": "IPY_MODEL_ba72616493ca4731abb8fd3eaaee32c2",
            "placeholder": "​",
            "style": "IPY_MODEL_a91d3d41c47946c99c4cf7e04cb1f98f",
            "value": "Downloading data: 100%"
          }
        },
        "20bc8d78e8104610a8a1f08e62cdb2c4": {
          "model_module": "@jupyter-widgets/controls",
          "model_name": "FloatProgressModel",
          "model_module_version": "1.5.0",
          "state": {
            "_dom_classes": [],
            "_model_module": "@jupyter-widgets/controls",
            "_model_module_version": "1.5.0",
            "_model_name": "FloatProgressModel",
            "_view_count": null,
            "_view_module": "@jupyter-widgets/controls",
            "_view_module_version": "1.5.0",
            "_view_name": "ProgressView",
            "bar_style": "success",
            "description": "",
            "description_tooltip": null,
            "layout": "IPY_MODEL_7a6729bfae544c8d8940da445dc09879",
            "max": 29515,
            "min": 0,
            "orientation": "horizontal",
            "style": "IPY_MODEL_b8e76c96c20044c398825d471f9e4669",
            "value": 29515
          }
        },
        "aeca210f40974959a962a51b5ebbdb8e": {
          "model_module": "@jupyter-widgets/controls",
          "model_name": "HTMLModel",
          "model_module_version": "1.5.0",
          "state": {
            "_dom_classes": [],
            "_model_module": "@jupyter-widgets/controls",
            "_model_module_version": "1.5.0",
            "_model_name": "HTMLModel",
            "_view_count": null,
            "_view_module": "@jupyter-widgets/controls",
            "_view_module_version": "1.5.0",
            "_view_name": "HTMLView",
            "description": "",
            "description_tooltip": null,
            "layout": "IPY_MODEL_880229ba70d94c09a8a5b6d8953ec829",
            "placeholder": "​",
            "style": "IPY_MODEL_e8e2ca52cfb1496a84edfdc99bf6ccd0",
            "value": " 29.5k/29.5k [00:00&lt;00:00, 1.29MB/s]"
          }
        },
        "dc3adcee40ad493b9204de4e95a0151d": {
          "model_module": "@jupyter-widgets/base",
          "model_name": "LayoutModel",
          "model_module_version": "1.2.0",
          "state": {
            "_model_module": "@jupyter-widgets/base",
            "_model_module_version": "1.2.0",
            "_model_name": "LayoutModel",
            "_view_count": null,
            "_view_module": "@jupyter-widgets/base",
            "_view_module_version": "1.2.0",
            "_view_name": "LayoutView",
            "align_content": null,
            "align_items": null,
            "align_self": null,
            "border": null,
            "bottom": null,
            "display": null,
            "flex": null,
            "flex_flow": null,
            "grid_area": null,
            "grid_auto_columns": null,
            "grid_auto_flow": null,
            "grid_auto_rows": null,
            "grid_column": null,
            "grid_gap": null,
            "grid_row": null,
            "grid_template_areas": null,
            "grid_template_columns": null,
            "grid_template_rows": null,
            "height": null,
            "justify_content": null,
            "justify_items": null,
            "left": null,
            "margin": null,
            "max_height": null,
            "max_width": null,
            "min_height": null,
            "min_width": null,
            "object_fit": null,
            "object_position": null,
            "order": null,
            "overflow": null,
            "overflow_x": null,
            "overflow_y": null,
            "padding": null,
            "right": null,
            "top": null,
            "visibility": null,
            "width": null
          }
        },
        "ba72616493ca4731abb8fd3eaaee32c2": {
          "model_module": "@jupyter-widgets/base",
          "model_name": "LayoutModel",
          "model_module_version": "1.2.0",
          "state": {
            "_model_module": "@jupyter-widgets/base",
            "_model_module_version": "1.2.0",
            "_model_name": "LayoutModel",
            "_view_count": null,
            "_view_module": "@jupyter-widgets/base",
            "_view_module_version": "1.2.0",
            "_view_name": "LayoutView",
            "align_content": null,
            "align_items": null,
            "align_self": null,
            "border": null,
            "bottom": null,
            "display": null,
            "flex": null,
            "flex_flow": null,
            "grid_area": null,
            "grid_auto_columns": null,
            "grid_auto_flow": null,
            "grid_auto_rows": null,
            "grid_column": null,
            "grid_gap": null,
            "grid_row": null,
            "grid_template_areas": null,
            "grid_template_columns": null,
            "grid_template_rows": null,
            "height": null,
            "justify_content": null,
            "justify_items": null,
            "left": null,
            "margin": null,
            "max_height": null,
            "max_width": null,
            "min_height": null,
            "min_width": null,
            "object_fit": null,
            "object_position": null,
            "order": null,
            "overflow": null,
            "overflow_x": null,
            "overflow_y": null,
            "padding": null,
            "right": null,
            "top": null,
            "visibility": null,
            "width": null
          }
        },
        "a91d3d41c47946c99c4cf7e04cb1f98f": {
          "model_module": "@jupyter-widgets/controls",
          "model_name": "DescriptionStyleModel",
          "model_module_version": "1.5.0",
          "state": {
            "_model_module": "@jupyter-widgets/controls",
            "_model_module_version": "1.5.0",
            "_model_name": "DescriptionStyleModel",
            "_view_count": null,
            "_view_module": "@jupyter-widgets/base",
            "_view_module_version": "1.2.0",
            "_view_name": "StyleView",
            "description_width": ""
          }
        },
        "7a6729bfae544c8d8940da445dc09879": {
          "model_module": "@jupyter-widgets/base",
          "model_name": "LayoutModel",
          "model_module_version": "1.2.0",
          "state": {
            "_model_module": "@jupyter-widgets/base",
            "_model_module_version": "1.2.0",
            "_model_name": "LayoutModel",
            "_view_count": null,
            "_view_module": "@jupyter-widgets/base",
            "_view_module_version": "1.2.0",
            "_view_name": "LayoutView",
            "align_content": null,
            "align_items": null,
            "align_self": null,
            "border": null,
            "bottom": null,
            "display": null,
            "flex": null,
            "flex_flow": null,
            "grid_area": null,
            "grid_auto_columns": null,
            "grid_auto_flow": null,
            "grid_auto_rows": null,
            "grid_column": null,
            "grid_gap": null,
            "grid_row": null,
            "grid_template_areas": null,
            "grid_template_columns": null,
            "grid_template_rows": null,
            "height": null,
            "justify_content": null,
            "justify_items": null,
            "left": null,
            "margin": null,
            "max_height": null,
            "max_width": null,
            "min_height": null,
            "min_width": null,
            "object_fit": null,
            "object_position": null,
            "order": null,
            "overflow": null,
            "overflow_x": null,
            "overflow_y": null,
            "padding": null,
            "right": null,
            "top": null,
            "visibility": null,
            "width": null
          }
        },
        "b8e76c96c20044c398825d471f9e4669": {
          "model_module": "@jupyter-widgets/controls",
          "model_name": "ProgressStyleModel",
          "model_module_version": "1.5.0",
          "state": {
            "_model_module": "@jupyter-widgets/controls",
            "_model_module_version": "1.5.0",
            "_model_name": "ProgressStyleModel",
            "_view_count": null,
            "_view_module": "@jupyter-widgets/base",
            "_view_module_version": "1.2.0",
            "_view_name": "StyleView",
            "bar_color": null,
            "description_width": ""
          }
        },
        "880229ba70d94c09a8a5b6d8953ec829": {
          "model_module": "@jupyter-widgets/base",
          "model_name": "LayoutModel",
          "model_module_version": "1.2.0",
          "state": {
            "_model_module": "@jupyter-widgets/base",
            "_model_module_version": "1.2.0",
            "_model_name": "LayoutModel",
            "_view_count": null,
            "_view_module": "@jupyter-widgets/base",
            "_view_module_version": "1.2.0",
            "_view_name": "LayoutView",
            "align_content": null,
            "align_items": null,
            "align_self": null,
            "border": null,
            "bottom": null,
            "display": null,
            "flex": null,
            "flex_flow": null,
            "grid_area": null,
            "grid_auto_columns": null,
            "grid_auto_flow": null,
            "grid_auto_rows": null,
            "grid_column": null,
            "grid_gap": null,
            "grid_row": null,
            "grid_template_areas": null,
            "grid_template_columns": null,
            "grid_template_rows": null,
            "height": null,
            "justify_content": null,
            "justify_items": null,
            "left": null,
            "margin": null,
            "max_height": null,
            "max_width": null,
            "min_height": null,
            "min_width": null,
            "object_fit": null,
            "object_position": null,
            "order": null,
            "overflow": null,
            "overflow_x": null,
            "overflow_y": null,
            "padding": null,
            "right": null,
            "top": null,
            "visibility": null,
            "width": null
          }
        },
        "e8e2ca52cfb1496a84edfdc99bf6ccd0": {
          "model_module": "@jupyter-widgets/controls",
          "model_name": "DescriptionStyleModel",
          "model_module_version": "1.5.0",
          "state": {
            "_model_module": "@jupyter-widgets/controls",
            "_model_module_version": "1.5.0",
            "_model_name": "DescriptionStyleModel",
            "_view_count": null,
            "_view_module": "@jupyter-widgets/base",
            "_view_module_version": "1.2.0",
            "_view_name": "StyleView",
            "description_width": ""
          }
        },
        "3a56661b3cd74136a5f732bd8c25117a": {
          "model_module": "@jupyter-widgets/controls",
          "model_name": "HBoxModel",
          "model_module_version": "1.5.0",
          "state": {
            "_dom_classes": [],
            "_model_module": "@jupyter-widgets/controls",
            "_model_module_version": "1.5.0",
            "_model_name": "HBoxModel",
            "_view_count": null,
            "_view_module": "@jupyter-widgets/controls",
            "_view_module_version": "1.5.0",
            "_view_name": "HBoxView",
            "box_style": "",
            "children": [
              "IPY_MODEL_8cbcc4df0fae4f23809344bad04b0054",
              "IPY_MODEL_8177b8f36fba44bb9a91979752d8f396",
              "IPY_MODEL_f4d33900e9784676ac4ff5ec10172edb"
            ],
            "layout": "IPY_MODEL_455eed4a0fd74bfca152fe857c9b0007"
          }
        },
        "8cbcc4df0fae4f23809344bad04b0054": {
          "model_module": "@jupyter-widgets/controls",
          "model_name": "HTMLModel",
          "model_module_version": "1.5.0",
          "state": {
            "_dom_classes": [],
            "_model_module": "@jupyter-widgets/controls",
            "_model_module_version": "1.5.0",
            "_model_name": "HTMLModel",
            "_view_count": null,
            "_view_module": "@jupyter-widgets/controls",
            "_view_module_version": "1.5.0",
            "_view_name": "HTMLView",
            "description": "",
            "description_tooltip": null,
            "layout": "IPY_MODEL_3eda731e108e43478ec571e82fdbe9a5",
            "placeholder": "​",
            "style": "IPY_MODEL_ae77b7195db143298f9b6c083338ff02",
            "value": "Downloading data: 100%"
          }
        },
        "8177b8f36fba44bb9a91979752d8f396": {
          "model_module": "@jupyter-widgets/controls",
          "model_name": "FloatProgressModel",
          "model_module_version": "1.5.0",
          "state": {
            "_dom_classes": [],
            "_model_module": "@jupyter-widgets/controls",
            "_model_module_version": "1.5.0",
            "_model_name": "FloatProgressModel",
            "_view_count": null,
            "_view_module": "@jupyter-widgets/controls",
            "_view_module_version": "1.5.0",
            "_view_name": "ProgressView",
            "bar_style": "success",
            "description": "",
            "description_tooltip": null,
            "layout": "IPY_MODEL_5d440287cc8d415d822b4471935ef16a",
            "max": 4422102,
            "min": 0,
            "orientation": "horizontal",
            "style": "IPY_MODEL_a1a2605818014991a2516a532d60b926",
            "value": 4422102
          }
        },
        "f4d33900e9784676ac4ff5ec10172edb": {
          "model_module": "@jupyter-widgets/controls",
          "model_name": "HTMLModel",
          "model_module_version": "1.5.0",
          "state": {
            "_dom_classes": [],
            "_model_module": "@jupyter-widgets/controls",
            "_model_module_version": "1.5.0",
            "_model_name": "HTMLModel",
            "_view_count": null,
            "_view_module": "@jupyter-widgets/controls",
            "_view_module_version": "1.5.0",
            "_view_name": "HTMLView",
            "description": "",
            "description_tooltip": null,
            "layout": "IPY_MODEL_6b158bdcf2f5480f95d06d9a14dd8c65",
            "placeholder": "​",
            "style": "IPY_MODEL_0c44843f365248babb6e448e7a0daea3",
            "value": " 4.42M/4.42M [00:00&lt;00:00, 57.6MB/s]"
          }
        },
        "455eed4a0fd74bfca152fe857c9b0007": {
          "model_module": "@jupyter-widgets/base",
          "model_name": "LayoutModel",
          "model_module_version": "1.2.0",
          "state": {
            "_model_module": "@jupyter-widgets/base",
            "_model_module_version": "1.2.0",
            "_model_name": "LayoutModel",
            "_view_count": null,
            "_view_module": "@jupyter-widgets/base",
            "_view_module_version": "1.2.0",
            "_view_name": "LayoutView",
            "align_content": null,
            "align_items": null,
            "align_self": null,
            "border": null,
            "bottom": null,
            "display": null,
            "flex": null,
            "flex_flow": null,
            "grid_area": null,
            "grid_auto_columns": null,
            "grid_auto_flow": null,
            "grid_auto_rows": null,
            "grid_column": null,
            "grid_gap": null,
            "grid_row": null,
            "grid_template_areas": null,
            "grid_template_columns": null,
            "grid_template_rows": null,
            "height": null,
            "justify_content": null,
            "justify_items": null,
            "left": null,
            "margin": null,
            "max_height": null,
            "max_width": null,
            "min_height": null,
            "min_width": null,
            "object_fit": null,
            "object_position": null,
            "order": null,
            "overflow": null,
            "overflow_x": null,
            "overflow_y": null,
            "padding": null,
            "right": null,
            "top": null,
            "visibility": null,
            "width": null
          }
        },
        "3eda731e108e43478ec571e82fdbe9a5": {
          "model_module": "@jupyter-widgets/base",
          "model_name": "LayoutModel",
          "model_module_version": "1.2.0",
          "state": {
            "_model_module": "@jupyter-widgets/base",
            "_model_module_version": "1.2.0",
            "_model_name": "LayoutModel",
            "_view_count": null,
            "_view_module": "@jupyter-widgets/base",
            "_view_module_version": "1.2.0",
            "_view_name": "LayoutView",
            "align_content": null,
            "align_items": null,
            "align_self": null,
            "border": null,
            "bottom": null,
            "display": null,
            "flex": null,
            "flex_flow": null,
            "grid_area": null,
            "grid_auto_columns": null,
            "grid_auto_flow": null,
            "grid_auto_rows": null,
            "grid_column": null,
            "grid_gap": null,
            "grid_row": null,
            "grid_template_areas": null,
            "grid_template_columns": null,
            "grid_template_rows": null,
            "height": null,
            "justify_content": null,
            "justify_items": null,
            "left": null,
            "margin": null,
            "max_height": null,
            "max_width": null,
            "min_height": null,
            "min_width": null,
            "object_fit": null,
            "object_position": null,
            "order": null,
            "overflow": null,
            "overflow_x": null,
            "overflow_y": null,
            "padding": null,
            "right": null,
            "top": null,
            "visibility": null,
            "width": null
          }
        },
        "ae77b7195db143298f9b6c083338ff02": {
          "model_module": "@jupyter-widgets/controls",
          "model_name": "DescriptionStyleModel",
          "model_module_version": "1.5.0",
          "state": {
            "_model_module": "@jupyter-widgets/controls",
            "_model_module_version": "1.5.0",
            "_model_name": "DescriptionStyleModel",
            "_view_count": null,
            "_view_module": "@jupyter-widgets/base",
            "_view_module_version": "1.2.0",
            "_view_name": "StyleView",
            "description_width": ""
          }
        },
        "5d440287cc8d415d822b4471935ef16a": {
          "model_module": "@jupyter-widgets/base",
          "model_name": "LayoutModel",
          "model_module_version": "1.2.0",
          "state": {
            "_model_module": "@jupyter-widgets/base",
            "_model_module_version": "1.2.0",
            "_model_name": "LayoutModel",
            "_view_count": null,
            "_view_module": "@jupyter-widgets/base",
            "_view_module_version": "1.2.0",
            "_view_name": "LayoutView",
            "align_content": null,
            "align_items": null,
            "align_self": null,
            "border": null,
            "bottom": null,
            "display": null,
            "flex": null,
            "flex_flow": null,
            "grid_area": null,
            "grid_auto_columns": null,
            "grid_auto_flow": null,
            "grid_auto_rows": null,
            "grid_column": null,
            "grid_gap": null,
            "grid_row": null,
            "grid_template_areas": null,
            "grid_template_columns": null,
            "grid_template_rows": null,
            "height": null,
            "justify_content": null,
            "justify_items": null,
            "left": null,
            "margin": null,
            "max_height": null,
            "max_width": null,
            "min_height": null,
            "min_width": null,
            "object_fit": null,
            "object_position": null,
            "order": null,
            "overflow": null,
            "overflow_x": null,
            "overflow_y": null,
            "padding": null,
            "right": null,
            "top": null,
            "visibility": null,
            "width": null
          }
        },
        "a1a2605818014991a2516a532d60b926": {
          "model_module": "@jupyter-widgets/controls",
          "model_name": "ProgressStyleModel",
          "model_module_version": "1.5.0",
          "state": {
            "_model_module": "@jupyter-widgets/controls",
            "_model_module_version": "1.5.0",
            "_model_name": "ProgressStyleModel",
            "_view_count": null,
            "_view_module": "@jupyter-widgets/base",
            "_view_module_version": "1.2.0",
            "_view_name": "StyleView",
            "bar_color": null,
            "description_width": ""
          }
        },
        "6b158bdcf2f5480f95d06d9a14dd8c65": {
          "model_module": "@jupyter-widgets/base",
          "model_name": "LayoutModel",
          "model_module_version": "1.2.0",
          "state": {
            "_model_module": "@jupyter-widgets/base",
            "_model_module_version": "1.2.0",
            "_model_name": "LayoutModel",
            "_view_count": null,
            "_view_module": "@jupyter-widgets/base",
            "_view_module_version": "1.2.0",
            "_view_name": "LayoutView",
            "align_content": null,
            "align_items": null,
            "align_self": null,
            "border": null,
            "bottom": null,
            "display": null,
            "flex": null,
            "flex_flow": null,
            "grid_area": null,
            "grid_auto_columns": null,
            "grid_auto_flow": null,
            "grid_auto_rows": null,
            "grid_column": null,
            "grid_gap": null,
            "grid_row": null,
            "grid_template_areas": null,
            "grid_template_columns": null,
            "grid_template_rows": null,
            "height": null,
            "justify_content": null,
            "justify_items": null,
            "left": null,
            "margin": null,
            "max_height": null,
            "max_width": null,
            "min_height": null,
            "min_width": null,
            "object_fit": null,
            "object_position": null,
            "order": null,
            "overflow": null,
            "overflow_x": null,
            "overflow_y": null,
            "padding": null,
            "right": null,
            "top": null,
            "visibility": null,
            "width": null
          }
        },
        "0c44843f365248babb6e448e7a0daea3": {
          "model_module": "@jupyter-widgets/controls",
          "model_name": "DescriptionStyleModel",
          "model_module_version": "1.5.0",
          "state": {
            "_model_module": "@jupyter-widgets/controls",
            "_model_module_version": "1.5.0",
            "_model_name": "DescriptionStyleModel",
            "_view_count": null,
            "_view_module": "@jupyter-widgets/base",
            "_view_module_version": "1.2.0",
            "_view_name": "StyleView",
            "description_width": ""
          }
        },
        "a3480b4354094611bfcbd4fc7b997aff": {
          "model_module": "@jupyter-widgets/controls",
          "model_name": "HBoxModel",
          "model_module_version": "1.5.0",
          "state": {
            "_dom_classes": [],
            "_model_module": "@jupyter-widgets/controls",
            "_model_module_version": "1.5.0",
            "_model_name": "HBoxModel",
            "_view_count": null,
            "_view_module": "@jupyter-widgets/controls",
            "_view_module_version": "1.5.0",
            "_view_name": "HBoxView",
            "box_style": "",
            "children": [
              "IPY_MODEL_0091142c72ac4054a437200f0fd4e0c2",
              "IPY_MODEL_4aa310a4f5744fe69efb694ab2d358bf",
              "IPY_MODEL_94fd889b4b574658ac0ce235fc4d3bf5"
            ],
            "layout": "IPY_MODEL_d0c0389d171a4490b86c7a4043af9a4b"
          }
        },
        "0091142c72ac4054a437200f0fd4e0c2": {
          "model_module": "@jupyter-widgets/controls",
          "model_name": "HTMLModel",
          "model_module_version": "1.5.0",
          "state": {
            "_dom_classes": [],
            "_model_module": "@jupyter-widgets/controls",
            "_model_module_version": "1.5.0",
            "_model_name": "HTMLModel",
            "_view_count": null,
            "_view_module": "@jupyter-widgets/controls",
            "_view_module_version": "1.5.0",
            "_view_name": "HTMLView",
            "description": "",
            "description_tooltip": null,
            "layout": "IPY_MODEL_e35c06f786b44dc08f019986018709e5",
            "placeholder": "​",
            "style": "IPY_MODEL_d989942e49004e628964530e7deab508",
            "value": "Downloading data: 100%"
          }
        },
        "4aa310a4f5744fe69efb694ab2d358bf": {
          "model_module": "@jupyter-widgets/controls",
          "model_name": "FloatProgressModel",
          "model_module_version": "1.5.0",
          "state": {
            "_dom_classes": [],
            "_model_module": "@jupyter-widgets/controls",
            "_model_module_version": "1.5.0",
            "_model_name": "FloatProgressModel",
            "_view_count": null,
            "_view_module": "@jupyter-widgets/controls",
            "_view_module_version": "1.5.0",
            "_view_name": "ProgressView",
            "bar_style": "success",
            "description": "",
            "description_tooltip": null,
            "layout": "IPY_MODEL_ce602c2475384671b6bf7acb8018277f",
            "max": 5148,
            "min": 0,
            "orientation": "horizontal",
            "style": "IPY_MODEL_5a0677df48b9489e9371125882e4467c",
            "value": 5148
          }
        },
        "94fd889b4b574658ac0ce235fc4d3bf5": {
          "model_module": "@jupyter-widgets/controls",
          "model_name": "HTMLModel",
          "model_module_version": "1.5.0",
          "state": {
            "_dom_classes": [],
            "_model_module": "@jupyter-widgets/controls",
            "_model_module_version": "1.5.0",
            "_model_name": "HTMLModel",
            "_view_count": null,
            "_view_module": "@jupyter-widgets/controls",
            "_view_module_version": "1.5.0",
            "_view_name": "HTMLView",
            "description": "",
            "description_tooltip": null,
            "layout": "IPY_MODEL_e676e1791f404c24b17de8fe198750cf",
            "placeholder": "​",
            "style": "IPY_MODEL_da181706300d44d8856cb96ba2e2b886",
            "value": " 5.15k/5.15k [00:00&lt;00:00, 265kB/s]"
          }
        },
        "d0c0389d171a4490b86c7a4043af9a4b": {
          "model_module": "@jupyter-widgets/base",
          "model_name": "LayoutModel",
          "model_module_version": "1.2.0",
          "state": {
            "_model_module": "@jupyter-widgets/base",
            "_model_module_version": "1.2.0",
            "_model_name": "LayoutModel",
            "_view_count": null,
            "_view_module": "@jupyter-widgets/base",
            "_view_module_version": "1.2.0",
            "_view_name": "LayoutView",
            "align_content": null,
            "align_items": null,
            "align_self": null,
            "border": null,
            "bottom": null,
            "display": null,
            "flex": null,
            "flex_flow": null,
            "grid_area": null,
            "grid_auto_columns": null,
            "grid_auto_flow": null,
            "grid_auto_rows": null,
            "grid_column": null,
            "grid_gap": null,
            "grid_row": null,
            "grid_template_areas": null,
            "grid_template_columns": null,
            "grid_template_rows": null,
            "height": null,
            "justify_content": null,
            "justify_items": null,
            "left": null,
            "margin": null,
            "max_height": null,
            "max_width": null,
            "min_height": null,
            "min_width": null,
            "object_fit": null,
            "object_position": null,
            "order": null,
            "overflow": null,
            "overflow_x": null,
            "overflow_y": null,
            "padding": null,
            "right": null,
            "top": null,
            "visibility": null,
            "width": null
          }
        },
        "e35c06f786b44dc08f019986018709e5": {
          "model_module": "@jupyter-widgets/base",
          "model_name": "LayoutModel",
          "model_module_version": "1.2.0",
          "state": {
            "_model_module": "@jupyter-widgets/base",
            "_model_module_version": "1.2.0",
            "_model_name": "LayoutModel",
            "_view_count": null,
            "_view_module": "@jupyter-widgets/base",
            "_view_module_version": "1.2.0",
            "_view_name": "LayoutView",
            "align_content": null,
            "align_items": null,
            "align_self": null,
            "border": null,
            "bottom": null,
            "display": null,
            "flex": null,
            "flex_flow": null,
            "grid_area": null,
            "grid_auto_columns": null,
            "grid_auto_flow": null,
            "grid_auto_rows": null,
            "grid_column": null,
            "grid_gap": null,
            "grid_row": null,
            "grid_template_areas": null,
            "grid_template_columns": null,
            "grid_template_rows": null,
            "height": null,
            "justify_content": null,
            "justify_items": null,
            "left": null,
            "margin": null,
            "max_height": null,
            "max_width": null,
            "min_height": null,
            "min_width": null,
            "object_fit": null,
            "object_position": null,
            "order": null,
            "overflow": null,
            "overflow_x": null,
            "overflow_y": null,
            "padding": null,
            "right": null,
            "top": null,
            "visibility": null,
            "width": null
          }
        },
        "d989942e49004e628964530e7deab508": {
          "model_module": "@jupyter-widgets/controls",
          "model_name": "DescriptionStyleModel",
          "model_module_version": "1.5.0",
          "state": {
            "_model_module": "@jupyter-widgets/controls",
            "_model_module_version": "1.5.0",
            "_model_name": "DescriptionStyleModel",
            "_view_count": null,
            "_view_module": "@jupyter-widgets/base",
            "_view_module_version": "1.2.0",
            "_view_name": "StyleView",
            "description_width": ""
          }
        },
        "ce602c2475384671b6bf7acb8018277f": {
          "model_module": "@jupyter-widgets/base",
          "model_name": "LayoutModel",
          "model_module_version": "1.2.0",
          "state": {
            "_model_module": "@jupyter-widgets/base",
            "_model_module_version": "1.2.0",
            "_model_name": "LayoutModel",
            "_view_count": null,
            "_view_module": "@jupyter-widgets/base",
            "_view_module_version": "1.2.0",
            "_view_name": "LayoutView",
            "align_content": null,
            "align_items": null,
            "align_self": null,
            "border": null,
            "bottom": null,
            "display": null,
            "flex": null,
            "flex_flow": null,
            "grid_area": null,
            "grid_auto_columns": null,
            "grid_auto_flow": null,
            "grid_auto_rows": null,
            "grid_column": null,
            "grid_gap": null,
            "grid_row": null,
            "grid_template_areas": null,
            "grid_template_columns": null,
            "grid_template_rows": null,
            "height": null,
            "justify_content": null,
            "justify_items": null,
            "left": null,
            "margin": null,
            "max_height": null,
            "max_width": null,
            "min_height": null,
            "min_width": null,
            "object_fit": null,
            "object_position": null,
            "order": null,
            "overflow": null,
            "overflow_x": null,
            "overflow_y": null,
            "padding": null,
            "right": null,
            "top": null,
            "visibility": null,
            "width": null
          }
        },
        "5a0677df48b9489e9371125882e4467c": {
          "model_module": "@jupyter-widgets/controls",
          "model_name": "ProgressStyleModel",
          "model_module_version": "1.5.0",
          "state": {
            "_model_module": "@jupyter-widgets/controls",
            "_model_module_version": "1.5.0",
            "_model_name": "ProgressStyleModel",
            "_view_count": null,
            "_view_module": "@jupyter-widgets/base",
            "_view_module_version": "1.2.0",
            "_view_name": "StyleView",
            "bar_color": null,
            "description_width": ""
          }
        },
        "e676e1791f404c24b17de8fe198750cf": {
          "model_module": "@jupyter-widgets/base",
          "model_name": "LayoutModel",
          "model_module_version": "1.2.0",
          "state": {
            "_model_module": "@jupyter-widgets/base",
            "_model_module_version": "1.2.0",
            "_model_name": "LayoutModel",
            "_view_count": null,
            "_view_module": "@jupyter-widgets/base",
            "_view_module_version": "1.2.0",
            "_view_name": "LayoutView",
            "align_content": null,
            "align_items": null,
            "align_self": null,
            "border": null,
            "bottom": null,
            "display": null,
            "flex": null,
            "flex_flow": null,
            "grid_area": null,
            "grid_auto_columns": null,
            "grid_auto_flow": null,
            "grid_auto_rows": null,
            "grid_column": null,
            "grid_gap": null,
            "grid_row": null,
            "grid_template_areas": null,
            "grid_template_columns": null,
            "grid_template_rows": null,
            "height": null,
            "justify_content": null,
            "justify_items": null,
            "left": null,
            "margin": null,
            "max_height": null,
            "max_width": null,
            "min_height": null,
            "min_width": null,
            "object_fit": null,
            "object_position": null,
            "order": null,
            "overflow": null,
            "overflow_x": null,
            "overflow_y": null,
            "padding": null,
            "right": null,
            "top": null,
            "visibility": null,
            "width": null
          }
        },
        "da181706300d44d8856cb96ba2e2b886": {
          "model_module": "@jupyter-widgets/controls",
          "model_name": "DescriptionStyleModel",
          "model_module_version": "1.5.0",
          "state": {
            "_model_module": "@jupyter-widgets/controls",
            "_model_module_version": "1.5.0",
            "_model_name": "DescriptionStyleModel",
            "_view_count": null,
            "_view_module": "@jupyter-widgets/base",
            "_view_module_version": "1.2.0",
            "_view_name": "StyleView",
            "description_width": ""
          }
        },
        "8925cc48f37d4bc795b559bf070be959": {
          "model_module": "@jupyter-widgets/controls",
          "model_name": "HBoxModel",
          "model_module_version": "1.5.0",
          "state": {
            "_dom_classes": [],
            "_model_module": "@jupyter-widgets/controls",
            "_model_module_version": "1.5.0",
            "_model_name": "HBoxModel",
            "_view_count": null,
            "_view_module": "@jupyter-widgets/controls",
            "_view_module_version": "1.5.0",
            "_view_name": "HBoxView",
            "box_style": "",
            "children": [
              "IPY_MODEL_49f17a5a951444e1b1d7b2dbfed387c5",
              "IPY_MODEL_03a39ae19d0144328c40e02745866c3d",
              "IPY_MODEL_94dbd9dcc1b2400cbfd73d4daf59b59c"
            ],
            "layout": "IPY_MODEL_51d6e576412643dfbb11f158126edde8"
          }
        },
        "49f17a5a951444e1b1d7b2dbfed387c5": {
          "model_module": "@jupyter-widgets/controls",
          "model_name": "HTMLModel",
          "model_module_version": "1.5.0",
          "state": {
            "_dom_classes": [],
            "_model_module": "@jupyter-widgets/controls",
            "_model_module_version": "1.5.0",
            "_model_name": "HTMLModel",
            "_view_count": null,
            "_view_module": "@jupyter-widgets/controls",
            "_view_module_version": "1.5.0",
            "_view_name": "HTMLView",
            "description": "",
            "description_tooltip": null,
            "layout": "IPY_MODEL_25a5df27cd7745f2a4ec0200fcb1a2fc",
            "placeholder": "​",
            "style": "IPY_MODEL_deb5ba7e49714d86818aa5dcb6b78adb",
            "value": "Extracting data files: 100%"
          }
        },
        "03a39ae19d0144328c40e02745866c3d": {
          "model_module": "@jupyter-widgets/controls",
          "model_name": "FloatProgressModel",
          "model_module_version": "1.5.0",
          "state": {
            "_dom_classes": [],
            "_model_module": "@jupyter-widgets/controls",
            "_model_module_version": "1.5.0",
            "_model_name": "FloatProgressModel",
            "_view_count": null,
            "_view_module": "@jupyter-widgets/controls",
            "_view_module_version": "1.5.0",
            "_view_name": "ProgressView",
            "bar_style": "success",
            "description": "",
            "description_tooltip": null,
            "layout": "IPY_MODEL_c16ceda1f79047c3bf55ce7a7d830047",
            "max": 4,
            "min": 0,
            "orientation": "horizontal",
            "style": "IPY_MODEL_bffa3ceb8cff4df59479fcd9bf208dc2",
            "value": 4
          }
        },
        "94dbd9dcc1b2400cbfd73d4daf59b59c": {
          "model_module": "@jupyter-widgets/controls",
          "model_name": "HTMLModel",
          "model_module_version": "1.5.0",
          "state": {
            "_dom_classes": [],
            "_model_module": "@jupyter-widgets/controls",
            "_model_module_version": "1.5.0",
            "_model_name": "HTMLModel",
            "_view_count": null,
            "_view_module": "@jupyter-widgets/controls",
            "_view_module_version": "1.5.0",
            "_view_name": "HTMLView",
            "description": "",
            "description_tooltip": null,
            "layout": "IPY_MODEL_a4e74c2649244012a8431404038edd7f",
            "placeholder": "​",
            "style": "IPY_MODEL_5a3c4b0200814deab52e9a0c3c95442d",
            "value": " 4/4 [00:00&lt;00:00,  2.84it/s]"
          }
        },
        "51d6e576412643dfbb11f158126edde8": {
          "model_module": "@jupyter-widgets/base",
          "model_name": "LayoutModel",
          "model_module_version": "1.2.0",
          "state": {
            "_model_module": "@jupyter-widgets/base",
            "_model_module_version": "1.2.0",
            "_model_name": "LayoutModel",
            "_view_count": null,
            "_view_module": "@jupyter-widgets/base",
            "_view_module_version": "1.2.0",
            "_view_name": "LayoutView",
            "align_content": null,
            "align_items": null,
            "align_self": null,
            "border": null,
            "bottom": null,
            "display": null,
            "flex": null,
            "flex_flow": null,
            "grid_area": null,
            "grid_auto_columns": null,
            "grid_auto_flow": null,
            "grid_auto_rows": null,
            "grid_column": null,
            "grid_gap": null,
            "grid_row": null,
            "grid_template_areas": null,
            "grid_template_columns": null,
            "grid_template_rows": null,
            "height": null,
            "justify_content": null,
            "justify_items": null,
            "left": null,
            "margin": null,
            "max_height": null,
            "max_width": null,
            "min_height": null,
            "min_width": null,
            "object_fit": null,
            "object_position": null,
            "order": null,
            "overflow": null,
            "overflow_x": null,
            "overflow_y": null,
            "padding": null,
            "right": null,
            "top": null,
            "visibility": null,
            "width": null
          }
        },
        "25a5df27cd7745f2a4ec0200fcb1a2fc": {
          "model_module": "@jupyter-widgets/base",
          "model_name": "LayoutModel",
          "model_module_version": "1.2.0",
          "state": {
            "_model_module": "@jupyter-widgets/base",
            "_model_module_version": "1.2.0",
            "_model_name": "LayoutModel",
            "_view_count": null,
            "_view_module": "@jupyter-widgets/base",
            "_view_module_version": "1.2.0",
            "_view_name": "LayoutView",
            "align_content": null,
            "align_items": null,
            "align_self": null,
            "border": null,
            "bottom": null,
            "display": null,
            "flex": null,
            "flex_flow": null,
            "grid_area": null,
            "grid_auto_columns": null,
            "grid_auto_flow": null,
            "grid_auto_rows": null,
            "grid_column": null,
            "grid_gap": null,
            "grid_row": null,
            "grid_template_areas": null,
            "grid_template_columns": null,
            "grid_template_rows": null,
            "height": null,
            "justify_content": null,
            "justify_items": null,
            "left": null,
            "margin": null,
            "max_height": null,
            "max_width": null,
            "min_height": null,
            "min_width": null,
            "object_fit": null,
            "object_position": null,
            "order": null,
            "overflow": null,
            "overflow_x": null,
            "overflow_y": null,
            "padding": null,
            "right": null,
            "top": null,
            "visibility": null,
            "width": null
          }
        },
        "deb5ba7e49714d86818aa5dcb6b78adb": {
          "model_module": "@jupyter-widgets/controls",
          "model_name": "DescriptionStyleModel",
          "model_module_version": "1.5.0",
          "state": {
            "_model_module": "@jupyter-widgets/controls",
            "_model_module_version": "1.5.0",
            "_model_name": "DescriptionStyleModel",
            "_view_count": null,
            "_view_module": "@jupyter-widgets/base",
            "_view_module_version": "1.2.0",
            "_view_name": "StyleView",
            "description_width": ""
          }
        },
        "c16ceda1f79047c3bf55ce7a7d830047": {
          "model_module": "@jupyter-widgets/base",
          "model_name": "LayoutModel",
          "model_module_version": "1.2.0",
          "state": {
            "_model_module": "@jupyter-widgets/base",
            "_model_module_version": "1.2.0",
            "_model_name": "LayoutModel",
            "_view_count": null,
            "_view_module": "@jupyter-widgets/base",
            "_view_module_version": "1.2.0",
            "_view_name": "LayoutView",
            "align_content": null,
            "align_items": null,
            "align_self": null,
            "border": null,
            "bottom": null,
            "display": null,
            "flex": null,
            "flex_flow": null,
            "grid_area": null,
            "grid_auto_columns": null,
            "grid_auto_flow": null,
            "grid_auto_rows": null,
            "grid_column": null,
            "grid_gap": null,
            "grid_row": null,
            "grid_template_areas": null,
            "grid_template_columns": null,
            "grid_template_rows": null,
            "height": null,
            "justify_content": null,
            "justify_items": null,
            "left": null,
            "margin": null,
            "max_height": null,
            "max_width": null,
            "min_height": null,
            "min_width": null,
            "object_fit": null,
            "object_position": null,
            "order": null,
            "overflow": null,
            "overflow_x": null,
            "overflow_y": null,
            "padding": null,
            "right": null,
            "top": null,
            "visibility": null,
            "width": null
          }
        },
        "bffa3ceb8cff4df59479fcd9bf208dc2": {
          "model_module": "@jupyter-widgets/controls",
          "model_name": "ProgressStyleModel",
          "model_module_version": "1.5.0",
          "state": {
            "_model_module": "@jupyter-widgets/controls",
            "_model_module_version": "1.5.0",
            "_model_name": "ProgressStyleModel",
            "_view_count": null,
            "_view_module": "@jupyter-widgets/base",
            "_view_module_version": "1.2.0",
            "_view_name": "StyleView",
            "bar_color": null,
            "description_width": ""
          }
        },
        "a4e74c2649244012a8431404038edd7f": {
          "model_module": "@jupyter-widgets/base",
          "model_name": "LayoutModel",
          "model_module_version": "1.2.0",
          "state": {
            "_model_module": "@jupyter-widgets/base",
            "_model_module_version": "1.2.0",
            "_model_name": "LayoutModel",
            "_view_count": null,
            "_view_module": "@jupyter-widgets/base",
            "_view_module_version": "1.2.0",
            "_view_name": "LayoutView",
            "align_content": null,
            "align_items": null,
            "align_self": null,
            "border": null,
            "bottom": null,
            "display": null,
            "flex": null,
            "flex_flow": null,
            "grid_area": null,
            "grid_auto_columns": null,
            "grid_auto_flow": null,
            "grid_auto_rows": null,
            "grid_column": null,
            "grid_gap": null,
            "grid_row": null,
            "grid_template_areas": null,
            "grid_template_columns": null,
            "grid_template_rows": null,
            "height": null,
            "justify_content": null,
            "justify_items": null,
            "left": null,
            "margin": null,
            "max_height": null,
            "max_width": null,
            "min_height": null,
            "min_width": null,
            "object_fit": null,
            "object_position": null,
            "order": null,
            "overflow": null,
            "overflow_x": null,
            "overflow_y": null,
            "padding": null,
            "right": null,
            "top": null,
            "visibility": null,
            "width": null
          }
        },
        "5a3c4b0200814deab52e9a0c3c95442d": {
          "model_module": "@jupyter-widgets/controls",
          "model_name": "DescriptionStyleModel",
          "model_module_version": "1.5.0",
          "state": {
            "_model_module": "@jupyter-widgets/controls",
            "_model_module_version": "1.5.0",
            "_model_name": "DescriptionStyleModel",
            "_view_count": null,
            "_view_module": "@jupyter-widgets/base",
            "_view_module_version": "1.2.0",
            "_view_name": "StyleView",
            "description_width": ""
          }
        },
        "6e9b5c95b39e4c1baa2502e9b5e63862": {
          "model_module": "@jupyter-widgets/controls",
          "model_name": "HBoxModel",
          "model_module_version": "1.5.0",
          "state": {
            "_dom_classes": [],
            "_model_module": "@jupyter-widgets/controls",
            "_model_module_version": "1.5.0",
            "_model_name": "HBoxModel",
            "_view_count": null,
            "_view_module": "@jupyter-widgets/controls",
            "_view_module_version": "1.5.0",
            "_view_name": "HBoxView",
            "box_style": "",
            "children": [
              "IPY_MODEL_b56dc65114cb472ba5220428e246c778",
              "IPY_MODEL_679feacf055f4501b48bdf540fc52349",
              "IPY_MODEL_9fd9f2e422024959b8d0988b59ef0505"
            ],
            "layout": "IPY_MODEL_39b6b0f0226e462892424bf472cca3e7"
          }
        },
        "b56dc65114cb472ba5220428e246c778": {
          "model_module": "@jupyter-widgets/controls",
          "model_name": "HTMLModel",
          "model_module_version": "1.5.0",
          "state": {
            "_dom_classes": [],
            "_model_module": "@jupyter-widgets/controls",
            "_model_module_version": "1.5.0",
            "_model_name": "HTMLModel",
            "_view_count": null,
            "_view_module": "@jupyter-widgets/controls",
            "_view_module_version": "1.5.0",
            "_view_name": "HTMLView",
            "description": "",
            "description_tooltip": null,
            "layout": "IPY_MODEL_114edf46c4014a028bd8cb1ba057004f",
            "placeholder": "​",
            "style": "IPY_MODEL_fe43c43433e24af993008a85d9923fab",
            "value": "Generating train split: 100%"
          }
        },
        "679feacf055f4501b48bdf540fc52349": {
          "model_module": "@jupyter-widgets/controls",
          "model_name": "FloatProgressModel",
          "model_module_version": "1.5.0",
          "state": {
            "_dom_classes": [],
            "_model_module": "@jupyter-widgets/controls",
            "_model_module_version": "1.5.0",
            "_model_name": "FloatProgressModel",
            "_view_count": null,
            "_view_module": "@jupyter-widgets/controls",
            "_view_module_version": "1.5.0",
            "_view_name": "ProgressView",
            "bar_style": "",
            "description": "",
            "description_tooltip": null,
            "layout": "IPY_MODEL_ac6375aafdbf4e6daa3cad8e133ca44a",
            "max": 60000,
            "min": 0,
            "orientation": "horizontal",
            "style": "IPY_MODEL_890e275320b04360a25768ee3ab77d3c",
            "value": 60000
          }
        },
        "9fd9f2e422024959b8d0988b59ef0505": {
          "model_module": "@jupyter-widgets/controls",
          "model_name": "HTMLModel",
          "model_module_version": "1.5.0",
          "state": {
            "_dom_classes": [],
            "_model_module": "@jupyter-widgets/controls",
            "_model_module_version": "1.5.0",
            "_model_name": "HTMLModel",
            "_view_count": null,
            "_view_module": "@jupyter-widgets/controls",
            "_view_module_version": "1.5.0",
            "_view_name": "HTMLView",
            "description": "",
            "description_tooltip": null,
            "layout": "IPY_MODEL_b31f9464d8eb46d1bd18f22e70b52023",
            "placeholder": "​",
            "style": "IPY_MODEL_4bf490b2ff98407db60078c23b4036c5",
            "value": " 59848/60000 [00:11&lt;00:00, 5772.56 examples/s]"
          }
        },
        "39b6b0f0226e462892424bf472cca3e7": {
          "model_module": "@jupyter-widgets/base",
          "model_name": "LayoutModel",
          "model_module_version": "1.2.0",
          "state": {
            "_model_module": "@jupyter-widgets/base",
            "_model_module_version": "1.2.0",
            "_model_name": "LayoutModel",
            "_view_count": null,
            "_view_module": "@jupyter-widgets/base",
            "_view_module_version": "1.2.0",
            "_view_name": "LayoutView",
            "align_content": null,
            "align_items": null,
            "align_self": null,
            "border": null,
            "bottom": null,
            "display": null,
            "flex": null,
            "flex_flow": null,
            "grid_area": null,
            "grid_auto_columns": null,
            "grid_auto_flow": null,
            "grid_auto_rows": null,
            "grid_column": null,
            "grid_gap": null,
            "grid_row": null,
            "grid_template_areas": null,
            "grid_template_columns": null,
            "grid_template_rows": null,
            "height": null,
            "justify_content": null,
            "justify_items": null,
            "left": null,
            "margin": null,
            "max_height": null,
            "max_width": null,
            "min_height": null,
            "min_width": null,
            "object_fit": null,
            "object_position": null,
            "order": null,
            "overflow": null,
            "overflow_x": null,
            "overflow_y": null,
            "padding": null,
            "right": null,
            "top": null,
            "visibility": "hidden",
            "width": null
          }
        },
        "114edf46c4014a028bd8cb1ba057004f": {
          "model_module": "@jupyter-widgets/base",
          "model_name": "LayoutModel",
          "model_module_version": "1.2.0",
          "state": {
            "_model_module": "@jupyter-widgets/base",
            "_model_module_version": "1.2.0",
            "_model_name": "LayoutModel",
            "_view_count": null,
            "_view_module": "@jupyter-widgets/base",
            "_view_module_version": "1.2.0",
            "_view_name": "LayoutView",
            "align_content": null,
            "align_items": null,
            "align_self": null,
            "border": null,
            "bottom": null,
            "display": null,
            "flex": null,
            "flex_flow": null,
            "grid_area": null,
            "grid_auto_columns": null,
            "grid_auto_flow": null,
            "grid_auto_rows": null,
            "grid_column": null,
            "grid_gap": null,
            "grid_row": null,
            "grid_template_areas": null,
            "grid_template_columns": null,
            "grid_template_rows": null,
            "height": null,
            "justify_content": null,
            "justify_items": null,
            "left": null,
            "margin": null,
            "max_height": null,
            "max_width": null,
            "min_height": null,
            "min_width": null,
            "object_fit": null,
            "object_position": null,
            "order": null,
            "overflow": null,
            "overflow_x": null,
            "overflow_y": null,
            "padding": null,
            "right": null,
            "top": null,
            "visibility": null,
            "width": null
          }
        },
        "fe43c43433e24af993008a85d9923fab": {
          "model_module": "@jupyter-widgets/controls",
          "model_name": "DescriptionStyleModel",
          "model_module_version": "1.5.0",
          "state": {
            "_model_module": "@jupyter-widgets/controls",
            "_model_module_version": "1.5.0",
            "_model_name": "DescriptionStyleModel",
            "_view_count": null,
            "_view_module": "@jupyter-widgets/base",
            "_view_module_version": "1.2.0",
            "_view_name": "StyleView",
            "description_width": ""
          }
        },
        "ac6375aafdbf4e6daa3cad8e133ca44a": {
          "model_module": "@jupyter-widgets/base",
          "model_name": "LayoutModel",
          "model_module_version": "1.2.0",
          "state": {
            "_model_module": "@jupyter-widgets/base",
            "_model_module_version": "1.2.0",
            "_model_name": "LayoutModel",
            "_view_count": null,
            "_view_module": "@jupyter-widgets/base",
            "_view_module_version": "1.2.0",
            "_view_name": "LayoutView",
            "align_content": null,
            "align_items": null,
            "align_self": null,
            "border": null,
            "bottom": null,
            "display": null,
            "flex": null,
            "flex_flow": null,
            "grid_area": null,
            "grid_auto_columns": null,
            "grid_auto_flow": null,
            "grid_auto_rows": null,
            "grid_column": null,
            "grid_gap": null,
            "grid_row": null,
            "grid_template_areas": null,
            "grid_template_columns": null,
            "grid_template_rows": null,
            "height": null,
            "justify_content": null,
            "justify_items": null,
            "left": null,
            "margin": null,
            "max_height": null,
            "max_width": null,
            "min_height": null,
            "min_width": null,
            "object_fit": null,
            "object_position": null,
            "order": null,
            "overflow": null,
            "overflow_x": null,
            "overflow_y": null,
            "padding": null,
            "right": null,
            "top": null,
            "visibility": null,
            "width": null
          }
        },
        "890e275320b04360a25768ee3ab77d3c": {
          "model_module": "@jupyter-widgets/controls",
          "model_name": "ProgressStyleModel",
          "model_module_version": "1.5.0",
          "state": {
            "_model_module": "@jupyter-widgets/controls",
            "_model_module_version": "1.5.0",
            "_model_name": "ProgressStyleModel",
            "_view_count": null,
            "_view_module": "@jupyter-widgets/base",
            "_view_module_version": "1.2.0",
            "_view_name": "StyleView",
            "bar_color": null,
            "description_width": ""
          }
        },
        "b31f9464d8eb46d1bd18f22e70b52023": {
          "model_module": "@jupyter-widgets/base",
          "model_name": "LayoutModel",
          "model_module_version": "1.2.0",
          "state": {
            "_model_module": "@jupyter-widgets/base",
            "_model_module_version": "1.2.0",
            "_model_name": "LayoutModel",
            "_view_count": null,
            "_view_module": "@jupyter-widgets/base",
            "_view_module_version": "1.2.0",
            "_view_name": "LayoutView",
            "align_content": null,
            "align_items": null,
            "align_self": null,
            "border": null,
            "bottom": null,
            "display": null,
            "flex": null,
            "flex_flow": null,
            "grid_area": null,
            "grid_auto_columns": null,
            "grid_auto_flow": null,
            "grid_auto_rows": null,
            "grid_column": null,
            "grid_gap": null,
            "grid_row": null,
            "grid_template_areas": null,
            "grid_template_columns": null,
            "grid_template_rows": null,
            "height": null,
            "justify_content": null,
            "justify_items": null,
            "left": null,
            "margin": null,
            "max_height": null,
            "max_width": null,
            "min_height": null,
            "min_width": null,
            "object_fit": null,
            "object_position": null,
            "order": null,
            "overflow": null,
            "overflow_x": null,
            "overflow_y": null,
            "padding": null,
            "right": null,
            "top": null,
            "visibility": null,
            "width": null
          }
        },
        "4bf490b2ff98407db60078c23b4036c5": {
          "model_module": "@jupyter-widgets/controls",
          "model_name": "DescriptionStyleModel",
          "model_module_version": "1.5.0",
          "state": {
            "_model_module": "@jupyter-widgets/controls",
            "_model_module_version": "1.5.0",
            "_model_name": "DescriptionStyleModel",
            "_view_count": null,
            "_view_module": "@jupyter-widgets/base",
            "_view_module_version": "1.2.0",
            "_view_name": "StyleView",
            "description_width": ""
          }
        },
        "bf4c7fd127a54c1ba3e3420dbb08dfdb": {
          "model_module": "@jupyter-widgets/controls",
          "model_name": "HBoxModel",
          "model_module_version": "1.5.0",
          "state": {
            "_dom_classes": [],
            "_model_module": "@jupyter-widgets/controls",
            "_model_module_version": "1.5.0",
            "_model_name": "HBoxModel",
            "_view_count": null,
            "_view_module": "@jupyter-widgets/controls",
            "_view_module_version": "1.5.0",
            "_view_name": "HBoxView",
            "box_style": "",
            "children": [
              "IPY_MODEL_1c329915abb94ed68055be4fa33bd640",
              "IPY_MODEL_06a7ffeffd5b4b45a4a6a2df9e883c05",
              "IPY_MODEL_12afc33f1ac44fd4823b273fac3708f8"
            ],
            "layout": "IPY_MODEL_548599b17d2047358117708bcdc2c554"
          }
        },
        "1c329915abb94ed68055be4fa33bd640": {
          "model_module": "@jupyter-widgets/controls",
          "model_name": "HTMLModel",
          "model_module_version": "1.5.0",
          "state": {
            "_dom_classes": [],
            "_model_module": "@jupyter-widgets/controls",
            "_model_module_version": "1.5.0",
            "_model_name": "HTMLModel",
            "_view_count": null,
            "_view_module": "@jupyter-widgets/controls",
            "_view_module_version": "1.5.0",
            "_view_name": "HTMLView",
            "description": "",
            "description_tooltip": null,
            "layout": "IPY_MODEL_7f2d959396d1449290553f8c08bbc1e6",
            "placeholder": "​",
            "style": "IPY_MODEL_a8bfef32978042a2bfbd7b4a8fbc85ab",
            "value": "Generating test split: 100%"
          }
        },
        "06a7ffeffd5b4b45a4a6a2df9e883c05": {
          "model_module": "@jupyter-widgets/controls",
          "model_name": "FloatProgressModel",
          "model_module_version": "1.5.0",
          "state": {
            "_dom_classes": [],
            "_model_module": "@jupyter-widgets/controls",
            "_model_module_version": "1.5.0",
            "_model_name": "FloatProgressModel",
            "_view_count": null,
            "_view_module": "@jupyter-widgets/controls",
            "_view_module_version": "1.5.0",
            "_view_name": "ProgressView",
            "bar_style": "",
            "description": "",
            "description_tooltip": null,
            "layout": "IPY_MODEL_7429549059b04afaac3f876e291b016b",
            "max": 10000,
            "min": 0,
            "orientation": "horizontal",
            "style": "IPY_MODEL_629eadf4d9cd46ac89c41287f9f60364",
            "value": 10000
          }
        },
        "12afc33f1ac44fd4823b273fac3708f8": {
          "model_module": "@jupyter-widgets/controls",
          "model_name": "HTMLModel",
          "model_module_version": "1.5.0",
          "state": {
            "_dom_classes": [],
            "_model_module": "@jupyter-widgets/controls",
            "_model_module_version": "1.5.0",
            "_model_name": "HTMLModel",
            "_view_count": null,
            "_view_module": "@jupyter-widgets/controls",
            "_view_module_version": "1.5.0",
            "_view_name": "HTMLView",
            "description": "",
            "description_tooltip": null,
            "layout": "IPY_MODEL_89364dada57c43a5ab76cd0e8503df71",
            "placeholder": "​",
            "style": "IPY_MODEL_5ef66cb9fa264ed5877493c0f74cd7ad",
            "value": " 9952/10000 [00:01&lt;00:00, 6233.75 examples/s]"
          }
        },
        "548599b17d2047358117708bcdc2c554": {
          "model_module": "@jupyter-widgets/base",
          "model_name": "LayoutModel",
          "model_module_version": "1.2.0",
          "state": {
            "_model_module": "@jupyter-widgets/base",
            "_model_module_version": "1.2.0",
            "_model_name": "LayoutModel",
            "_view_count": null,
            "_view_module": "@jupyter-widgets/base",
            "_view_module_version": "1.2.0",
            "_view_name": "LayoutView",
            "align_content": null,
            "align_items": null,
            "align_self": null,
            "border": null,
            "bottom": null,
            "display": null,
            "flex": null,
            "flex_flow": null,
            "grid_area": null,
            "grid_auto_columns": null,
            "grid_auto_flow": null,
            "grid_auto_rows": null,
            "grid_column": null,
            "grid_gap": null,
            "grid_row": null,
            "grid_template_areas": null,
            "grid_template_columns": null,
            "grid_template_rows": null,
            "height": null,
            "justify_content": null,
            "justify_items": null,
            "left": null,
            "margin": null,
            "max_height": null,
            "max_width": null,
            "min_height": null,
            "min_width": null,
            "object_fit": null,
            "object_position": null,
            "order": null,
            "overflow": null,
            "overflow_x": null,
            "overflow_y": null,
            "padding": null,
            "right": null,
            "top": null,
            "visibility": "hidden",
            "width": null
          }
        },
        "7f2d959396d1449290553f8c08bbc1e6": {
          "model_module": "@jupyter-widgets/base",
          "model_name": "LayoutModel",
          "model_module_version": "1.2.0",
          "state": {
            "_model_module": "@jupyter-widgets/base",
            "_model_module_version": "1.2.0",
            "_model_name": "LayoutModel",
            "_view_count": null,
            "_view_module": "@jupyter-widgets/base",
            "_view_module_version": "1.2.0",
            "_view_name": "LayoutView",
            "align_content": null,
            "align_items": null,
            "align_self": null,
            "border": null,
            "bottom": null,
            "display": null,
            "flex": null,
            "flex_flow": null,
            "grid_area": null,
            "grid_auto_columns": null,
            "grid_auto_flow": null,
            "grid_auto_rows": null,
            "grid_column": null,
            "grid_gap": null,
            "grid_row": null,
            "grid_template_areas": null,
            "grid_template_columns": null,
            "grid_template_rows": null,
            "height": null,
            "justify_content": null,
            "justify_items": null,
            "left": null,
            "margin": null,
            "max_height": null,
            "max_width": null,
            "min_height": null,
            "min_width": null,
            "object_fit": null,
            "object_position": null,
            "order": null,
            "overflow": null,
            "overflow_x": null,
            "overflow_y": null,
            "padding": null,
            "right": null,
            "top": null,
            "visibility": null,
            "width": null
          }
        },
        "a8bfef32978042a2bfbd7b4a8fbc85ab": {
          "model_module": "@jupyter-widgets/controls",
          "model_name": "DescriptionStyleModel",
          "model_module_version": "1.5.0",
          "state": {
            "_model_module": "@jupyter-widgets/controls",
            "_model_module_version": "1.5.0",
            "_model_name": "DescriptionStyleModel",
            "_view_count": null,
            "_view_module": "@jupyter-widgets/base",
            "_view_module_version": "1.2.0",
            "_view_name": "StyleView",
            "description_width": ""
          }
        },
        "7429549059b04afaac3f876e291b016b": {
          "model_module": "@jupyter-widgets/base",
          "model_name": "LayoutModel",
          "model_module_version": "1.2.0",
          "state": {
            "_model_module": "@jupyter-widgets/base",
            "_model_module_version": "1.2.0",
            "_model_name": "LayoutModel",
            "_view_count": null,
            "_view_module": "@jupyter-widgets/base",
            "_view_module_version": "1.2.0",
            "_view_name": "LayoutView",
            "align_content": null,
            "align_items": null,
            "align_self": null,
            "border": null,
            "bottom": null,
            "display": null,
            "flex": null,
            "flex_flow": null,
            "grid_area": null,
            "grid_auto_columns": null,
            "grid_auto_flow": null,
            "grid_auto_rows": null,
            "grid_column": null,
            "grid_gap": null,
            "grid_row": null,
            "grid_template_areas": null,
            "grid_template_columns": null,
            "grid_template_rows": null,
            "height": null,
            "justify_content": null,
            "justify_items": null,
            "left": null,
            "margin": null,
            "max_height": null,
            "max_width": null,
            "min_height": null,
            "min_width": null,
            "object_fit": null,
            "object_position": null,
            "order": null,
            "overflow": null,
            "overflow_x": null,
            "overflow_y": null,
            "padding": null,
            "right": null,
            "top": null,
            "visibility": null,
            "width": null
          }
        },
        "629eadf4d9cd46ac89c41287f9f60364": {
          "model_module": "@jupyter-widgets/controls",
          "model_name": "ProgressStyleModel",
          "model_module_version": "1.5.0",
          "state": {
            "_model_module": "@jupyter-widgets/controls",
            "_model_module_version": "1.5.0",
            "_model_name": "ProgressStyleModel",
            "_view_count": null,
            "_view_module": "@jupyter-widgets/base",
            "_view_module_version": "1.2.0",
            "_view_name": "StyleView",
            "bar_color": null,
            "description_width": ""
          }
        },
        "89364dada57c43a5ab76cd0e8503df71": {
          "model_module": "@jupyter-widgets/base",
          "model_name": "LayoutModel",
          "model_module_version": "1.2.0",
          "state": {
            "_model_module": "@jupyter-widgets/base",
            "_model_module_version": "1.2.0",
            "_model_name": "LayoutModel",
            "_view_count": null,
            "_view_module": "@jupyter-widgets/base",
            "_view_module_version": "1.2.0",
            "_view_name": "LayoutView",
            "align_content": null,
            "align_items": null,
            "align_self": null,
            "border": null,
            "bottom": null,
            "display": null,
            "flex": null,
            "flex_flow": null,
            "grid_area": null,
            "grid_auto_columns": null,
            "grid_auto_flow": null,
            "grid_auto_rows": null,
            "grid_column": null,
            "grid_gap": null,
            "grid_row": null,
            "grid_template_areas": null,
            "grid_template_columns": null,
            "grid_template_rows": null,
            "height": null,
            "justify_content": null,
            "justify_items": null,
            "left": null,
            "margin": null,
            "max_height": null,
            "max_width": null,
            "min_height": null,
            "min_width": null,
            "object_fit": null,
            "object_position": null,
            "order": null,
            "overflow": null,
            "overflow_x": null,
            "overflow_y": null,
            "padding": null,
            "right": null,
            "top": null,
            "visibility": null,
            "width": null
          }
        },
        "5ef66cb9fa264ed5877493c0f74cd7ad": {
          "model_module": "@jupyter-widgets/controls",
          "model_name": "DescriptionStyleModel",
          "model_module_version": "1.5.0",
          "state": {
            "_model_module": "@jupyter-widgets/controls",
            "_model_module_version": "1.5.0",
            "_model_name": "DescriptionStyleModel",
            "_view_count": null,
            "_view_module": "@jupyter-widgets/base",
            "_view_module_version": "1.2.0",
            "_view_name": "StyleView",
            "description_width": ""
          }
        },
        "9b9d39a6f5a647f59b4a1f9572c01df3": {
          "model_module": "@jupyter-widgets/controls",
          "model_name": "HBoxModel",
          "model_module_version": "1.5.0",
          "state": {
            "_dom_classes": [],
            "_model_module": "@jupyter-widgets/controls",
            "_model_module_version": "1.5.0",
            "_model_name": "HBoxModel",
            "_view_count": null,
            "_view_module": "@jupyter-widgets/controls",
            "_view_module_version": "1.5.0",
            "_view_name": "HBoxView",
            "box_style": "",
            "children": [
              "IPY_MODEL_a45f6d057cd247e3a71bc0a0ddf104e6",
              "IPY_MODEL_a2a0aee9698a48e2b7b0fcd102659052",
              "IPY_MODEL_30310a6a732246a5bf903d1e5d955789"
            ],
            "layout": "IPY_MODEL_74ad50c36a1f4237a0e72a24e03f317f"
          }
        },
        "a45f6d057cd247e3a71bc0a0ddf104e6": {
          "model_module": "@jupyter-widgets/controls",
          "model_name": "HTMLModel",
          "model_module_version": "1.5.0",
          "state": {
            "_dom_classes": [],
            "_model_module": "@jupyter-widgets/controls",
            "_model_module_version": "1.5.0",
            "_model_name": "HTMLModel",
            "_view_count": null,
            "_view_module": "@jupyter-widgets/controls",
            "_view_module_version": "1.5.0",
            "_view_name": "HTMLView",
            "description": "",
            "description_tooltip": null,
            "layout": "IPY_MODEL_d0ac291195dc488d924f54d66a9a6a32",
            "placeholder": "​",
            "style": "IPY_MODEL_be77ecc9c5fb4900a62d20d201c25825",
            "value": "100%"
          }
        },
        "a2a0aee9698a48e2b7b0fcd102659052": {
          "model_module": "@jupyter-widgets/controls",
          "model_name": "FloatProgressModel",
          "model_module_version": "1.5.0",
          "state": {
            "_dom_classes": [],
            "_model_module": "@jupyter-widgets/controls",
            "_model_module_version": "1.5.0",
            "_model_name": "FloatProgressModel",
            "_view_count": null,
            "_view_module": "@jupyter-widgets/controls",
            "_view_module_version": "1.5.0",
            "_view_name": "ProgressView",
            "bar_style": "success",
            "description": "",
            "description_tooltip": null,
            "layout": "IPY_MODEL_ef08505a60404e5b86ac4e618dadab90",
            "max": 2,
            "min": 0,
            "orientation": "horizontal",
            "style": "IPY_MODEL_5280cd15916b4e0c86c119452763ac32",
            "value": 2
          }
        },
        "30310a6a732246a5bf903d1e5d955789": {
          "model_module": "@jupyter-widgets/controls",
          "model_name": "HTMLModel",
          "model_module_version": "1.5.0",
          "state": {
            "_dom_classes": [],
            "_model_module": "@jupyter-widgets/controls",
            "_model_module_version": "1.5.0",
            "_model_name": "HTMLModel",
            "_view_count": null,
            "_view_module": "@jupyter-widgets/controls",
            "_view_module_version": "1.5.0",
            "_view_name": "HTMLView",
            "description": "",
            "description_tooltip": null,
            "layout": "IPY_MODEL_d2e6b5e0055540d686cd67927bc57c8f",
            "placeholder": "​",
            "style": "IPY_MODEL_d66177a8f16e4763a560ee2cb95f2e5b",
            "value": " 2/2 [00:00&lt;00:00, 77.38it/s]"
          }
        },
        "74ad50c36a1f4237a0e72a24e03f317f": {
          "model_module": "@jupyter-widgets/base",
          "model_name": "LayoutModel",
          "model_module_version": "1.2.0",
          "state": {
            "_model_module": "@jupyter-widgets/base",
            "_model_module_version": "1.2.0",
            "_model_name": "LayoutModel",
            "_view_count": null,
            "_view_module": "@jupyter-widgets/base",
            "_view_module_version": "1.2.0",
            "_view_name": "LayoutView",
            "align_content": null,
            "align_items": null,
            "align_self": null,
            "border": null,
            "bottom": null,
            "display": null,
            "flex": null,
            "flex_flow": null,
            "grid_area": null,
            "grid_auto_columns": null,
            "grid_auto_flow": null,
            "grid_auto_rows": null,
            "grid_column": null,
            "grid_gap": null,
            "grid_row": null,
            "grid_template_areas": null,
            "grid_template_columns": null,
            "grid_template_rows": null,
            "height": null,
            "justify_content": null,
            "justify_items": null,
            "left": null,
            "margin": null,
            "max_height": null,
            "max_width": null,
            "min_height": null,
            "min_width": null,
            "object_fit": null,
            "object_position": null,
            "order": null,
            "overflow": null,
            "overflow_x": null,
            "overflow_y": null,
            "padding": null,
            "right": null,
            "top": null,
            "visibility": null,
            "width": null
          }
        },
        "d0ac291195dc488d924f54d66a9a6a32": {
          "model_module": "@jupyter-widgets/base",
          "model_name": "LayoutModel",
          "model_module_version": "1.2.0",
          "state": {
            "_model_module": "@jupyter-widgets/base",
            "_model_module_version": "1.2.0",
            "_model_name": "LayoutModel",
            "_view_count": null,
            "_view_module": "@jupyter-widgets/base",
            "_view_module_version": "1.2.0",
            "_view_name": "LayoutView",
            "align_content": null,
            "align_items": null,
            "align_self": null,
            "border": null,
            "bottom": null,
            "display": null,
            "flex": null,
            "flex_flow": null,
            "grid_area": null,
            "grid_auto_columns": null,
            "grid_auto_flow": null,
            "grid_auto_rows": null,
            "grid_column": null,
            "grid_gap": null,
            "grid_row": null,
            "grid_template_areas": null,
            "grid_template_columns": null,
            "grid_template_rows": null,
            "height": null,
            "justify_content": null,
            "justify_items": null,
            "left": null,
            "margin": null,
            "max_height": null,
            "max_width": null,
            "min_height": null,
            "min_width": null,
            "object_fit": null,
            "object_position": null,
            "order": null,
            "overflow": null,
            "overflow_x": null,
            "overflow_y": null,
            "padding": null,
            "right": null,
            "top": null,
            "visibility": null,
            "width": null
          }
        },
        "be77ecc9c5fb4900a62d20d201c25825": {
          "model_module": "@jupyter-widgets/controls",
          "model_name": "DescriptionStyleModel",
          "model_module_version": "1.5.0",
          "state": {
            "_model_module": "@jupyter-widgets/controls",
            "_model_module_version": "1.5.0",
            "_model_name": "DescriptionStyleModel",
            "_view_count": null,
            "_view_module": "@jupyter-widgets/base",
            "_view_module_version": "1.2.0",
            "_view_name": "StyleView",
            "description_width": ""
          }
        },
        "ef08505a60404e5b86ac4e618dadab90": {
          "model_module": "@jupyter-widgets/base",
          "model_name": "LayoutModel",
          "model_module_version": "1.2.0",
          "state": {
            "_model_module": "@jupyter-widgets/base",
            "_model_module_version": "1.2.0",
            "_model_name": "LayoutModel",
            "_view_count": null,
            "_view_module": "@jupyter-widgets/base",
            "_view_module_version": "1.2.0",
            "_view_name": "LayoutView",
            "align_content": null,
            "align_items": null,
            "align_self": null,
            "border": null,
            "bottom": null,
            "display": null,
            "flex": null,
            "flex_flow": null,
            "grid_area": null,
            "grid_auto_columns": null,
            "grid_auto_flow": null,
            "grid_auto_rows": null,
            "grid_column": null,
            "grid_gap": null,
            "grid_row": null,
            "grid_template_areas": null,
            "grid_template_columns": null,
            "grid_template_rows": null,
            "height": null,
            "justify_content": null,
            "justify_items": null,
            "left": null,
            "margin": null,
            "max_height": null,
            "max_width": null,
            "min_height": null,
            "min_width": null,
            "object_fit": null,
            "object_position": null,
            "order": null,
            "overflow": null,
            "overflow_x": null,
            "overflow_y": null,
            "padding": null,
            "right": null,
            "top": null,
            "visibility": null,
            "width": null
          }
        },
        "5280cd15916b4e0c86c119452763ac32": {
          "model_module": "@jupyter-widgets/controls",
          "model_name": "ProgressStyleModel",
          "model_module_version": "1.5.0",
          "state": {
            "_model_module": "@jupyter-widgets/controls",
            "_model_module_version": "1.5.0",
            "_model_name": "ProgressStyleModel",
            "_view_count": null,
            "_view_module": "@jupyter-widgets/base",
            "_view_module_version": "1.2.0",
            "_view_name": "StyleView",
            "bar_color": null,
            "description_width": ""
          }
        },
        "d2e6b5e0055540d686cd67927bc57c8f": {
          "model_module": "@jupyter-widgets/base",
          "model_name": "LayoutModel",
          "model_module_version": "1.2.0",
          "state": {
            "_model_module": "@jupyter-widgets/base",
            "_model_module_version": "1.2.0",
            "_model_name": "LayoutModel",
            "_view_count": null,
            "_view_module": "@jupyter-widgets/base",
            "_view_module_version": "1.2.0",
            "_view_name": "LayoutView",
            "align_content": null,
            "align_items": null,
            "align_self": null,
            "border": null,
            "bottom": null,
            "display": null,
            "flex": null,
            "flex_flow": null,
            "grid_area": null,
            "grid_auto_columns": null,
            "grid_auto_flow": null,
            "grid_auto_rows": null,
            "grid_column": null,
            "grid_gap": null,
            "grid_row": null,
            "grid_template_areas": null,
            "grid_template_columns": null,
            "grid_template_rows": null,
            "height": null,
            "justify_content": null,
            "justify_items": null,
            "left": null,
            "margin": null,
            "max_height": null,
            "max_width": null,
            "min_height": null,
            "min_width": null,
            "object_fit": null,
            "object_position": null,
            "order": null,
            "overflow": null,
            "overflow_x": null,
            "overflow_y": null,
            "padding": null,
            "right": null,
            "top": null,
            "visibility": null,
            "width": null
          }
        },
        "d66177a8f16e4763a560ee2cb95f2e5b": {
          "model_module": "@jupyter-widgets/controls",
          "model_name": "DescriptionStyleModel",
          "model_module_version": "1.5.0",
          "state": {
            "_model_module": "@jupyter-widgets/controls",
            "_model_module_version": "1.5.0",
            "_model_name": "DescriptionStyleModel",
            "_view_count": null,
            "_view_module": "@jupyter-widgets/base",
            "_view_module_version": "1.2.0",
            "_view_name": "StyleView",
            "description_width": ""
          }
        }
      }
    }
  },
  "nbformat": 4,
  "nbformat_minor": 5
}