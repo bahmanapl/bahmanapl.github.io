{
  "cells": [
    {
      "cell_type": "markdown",
      "source": [
        "---\n",
        "title: \"Writing Stable Diffusion from Scratch 11\"\n",
        "reading-time: \n",
        "date: \"2023-4-4\"\n",
        "categories: [fastaipart2,Stable-Diffusion]\n",
        "---"
      ],
      "metadata": {
        "id": "55MdjNJ_hh5r"
      },
      "id": "55MdjNJ_hh5r"
    },
    {
      "cell_type": "markdown",
      "source": [
        "All credits goes to fast.ai All mistakes are mine. <br>\n",
        "You should know and practice following after this blog post :<br> 1- Making a flexible learner <br>\n",
        "2- Start to build our framework \n"
      ],
      "metadata": {
        "id": "QoWew35nhhqm"
      },
      "id": "QoWew35nhhqm"
    },
    {
      "cell_type": "code",
      "source": [
        "!pip install -Uqq git+https://github.com/fastai/course22p2\n"
      ],
      "metadata": {
        "colab": {
          "base_uri": "https://localhost:8080/"
        },
        "id": "a2TSzwZwiYFl",
        "outputId": "00df2c41-036a-4965-b148-cd98664eff2b"
      },
      "id": "a2TSzwZwiYFl",
      "execution_count": 1,
      "outputs": [
        {
          "output_type": "stream",
          "name": "stdout",
          "text": [
            "  Preparing metadata (setup.py) ... \u001b[?25l\u001b[?25hdone\n",
            "\u001b[2K     \u001b[90m━━━━━━━━━━━━━━━━━━━━━━━━━━━━━━━━━━━━━━━\u001b[0m \u001b[32m474.6/474.6 kB\u001b[0m \u001b[31m9.2 MB/s\u001b[0m eta \u001b[36m0:00:00\u001b[0m\n",
            "\u001b[2K     \u001b[90m━━━━━━━━━━━━━━━━━━━━━━━━━━━━━━━━━━━━━━━\u001b[0m \u001b[32m158.4/158.4 kB\u001b[0m \u001b[31m9.3 MB/s\u001b[0m eta \u001b[36m0:00:00\u001b[0m\n",
            "\u001b[2K     \u001b[90m━━━━━━━━━━━━━━━━━━━━━━━━━━━━━━━━━━━━━━━\u001b[0m \u001b[32m934.9/934.9 kB\u001b[0m \u001b[31m7.5 MB/s\u001b[0m eta \u001b[36m0:00:00\u001b[0m\n",
            "\u001b[2K     \u001b[90m━━━━━━━━━━━━━━━━━━━━━━━━━━━━━━━━━━━━━━━━\u001b[0m \u001b[32m42.2/42.2 kB\u001b[0m \u001b[31m2.3 MB/s\u001b[0m eta \u001b[36m0:00:00\u001b[0m\n",
            "\u001b[2K     \u001b[90m━━━━━━━━━━━━━━━━━━━━━━━━━━━━━━━━━━━━━━━━\u001b[0m \u001b[32m2.2/2.2 MB\u001b[0m \u001b[31m47.8 MB/s\u001b[0m eta \u001b[36m0:00:00\u001b[0m\n",
            "\u001b[2K     \u001b[90m━━━━━━━━━━━━━━━━━━━━━━━━━━━━━━━━━━━━━━━\u001b[0m \u001b[32m110.5/110.5 kB\u001b[0m \u001b[31m9.3 MB/s\u001b[0m eta \u001b[36m0:00:00\u001b[0m\n",
            "\u001b[2K     \u001b[90m━━━━━━━━━━━━━━━━━━━━━━━━━━━━━━━━━━━━━━━\u001b[0m \u001b[32m212.5/212.5 kB\u001b[0m \u001b[31m7.6 MB/s\u001b[0m eta \u001b[36m0:00:00\u001b[0m\n",
            "\u001b[2K     \u001b[90m━━━━━━━━━━━━━━━━━━━━━━━━━━━━━━━━━━━━━━\u001b[0m \u001b[32m134.3/134.3 kB\u001b[0m \u001b[31m10.7 MB/s\u001b[0m eta \u001b[36m0:00:00\u001b[0m\n",
            "\u001b[2K     \u001b[90m━━━━━━━━━━━━━━━━━━━━━━━━━━━━━━━━━━━━━━━━\u001b[0m \u001b[32m1.0/1.0 MB\u001b[0m \u001b[31m4.9 MB/s\u001b[0m eta \u001b[36m0:00:00\u001b[0m\n",
            "\u001b[2K     \u001b[90m━━━━━━━━━━━━━━━━━━━━━━━━━━━━━━━━━━━━━━\u001b[0m \u001b[32m224.5/224.5 kB\u001b[0m \u001b[31m11.9 MB/s\u001b[0m eta \u001b[36m0:00:00\u001b[0m\n",
            "\u001b[2K     \u001b[90m━━━━━━━━━━━━━━━━━━━━━━━━━━━━━━━━━━━━━━━━\u001b[0m \u001b[32m1.3/1.3 MB\u001b[0m \u001b[31m34.3 MB/s\u001b[0m eta \u001b[36m0:00:00\u001b[0m\n",
            "\u001b[2K     \u001b[90m━━━━━━━━━━━━━━━━━━━━━━━━━━━━━━━━━━━━━━━━\u001b[0m \u001b[32m87.9/87.9 kB\u001b[0m \u001b[31m11.0 MB/s\u001b[0m eta \u001b[36m0:00:00\u001b[0m\n",
            "\u001b[2K     \u001b[90m━━━━━━━━━━━━━━━━━━━━━━━━━━━━━━━━━━━━━━\u001b[0m \u001b[32m114.5/114.5 kB\u001b[0m \u001b[31m12.9 MB/s\u001b[0m eta \u001b[36m0:00:00\u001b[0m\n",
            "\u001b[2K     \u001b[90m━━━━━━━━━━━━━━━━━━━━━━━━━━━━━━━━━━━━━━\u001b[0m \u001b[32m268.8/268.8 kB\u001b[0m \u001b[31m26.1 MB/s\u001b[0m eta \u001b[36m0:00:00\u001b[0m\n",
            "\u001b[2K     \u001b[90m━━━━━━━━━━━━━━━━━━━━━━━━━━━━━━━━━━━━━━\u001b[0m \u001b[32m149.6/149.6 kB\u001b[0m \u001b[31m14.4 MB/s\u001b[0m eta \u001b[36m0:00:00\u001b[0m\n",
            "\u001b[?25h  Building wheel for miniai (setup.py) ... \u001b[?25l\u001b[?25hdone\n"
          ]
        }
      ]
    },
    {
      "cell_type": "markdown",
      "source": [
        "This is where we take a halt and we say, okay, let's build up a framework that we can use to rapidly try things and understand when things are working and when things aren't working. So we're going to start creating a learner. So what is learner? It's basically the idea is this learner is going to be something that we build which will allow us to try like anything that we can imagine very quickly and we will build that on top of that learner, things that will allow us to introspect what's going on inside a model will allow us to do multi process CUDA to go fast. It will allow us to add things like data augmentation. It will allow us to try a wide variety of architectures quickly and so forth. So that's going to be the idea and of course we're going to create it from scratch. \n",
        "\n",
        "And so let's start with fashion MNIST before and let's create a dataloader class, which is going to look a bit like what we had before, where we're just going to pass in. This is just couldn't be simpler, right? We're just going to pass in two dataloaders and store them away and I'm going to create a class method from dataset dictionary. And what that's going to do is it's going to call dataloader on each of the dataset dictionary items with our batch side batch size and instantiate our class. So if you haven't seen classmethod before, it's what allows us to say dataloaders dot something. In order to construct this, we're going to put this in in it just as well, but we'll be building more complex data loaded things later. So I thought we might start by kind of getting the basic structure right. So this is all pretty much the same as what we've had before, not doing anything on the device here because that's we know that didn't really work. Okay. Oh, this is an old thing. You don't need to cuda anymore. So we're going to use to_device. So here's a, here's an example of a very simple learner that fits on one screen, and this is basically going to replace our fit function. So a learner is going to be something that is going to train or learn a particular model using a particular set of data load as a particular loss function. But some particular learning rate and some particular optimizer or some particular optimization function. Now normally, you know, most people would often kind of store each of these away separately by writing like self.model equals model, blah, blah, blah. Right. And as I think we've talked about before, that's, you know, that kind of huge amounts of boilerplate. It just it's more stuff that you can get wrong and it's more stuff to mean that you have to read to understand the code and yeah, don't like that kind of repetition. So instead we just call fc.store_attr() to do that all in one line. Okay. So that basic idea with a class is to think what's the information it's going to need. So you pass that, all the constructor store away and then our fit function is going be got the basic stuff that we have for keeping track of accuracy. So this is only work for stuff that's a classification where we can use accuracy, put the model on our device, create the optimizer store, how many epochs we're going through. Then for each epoch we'll call the one epoch function and the one epoch function. We're going to either do train or evaluation. So we pass in true if we're training and false if we're evaluating. And they're basically almost the same.\n",
        "\n"
      ],
      "metadata": {
        "id": "rcWQHRKa-DfT"
      },
      "id": "rcWQHRKa-DfT"
    },
    {
      "cell_type": "code",
      "execution_count": 2,
      "id": "7e8f8491",
      "metadata": {
        "id": "7e8f8491"
      },
      "outputs": [],
      "source": [
        "#|export\n",
        "import math,torch,matplotlib.pyplot as plt\n",
        "import fastcore.all as fc\n",
        "from collections.abc import Mapping\n",
        "from operator import attrgetter\n",
        "from functools import partial\n",
        "from copy import copy\n",
        "\n",
        "from torch import optim\n",
        "import torch.nn.functional as F\n",
        "\n",
        "from miniai.conv import *\n",
        "\n",
        "from fastprogress import progress_bar,master_bar"
      ]
    },
    {
      "cell_type": "code",
      "execution_count": 3,
      "id": "b2cfc67c",
      "metadata": {
        "id": "b2cfc67c"
      },
      "outputs": [],
      "source": [
        "import matplotlib as mpl\n",
        "import torchvision.transforms.functional as TF\n",
        "from contextlib import contextmanager\n",
        "from torch import nn,tensor\n",
        "from datasets import load_dataset,load_dataset_builder\n",
        "from miniai.datasets import *\n",
        "from miniai.conv import *\n",
        "import logging\n",
        "from fastcore.test import test_close"
      ]
    },
    {
      "cell_type": "code",
      "execution_count": 4,
      "id": "8c1d7be1",
      "metadata": {
        "id": "8c1d7be1"
      },
      "outputs": [],
      "source": [
        "torch.set_printoptions(precision=2, linewidth=140, sci_mode=False)\n",
        "torch.manual_seed(1)\n",
        "mpl.rcParams['image.cmap'] = 'gray'"
      ]
    },
    {
      "cell_type": "code",
      "execution_count": 5,
      "id": "84a947f2",
      "metadata": {
        "id": "84a947f2"
      },
      "outputs": [],
      "source": [
        "logging.disable(logging.WARNING)"
      ]
    },
    {
      "cell_type": "markdown",
      "id": "8f5eea66",
      "metadata": {
        "id": "8f5eea66"
      },
      "source": [
        "## Learner"
      ]
    },
    {
      "cell_type": "code",
      "execution_count": 6,
      "id": "b22868a9",
      "metadata": {
        "id": "b22868a9",
        "outputId": "1e22eda1-1dd0-42b0-8396-b656bb01b759",
        "colab": {
          "referenced_widgets": [
            "87ea1f4ad25c4ec3b1e2458d3e171e4d",
            "56ade456474a4a48a4b2448f8438560b",
            "d61630597c6e4cb79e4ea65f8dc2f126",
            "8fdedfcf3376422189f955287f5248b3",
            "18fd3a8a610743298d74ea7214b1b112",
            "afe38ebcdbc84f0682cc72a479c623da",
            "d0ebfeba63f5457d804b3d23ba97aadb",
            "adee8bf56b11479199483c669507852c",
            "acab7ce8dfd4482daac9976242d6bfdb",
            "b769fb5362a444578deec3fd09d7d8eb",
            "f7097d0e7fa341c98b48c5229e3af818",
            "0a896e8a82ae4a58b51685aec49b85ed",
            "9b8e872078d948c4aa107f90a16eeb94",
            "a13db06941f743da87978b4671fe5d00",
            "d14125030b8a460eb038bb996a62bbf2",
            "d8315c34b78b403789a3d1a57679f20e",
            "11a6c3b6bcaf4788a450f9edb5910658",
            "51ba3ebb581440539b67617ec0cb3ba1",
            "99489ba493ae400e9af5dd3e4944d781",
            "c86473e1c46647f98d77e37a920e5ac0",
            "aefb25f788754e91832081051b878bd7",
            "6e10676c24a0471b9aedef9be98fed2c",
            "82fb1a2d44ce4a898e93925d71f31520",
            "052e031f8c20414394f47fc817a6f626",
            "7e07f407b83d43c1b32fc9eb461fe9ec",
            "26414d96315f4a31a7ba8febded12932",
            "2c463e3f0db542baa2936faed44bc409",
            "31a14e8a58f5446096a143555a478477",
            "5b89020c49de44a38e0d9c070e5dc1a1",
            "4c2131b501344d349598e40a438103ee",
            "4dc9da1b275445ceb4e945836f1172f2",
            "87d971731f8c4472b554643e99865cd2",
            "f586c6d2caee436eb9674f639a105a3f",
            "06779bd845574d069e32c884f450f31a",
            "fc5a2a42c81342a481ab49ace6258fb7",
            "62bd486265ff476592a2387f3c95e5c7",
            "bdd14df6e9c3444ab39c8672b71ce193",
            "f65d936d300c40659f0df80584e42d6a",
            "0981c2ffca194cedaa6600fdb73ec174",
            "75accfe9d44e4dfebf42c7d7a91152b7",
            "0593cf1f92f54985b64103860dec1ac9",
            "ca9414ef2f3b417fa8c5685a6c422b06",
            "157fada9600f4d03b3a80d75e6fe3448",
            "89427502ef3741df98281f02476b1ee4",
            "85bb2bb7d3444b558ed39ad5e438e59b",
            "0220a7e3f4d3455caa5b4b3e90b456b2",
            "ef83cf35a7af4b7ea0e082fb8a4ba7c8",
            "b52d39900c9c4a9a816003328d010d8a",
            "e16e3084975845da8f61ea55a79525a2",
            "f608db5929354298967255ec4b618ed1",
            "5bacae4029eb43dd984b448089ee29bd",
            "01ab0c9a013f44c5aa1574bdeb13ca06",
            "3cc61a98132749348858bb9be44413af",
            "43e7f8645f4b41629950e3b017bc51f6",
            "ee312cefee344210abf071d8706e46f0",
            "c421687ed7824bfe9bf357d808474106",
            "15213f6663f748cf98817eea76478565",
            "72ea0d98eebd48e1b7998bffba96b07c",
            "c9702f3e05924a5294fe48ff775de611",
            "5aedd56e17d34294b5ae3b17c683f8c4",
            "6d7707a274484a1b987306d59476cfb5",
            "9729e08cd66a43dc88500324528fd43e",
            "11453aaea94c45038102d7008ea5416b",
            "651b0b8e7b4849268521241982b9e8bb",
            "9d4d6bb757ed4134ae107c670538b1cb",
            "583c2a7e6efa4a35a08bdaa725620e3d",
            "e98eb3486bb74e888b6f3585f207cc98",
            "2b46df9315554266938f0a2d7e3f7d53",
            "38527091f72c412a975864329e288f69",
            "21cb984438b34c98a578d065dab5552a",
            "226f87f7b7414618b888dbcb33536438",
            "7678ef1abbe9442bb8a801ca3f758ad8",
            "692d66eb93ac4c4083b822e7686ff544",
            "5619388989dd41f5a8737c8a8f300969",
            "a17e5b85756244989462a01851f89911",
            "0f7303d657894290803ca8fe6a05a6a7",
            "675406eeb0c040e193b777c1dc5df496",
            "f0f89d98287c4c079dde3036968c7a8e",
            "db4d977dff484a659111253a58ec8a6c",
            "4e40506df6414c51ae80a6c4eee3480c",
            "ee838331cdb24729a8435aaefbb3df9d",
            "0776fa160e5e486dbe16e3cf1e218071",
            "5b0c3531ecb440d8904b51b3f28bc1c2",
            "1ff1b9c2aa2943ac887d0817be674fc6",
            "0979e1039d2f43d39eabbe4f8f4468fa",
            "53bd2cc4348f41229b04d24e7ff4dba9",
            "e0e73a16065d4a2e90e268d878893000",
            "7ab995f97fe147669ce333746e063a38",
            "dc480f90b1254d62bb0c477957887d81",
            "ff57dcbe371048268c0b01ed9af9c8d2",
            "30ec23ea1892475fae4fc34d49f25b0e",
            "7bbb26a5cc8f4d52b7ab3b5c143d750a",
            "99ae7d5c1dab4f25a7dc8197d113c520",
            "b4318a38bfae4788a88bf506f6af1a08",
            "edd4ccc57fb6426281665a609253f51f",
            "7fed3d86dda047588fe611960b2c267e",
            "0236d56db91e40b2b1e1a5abea61d89e",
            "0258734911ee4d388bbe16f76edf4d12",
            "1a8a5a3e9bd44422a5194158b81e3f06",
            "b830314d176045f29f23e793d273b6a8",
            "a7a62468bebc4ed68465689fea173632",
            "5cb48615e80046fb98abcb5d91922139",
            "02a918e5e20f4f9c8bd7ffd04be5a63a",
            "2aaa1af79bee44618cfecddf7b1cd774",
            "27b47151d5bd4e6aaae7c65a09990fa9",
            "547cd32eefa840129e8fce10963dfdc1",
            "7365797d48a9498ba31f212bec34b14f",
            "03711d6d06df4c258e9efcc8c5af108f",
            "56041763ba314019b1cf1da778184fda",
            "16c9552777d7467e82c5be11bc1fc1d9",
            "04a346300c2a4d38bea6bc4d5ea5b77c",
            "225008903dab48ef8e38dfe5e2a795b6",
            "52cff3d61ab04642af2d8e9d78d4f8c2",
            "c9da984378da43858a440380d3c88f8e",
            "a097c2efe9634ab5856e52b5c266d1e9",
            "f76fdb83470b4fc49395e5fbf3ca85a6",
            "c872834712ba42d58083fa2aa164029e",
            "d17cb88e43a94270b645dd2c70f67086",
            "4555229dbb2d457ab3da99162ca9ec8b",
            "ec506b1fc7fa43908a3afe77f0b9ed0b",
            "17d18fc7ae21472d9da902b6c7518996",
            "e4389b9d1261482da526b19b7e9eb153",
            "177d9c00f07148d49b20cb73e798a1e0",
            "8892ba804ab649b895b460deb27bc580",
            "a63addf9fd7c439b9a242c52811677c0",
            "c34f943a902246609c65f250efa2ffac",
            "1ebc13ef30f5433086970b3980fba356",
            "fa1905571400402bb7022676ab2bc044",
            "5900b555e03c45de8bc02646b91f84f3",
            "3b3136bb4fd243fca08dbc4eb4176e77",
            "a15924a3cd8a4f7ead67546865c38ad0",
            "b275fe4d5b6241b093c2e2b9c1d58c3b"
          ],
          "base_uri": "https://localhost:8080/",
          "height": 390
        }
      },
      "outputs": [
        {
          "output_type": "display_data",
          "data": {
            "text/plain": [
              "Downloading builder script:   0%|          | 0.00/4.83k [00:00<?, ?B/s]"
            ],
            "application/vnd.jupyter.widget-view+json": {
              "version_major": 2,
              "version_minor": 0,
              "model_id": "87ea1f4ad25c4ec3b1e2458d3e171e4d"
            }
          },
          "metadata": {}
        },
        {
          "output_type": "display_data",
          "data": {
            "text/plain": [
              "Downloading metadata:   0%|          | 0.00/3.13k [00:00<?, ?B/s]"
            ],
            "application/vnd.jupyter.widget-view+json": {
              "version_major": 2,
              "version_minor": 0,
              "model_id": "0a896e8a82ae4a58b51685aec49b85ed"
            }
          },
          "metadata": {}
        },
        {
          "output_type": "display_data",
          "data": {
            "text/plain": [
              "Downloading readme:   0%|          | 0.00/8.85k [00:00<?, ?B/s]"
            ],
            "application/vnd.jupyter.widget-view+json": {
              "version_major": 2,
              "version_minor": 0,
              "model_id": "82fb1a2d44ce4a898e93925d71f31520"
            }
          },
          "metadata": {}
        },
        {
          "output_type": "stream",
          "name": "stdout",
          "text": [
            "Downloading and preparing dataset fashion_mnist/fashion_mnist to /root/.cache/huggingface/datasets/fashion_mnist/fashion_mnist/1.0.0/0a671f063342996f19779d38c0ab4abef9c64f757b35af8134b331c294d7ba48...\n"
          ]
        },
        {
          "output_type": "display_data",
          "data": {
            "text/plain": [
              "Downloading data files:   0%|          | 0/4 [00:00<?, ?it/s]"
            ],
            "application/vnd.jupyter.widget-view+json": {
              "version_major": 2,
              "version_minor": 0,
              "model_id": "06779bd845574d069e32c884f450f31a"
            }
          },
          "metadata": {}
        },
        {
          "output_type": "display_data",
          "data": {
            "text/plain": [
              "Downloading data:   0%|          | 0.00/26.4M [00:00<?, ?B/s]"
            ],
            "application/vnd.jupyter.widget-view+json": {
              "version_major": 2,
              "version_minor": 0,
              "model_id": "85bb2bb7d3444b558ed39ad5e438e59b"
            }
          },
          "metadata": {}
        },
        {
          "output_type": "display_data",
          "data": {
            "text/plain": [
              "Downloading data:   0%|          | 0.00/29.5k [00:00<?, ?B/s]"
            ],
            "application/vnd.jupyter.widget-view+json": {
              "version_major": 2,
              "version_minor": 0,
              "model_id": "c421687ed7824bfe9bf357d808474106"
            }
          },
          "metadata": {}
        },
        {
          "output_type": "display_data",
          "data": {
            "text/plain": [
              "Downloading data:   0%|          | 0.00/4.42M [00:00<?, ?B/s]"
            ],
            "application/vnd.jupyter.widget-view+json": {
              "version_major": 2,
              "version_minor": 0,
              "model_id": "e98eb3486bb74e888b6f3585f207cc98"
            }
          },
          "metadata": {}
        },
        {
          "output_type": "display_data",
          "data": {
            "text/plain": [
              "Downloading data:   0%|          | 0.00/5.15k [00:00<?, ?B/s]"
            ],
            "application/vnd.jupyter.widget-view+json": {
              "version_major": 2,
              "version_minor": 0,
              "model_id": "f0f89d98287c4c079dde3036968c7a8e"
            }
          },
          "metadata": {}
        },
        {
          "output_type": "display_data",
          "data": {
            "text/plain": [
              "Extracting data files:   0%|          | 0/4 [00:00<?, ?it/s]"
            ],
            "application/vnd.jupyter.widget-view+json": {
              "version_major": 2,
              "version_minor": 0,
              "model_id": "dc480f90b1254d62bb0c477957887d81"
            }
          },
          "metadata": {}
        },
        {
          "output_type": "display_data",
          "data": {
            "text/plain": [
              "Generating train split:   0%|          | 0/60000 [00:00<?, ? examples/s]"
            ],
            "application/vnd.jupyter.widget-view+json": {
              "version_major": 2,
              "version_minor": 0,
              "model_id": "b830314d176045f29f23e793d273b6a8"
            }
          },
          "metadata": {}
        },
        {
          "output_type": "display_data",
          "data": {
            "text/plain": [
              "Generating test split:   0%|          | 0/10000 [00:00<?, ? examples/s]"
            ],
            "application/vnd.jupyter.widget-view+json": {
              "version_major": 2,
              "version_minor": 0,
              "model_id": "04a346300c2a4d38bea6bc4d5ea5b77c"
            }
          },
          "metadata": {}
        },
        {
          "output_type": "stream",
          "name": "stdout",
          "text": [
            "Dataset fashion_mnist downloaded and prepared to /root/.cache/huggingface/datasets/fashion_mnist/fashion_mnist/1.0.0/0a671f063342996f19779d38c0ab4abef9c64f757b35af8134b331c294d7ba48. Subsequent calls will reuse this data.\n"
          ]
        },
        {
          "output_type": "display_data",
          "data": {
            "text/plain": [
              "  0%|          | 0/2 [00:00<?, ?it/s]"
            ],
            "application/vnd.jupyter.widget-view+json": {
              "version_major": 2,
              "version_minor": 0,
              "model_id": "e4389b9d1261482da526b19b7e9eb153"
            }
          },
          "metadata": {}
        }
      ],
      "source": [
        "x,y = 'image','label'\n",
        "name = \"fashion_mnist\"\n",
        "dsd = load_dataset(name)"
      ]
    },
    {
      "cell_type": "code",
      "execution_count": 7,
      "id": "1ad7ecde",
      "metadata": {
        "id": "1ad7ecde"
      },
      "outputs": [],
      "source": [
        "@inplace\n",
        "def transformi(b): b[x] = [torch.flatten(TF.to_tensor(o)) for o in b[x]]"
      ]
    },
    {
      "cell_type": "code",
      "execution_count": 8,
      "id": "ad4d2ec0",
      "metadata": {
        "id": "ad4d2ec0"
      },
      "outputs": [],
      "source": [
        "bs = 1024\n",
        "tds = dsd.with_transform(transformi)"
      ]
    },
    {
      "cell_type": "code",
      "execution_count": 9,
      "id": "9cb11029",
      "metadata": {
        "id": "9cb11029",
        "outputId": "a6a79404-888b-40b9-d51a-89e03eda3a97",
        "colab": {
          "base_uri": "https://localhost:8080/"
        }
      },
      "outputs": [
        {
          "output_type": "stream",
          "name": "stderr",
          "text": [
            "/usr/local/lib/python3.10/dist-packages/torch/utils/data/dataloader.py:560: UserWarning: This DataLoader will create 4 worker processes in total. Our suggested max number of worker in current system is 2, which is smaller than what this DataLoader is going to create. Please be aware that excessive worker creation might get DataLoader running slow or even freeze, lower the worker number to avoid potential slowness/freeze if necessary.\n",
            "  warnings.warn(_create_warning_msg(\n"
          ]
        },
        {
          "output_type": "execute_result",
          "data": {
            "text/plain": [
              "(torch.Size([1024, 784]), tensor([5, 4, 9, 4, 3, 0, 6, 5, 7, 6]))"
            ]
          },
          "metadata": {},
          "execution_count": 9
        }
      ],
      "source": [
        "dls = DataLoaders.from_dd(tds, bs, num_workers=4)\n",
        "dt = dls.train\n",
        "xb,yb = next(iter(dt))\n",
        "xb.shape,yb[:10]"
      ]
    },
    {
      "cell_type": "markdown",
      "source": [
        "We basically set the model to training or not. We then decide whether to use the validation set or the training set based on whether we're training. And then we go through each batch in the dataloader and call one batch. And one batch is then the thing which is going to put our batch onto the device, call our model, call our loss function. And then if we're training, then do our backward step, our optimizer step in zero gradient, and then finally calculate our metrics or stats. And so here's where we calculate our metrics. So that's basically what we have there. So let's go back to using an MLP we call FIT. And the way it goes. This is an era here pointed out by Kevin thank you self.model.to that to one thing I guess we could try now is we think that maybe we can use more than one process so let's try that.\n",
        "  again and let's check htop. Oh so fast. I didn't even see. Hey guys, you can see all 4 cpu's being used once. Bang, it's done. Okay, so that's pretty great. Let's see how fast it looks here. Bump, bump. All right. Lovely. Okay, so that's a good sign. \n",
        "  \n",
        "We've got a learner that can fit things, but it's not very flexible. It's not going to help us, for example, with our auto encoder, because there's no way of like just, you know, changing which  things are used for predicting with or for coupling with. We can't use it for anything except things that involve accuracy with a binary classification. Sorry, a right, sorry. Yeah. A multiclass classification. It's not flexible at all, but it's a start. And so I wanted to basically this all on one screen so you can see what the basic learner looks like. All right, so how do we do things other than multiclass accuracy? \n",
        "\n",
        "I decided to create a metric class and basically a metric class. It's a something where we are going to define subclasses of it that calculate particular metrics. So for example, here I've got a subclass of a metric called accuracy. So if you haven't done subclasses before, you can basically think of this as saying, Please copy and paste all the code from here into here for me. But the bit that says def calc, replace it with this version. So in fact this would be identical to copying and pasting this whole thing, typing accuracy here and replacing the definition calc with that. That's what is happening here when we do subclasses. So it's basically and pasting all that code in there. For us, it's actually more powerful than that. There's more we can do with that. But in this case, this is all that's happening with this subclasses and that's this is called setting all these that that's \n",
        "\n"
      ],
      "metadata": {
        "id": "xdXfYM9L_vMw"
      },
      "id": "xdXfYM9L_vMw"
    },
    {
      "cell_type": "code",
      "execution_count": 10,
      "id": "d733c9b0",
      "metadata": {
        "id": "d733c9b0"
      },
      "outputs": [],
      "source": [
        "class Learner:\n",
        "    def __init__(self, model, dls, loss_func, lr, opt_func=optim.SGD): fc.store_attr()\n",
        "\n",
        "    def one_batch(self):\n",
        "        self.xb,self.yb = to_device(self.batch)\n",
        "        self.preds = self.model(self.xb)\n",
        "        self.loss = self.loss_func(self.preds, self.yb)\n",
        "        if self.model.training:\n",
        "            self.loss.backward()\n",
        "            self.opt.step()\n",
        "            self.opt.zero_grad()\n",
        "        with torch.no_grad(): self.calc_stats()\n",
        "\n",
        "    def calc_stats(self):\n",
        "        acc = (self.preds.argmax(dim=1)==self.yb).float().sum()\n",
        "        self.accs.append(acc)\n",
        "        n = len(self.xb)\n",
        "        self.losses.append(self.loss*n)\n",
        "        self.ns.append(n)\n",
        "\n",
        "    def one_epoch(self, train):\n",
        "        self.model.training = train\n",
        "        dl = self.dls.train if train else self.dls.valid\n",
        "        for self.num,self.batch in enumerate(dl): self.one_batch()\n",
        "        n = sum(self.ns)\n",
        "        print(self.epoch, self.model.training, sum(self.losses).item()/n, sum(self.accs).item()/n)\n",
        "    \n",
        "    def fit(self, n_epochs):\n",
        "        self.accs,self.losses,self.ns = [],[],[]\n",
        "        self.model.to(def_device)\n",
        "        self.opt = self.opt_func(self.model.parameters(), self.lr)\n",
        "        self.n_epochs = n_epochs\n",
        "        for self.epoch in range(n_epochs):\n",
        "            self.one_epoch(True)\n",
        "            with torch.no_grad(): self.one_epoch(False)"
      ]
    },
    {
      "cell_type": "code",
      "execution_count": 11,
      "id": "8edf58ea",
      "metadata": {
        "id": "8edf58ea"
      },
      "outputs": [],
      "source": [
        "m,nh = 28*28,50\n",
        "model = nn.Sequential(nn.Linear(m,nh), nn.ReLU(), nn.Linear(nh,10))"
      ]
    },
    {
      "cell_type": "code",
      "execution_count": 12,
      "id": "be2af2a1",
      "metadata": {
        "id": "be2af2a1",
        "outputId": "bf502c1f-0d34-46fd-e2f4-b7176a153479",
        "colab": {
          "base_uri": "https://localhost:8080/"
        }
      },
      "outputs": [
        {
          "output_type": "stream",
          "name": "stdout",
          "text": [
            "0 True 1.17530390625 0.5987\n",
            "0 False 1.1203112723214286 0.6135857142857143\n"
          ]
        }
      ],
      "source": [
        "learn = Learner(model, dls, F.cross_entropy, lr=0.2)\n",
        "learn.fit(1)"
      ]
    },
    {
      "cell_type": "markdown",
      "id": "82718c6d",
      "metadata": {
        "id": "82718c6d"
      },
      "source": [
        "## Basic Callbacks Learner"
      ]
    },
    {
      "cell_type": "code",
      "execution_count": 13,
      "id": "534c00e6",
      "metadata": {
        "id": "534c00e6"
      },
      "outputs": [],
      "source": [
        "#|export\n",
        "class CancelFitException(Exception): pass\n",
        "class CancelBatchException(Exception): pass\n",
        "class CancelEpochException(Exception): pass"
      ]
    },
    {
      "cell_type": "code",
      "execution_count": 14,
      "id": "ee43512e",
      "metadata": {
        "id": "ee43512e"
      },
      "outputs": [],
      "source": [
        "#|export\n",
        "class Callback(): order = 0"
      ]
    },
    {
      "cell_type": "code",
      "execution_count": 15,
      "id": "7439ca0b",
      "metadata": {
        "id": "7439ca0b"
      },
      "outputs": [],
      "source": [
        "#|export\n",
        "def run_cbs(cbs, method_nm, learn=None):\n",
        "    for cb in sorted(cbs, key=attrgetter('order')):\n",
        "        method = getattr(cb, method_nm, None)\n",
        "        if method is not None: method(learn)"
      ]
    },
    {
      "cell_type": "code",
      "execution_count": 16,
      "id": "583ce114",
      "metadata": {
        "id": "583ce114"
      },
      "outputs": [],
      "source": [
        "class CompletionCB(Callback):\n",
        "    def before_fit(self, learn): self.count = 0\n",
        "    def after_batch(self, learn): self.count += 1\n",
        "    def after_fit(self, learn): print(f'Completed {self.count} batches')"
      ]
    },
    {
      "cell_type": "code",
      "execution_count": 17,
      "id": "c2b41ea4",
      "metadata": {
        "id": "c2b41ea4",
        "outputId": "760d14db-d8b7-4d99-f1db-fd9e07cd5ef9",
        "colab": {
          "base_uri": "https://localhost:8080/"
        }
      },
      "outputs": [
        {
          "output_type": "stream",
          "name": "stdout",
          "text": [
            "Completed 1 batches\n"
          ]
        }
      ],
      "source": [
        "cbs = [CompletionCB()]\n",
        "run_cbs(cbs, 'before_fit')\n",
        "run_cbs(cbs, 'after_batch')\n",
        "run_cbs(cbs, 'after_fit')"
      ]
    },
    {
      "cell_type": "code",
      "execution_count": 18,
      "id": "01de6ea0",
      "metadata": {
        "id": "01de6ea0"
      },
      "outputs": [],
      "source": [
        "class Learner():\n",
        "    def __init__(self, model, dls, loss_func, lr, cbs, opt_func=optim.SGD): fc.store_attr()\n",
        "\n",
        "    def one_batch(self):\n",
        "        self.preds = self.model(self.batch[0])\n",
        "        self.loss = self.loss_func(self.preds, self.batch[1])\n",
        "        if self.model.training:\n",
        "            self.loss.backward()\n",
        "            self.opt.step()\n",
        "            self.opt.zero_grad()\n",
        "\n",
        "    def one_epoch(self, train):\n",
        "        self.model.train(train)\n",
        "        self.dl = self.dls.train if train else self.dls.valid\n",
        "        try:\n",
        "            self.callback('before_epoch')\n",
        "            for self.iter,self.batch in enumerate(self.dl):\n",
        "                try:\n",
        "                    self.callback('before_batch')\n",
        "                    self.one_batch()\n",
        "                    self.callback('after_batch')\n",
        "                except CancelBatchException: pass\n",
        "            self.callback('after_epoch')\n",
        "        except CancelEpochException: pass\n",
        "    \n",
        "    def fit(self, n_epochs):\n",
        "        self.n_epochs = n_epochs\n",
        "        self.epochs = range(n_epochs)\n",
        "        self.opt = self.opt_func(self.model.parameters(), self.lr)\n",
        "        try:\n",
        "            self.callback('before_fit')\n",
        "            for self.epoch in self.epochs:\n",
        "                self.one_epoch(True)\n",
        "                self.one_epoch(False)\n",
        "            self.callback('after_fit')\n",
        "        except CancelFitException: pass\n",
        "\n",
        "    def callback(self, method_nm): run_cbs(self.cbs, method_nm, self)"
      ]
    },
    {
      "cell_type": "code",
      "execution_count": 19,
      "id": "38009cbf",
      "metadata": {
        "id": "38009cbf"
      },
      "outputs": [],
      "source": [
        "m,nh = 28*28,50\n",
        "def get_model(): return nn.Sequential(nn.Linear(m,nh), nn.ReLU(), nn.Linear(nh,10))"
      ]
    },
    {
      "cell_type": "code",
      "execution_count": 20,
      "id": "7559838f",
      "metadata": {
        "id": "7559838f",
        "outputId": "3282da4e-da5d-4fc9-f35a-cf152c584c8d",
        "colab": {
          "base_uri": "https://localhost:8080/"
        }
      },
      "outputs": [
        {
          "output_type": "stream",
          "name": "stdout",
          "text": [
            "Completed 64 batches\n"
          ]
        }
      ],
      "source": [
        "model = get_model()\n",
        "learn = Learner(model, dls, F.cross_entropy, lr=0.2, cbs=[CompletionCB()])\n",
        "learn.fit(1)"
      ]
    },
    {
      "cell_type": "code",
      "execution_count": 21,
      "id": "e5c14d8e",
      "metadata": {
        "id": "e5c14d8e"
      },
      "outputs": [],
      "source": [
        "#| export\n",
        "class SingleBatchCB(Callback):\n",
        "    order = 1\n",
        "    def after_batch(self, learn): raise CancelFitException()"
      ]
    },
    {
      "cell_type": "code",
      "execution_count": 22,
      "id": "29310ca2",
      "metadata": {
        "id": "29310ca2"
      },
      "outputs": [],
      "source": [
        "learn = Learner(get_model(), dls, F.cross_entropy, lr=0.2, cbs=[SingleBatchCB(), CompletionCB()])\n",
        "learn.fit(1)"
      ]
    },
    {
      "cell_type": "markdown",
      "id": "559c0986",
      "metadata": {
        "id": "559c0986"
      },
      "source": [
        "## Metrics"
      ]
    },
    {
      "cell_type": "markdown",
      "source": [
        "so the accuracy metric is here and then this is kind of our really basic metric which is we're going to use for just for loss. And so what happens is we're going to let's, for example, create an accuracy metric object. We're basically to add in mini batches of data, right? So for example, here's a mini batches of inputs and predictions. Here's another mini batch of inputs and predictions, and then we're going to call dot value and it will calculate the accuracy. Now the value is a neat little thing. It doesn't require parentheses after it because it's called a property. And so a property is something that just calculates automatically without putting having to put parentheses. That's what a property is, what property getter anyway. And so they look like this, you give it a name. And so we are going to be each time we call ADD, we are going to be storing that input and that target and also the number of items in the mini batch. Optionally for now, that's just always going to be one. And you can see here that we then call dot Calc, which is going to call the accuracy_calc. So just see how they equal and then we're going to append to the list of values that calculation. And we're also going to append to the list of ends in this case, just one. And so then to calculate the value, we just do that. So that's all that's happening for accuracy. And then we can do for loss. We can just use metric directly because metric will just calculate the average of whatever it's passed. So we can say, oh, add the number 0.6, so the target's optional and saying this is a mini batch of size And then add the value 0.9 with a mini batch size of two and then get the value. And as you can see, that's exactly the same as the weighted average of 0.6 and point nine with weights of 32 and two. So created a metric class. And so that's something that we can use to create any metric we like just by overriding calc. Or we could create totally things from scratch as long as they have an add and a value. Okay, \n",
        "\n",
        "so we're now going to change our learner and what we're going to do is we're going to keep the same basic structure. So it's going to be fit. It's going to go through each epoch. It's going to call one epoch passing and true and false. As for training and validation, one epoch is going to go through each batch in the data oader and call one batch. One batch is going to the prediction get loss and if it's training, it's going to do that backward step and zero grade. But there's a few other things going on. So let's take a look. Well, actually, let's just look at it in use first. So when we use it, we're going to be creating a learner with the model dataloaders, last function learning rate and some callbacks, which we'll learn about in a moment and we call fit. \n",
        "\n"
      ],
      "metadata": {
        "id": "sNv_IIfxBIhX"
      },
      "id": "sNv_IIfxBIhX"
    },
    {
      "cell_type": "code",
      "execution_count": 23,
      "id": "f810c642",
      "metadata": {
        "id": "f810c642"
      },
      "outputs": [],
      "source": [
        "class Metric:\n",
        "    def __init__(self): self.reset()\n",
        "    def reset(self): self.vals,self.ns = [],[]\n",
        "    def add(self, inp, targ=None, n=1):\n",
        "        self.last = self.calc(inp, targ)\n",
        "        self.vals.append(self.last)\n",
        "        self.ns.append(n)\n",
        "    @property\n",
        "    def value(self):\n",
        "        ns = tensor(self.ns)\n",
        "        return (tensor(self.vals)*ns).sum()/ns.sum()\n",
        "    def calc(self, inps, targs): return inps"
      ]
    },
    {
      "cell_type": "code",
      "execution_count": 24,
      "id": "092dd298",
      "metadata": {
        "id": "092dd298"
      },
      "outputs": [],
      "source": [
        "class Accuracy(Metric):\n",
        "    def calc(self, inps, targs): return (inps==targs).float().mean()"
      ]
    },
    {
      "cell_type": "code",
      "execution_count": 25,
      "id": "87752b24",
      "metadata": {
        "id": "87752b24",
        "outputId": "b8f582be-f9da-4931-be5f-2220b9203751",
        "colab": {
          "base_uri": "https://localhost:8080/"
        }
      },
      "outputs": [
        {
          "output_type": "execute_result",
          "data": {
            "text/plain": [
              "tensor(0.45)"
            ]
          },
          "metadata": {},
          "execution_count": 25
        }
      ],
      "source": [
        "acc = Accuracy()\n",
        "acc.add(tensor([0, 1, 2, 0, 1, 2]), tensor([0, 1, 1, 2, 1, 0]))\n",
        "acc.add(tensor([1, 1, 2, 0, 1]), tensor([0, 1, 1, 2, 1]))\n",
        "acc.value"
      ]
    },
    {
      "cell_type": "code",
      "execution_count": 26,
      "id": "4cdf18e8",
      "metadata": {
        "id": "4cdf18e8",
        "outputId": "19e775e9-b0d5-435f-cdbd-75d22c556d0a",
        "colab": {
          "base_uri": "https://localhost:8080/"
        }
      },
      "outputs": [
        {
          "output_type": "execute_result",
          "data": {
            "text/plain": [
              "(tensor(0.62), 0.62)"
            ]
          },
          "metadata": {},
          "execution_count": 26
        }
      ],
      "source": [
        "loss = Metric()\n",
        "loss.add(0.6, n=32)\n",
        "loss.add(0.9, n=2)\n",
        "loss.value, round((0.6*32+0.9*2)/(32+2), 2)"
      ]
    },
    {
      "cell_type": "markdown",
      "id": "1ca935dc",
      "metadata": {
        "id": "1ca935dc"
      },
      "source": [
        "## Some callbacks"
      ]
    },
    {
      "cell_type": "markdown",
      "id": "e16df8dd",
      "metadata": {
        "id": "e16df8dd"
      },
      "source": [
        "```\n",
        "pip install torcheval\n",
        "```"
      ]
    },
    {
      "cell_type": "code",
      "execution_count": 27,
      "id": "e67c006c",
      "metadata": {
        "id": "e67c006c"
      },
      "outputs": [],
      "source": [
        "#|export\n",
        "from torcheval.metrics import MulticlassAccuracy,Mean"
      ]
    },
    {
      "cell_type": "code",
      "execution_count": 28,
      "id": "ee473e22",
      "metadata": {
        "id": "ee473e22",
        "outputId": "ddc8e9c8-5dc1-4cf8-c077-cb3f1840b10e",
        "colab": {
          "base_uri": "https://localhost:8080/"
        }
      },
      "outputs": [
        {
          "output_type": "execute_result",
          "data": {
            "text/plain": [
              "tensor(0.50)"
            ]
          },
          "metadata": {},
          "execution_count": 28
        }
      ],
      "source": [
        "metric = MulticlassAccuracy()\n",
        "metric.update(tensor([0, 2, 1, 3]), tensor([0, 1, 2, 3]))\n",
        "metric.compute()"
      ]
    },
    {
      "cell_type": "code",
      "execution_count": 29,
      "id": "0c531ca0",
      "metadata": {
        "id": "0c531ca0",
        "outputId": "7060a084-7aa3-4614-b364-64c5b128c312",
        "colab": {
          "base_uri": "https://localhost:8080/"
        }
      },
      "outputs": [
        {
          "output_type": "execute_result",
          "data": {
            "text/plain": [
              "tensor(nan)"
            ]
          },
          "metadata": {},
          "execution_count": 29
        }
      ],
      "source": [
        "metric.reset()\n",
        "metric.compute()"
      ]
    },
    {
      "cell_type": "code",
      "execution_count": 30,
      "id": "6f8692bd",
      "metadata": {
        "id": "6f8692bd"
      },
      "outputs": [],
      "source": [
        "#|export\n",
        "def to_cpu(x):\n",
        "    if isinstance(x, Mapping): return {k:to_cpu(v) for k,v in x.items()}\n",
        "    if isinstance(x, list): return [to_cpu(o) for o in x]\n",
        "    if isinstance(x, tuple): return tuple(to_cpu(list(x)))\n",
        "    return x.detach().cpu()"
      ]
    },
    {
      "cell_type": "code",
      "execution_count": 31,
      "id": "678712dc",
      "metadata": {
        "id": "678712dc"
      },
      "outputs": [],
      "source": [
        "#|export\n",
        "class MetricsCB(Callback):\n",
        "    def __init__(self, *ms, **metrics):\n",
        "        for o in ms: metrics[type(o).__name__] = o\n",
        "        self.metrics = metrics\n",
        "        self.all_metrics = copy(metrics)\n",
        "        self.all_metrics['loss'] = self.loss = Mean()\n",
        "\n",
        "    def _log(self, d): print(d)\n",
        "    def before_fit(self, learn): learn.metrics = self\n",
        "    def before_epoch(self, learn): [o.reset() for o in self.all_metrics.values()]\n",
        "\n",
        "    def after_epoch(self, learn):\n",
        "        log = {k:f'{v.compute():.3f}' for k,v in self.all_metrics.items()}\n",
        "        log['epoch'] = learn.epoch\n",
        "        log['train'] = 'train' if learn.model.training else 'eval'\n",
        "        self._log(log)\n",
        "\n",
        "    def after_batch(self, learn):\n",
        "        x,y,*_ = to_cpu(learn.batch)\n",
        "        for m in self.metrics.values(): m.update(to_cpu(learn.preds), y)\n",
        "        self.loss.update(to_cpu(learn.loss), weight=len(x))"
      ]
    },
    {
      "cell_type": "code",
      "execution_count": 32,
      "id": "339962be",
      "metadata": {
        "id": "339962be"
      },
      "outputs": [],
      "source": [
        "#|export\n",
        "class DeviceCB(Callback):\n",
        "    def __init__(self, device=def_device): fc.store_attr()\n",
        "    def before_fit(self, learn):\n",
        "        if hasattr(learn.model, 'to'): learn.model.to(self.device)\n",
        "    def before_batch(self, learn): learn.batch = to_device(learn.batch, device=self.device)"
      ]
    },
    {
      "cell_type": "code",
      "execution_count": 33,
      "id": "f5ce9364",
      "metadata": {
        "id": "f5ce9364",
        "outputId": "9fdab7ac-0675-4b43-e1a6-8b279e9b23e6",
        "colab": {
          "base_uri": "https://localhost:8080/"
        }
      },
      "outputs": [
        {
          "output_type": "stream",
          "name": "stdout",
          "text": [
            "{'accuracy': '0.602', 'loss': '1.183', 'epoch': 0, 'train': 'train'}\n",
            "{'accuracy': '0.700', 'loss': '0.847', 'epoch': 0, 'train': 'eval'}\n"
          ]
        }
      ],
      "source": [
        "model = get_model()\n",
        "metrics = MetricsCB(accuracy=MulticlassAccuracy())\n",
        "learn = Learner(model, dls, F.cross_entropy, lr=0.2, cbs=[DeviceCB(), metrics])\n",
        "learn.fit(1)"
      ]
    },
    {
      "cell_type": "markdown",
      "id": "24420ba4",
      "metadata": {
        "id": "24420ba4"
      },
      "source": [
        "## Flexible learner"
      ]
    },
    {
      "cell_type": "code",
      "execution_count": 34,
      "id": "e1732aac",
      "metadata": {
        "id": "e1732aac"
      },
      "outputs": [],
      "source": [
        "class Learner():\n",
        "    def __init__(self, model, dls=(0,), loss_func=F.mse_loss, lr=0.1, cbs=None, opt_func=optim.SGD):\n",
        "        cbs = fc.L(cbs)\n",
        "        fc.store_attr()\n",
        "\n",
        "    @contextmanager\n",
        "    def cb_ctx(self, nm):\n",
        "        try:\n",
        "            self.callback(f'before_{nm}')\n",
        "            yield\n",
        "            self.callback(f'after_{nm}')\n",
        "        except globals()[f'Cancel{nm.title()}Exception']: pass\n",
        "        finally: self.callback(f'cleanup_{nm}')\n",
        "                \n",
        "    def one_epoch(self, train):\n",
        "        self.model.train(train)\n",
        "        self.dl = self.dls.train if train else self.dls.valid\n",
        "        with self.cb_ctx('epoch'):\n",
        "            for self.iter,self.batch in enumerate(self.dl):\n",
        "                with self.cb_ctx('batch'):\n",
        "                    self.predict()\n",
        "                    self.get_loss()\n",
        "                    if self.training:\n",
        "                        self.backward()\n",
        "                        self.step()\n",
        "                        self.zero_grad()\n",
        "    \n",
        "    def fit(self, n_epochs=1, train=True, valid=True, cbs=None, lr=None):\n",
        "        cbs = fc.L(cbs)\n",
        "        # `add_cb` and `rm_cb` were added in lesson 18\n",
        "        for cb in cbs: self.cbs.append(cb)\n",
        "        try:\n",
        "            self.n_epochs = n_epochs\n",
        "            self.epochs = range(n_epochs)\n",
        "            self.opt = self.opt_func(self.model.parameters(), self.lr if lr is None else lr)\n",
        "            with self.cb_ctx('fit'):\n",
        "                for self.epoch in self.epochs:\n",
        "                    if train: self.one_epoch(True)\n",
        "                    if valid: torch.no_grad()(self.one_epoch)(False)\n",
        "        finally:\n",
        "            for cb in cbs: self.cbs.remove(cb)\n",
        "\n",
        "    def __getattr__(self, name):\n",
        "        if name in ('predict','get_loss','backward','step','zero_grad'): return partial(self.callback, name)\n",
        "        raise AttributeError(name)\n",
        "\n",
        "    def callback(self, method_nm): run_cbs(self.cbs, method_nm, self)\n",
        "    \n",
        "    @property\n",
        "    def training(self): return self.model.training"
      ]
    },
    {
      "cell_type": "code",
      "execution_count": 35,
      "id": "bee3643f",
      "metadata": {
        "id": "bee3643f"
      },
      "outputs": [],
      "source": [
        "#|export\n",
        "class TrainCB(Callback):\n",
        "    def __init__(self, n_inp=1): self.n_inp = n_inp\n",
        "    def predict(self, learn): learn.preds = learn.model(*learn.batch[:self.n_inp])\n",
        "    def get_loss(self, learn): learn.loss = learn.loss_func(learn.preds, *learn.batch[self.n_inp:])\n",
        "    def backward(self, learn): learn.loss.backward()\n",
        "    def step(self, learn): learn.opt.step()\n",
        "    def zero_grad(self, learn): learn.opt.zero_grad()"
      ]
    },
    {
      "cell_type": "markdown",
      "id": "9b2e6eb3",
      "metadata": {
        "id": "9b2e6eb3"
      },
      "source": [
        "NB: I added `self.n_inp` after the lesson. This allows us to train models with more than one input or output."
      ]
    },
    {
      "cell_type": "markdown",
      "source": [
        "And it's going to do our thing. And look, we're going to have charts and stuff. All right? So the basic idea is going to look very similar. So we're going to call fit. So when we construct it, we're going to be passing in exactly the same things as before. But we've got one extra thing callbacks, which we'll see in a moment, store the attributes as before, and we're going to be doing some stuff with the callbacks. So when we call Fit for this number of epochs, we're going to store away how many epochs we're going to do. We're also going to store away the actual range that we're going to loop through as soft epochs. So here's that looping through so epochs, we're going to create the optimizer using the optimizer function and the parameters, and then we're going to call _fit. Now, I want to know if is underscore fit, why didn't we just copy and paste so this into here Why why do this? It's because we've created a special decorator with callbacks. What does that do? \n",
        "\n",
        "So it's up here with callbacks. With callbacks is a class. It's going to just store one thing, which is the name. In this case, the name is fit. And what it's going to do is Now, this is a decorator, right? So when we call it remember, decorators get past a function. So it's going to get past whole function. And that's going to be called if that's a __call. Remember, is what happens when a class is treated, an object is treated as if it's a function. So it's going to get past this function. So this function is underscore fit. And so what we want to do is we want to return a different function. It's going to, cause, call the function that we were asked to call using the arguments and key documents we were asked to use. But before it calls that function, it's going to call a special method called callback passing in the string before in this case before underscore, fit. After it's completed, it's going to call that method called callback and passing the string after underscore fit, and it's going to wrap the whole thing in a try except. BLOCK And it's going to be looking for an exception called Cancel Fit Exception. And if it gets one, it's not going to complain. So let me explain what's going on with all of those things. \n",
        "\n",
        "Let's look at example of a callback. Let's change this DeviceCB So for example, here is a callback called DeviceCB Device callback and before FIT will be called automatically before that underscore fit method is called and it's going to put the model onto our device CUDA or MPS if we have one. Otherwise it would just be on GPU. So what's going to happen here? So it's going to call, we're going to call fit. It's going to go through these lines of code. It's going to call, underscore, a fit. Underscore fit is not this function underscore fit is this function with F is this function. So it's going to call our learn act callback passing in before underscore, fit and callback is defined here. What's callback going to do? It's going to be past the string before underscore it. It's going to then go through each of our callbacks sorted based on their order. And you can see here callback can have an order and it's going to look at that callback and try to get an attribute called before underscore fit and it will find one. And so then it's going to call that method. Now, if that method doesn't exist, it doesn't appear at all, then getattr will return this instead. Identity is a function just here. This is an identity function. All it does is whatever arguments it gets passed, it returns them. If it's not past any arguments, it just returns. So there's a lot of python going on here and that is why we did that. \n",
        "\n",
        "Foundations lesson. And so for people who haven't done a lot of this python, there's going to be a lot of stuff to experiment with and learn about. And so do ask on the forums if any of these bits get confusing. But the best way to learn about these things is to open up this Jupyter Notebook and try and create really simple versions of things. Right? So for example, let's try identity. Identity. How exactly does identity work? I can call it, and it gets nothing. I can call it with one spec one I could call it with. I get back, I got it with a yes, fully tested this, call it with a one and get a one. And how is it doing that exactly. So remember we can add a break point and this is be a great time to really test your debugging skills. Okay so remember in our debugger we can hit H to find out what the commands are, but you really should do a tutorial on the debugger if you're not familiar with it. And then we can step through each one. So I can now print args and it's actually a trick which I like is that args is actually a command funnily enough, which I'll just tell you the arguments to any function, regardless of what they're called, which is kind of nice. And so then we can step through by pressing and, and after this we can check like, okay, what is X now and what is args now, right? So remember it really experiment with these things. So anyway, we're going to talk about this a lot more in the next lesson. But before that, if you're not familiar with try except blocks, you know, spend some time practicing them. If you're not familiar with decorators, well, we've seen them before, So go back and look at them again really carefully. If you're not familiar with the debugger practice with that, if you haven't spent much time with get at, try remind yourself about that. So try to get yourself really familiar and comfortable as much as possible with the pieces, because if you're not comfortable with the pieces and the way put the pieces together is going to be confusing. There's actually something in education in kind of the theory of education called cognitive load theory. And The theory of cognitive basically cognitive load theory says if you're trying to learn something, but your cognitive load is really high because of all lots of other things going on at the same time, you're not going to learn it. So it's going to be hard for you to learn this framework that we're building. If you have too much cognitive load of like, what the hell's a decorator or what they getattr or what to sort of do or what's possible, you know, all these things. Now, I actually spent quite a bit of time trying to make this as simple as possible, but but also as flexible as it needs to be for the rest of the course. And this is this is this is as simple as I could get it. So these are kind of things that you actually have to learn. But in doing so, you're going to be able to write some really, you know, powerful and general code yourself. So hopefully you'll find this a really valuable and mind expanding exercise in in bringing high level software engineering skills to your data science work. Okay. So with that, this looks like a good place to leave it and look forward to seeing you next time. \n"
      ],
      "metadata": {
        "id": "6Q0z-BEcCuEN"
      },
      "id": "6Q0z-BEcCuEN"
    },
    {
      "cell_type": "code",
      "execution_count": 36,
      "id": "e9537f9f",
      "metadata": {
        "id": "e9537f9f"
      },
      "outputs": [],
      "source": [
        "#|export\n",
        "class ProgressCB(Callback):\n",
        "    order = MetricsCB.order+1\n",
        "    def __init__(self, plot=False): self.plot = plot\n",
        "    def before_fit(self, learn):\n",
        "        learn.epochs = self.mbar = master_bar(learn.epochs)\n",
        "        self.first = True\n",
        "        if hasattr(learn, 'metrics'): learn.metrics._log = self._log\n",
        "        self.losses = []\n",
        "\n",
        "    def _log(self, d):\n",
        "        if self.first:\n",
        "            self.mbar.write(list(d), table=True)\n",
        "            self.first = False\n",
        "        self.mbar.write(list(d.values()), table=True)\n",
        "\n",
        "    def before_epoch(self, learn): learn.dl = progress_bar(learn.dl, leave=False, parent=self.mbar)\n",
        "    def after_batch(self, learn):\n",
        "        learn.dl.comment = f'{learn.loss:.3f}'\n",
        "        if self.plot and hasattr(learn, 'metrics') and learn.training:\n",
        "            self.losses.append(learn.loss.item())\n",
        "            self.mbar.update_graph([[fc.L.range(self.losses), self.losses]])"
      ]
    },
    {
      "cell_type": "code",
      "execution_count": 37,
      "id": "b82dcb40",
      "metadata": {
        "id": "b82dcb40"
      },
      "outputs": [],
      "source": [
        "model = get_model()"
      ]
    },
    {
      "cell_type": "code",
      "execution_count": 38,
      "id": "3b77daf3",
      "metadata": {
        "id": "3b77daf3",
        "outputId": "74b623d8-3494-47da-84fb-0b5dbad236bc",
        "colab": {
          "base_uri": "https://localhost:8080/",
          "height": 481
        }
      },
      "outputs": [
        {
          "output_type": "display_data",
          "data": {
            "text/plain": [
              "<IPython.core.display.HTML object>"
            ],
            "text/html": [
              "\n",
              "<style>\n",
              "    /* Turns off some styling */\n",
              "    progress {\n",
              "        /* gets rid of default border in Firefox and Opera. */\n",
              "        border: none;\n",
              "        /* Needs to be in here for Safari polyfill so background images work as expected. */\n",
              "        background-size: auto;\n",
              "    }\n",
              "    progress:not([value]), progress:not([value])::-webkit-progress-bar {\n",
              "        background: repeating-linear-gradient(45deg, #7e7e7e, #7e7e7e 10px, #5c5c5c 10px, #5c5c5c 20px);\n",
              "    }\n",
              "    .progress-bar-interrupted, .progress-bar-interrupted::-webkit-progress-bar {\n",
              "        background: #F44336;\n",
              "    }\n",
              "</style>\n"
            ]
          },
          "metadata": {}
        },
        {
          "output_type": "display_data",
          "data": {
            "text/plain": [
              "<IPython.core.display.HTML object>"
            ],
            "text/html": [
              "<table border=\"1\" class=\"dataframe\">\n",
              "  <thead>\n",
              "    <tr style=\"text-align: left;\">\n",
              "      <th>accuracy</th>\n",
              "      <th>loss</th>\n",
              "      <th>epoch</th>\n",
              "      <th>train</th>\n",
              "    </tr>\n",
              "  </thead>\n",
              "  <tbody>\n",
              "    <tr>\n",
              "      <td>0.596</td>\n",
              "      <td>1.167</td>\n",
              "      <td>0</td>\n",
              "      <td>train</td>\n",
              "    </tr>\n",
              "    <tr>\n",
              "      <td>0.729</td>\n",
              "      <td>0.794</td>\n",
              "      <td>0</td>\n",
              "      <td>eval</td>\n",
              "    </tr>\n",
              "  </tbody>\n",
              "</table>"
            ]
          },
          "metadata": {}
        },
        {
          "output_type": "display_data",
          "data": {
            "text/plain": [
              "<Figure size 600x400 with 1 Axes>"
            ],
            "image/png": "[encoded data removed]"
          },
          "metadata": {}
        }
      ],
      "source": [
        "metrics = MetricsCB(accuracy=MulticlassAccuracy())\n",
        "cbs = [TrainCB(), DeviceCB(), metrics, ProgressCB(plot=True)]\n",
        "learn = Learner(model, dls, F.cross_entropy, lr=0.2, cbs=cbs)\n",
        "learn.fit(1)"
      ]
    },
    {
      "cell_type": "markdown",
      "id": "9978f0fe",
      "metadata": {
        "id": "9978f0fe"
      },
      "source": [
        "## Updated versions since the lesson"
      ]
    },
    {
      "cell_type": "markdown",
      "id": "31c38064",
      "metadata": {
        "id": "31c38064"
      },
      "source": [
        "After the lesson we noticed that `contextlib.context_manager` has a surprising \"feature\" which doesn't let us raise an exception before the `yield`. Therefore we've replaced the context manager with a decorator in this updated version of `Learner`. We have also added a few more callbacks in `one_epoch()`."
      ]
    },
    {
      "cell_type": "code",
      "execution_count": 39,
      "id": "f1ddb822",
      "metadata": {
        "id": "f1ddb822"
      },
      "outputs": [],
      "source": [
        "#|export\n",
        "class with_cbs:\n",
        "    def __init__(self, nm): self.nm = nm\n",
        "    def __call__(self, f):\n",
        "        def _f(o, *args, **kwargs):\n",
        "            try:\n",
        "                o.callback(f'before_{self.nm}')\n",
        "                f(o, *args, **kwargs)\n",
        "                o.callback(f'after_{self.nm}')\n",
        "            except globals()[f'Cancel{self.nm.title()}Exception']: pass\n",
        "            finally: o.callback(f'cleanup_{self.nm}')\n",
        "        return _f"
      ]
    },
    {
      "cell_type": "code",
      "execution_count": 40,
      "id": "33c1a1db",
      "metadata": {
        "id": "33c1a1db"
      },
      "outputs": [],
      "source": [
        "#|export\n",
        "class Learner():\n",
        "    def __init__(self, model, dls=(0,), loss_func=F.mse_loss, lr=0.1, cbs=None, opt_func=optim.SGD):\n",
        "        cbs = fc.L(cbs)\n",
        "        fc.store_attr()\n",
        "\n",
        "    @with_cbs('batch')\n",
        "    def _one_batch(self):\n",
        "        self.predict()\n",
        "        self.callback('after_predict')\n",
        "        self.get_loss()\n",
        "        self.callback('after_loss')\n",
        "        if self.training:\n",
        "            self.backward()\n",
        "            self.callback('after_backward')\n",
        "            self.step()\n",
        "            self.callback('after_step')\n",
        "            self.zero_grad()\n",
        "\n",
        "    @with_cbs('epoch')\n",
        "    def _one_epoch(self):\n",
        "        for self.iter,self.batch in enumerate(self.dl): self._one_batch()\n",
        "\n",
        "    def one_epoch(self, training):\n",
        "        self.model.train(training)\n",
        "        self.dl = self.dls.train if training else self.dls.valid\n",
        "        self._one_epoch()\n",
        "\n",
        "    @with_cbs('fit')\n",
        "    def _fit(self, train, valid):\n",
        "        for self.epoch in self.epochs:\n",
        "            if train: self.one_epoch(True)\n",
        "            if valid: torch.no_grad()(self.one_epoch)(False)\n",
        "\n",
        "    def fit(self, n_epochs=1, train=True, valid=True, cbs=None, lr=None):\n",
        "        cbs = fc.L(cbs)\n",
        "        # `add_cb` and `rm_cb` were added in lesson 18\n",
        "        for cb in cbs: self.cbs.append(cb)\n",
        "        try:\n",
        "            self.n_epochs = n_epochs\n",
        "            self.epochs = range(n_epochs)\n",
        "            if lr is None: lr = self.lr\n",
        "            if self.opt_func: self.opt = self.opt_func(self.model.parameters(), lr)\n",
        "            self._fit(train, valid)\n",
        "        finally:\n",
        "            for cb in cbs: self.cbs.remove(cb)\n",
        "\n",
        "    def __getattr__(self, name):\n",
        "        if name in ('predict','get_loss','backward','step','zero_grad'): return partial(self.callback, name)\n",
        "        raise AttributeError(name)\n",
        "\n",
        "    def callback(self, method_nm): run_cbs(self.cbs, method_nm, self)\n",
        "    \n",
        "    @property\n",
        "    def training(self): return self.model.training"
      ]
    },
    {
      "cell_type": "code",
      "execution_count": 41,
      "id": "08159e02",
      "metadata": {
        "id": "08159e02",
        "outputId": "38b469e5-ef0b-4717-e3aa-b931be8955ec",
        "colab": {
          "base_uri": "https://localhost:8080/",
          "height": 481
        }
      },
      "outputs": [
        {
          "output_type": "display_data",
          "data": {
            "text/plain": [
              "<IPython.core.display.HTML object>"
            ],
            "text/html": [
              "\n",
              "<style>\n",
              "    /* Turns off some styling */\n",
              "    progress {\n",
              "        /* gets rid of default border in Firefox and Opera. */\n",
              "        border: none;\n",
              "        /* Needs to be in here for Safari polyfill so background images work as expected. */\n",
              "        background-size: auto;\n",
              "    }\n",
              "    progress:not([value]), progress:not([value])::-webkit-progress-bar {\n",
              "        background: repeating-linear-gradient(45deg, #7e7e7e, #7e7e7e 10px, #5c5c5c 10px, #5c5c5c 20px);\n",
              "    }\n",
              "    .progress-bar-interrupted, .progress-bar-interrupted::-webkit-progress-bar {\n",
              "        background: #F44336;\n",
              "    }\n",
              "</style>\n"
            ]
          },
          "metadata": {}
        },
        {
          "output_type": "display_data",
          "data": {
            "text/plain": [
              "<IPython.core.display.HTML object>"
            ],
            "text/html": [
              "<table border=\"1\" class=\"dataframe\">\n",
              "  <thead>\n",
              "    <tr style=\"text-align: left;\">\n",
              "      <th>accuracy</th>\n",
              "      <th>loss</th>\n",
              "      <th>epoch</th>\n",
              "      <th>train</th>\n",
              "    </tr>\n",
              "  </thead>\n",
              "  <tbody>\n",
              "    <tr>\n",
              "      <td>0.616</td>\n",
              "      <td>1.168</td>\n",
              "      <td>0</td>\n",
              "      <td>train</td>\n",
              "    </tr>\n",
              "    <tr>\n",
              "      <td>0.719</td>\n",
              "      <td>0.789</td>\n",
              "      <td>0</td>\n",
              "      <td>eval</td>\n",
              "    </tr>\n",
              "  </tbody>\n",
              "</table>"
            ]
          },
          "metadata": {}
        },
        {
          "output_type": "display_data",
          "data": {
            "text/plain": [
              "<Figure size 600x400 with 1 Axes>"
            ],
            "image/png": "[encoded data removed]"
          },
          "metadata": {}
        }
      ],
      "source": [
        "model = get_model()\n",
        "\n",
        "metrics = MetricsCB(accuracy=MulticlassAccuracy())\n",
        "cbs = [TrainCB(), DeviceCB(), metrics, ProgressCB(plot=True)]\n",
        "learn = Learner(model, dls, F.cross_entropy, lr=0.2, cbs=cbs)\n",
        "learn.fit(1)"
      ]
    },
    {
      "cell_type": "markdown",
      "id": "e36aef26",
      "metadata": {
        "id": "e36aef26"
      },
      "source": [
        "## TrainLearner and MomentumLearner"
      ]
    },
    {
      "cell_type": "code",
      "execution_count": 42,
      "id": "51fe2944",
      "metadata": {
        "id": "51fe2944"
      },
      "outputs": [],
      "source": [
        "#|export\n",
        "class TrainLearner(Learner):\n",
        "    def predict(self): self.preds = self.model(self.batch[0])\n",
        "    def get_loss(self): self.loss = self.loss_func(self.preds, self.batch[1])\n",
        "    def backward(self): self.loss.backward()\n",
        "    def step(self): self.opt.step()\n",
        "    def zero_grad(self): self.opt.zero_grad()"
      ]
    },
    {
      "cell_type": "code",
      "execution_count": 43,
      "id": "c68148d5",
      "metadata": {
        "id": "c68148d5"
      },
      "outputs": [],
      "source": [
        "#|export\n",
        "class MomentumLearner(TrainLearner):\n",
        "    def __init__(self, model, dls, loss_func, lr=None, cbs=None, opt_func=optim.SGD, mom=0.85):\n",
        "        self.mom = mom\n",
        "        super().__init__(model, dls, loss_func, lr, cbs, opt_func)\n",
        "\n",
        "    def zero_grad(self):\n",
        "        with torch.no_grad():\n",
        "            for p in self.model.parameters(): p.grad *= self.mom"
      ]
    },
    {
      "cell_type": "code",
      "execution_count": 44,
      "id": "452eff1d",
      "metadata": {
        "id": "452eff1d",
        "outputId": "4f96e455-7050-4b07-c6a2-0a5580b24104",
        "colab": {
          "base_uri": "https://localhost:8080/",
          "height": 481
        }
      },
      "outputs": [
        {
          "output_type": "display_data",
          "data": {
            "text/plain": [
              "<IPython.core.display.HTML object>"
            ],
            "text/html": [
              "\n",
              "<style>\n",
              "    /* Turns off some styling */\n",
              "    progress {\n",
              "        /* gets rid of default border in Firefox and Opera. */\n",
              "        border: none;\n",
              "        /* Needs to be in here for Safari polyfill so background images work as expected. */\n",
              "        background-size: auto;\n",
              "    }\n",
              "    progress:not([value]), progress:not([value])::-webkit-progress-bar {\n",
              "        background: repeating-linear-gradient(45deg, #7e7e7e, #7e7e7e 10px, #5c5c5c 10px, #5c5c5c 20px);\n",
              "    }\n",
              "    .progress-bar-interrupted, .progress-bar-interrupted::-webkit-progress-bar {\n",
              "        background: #F44336;\n",
              "    }\n",
              "</style>\n"
            ]
          },
          "metadata": {}
        },
        {
          "output_type": "display_data",
          "data": {
            "text/plain": [
              "<IPython.core.display.HTML object>"
            ],
            "text/html": [
              "<table border=\"1\" class=\"dataframe\">\n",
              "  <thead>\n",
              "    <tr style=\"text-align: left;\">\n",
              "      <th>accuracy</th>\n",
              "      <th>loss</th>\n",
              "      <th>epoch</th>\n",
              "      <th>train</th>\n",
              "    </tr>\n",
              "  </thead>\n",
              "  <tbody>\n",
              "    <tr>\n",
              "      <td>0.676</td>\n",
              "      <td>0.936</td>\n",
              "      <td>0</td>\n",
              "      <td>train</td>\n",
              "    </tr>\n",
              "    <tr>\n",
              "      <td>0.791</td>\n",
              "      <td>0.585</td>\n",
              "      <td>0</td>\n",
              "      <td>eval</td>\n",
              "    </tr>\n",
              "  </tbody>\n",
              "</table>"
            ]
          },
          "metadata": {}
        },
        {
          "output_type": "display_data",
          "data": {
            "text/plain": [
              "<Figure size 600x400 with 1 Axes>"
            ],
            "image/png": "[encoded data removed]"
          },
          "metadata": {}
        }
      ],
      "source": [
        "# NB: No TrainCB\n",
        "metrics = MetricsCB(accuracy=MulticlassAccuracy())\n",
        "cbs = [DeviceCB(), metrics, ProgressCB(plot=True)]\n",
        "learn = MomentumLearner(get_model(), dls, F.cross_entropy, lr=0.1, cbs=cbs)\n",
        "learn.fit(1)"
      ]
    },
    {
      "cell_type": "markdown",
      "id": "c2e3f750",
      "metadata": {
        "id": "c2e3f750"
      },
      "source": [
        "## LRFinderCB"
      ]
    },
    {
      "cell_type": "code",
      "execution_count": 45,
      "id": "ca5b9f65",
      "metadata": {
        "id": "ca5b9f65"
      },
      "outputs": [],
      "source": [
        "class LRFinderCB(Callback):\n",
        "    def __init__(self, lr_mult=1.3): fc.store_attr()\n",
        "    \n",
        "    def before_fit(self, learn):\n",
        "        self.lrs,self.losses = [],[]\n",
        "        self.min = math.inf\n",
        "\n",
        "    def after_batch(self, learn):\n",
        "        if not learn.training: raise CancelEpochException()\n",
        "        self.lrs.append(learn.opt.param_groups[0]['lr'])\n",
        "        loss = to_cpu(learn.loss)\n",
        "        self.losses.append(loss)\n",
        "        if loss < self.min: self.min = loss\n",
        "        if loss > self.min*3: raise CancelFitException()\n",
        "        for g in learn.opt.param_groups: g['lr'] *= self.lr_mult"
      ]
    },
    {
      "cell_type": "code",
      "execution_count": 46,
      "id": "09da2d55",
      "metadata": {
        "id": "09da2d55",
        "outputId": "0887173b-104f-4721-aec5-66a38879a6b4",
        "colab": {
          "base_uri": "https://localhost:8080/",
          "height": 455
        }
      },
      "outputs": [
        {
          "output_type": "display_data",
          "data": {
            "text/plain": [
              "<Figure size 640x480 with 1 Axes>"
            ],
            "image/png": "[encoded data removed]"
          },
          "metadata": {}
        }
      ],
      "source": [
        "lrfind = LRFinderCB()\n",
        "cbs = [DeviceCB(), lrfind]\n",
        "learn = MomentumLearner(get_model(), dls, F.cross_entropy, lr=1e-4, cbs=cbs)\n",
        "learn.fit(1)\n",
        "plt.plot(lrfind.lrs, lrfind.losses)\n",
        "plt.xscale('log')"
      ]
    },
    {
      "cell_type": "code",
      "execution_count": 47,
      "id": "313fcb31",
      "metadata": {
        "id": "313fcb31"
      },
      "outputs": [],
      "source": [
        "#|export\n",
        "from torch.optim.lr_scheduler import ExponentialLR"
      ]
    },
    {
      "cell_type": "markdown",
      "id": "b7f61663",
      "metadata": {
        "id": "b7f61663"
      },
      "source": [
        "[ExponentialLR](https://pytorch.org/docs/stable/generated/torch.optim.lr_scheduler.ExponentialLR.html#torch.optim.lr_scheduler.ExponentialLR)"
      ]
    },
    {
      "cell_type": "code",
      "execution_count": 48,
      "id": "1dd3748d",
      "metadata": {
        "id": "1dd3748d"
      },
      "outputs": [],
      "source": [
        "#|export\n",
        "class LRFinderCB(Callback):\n",
        "    def __init__(self, gamma=1.3, max_mult=3): fc.store_attr()\n",
        "    \n",
        "    def before_fit(self, learn):\n",
        "        self.sched = ExponentialLR(learn.opt, self.gamma)\n",
        "        self.lrs,self.losses = [],[]\n",
        "        self.min = math.inf\n",
        "\n",
        "    def after_batch(self, learn):\n",
        "        if not learn.training: raise CancelEpochException()\n",
        "        self.lrs.append(learn.opt.param_groups[0]['lr'])\n",
        "        loss = to_cpu(learn.loss)\n",
        "        self.losses.append(loss)\n",
        "        if loss < self.min: self.min = loss\n",
        "        if math.isnan(loss) or (loss > self.min*self.max_mult):\n",
        "            raise CancelFitException()\n",
        "        self.sched.step()\n",
        "\n",
        "    def cleanup_fit(self, learn):\n",
        "        plt.plot(self.lrs, self.losses)\n",
        "        plt.xscale('log')"
      ]
    },
    {
      "cell_type": "code",
      "execution_count": 49,
      "id": "d50956a0",
      "metadata": {
        "id": "d50956a0",
        "outputId": "9624d555-6d3a-4e78-8017-d37016d853d3",
        "colab": {
          "base_uri": "https://localhost:8080/",
          "height": 455
        }
      },
      "outputs": [
        {
          "output_type": "display_data",
          "data": {
            "text/plain": [
              "<Figure size 640x480 with 1 Axes>"
            ],
            "image/png": "[encoded data removed]"
          },
          "metadata": {}
        }
      ],
      "source": [
        "cbs = [DeviceCB()]\n",
        "learn = MomentumLearner(get_model(), dls, F.cross_entropy, lr=1e-5, cbs=cbs)\n",
        "learn.fit(3, cbs=LRFinderCB())"
      ]
    },
    {
      "cell_type": "code",
      "execution_count": 50,
      "id": "2ff226c5",
      "metadata": {
        "id": "2ff226c5"
      },
      "outputs": [],
      "source": [
        "#|export\n",
        "@fc.patch\n",
        "def lr_find(self:Learner, gamma=1.3, max_mult=3, start_lr=1e-5, max_epochs=10):\n",
        "    self.fit(max_epochs, lr=start_lr, cbs=LRFinderCB(gamma=gamma, max_mult=max_mult))"
      ]
    },
    {
      "cell_type": "markdown",
      "id": "c281c3eb",
      "metadata": {
        "id": "c281c3eb"
      },
      "source": [
        "`lr_find` was added in lesson 18. It's just a shorter way of using `LRFinderCB`."
      ]
    },
    {
      "cell_type": "code",
      "execution_count": 51,
      "id": "c945e79f",
      "metadata": {
        "id": "c945e79f",
        "outputId": "bf26f919-9869-4956-cf9e-8d96dc160ee7",
        "colab": {
          "base_uri": "https://localhost:8080/",
          "height": 455
        }
      },
      "outputs": [
        {
          "output_type": "display_data",
          "data": {
            "text/plain": [
              "<Figure size 640x480 with 1 Axes>"
            ],
            "image/png": "[encoded data removed]"
          },
          "metadata": {}
        }
      ],
      "source": [
        "MomentumLearner(get_model(), dls, F.cross_entropy, cbs=cbs).lr_find()"
      ]
    }
  ],
  "metadata": {
    "kernelspec": {
      "display_name": "Python 3 (ipykernel)",
      "language": "python",
      "name": "python3"
    },
    "colab": {
      "provenance": [],
      "gpuType": "T4"
    },
    "accelerator": "GPU",
    "gpuClass": "standard",
    "widgets": {
      "application/vnd.jupyter.widget-state+json": {
        "87ea1f4ad25c4ec3b1e2458d3e171e4d": {
          "model_module": "@jupyter-widgets/controls",
          "model_name": "HBoxModel",
          "model_module_version": "1.5.0",
          "state": {
            "_dom_classes": [],
            "_model_module": "@jupyter-widgets/controls",
            "_model_module_version": "1.5.0",
            "_model_name": "HBoxModel",
            "_view_count": null,
            "_view_module": "@jupyter-widgets/controls",
            "_view_module_version": "1.5.0",
            "_view_name": "HBoxView",
            "box_style": "",
            "children": [
              "IPY_MODEL_56ade456474a4a48a4b2448f8438560b",
              "IPY_MODEL_d61630597c6e4cb79e4ea65f8dc2f126",
              "IPY_MODEL_8fdedfcf3376422189f955287f5248b3"
            ],
            "layout": "IPY_MODEL_18fd3a8a610743298d74ea7214b1b112"
          }
        },
        "56ade456474a4a48a4b2448f8438560b": {
          "model_module": "@jupyter-widgets/controls",
          "model_name": "HTMLModel",
          "model_module_version": "1.5.0",
          "state": {
            "_dom_classes": [],
            "_model_module": "@jupyter-widgets/controls",
            "_model_module_version": "1.5.0",
            "_model_name": "HTMLModel",
            "_view_count": null,
            "_view_module": "@jupyter-widgets/controls",
            "_view_module_version": "1.5.0",
            "_view_name": "HTMLView",
            "description": "",
            "description_tooltip": null,
            "layout": "IPY_MODEL_afe38ebcdbc84f0682cc72a479c623da",
            "placeholder": "​",
            "style": "IPY_MODEL_d0ebfeba63f5457d804b3d23ba97aadb",
            "value": "Downloading builder script: 100%"
          }
        },
        "d61630597c6e4cb79e4ea65f8dc2f126": {
          "model_module": "@jupyter-widgets/controls",
          "model_name": "FloatProgressModel",
          "model_module_version": "1.5.0",
          "state": {
            "_dom_classes": [],
            "_model_module": "@jupyter-widgets/controls",
            "_model_module_version": "1.5.0",
            "_model_name": "FloatProgressModel",
            "_view_count": null,
            "_view_module": "@jupyter-widgets/controls",
            "_view_module_version": "1.5.0",
            "_view_name": "ProgressView",
            "bar_style": "success",
            "description": "",
            "description_tooltip": null,
            "layout": "IPY_MODEL_adee8bf56b11479199483c669507852c",
            "max": 4833,
            "min": 0,
            "orientation": "horizontal",
            "style": "IPY_MODEL_acab7ce8dfd4482daac9976242d6bfdb",
            "value": 4833
          }
        },
        "8fdedfcf3376422189f955287f5248b3": {
          "model_module": "@jupyter-widgets/controls",
          "model_name": "HTMLModel",
          "model_module_version": "1.5.0",
          "state": {
            "_dom_classes": [],
            "_model_module": "@jupyter-widgets/controls",
            "_model_module_version": "1.5.0",
            "_model_name": "HTMLModel",
            "_view_count": null,
            "_view_module": "@jupyter-widgets/controls",
            "_view_module_version": "1.5.0",
            "_view_name": "HTMLView",
            "description": "",
            "description_tooltip": null,
            "layout": "IPY_MODEL_b769fb5362a444578deec3fd09d7d8eb",
            "placeholder": "​",
            "style": "IPY_MODEL_f7097d0e7fa341c98b48c5229e3af818",
            "value": " 4.83k/4.83k [00:00&lt;00:00, 257kB/s]"
          }
        },
        "18fd3a8a610743298d74ea7214b1b112": {
          "model_module": "@jupyter-widgets/base",
          "model_name": "LayoutModel",
          "model_module_version": "1.2.0",
          "state": {
            "_model_module": "@jupyter-widgets/base",
            "_model_module_version": "1.2.0",
            "_model_name": "LayoutModel",
            "_view_count": null,
            "_view_module": "@jupyter-widgets/base",
            "_view_module_version": "1.2.0",
            "_view_name": "LayoutView",
            "align_content": null,
            "align_items": null,
            "align_self": null,
            "border": null,
            "bottom": null,
            "display": null,
            "flex": null,
            "flex_flow": null,
            "grid_area": null,
            "grid_auto_columns": null,
            "grid_auto_flow": null,
            "grid_auto_rows": null,
            "grid_column": null,
            "grid_gap": null,
            "grid_row": null,
            "grid_template_areas": null,
            "grid_template_columns": null,
            "grid_template_rows": null,
            "height": null,
            "justify_content": null,
            "justify_items": null,
            "left": null,
            "margin": null,
            "max_height": null,
            "max_width": null,
            "min_height": null,
            "min_width": null,
            "object_fit": null,
            "object_position": null,
            "order": null,
            "overflow": null,
            "overflow_x": null,
            "overflow_y": null,
            "padding": null,
            "right": null,
            "top": null,
            "visibility": null,
            "width": null
          }
        },
        "afe38ebcdbc84f0682cc72a479c623da": {
          "model_module": "@jupyter-widgets/base",
          "model_name": "LayoutModel",
          "model_module_version": "1.2.0",
          "state": {
            "_model_module": "@jupyter-widgets/base",
            "_model_module_version": "1.2.0",
            "_model_name": "LayoutModel",
            "_view_count": null,
            "_view_module": "@jupyter-widgets/base",
            "_view_module_version": "1.2.0",
            "_view_name": "LayoutView",
            "align_content": null,
            "align_items": null,
            "align_self": null,
            "border": null,
            "bottom": null,
            "display": null,
            "flex": null,
            "flex_flow": null,
            "grid_area": null,
            "grid_auto_columns": null,
            "grid_auto_flow": null,
            "grid_auto_rows": null,
            "grid_column": null,
            "grid_gap": null,
            "grid_row": null,
            "grid_template_areas": null,
            "grid_template_columns": null,
            "grid_template_rows": null,
            "height": null,
            "justify_content": null,
            "justify_items": null,
            "left": null,
            "margin": null,
            "max_height": null,
            "max_width": null,
            "min_height": null,
            "min_width": null,
            "object_fit": null,
            "object_position": null,
            "order": null,
            "overflow": null,
            "overflow_x": null,
            "overflow_y": null,
            "padding": null,
            "right": null,
            "top": null,
            "visibility": null,
            "width": null
          }
        },
        "d0ebfeba63f5457d804b3d23ba97aadb": {
          "model_module": "@jupyter-widgets/controls",
          "model_name": "DescriptionStyleModel",
          "model_module_version": "1.5.0",
          "state": {
            "_model_module": "@jupyter-widgets/controls",
            "_model_module_version": "1.5.0",
            "_model_name": "DescriptionStyleModel",
            "_view_count": null,
            "_view_module": "@jupyter-widgets/base",
            "_view_module_version": "1.2.0",
            "_view_name": "StyleView",
            "description_width": ""
          }
        },
        "adee8bf56b11479199483c669507852c": {
          "model_module": "@jupyter-widgets/base",
          "model_name": "LayoutModel",
          "model_module_version": "1.2.0",
          "state": {
            "_model_module": "@jupyter-widgets/base",
            "_model_module_version": "1.2.0",
            "_model_name": "LayoutModel",
            "_view_count": null,
            "_view_module": "@jupyter-widgets/base",
            "_view_module_version": "1.2.0",
            "_view_name": "LayoutView",
            "align_content": null,
            "align_items": null,
            "align_self": null,
            "border": null,
            "bottom": null,
            "display": null,
            "flex": null,
            "flex_flow": null,
            "grid_area": null,
            "grid_auto_columns": null,
            "grid_auto_flow": null,
            "grid_auto_rows": null,
            "grid_column": null,
            "grid_gap": null,
            "grid_row": null,
            "grid_template_areas": null,
            "grid_template_columns": null,
            "grid_template_rows": null,
            "height": null,
            "justify_content": null,
            "justify_items": null,
            "left": null,
            "margin": null,
            "max_height": null,
            "max_width": null,
            "min_height": null,
            "min_width": null,
            "object_fit": null,
            "object_position": null,
            "order": null,
            "overflow": null,
            "overflow_x": null,
            "overflow_y": null,
            "padding": null,
            "right": null,
            "top": null,
            "visibility": null,
            "width": null
          }
        },
        "acab7ce8dfd4482daac9976242d6bfdb": {
          "model_module": "@jupyter-widgets/controls",
          "model_name": "ProgressStyleModel",
          "model_module_version": "1.5.0",
          "state": {
            "_model_module": "@jupyter-widgets/controls",
            "_model_module_version": "1.5.0",
            "_model_name": "ProgressStyleModel",
            "_view_count": null,
            "_view_module": "@jupyter-widgets/base",
            "_view_module_version": "1.2.0",
            "_view_name": "StyleView",
            "bar_color": null,
            "description_width": ""
          }
        },
        "b769fb5362a444578deec3fd09d7d8eb": {
          "model_module": "@jupyter-widgets/base",
          "model_name": "LayoutModel",
          "model_module_version": "1.2.0",
          "state": {
            "_model_module": "@jupyter-widgets/base",
            "_model_module_version": "1.2.0",
            "_model_name": "LayoutModel",
            "_view_count": null,
            "_view_module": "@jupyter-widgets/base",
            "_view_module_version": "1.2.0",
            "_view_name": "LayoutView",
            "align_content": null,
            "align_items": null,
            "align_self": null,
            "border": null,
            "bottom": null,
            "display": null,
            "flex": null,
            "flex_flow": null,
            "grid_area": null,
            "grid_auto_columns": null,
            "grid_auto_flow": null,
            "grid_auto_rows": null,
            "grid_column": null,
            "grid_gap": null,
            "grid_row": null,
            "grid_template_areas": null,
            "grid_template_columns": null,
            "grid_template_rows": null,
            "height": null,
            "justify_content": null,
            "justify_items": null,
            "left": null,
            "margin": null,
            "max_height": null,
            "max_width": null,
            "min_height": null,
            "min_width": null,
            "object_fit": null,
            "object_position": null,
            "order": null,
            "overflow": null,
            "overflow_x": null,
            "overflow_y": null,
            "padding": null,
            "right": null,
            "top": null,
            "visibility": null,
            "width": null
          }
        },
        "f7097d0e7fa341c98b48c5229e3af818": {
          "model_module": "@jupyter-widgets/controls",
          "model_name": "DescriptionStyleModel",
          "model_module_version": "1.5.0",
          "state": {
            "_model_module": "@jupyter-widgets/controls",
            "_model_module_version": "1.5.0",
            "_model_name": "DescriptionStyleModel",
            "_view_count": null,
            "_view_module": "@jupyter-widgets/base",
            "_view_module_version": "1.2.0",
            "_view_name": "StyleView",
            "description_width": ""
          }
        },
        "0a896e8a82ae4a58b51685aec49b85ed": {
          "model_module": "@jupyter-widgets/controls",
          "model_name": "HBoxModel",
          "model_module_version": "1.5.0",
          "state": {
            "_dom_classes": [],
            "_model_module": "@jupyter-widgets/controls",
            "_model_module_version": "1.5.0",
            "_model_name": "HBoxModel",
            "_view_count": null,
            "_view_module": "@jupyter-widgets/controls",
            "_view_module_version": "1.5.0",
            "_view_name": "HBoxView",
            "box_style": "",
            "children": [
              "IPY_MODEL_9b8e872078d948c4aa107f90a16eeb94",
              "IPY_MODEL_a13db06941f743da87978b4671fe5d00",
              "IPY_MODEL_d14125030b8a460eb038bb996a62bbf2"
            ],
            "layout": "IPY_MODEL_d8315c34b78b403789a3d1a57679f20e"
          }
        },
        "9b8e872078d948c4aa107f90a16eeb94": {
          "model_module": "@jupyter-widgets/controls",
          "model_name": "HTMLModel",
          "model_module_version": "1.5.0",
          "state": {
            "_dom_classes": [],
            "_model_module": "@jupyter-widgets/controls",
            "_model_module_version": "1.5.0",
            "_model_name": "HTMLModel",
            "_view_count": null,
            "_view_module": "@jupyter-widgets/controls",
            "_view_module_version": "1.5.0",
            "_view_name": "HTMLView",
            "description": "",
            "description_tooltip": null,
            "layout": "IPY_MODEL_11a6c3b6bcaf4788a450f9edb5910658",
            "placeholder": "​",
            "style": "IPY_MODEL_51ba3ebb581440539b67617ec0cb3ba1",
            "value": "Downloading metadata: 100%"
          }
        },
        "a13db06941f743da87978b4671fe5d00": {
          "model_module": "@jupyter-widgets/controls",
          "model_name": "FloatProgressModel",
          "model_module_version": "1.5.0",
          "state": {
            "_dom_classes": [],
            "_model_module": "@jupyter-widgets/controls",
            "_model_module_version": "1.5.0",
            "_model_name": "FloatProgressModel",
            "_view_count": null,
            "_view_module": "@jupyter-widgets/controls",
            "_view_module_version": "1.5.0",
            "_view_name": "ProgressView",
            "bar_style": "success",
            "description": "",
            "description_tooltip": null,
            "layout": "IPY_MODEL_99489ba493ae400e9af5dd3e4944d781",
            "max": 3126,
            "min": 0,
            "orientation": "horizontal",
            "style": "IPY_MODEL_c86473e1c46647f98d77e37a920e5ac0",
            "value": 3126
          }
        },
        "d14125030b8a460eb038bb996a62bbf2": {
          "model_module": "@jupyter-widgets/controls",
          "model_name": "HTMLModel",
          "model_module_version": "1.5.0",
          "state": {
            "_dom_classes": [],
            "_model_module": "@jupyter-widgets/controls",
            "_model_module_version": "1.5.0",
            "_model_name": "HTMLModel",
            "_view_count": null,
            "_view_module": "@jupyter-widgets/controls",
            "_view_module_version": "1.5.0",
            "_view_name": "HTMLView",
            "description": "",
            "description_tooltip": null,
            "layout": "IPY_MODEL_aefb25f788754e91832081051b878bd7",
            "placeholder": "​",
            "style": "IPY_MODEL_6e10676c24a0471b9aedef9be98fed2c",
            "value": " 3.13k/3.13k [00:00&lt;00:00, 159kB/s]"
          }
        },
        "d8315c34b78b403789a3d1a57679f20e": {
          "model_module": "@jupyter-widgets/base",
          "model_name": "LayoutModel",
          "model_module_version": "1.2.0",
          "state": {
            "_model_module": "@jupyter-widgets/base",
            "_model_module_version": "1.2.0",
            "_model_name": "LayoutModel",
            "_view_count": null,
            "_view_module": "@jupyter-widgets/base",
            "_view_module_version": "1.2.0",
            "_view_name": "LayoutView",
            "align_content": null,
            "align_items": null,
            "align_self": null,
            "border": null,
            "bottom": null,
            "display": null,
            "flex": null,
            "flex_flow": null,
            "grid_area": null,
            "grid_auto_columns": null,
            "grid_auto_flow": null,
            "grid_auto_rows": null,
            "grid_column": null,
            "grid_gap": null,
            "grid_row": null,
            "grid_template_areas": null,
            "grid_template_columns": null,
            "grid_template_rows": null,
            "height": null,
            "justify_content": null,
            "justify_items": null,
            "left": null,
            "margin": null,
            "max_height": null,
            "max_width": null,
            "min_height": null,
            "min_width": null,
            "object_fit": null,
            "object_position": null,
            "order": null,
            "overflow": null,
            "overflow_x": null,
            "overflow_y": null,
            "padding": null,
            "right": null,
            "top": null,
            "visibility": null,
            "width": null
          }
        },
        "11a6c3b6bcaf4788a450f9edb5910658": {
          "model_module": "@jupyter-widgets/base",
          "model_name": "LayoutModel",
          "model_module_version": "1.2.0",
          "state": {
            "_model_module": "@jupyter-widgets/base",
            "_model_module_version": "1.2.0",
            "_model_name": "LayoutModel",
            "_view_count": null,
            "_view_module": "@jupyter-widgets/base",
            "_view_module_version": "1.2.0",
            "_view_name": "LayoutView",
            "align_content": null,
            "align_items": null,
            "align_self": null,
            "border": null,
            "bottom": null,
            "display": null,
            "flex": null,
            "flex_flow": null,
            "grid_area": null,
            "grid_auto_columns": null,
            "grid_auto_flow": null,
            "grid_auto_rows": null,
            "grid_column": null,
            "grid_gap": null,
            "grid_row": null,
            "grid_template_areas": null,
            "grid_template_columns": null,
            "grid_template_rows": null,
            "height": null,
            "justify_content": null,
            "justify_items": null,
            "left": null,
            "margin": null,
            "max_height": null,
            "max_width": null,
            "min_height": null,
            "min_width": null,
            "object_fit": null,
            "object_position": null,
            "order": null,
            "overflow": null,
            "overflow_x": null,
            "overflow_y": null,
            "padding": null,
            "right": null,
            "top": null,
            "visibility": null,
            "width": null
          }
        },
        "51ba3ebb581440539b67617ec0cb3ba1": {
          "model_module": "@jupyter-widgets/controls",
          "model_name": "DescriptionStyleModel",
          "model_module_version": "1.5.0",
          "state": {
            "_model_module": "@jupyter-widgets/controls",
            "_model_module_version": "1.5.0",
            "_model_name": "DescriptionStyleModel",
            "_view_count": null,
            "_view_module": "@jupyter-widgets/base",
            "_view_module_version": "1.2.0",
            "_view_name": "StyleView",
            "description_width": ""
          }
        },
        "99489ba493ae400e9af5dd3e4944d781": {
          "model_module": "@jupyter-widgets/base",
          "model_name": "LayoutModel",
          "model_module_version": "1.2.0",
          "state": {
            "_model_module": "@jupyter-widgets/base",
            "_model_module_version": "1.2.0",
            "_model_name": "LayoutModel",
            "_view_count": null,
            "_view_module": "@jupyter-widgets/base",
            "_view_module_version": "1.2.0",
            "_view_name": "LayoutView",
            "align_content": null,
            "align_items": null,
            "align_self": null,
            "border": null,
            "bottom": null,
            "display": null,
            "flex": null,
            "flex_flow": null,
            "grid_area": null,
            "grid_auto_columns": null,
            "grid_auto_flow": null,
            "grid_auto_rows": null,
            "grid_column": null,
            "grid_gap": null,
            "grid_row": null,
            "grid_template_areas": null,
            "grid_template_columns": null,
            "grid_template_rows": null,
            "height": null,
            "justify_content": null,
            "justify_items": null,
            "left": null,
            "margin": null,
            "max_height": null,
            "max_width": null,
            "min_height": null,
            "min_width": null,
            "object_fit": null,
            "object_position": null,
            "order": null,
            "overflow": null,
            "overflow_x": null,
            "overflow_y": null,
            "padding": null,
            "right": null,
            "top": null,
            "visibility": null,
            "width": null
          }
        },
        "c86473e1c46647f98d77e37a920e5ac0": {
          "model_module": "@jupyter-widgets/controls",
          "model_name": "ProgressStyleModel",
          "model_module_version": "1.5.0",
          "state": {
            "_model_module": "@jupyter-widgets/controls",
            "_model_module_version": "1.5.0",
            "_model_name": "ProgressStyleModel",
            "_view_count": null,
            "_view_module": "@jupyter-widgets/base",
            "_view_module_version": "1.2.0",
            "_view_name": "StyleView",
            "bar_color": null,
            "description_width": ""
          }
        },
        "aefb25f788754e91832081051b878bd7": {
          "model_module": "@jupyter-widgets/base",
          "model_name": "LayoutModel",
          "model_module_version": "1.2.0",
          "state": {
            "_model_module": "@jupyter-widgets/base",
            "_model_module_version": "1.2.0",
            "_model_name": "LayoutModel",
            "_view_count": null,
            "_view_module": "@jupyter-widgets/base",
            "_view_module_version": "1.2.0",
            "_view_name": "LayoutView",
            "align_content": null,
            "align_items": null,
            "align_self": null,
            "border": null,
            "bottom": null,
            "display": null,
            "flex": null,
            "flex_flow": null,
            "grid_area": null,
            "grid_auto_columns": null,
            "grid_auto_flow": null,
            "grid_auto_rows": null,
            "grid_column": null,
            "grid_gap": null,
            "grid_row": null,
            "grid_template_areas": null,
            "grid_template_columns": null,
            "grid_template_rows": null,
            "height": null,
            "justify_content": null,
            "justify_items": null,
            "left": null,
            "margin": null,
            "max_height": null,
            "max_width": null,
            "min_height": null,
            "min_width": null,
            "object_fit": null,
            "object_position": null,
            "order": null,
            "overflow": null,
            "overflow_x": null,
            "overflow_y": null,
            "padding": null,
            "right": null,
            "top": null,
            "visibility": null,
            "width": null
          }
        },
        "6e10676c24a0471b9aedef9be98fed2c": {
          "model_module": "@jupyter-widgets/controls",
          "model_name": "DescriptionStyleModel",
          "model_module_version": "1.5.0",
          "state": {
            "_model_module": "@jupyter-widgets/controls",
            "_model_module_version": "1.5.0",
            "_model_name": "DescriptionStyleModel",
            "_view_count": null,
            "_view_module": "@jupyter-widgets/base",
            "_view_module_version": "1.2.0",
            "_view_name": "StyleView",
            "description_width": ""
          }
        },
        "82fb1a2d44ce4a898e93925d71f31520": {
          "model_module": "@jupyter-widgets/controls",
          "model_name": "HBoxModel",
          "model_module_version": "1.5.0",
          "state": {
            "_dom_classes": [],
            "_model_module": "@jupyter-widgets/controls",
            "_model_module_version": "1.5.0",
            "_model_name": "HBoxModel",
            "_view_count": null,
            "_view_module": "@jupyter-widgets/controls",
            "_view_module_version": "1.5.0",
            "_view_name": "HBoxView",
            "box_style": "",
            "children": [
              "IPY_MODEL_052e031f8c20414394f47fc817a6f626",
              "IPY_MODEL_7e07f407b83d43c1b32fc9eb461fe9ec",
              "IPY_MODEL_26414d96315f4a31a7ba8febded12932"
            ],
            "layout": "IPY_MODEL_2c463e3f0db542baa2936faed44bc409"
          }
        },
        "052e031f8c20414394f47fc817a6f626": {
          "model_module": "@jupyter-widgets/controls",
          "model_name": "HTMLModel",
          "model_module_version": "1.5.0",
          "state": {
            "_dom_classes": [],
            "_model_module": "@jupyter-widgets/controls",
            "_model_module_version": "1.5.0",
            "_model_name": "HTMLModel",
            "_view_count": null,
            "_view_module": "@jupyter-widgets/controls",
            "_view_module_version": "1.5.0",
            "_view_name": "HTMLView",
            "description": "",
            "description_tooltip": null,
            "layout": "IPY_MODEL_31a14e8a58f5446096a143555a478477",
            "placeholder": "​",
            "style": "IPY_MODEL_5b89020c49de44a38e0d9c070e5dc1a1",
            "value": "Downloading readme: 100%"
          }
        },
        "7e07f407b83d43c1b32fc9eb461fe9ec": {
          "model_module": "@jupyter-widgets/controls",
          "model_name": "FloatProgressModel",
          "model_module_version": "1.5.0",
          "state": {
            "_dom_classes": [],
            "_model_module": "@jupyter-widgets/controls",
            "_model_module_version": "1.5.0",
            "_model_name": "FloatProgressModel",
            "_view_count": null,
            "_view_module": "@jupyter-widgets/controls",
            "_view_module_version": "1.5.0",
            "_view_name": "ProgressView",
            "bar_style": "success",
            "description": "",
            "description_tooltip": null,
            "layout": "IPY_MODEL_4c2131b501344d349598e40a438103ee",
            "max": 8845,
            "min": 0,
            "orientation": "horizontal",
            "style": "IPY_MODEL_4dc9da1b275445ceb4e945836f1172f2",
            "value": 8845
          }
        },
        "26414d96315f4a31a7ba8febded12932": {
          "model_module": "@jupyter-widgets/controls",
          "model_name": "HTMLModel",
          "model_module_version": "1.5.0",
          "state": {
            "_dom_classes": [],
            "_model_module": "@jupyter-widgets/controls",
            "_model_module_version": "1.5.0",
            "_model_name": "HTMLModel",
            "_view_count": null,
            "_view_module": "@jupyter-widgets/controls",
            "_view_module_version": "1.5.0",
            "_view_name": "HTMLView",
            "description": "",
            "description_tooltip": null,
            "layout": "IPY_MODEL_87d971731f8c4472b554643e99865cd2",
            "placeholder": "​",
            "style": "IPY_MODEL_f586c6d2caee436eb9674f639a105a3f",
            "value": " 8.85k/8.85k [00:00&lt;00:00, 359kB/s]"
          }
        },
        "2c463e3f0db542baa2936faed44bc409": {
          "model_module": "@jupyter-widgets/base",
          "model_name": "LayoutModel",
          "model_module_version": "1.2.0",
          "state": {
            "_model_module": "@jupyter-widgets/base",
            "_model_module_version": "1.2.0",
            "_model_name": "LayoutModel",
            "_view_count": null,
            "_view_module": "@jupyter-widgets/base",
            "_view_module_version": "1.2.0",
            "_view_name": "LayoutView",
            "align_content": null,
            "align_items": null,
            "align_self": null,
            "border": null,
            "bottom": null,
            "display": null,
            "flex": null,
            "flex_flow": null,
            "grid_area": null,
            "grid_auto_columns": null,
            "grid_auto_flow": null,
            "grid_auto_rows": null,
            "grid_column": null,
            "grid_gap": null,
            "grid_row": null,
            "grid_template_areas": null,
            "grid_template_columns": null,
            "grid_template_rows": null,
            "height": null,
            "justify_content": null,
            "justify_items": null,
            "left": null,
            "margin": null,
            "max_height": null,
            "max_width": null,
            "min_height": null,
            "min_width": null,
            "object_fit": null,
            "object_position": null,
            "order": null,
            "overflow": null,
            "overflow_x": null,
            "overflow_y": null,
            "padding": null,
            "right": null,
            "top": null,
            "visibility": null,
            "width": null
          }
        },
        "31a14e8a58f5446096a143555a478477": {
          "model_module": "@jupyter-widgets/base",
          "model_name": "LayoutModel",
          "model_module_version": "1.2.0",
          "state": {
            "_model_module": "@jupyter-widgets/base",
            "_model_module_version": "1.2.0",
            "_model_name": "LayoutModel",
            "_view_count": null,
            "_view_module": "@jupyter-widgets/base",
            "_view_module_version": "1.2.0",
            "_view_name": "LayoutView",
            "align_content": null,
            "align_items": null,
            "align_self": null,
            "border": null,
            "bottom": null,
            "display": null,
            "flex": null,
            "flex_flow": null,
            "grid_area": null,
            "grid_auto_columns": null,
            "grid_auto_flow": null,
            "grid_auto_rows": null,
            "grid_column": null,
            "grid_gap": null,
            "grid_row": null,
            "grid_template_areas": null,
            "grid_template_columns": null,
            "grid_template_rows": null,
            "height": null,
            "justify_content": null,
            "justify_items": null,
            "left": null,
            "margin": null,
            "max_height": null,
            "max_width": null,
            "min_height": null,
            "min_width": null,
            "object_fit": null,
            "object_position": null,
            "order": null,
            "overflow": null,
            "overflow_x": null,
            "overflow_y": null,
            "padding": null,
            "right": null,
            "top": null,
            "visibility": null,
            "width": null
          }
        },
        "5b89020c49de44a38e0d9c070e5dc1a1": {
          "model_module": "@jupyter-widgets/controls",
          "model_name": "DescriptionStyleModel",
          "model_module_version": "1.5.0",
          "state": {
            "_model_module": "@jupyter-widgets/controls",
            "_model_module_version": "1.5.0",
            "_model_name": "DescriptionStyleModel",
            "_view_count": null,
            "_view_module": "@jupyter-widgets/base",
            "_view_module_version": "1.2.0",
            "_view_name": "StyleView",
            "description_width": ""
          }
        },
        "4c2131b501344d349598e40a438103ee": {
          "model_module": "@jupyter-widgets/base",
          "model_name": "LayoutModel",
          "model_module_version": "1.2.0",
          "state": {
            "_model_module": "@jupyter-widgets/base",
            "_model_module_version": "1.2.0",
            "_model_name": "LayoutModel",
            "_view_count": null,
            "_view_module": "@jupyter-widgets/base",
            "_view_module_version": "1.2.0",
            "_view_name": "LayoutView",
            "align_content": null,
            "align_items": null,
            "align_self": null,
            "border": null,
            "bottom": null,
            "display": null,
            "flex": null,
            "flex_flow": null,
            "grid_area": null,
            "grid_auto_columns": null,
            "grid_auto_flow": null,
            "grid_auto_rows": null,
            "grid_column": null,
            "grid_gap": null,
            "grid_row": null,
            "grid_template_areas": null,
            "grid_template_columns": null,
            "grid_template_rows": null,
            "height": null,
            "justify_content": null,
            "justify_items": null,
            "left": null,
            "margin": null,
            "max_height": null,
            "max_width": null,
            "min_height": null,
            "min_width": null,
            "object_fit": null,
            "object_position": null,
            "order": null,
            "overflow": null,
            "overflow_x": null,
            "overflow_y": null,
            "padding": null,
            "right": null,
            "top": null,
            "visibility": null,
            "width": null
          }
        },
        "4dc9da1b275445ceb4e945836f1172f2": {
          "model_module": "@jupyter-widgets/controls",
          "model_name": "ProgressStyleModel",
          "model_module_version": "1.5.0",
          "state": {
            "_model_module": "@jupyter-widgets/controls",
            "_model_module_version": "1.5.0",
            "_model_name": "ProgressStyleModel",
            "_view_count": null,
            "_view_module": "@jupyter-widgets/base",
            "_view_module_version": "1.2.0",
            "_view_name": "StyleView",
            "bar_color": null,
            "description_width": ""
          }
        },
        "87d971731f8c4472b554643e99865cd2": {
          "model_module": "@jupyter-widgets/base",
          "model_name": "LayoutModel",
          "model_module_version": "1.2.0",
          "state": {
            "_model_module": "@jupyter-widgets/base",
            "_model_module_version": "1.2.0",
            "_model_name": "LayoutModel",
            "_view_count": null,
            "_view_module": "@jupyter-widgets/base",
            "_view_module_version": "1.2.0",
            "_view_name": "LayoutView",
            "align_content": null,
            "align_items": null,
            "align_self": null,
            "border": null,
            "bottom": null,
            "display": null,
            "flex": null,
            "flex_flow": null,
            "grid_area": null,
            "grid_auto_columns": null,
            "grid_auto_flow": null,
            "grid_auto_rows": null,
            "grid_column": null,
            "grid_gap": null,
            "grid_row": null,
            "grid_template_areas": null,
            "grid_template_columns": null,
            "grid_template_rows": null,
            "height": null,
            "justify_content": null,
            "justify_items": null,
            "left": null,
            "margin": null,
            "max_height": null,
            "max_width": null,
            "min_height": null,
            "min_width": null,
            "object_fit": null,
            "object_position": null,
            "order": null,
            "overflow": null,
            "overflow_x": null,
            "overflow_y": null,
            "padding": null,
            "right": null,
            "top": null,
            "visibility": null,
            "width": null
          }
        },
        "f586c6d2caee436eb9674f639a105a3f": {
          "model_module": "@jupyter-widgets/controls",
          "model_name": "DescriptionStyleModel",
          "model_module_version": "1.5.0",
          "state": {
            "_model_module": "@jupyter-widgets/controls",
            "_model_module_version": "1.5.0",
            "_model_name": "DescriptionStyleModel",
            "_view_count": null,
            "_view_module": "@jupyter-widgets/base",
            "_view_module_version": "1.2.0",
            "_view_name": "StyleView",
            "description_width": ""
          }
        },
        "06779bd845574d069e32c884f450f31a": {
          "model_module": "@jupyter-widgets/controls",
          "model_name": "HBoxModel",
          "model_module_version": "1.5.0",
          "state": {
            "_dom_classes": [],
            "_model_module": "@jupyter-widgets/controls",
            "_model_module_version": "1.5.0",
            "_model_name": "HBoxModel",
            "_view_count": null,
            "_view_module": "@jupyter-widgets/controls",
            "_view_module_version": "1.5.0",
            "_view_name": "HBoxView",
            "box_style": "",
            "children": [
              "IPY_MODEL_fc5a2a42c81342a481ab49ace6258fb7",
              "IPY_MODEL_62bd486265ff476592a2387f3c95e5c7",
              "IPY_MODEL_bdd14df6e9c3444ab39c8672b71ce193"
            ],
            "layout": "IPY_MODEL_f65d936d300c40659f0df80584e42d6a"
          }
        },
        "fc5a2a42c81342a481ab49ace6258fb7": {
          "model_module": "@jupyter-widgets/controls",
          "model_name": "HTMLModel",
          "model_module_version": "1.5.0",
          "state": {
            "_dom_classes": [],
            "_model_module": "@jupyter-widgets/controls",
            "_model_module_version": "1.5.0",
            "_model_name": "HTMLModel",
            "_view_count": null,
            "_view_module": "@jupyter-widgets/controls",
            "_view_module_version": "1.5.0",
            "_view_name": "HTMLView",
            "description": "",
            "description_tooltip": null,
            "layout": "IPY_MODEL_0981c2ffca194cedaa6600fdb73ec174",
            "placeholder": "​",
            "style": "IPY_MODEL_75accfe9d44e4dfebf42c7d7a91152b7",
            "value": "Downloading data files: 100%"
          }
        },
        "62bd486265ff476592a2387f3c95e5c7": {
          "model_module": "@jupyter-widgets/controls",
          "model_name": "FloatProgressModel",
          "model_module_version": "1.5.0",
          "state": {
            "_dom_classes": [],
            "_model_module": "@jupyter-widgets/controls",
            "_model_module_version": "1.5.0",
            "_model_name": "FloatProgressModel",
            "_view_count": null,
            "_view_module": "@jupyter-widgets/controls",
            "_view_module_version": "1.5.0",
            "_view_name": "ProgressView",
            "bar_style": "success",
            "description": "",
            "description_tooltip": null,
            "layout": "IPY_MODEL_0593cf1f92f54985b64103860dec1ac9",
            "max": 4,
            "min": 0,
            "orientation": "horizontal",
            "style": "IPY_MODEL_ca9414ef2f3b417fa8c5685a6c422b06",
            "value": 4
          }
        },
        "bdd14df6e9c3444ab39c8672b71ce193": {
          "model_module": "@jupyter-widgets/controls",
          "model_name": "HTMLModel",
          "model_module_version": "1.5.0",
          "state": {
            "_dom_classes": [],
            "_model_module": "@jupyter-widgets/controls",
            "_model_module_version": "1.5.0",
            "_model_name": "HTMLModel",
            "_view_count": null,
            "_view_module": "@jupyter-widgets/controls",
            "_view_module_version": "1.5.0",
            "_view_name": "HTMLView",
            "description": "",
            "description_tooltip": null,
            "layout": "IPY_MODEL_157fada9600f4d03b3a80d75e6fe3448",
            "placeholder": "​",
            "style": "IPY_MODEL_89427502ef3741df98281f02476b1ee4",
            "value": " 4/4 [00:03&lt;00:00,  1.20it/s]"
          }
        },
        "f65d936d300c40659f0df80584e42d6a": {
          "model_module": "@jupyter-widgets/base",
          "model_name": "LayoutModel",
          "model_module_version": "1.2.0",
          "state": {
            "_model_module": "@jupyter-widgets/base",
            "_model_module_version": "1.2.0",
            "_model_name": "LayoutModel",
            "_view_count": null,
            "_view_module": "@jupyter-widgets/base",
            "_view_module_version": "1.2.0",
            "_view_name": "LayoutView",
            "align_content": null,
            "align_items": null,
            "align_self": null,
            "border": null,
            "bottom": null,
            "display": null,
            "flex": null,
            "flex_flow": null,
            "grid_area": null,
            "grid_auto_columns": null,
            "grid_auto_flow": null,
            "grid_auto_rows": null,
            "grid_column": null,
            "grid_gap": null,
            "grid_row": null,
            "grid_template_areas": null,
            "grid_template_columns": null,
            "grid_template_rows": null,
            "height": null,
            "justify_content": null,
            "justify_items": null,
            "left": null,
            "margin": null,
            "max_height": null,
            "max_width": null,
            "min_height": null,
            "min_width": null,
            "object_fit": null,
            "object_position": null,
            "order": null,
            "overflow": null,
            "overflow_x": null,
            "overflow_y": null,
            "padding": null,
            "right": null,
            "top": null,
            "visibility": null,
            "width": null
          }
        },
        "0981c2ffca194cedaa6600fdb73ec174": {
          "model_module": "@jupyter-widgets/base",
          "model_name": "LayoutModel",
          "model_module_version": "1.2.0",
          "state": {
            "_model_module": "@jupyter-widgets/base",
            "_model_module_version": "1.2.0",
            "_model_name": "LayoutModel",
            "_view_count": null,
            "_view_module": "@jupyter-widgets/base",
            "_view_module_version": "1.2.0",
            "_view_name": "LayoutView",
            "align_content": null,
            "align_items": null,
            "align_self": null,
            "border": null,
            "bottom": null,
            "display": null,
            "flex": null,
            "flex_flow": null,
            "grid_area": null,
            "grid_auto_columns": null,
            "grid_auto_flow": null,
            "grid_auto_rows": null,
            "grid_column": null,
            "grid_gap": null,
            "grid_row": null,
            "grid_template_areas": null,
            "grid_template_columns": null,
            "grid_template_rows": null,
            "height": null,
            "justify_content": null,
            "justify_items": null,
            "left": null,
            "margin": null,
            "max_height": null,
            "max_width": null,
            "min_height": null,
            "min_width": null,
            "object_fit": null,
            "object_position": null,
            "order": null,
            "overflow": null,
            "overflow_x": null,
            "overflow_y": null,
            "padding": null,
            "right": null,
            "top": null,
            "visibility": null,
            "width": null
          }
        },
        "75accfe9d44e4dfebf42c7d7a91152b7": {
          "model_module": "@jupyter-widgets/controls",
          "model_name": "DescriptionStyleModel",
          "model_module_version": "1.5.0",
          "state": {
            "_model_module": "@jupyter-widgets/controls",
            "_model_module_version": "1.5.0",
            "_model_name": "DescriptionStyleModel",
            "_view_count": null,
            "_view_module": "@jupyter-widgets/base",
            "_view_module_version": "1.2.0",
            "_view_name": "StyleView",
            "description_width": ""
          }
        },
        "0593cf1f92f54985b64103860dec1ac9": {
          "model_module": "@jupyter-widgets/base",
          "model_name": "LayoutModel",
          "model_module_version": "1.2.0",
          "state": {
            "_model_module": "@jupyter-widgets/base",
            "_model_module_version": "1.2.0",
            "_model_name": "LayoutModel",
            "_view_count": null,
            "_view_module": "@jupyter-widgets/base",
            "_view_module_version": "1.2.0",
            "_view_name": "LayoutView",
            "align_content": null,
            "align_items": null,
            "align_self": null,
            "border": null,
            "bottom": null,
            "display": null,
            "flex": null,
            "flex_flow": null,
            "grid_area": null,
            "grid_auto_columns": null,
            "grid_auto_flow": null,
            "grid_auto_rows": null,
            "grid_column": null,
            "grid_gap": null,
            "grid_row": null,
            "grid_template_areas": null,
            "grid_template_columns": null,
            "grid_template_rows": null,
            "height": null,
            "justify_content": null,
            "justify_items": null,
            "left": null,
            "margin": null,
            "max_height": null,
            "max_width": null,
            "min_height": null,
            "min_width": null,
            "object_fit": null,
            "object_position": null,
            "order": null,
            "overflow": null,
            "overflow_x": null,
            "overflow_y": null,
            "padding": null,
            "right": null,
            "top": null,
            "visibility": null,
            "width": null
          }
        },
        "ca9414ef2f3b417fa8c5685a6c422b06": {
          "model_module": "@jupyter-widgets/controls",
          "model_name": "ProgressStyleModel",
          "model_module_version": "1.5.0",
          "state": {
            "_model_module": "@jupyter-widgets/controls",
            "_model_module_version": "1.5.0",
            "_model_name": "ProgressStyleModel",
            "_view_count": null,
            "_view_module": "@jupyter-widgets/base",
            "_view_module_version": "1.2.0",
            "_view_name": "StyleView",
            "bar_color": null,
            "description_width": ""
          }
        },
        "157fada9600f4d03b3a80d75e6fe3448": {
          "model_module": "@jupyter-widgets/base",
          "model_name": "LayoutModel",
          "model_module_version": "1.2.0",
          "state": {
            "_model_module": "@jupyter-widgets/base",
            "_model_module_version": "1.2.0",
            "_model_name": "LayoutModel",
            "_view_count": null,
            "_view_module": "@jupyter-widgets/base",
            "_view_module_version": "1.2.0",
            "_view_name": "LayoutView",
            "align_content": null,
            "align_items": null,
            "align_self": null,
            "border": null,
            "bottom": null,
            "display": null,
            "flex": null,
            "flex_flow": null,
            "grid_area": null,
            "grid_auto_columns": null,
            "grid_auto_flow": null,
            "grid_auto_rows": null,
            "grid_column": null,
            "grid_gap": null,
            "grid_row": null,
            "grid_template_areas": null,
            "grid_template_columns": null,
            "grid_template_rows": null,
            "height": null,
            "justify_content": null,
            "justify_items": null,
            "left": null,
            "margin": null,
            "max_height": null,
            "max_width": null,
            "min_height": null,
            "min_width": null,
            "object_fit": null,
            "object_position": null,
            "order": null,
            "overflow": null,
            "overflow_x": null,
            "overflow_y": null,
            "padding": null,
            "right": null,
            "top": null,
            "visibility": null,
            "width": null
          }
        },
        "89427502ef3741df98281f02476b1ee4": {
          "model_module": "@jupyter-widgets/controls",
          "model_name": "DescriptionStyleModel",
          "model_module_version": "1.5.0",
          "state": {
            "_model_module": "@jupyter-widgets/controls",
            "_model_module_version": "1.5.0",
            "_model_name": "DescriptionStyleModel",
            "_view_count": null,
            "_view_module": "@jupyter-widgets/base",
            "_view_module_version": "1.2.0",
            "_view_name": "StyleView",
            "description_width": ""
          }
        },
        "85bb2bb7d3444b558ed39ad5e438e59b": {
          "model_module": "@jupyter-widgets/controls",
          "model_name": "HBoxModel",
          "model_module_version": "1.5.0",
          "state": {
            "_dom_classes": [],
            "_model_module": "@jupyter-widgets/controls",
            "_model_module_version": "1.5.0",
            "_model_name": "HBoxModel",
            "_view_count": null,
            "_view_module": "@jupyter-widgets/controls",
            "_view_module_version": "1.5.0",
            "_view_name": "HBoxView",
            "box_style": "",
            "children": [
              "IPY_MODEL_0220a7e3f4d3455caa5b4b3e90b456b2",
              "IPY_MODEL_ef83cf35a7af4b7ea0e082fb8a4ba7c8",
              "IPY_MODEL_b52d39900c9c4a9a816003328d010d8a"
            ],
            "layout": "IPY_MODEL_e16e3084975845da8f61ea55a79525a2"
          }
        },
        "0220a7e3f4d3455caa5b4b3e90b456b2": {
          "model_module": "@jupyter-widgets/controls",
          "model_name": "HTMLModel",
          "model_module_version": "1.5.0",
          "state": {
            "_dom_classes": [],
            "_model_module": "@jupyter-widgets/controls",
            "_model_module_version": "1.5.0",
            "_model_name": "HTMLModel",
            "_view_count": null,
            "_view_module": "@jupyter-widgets/controls",
            "_view_module_version": "1.5.0",
            "_view_name": "HTMLView",
            "description": "",
            "description_tooltip": null,
            "layout": "IPY_MODEL_f608db5929354298967255ec4b618ed1",
            "placeholder": "​",
            "style": "IPY_MODEL_5bacae4029eb43dd984b448089ee29bd",
            "value": "Downloading data: 100%"
          }
        },
        "ef83cf35a7af4b7ea0e082fb8a4ba7c8": {
          "model_module": "@jupyter-widgets/controls",
          "model_name": "FloatProgressModel",
          "model_module_version": "1.5.0",
          "state": {
            "_dom_classes": [],
            "_model_module": "@jupyter-widgets/controls",
            "_model_module_version": "1.5.0",
            "_model_name": "FloatProgressModel",
            "_view_count": null,
            "_view_module": "@jupyter-widgets/controls",
            "_view_module_version": "1.5.0",
            "_view_name": "ProgressView",
            "bar_style": "success",
            "description": "",
            "description_tooltip": null,
            "layout": "IPY_MODEL_01ab0c9a013f44c5aa1574bdeb13ca06",
            "max": 26421880,
            "min": 0,
            "orientation": "horizontal",
            "style": "IPY_MODEL_3cc61a98132749348858bb9be44413af",
            "value": 26421880
          }
        },
        "b52d39900c9c4a9a816003328d010d8a": {
          "model_module": "@jupyter-widgets/controls",
          "model_name": "HTMLModel",
          "model_module_version": "1.5.0",
          "state": {
            "_dom_classes": [],
            "_model_module": "@jupyter-widgets/controls",
            "_model_module_version": "1.5.0",
            "_model_name": "HTMLModel",
            "_view_count": null,
            "_view_module": "@jupyter-widgets/controls",
            "_view_module_version": "1.5.0",
            "_view_name": "HTMLView",
            "description": "",
            "description_tooltip": null,
            "layout": "IPY_MODEL_43e7f8645f4b41629950e3b017bc51f6",
            "placeholder": "​",
            "style": "IPY_MODEL_ee312cefee344210abf071d8706e46f0",
            "value": " 26.4M/26.4M [00:00&lt;00:00, 83.3MB/s]"
          }
        },
        "e16e3084975845da8f61ea55a79525a2": {
          "model_module": "@jupyter-widgets/base",
          "model_name": "LayoutModel",
          "model_module_version": "1.2.0",
          "state": {
            "_model_module": "@jupyter-widgets/base",
            "_model_module_version": "1.2.0",
            "_model_name": "LayoutModel",
            "_view_count": null,
            "_view_module": "@jupyter-widgets/base",
            "_view_module_version": "1.2.0",
            "_view_name": "LayoutView",
            "align_content": null,
            "align_items": null,
            "align_self": null,
            "border": null,
            "bottom": null,
            "display": null,
            "flex": null,
            "flex_flow": null,
            "grid_area": null,
            "grid_auto_columns": null,
            "grid_auto_flow": null,
            "grid_auto_rows": null,
            "grid_column": null,
            "grid_gap": null,
            "grid_row": null,
            "grid_template_areas": null,
            "grid_template_columns": null,
            "grid_template_rows": null,
            "height": null,
            "justify_content": null,
            "justify_items": null,
            "left": null,
            "margin": null,
            "max_height": null,
            "max_width": null,
            "min_height": null,
            "min_width": null,
            "object_fit": null,
            "object_position": null,
            "order": null,
            "overflow": null,
            "overflow_x": null,
            "overflow_y": null,
            "padding": null,
            "right": null,
            "top": null,
            "visibility": null,
            "width": null
          }
        },
        "f608db5929354298967255ec4b618ed1": {
          "model_module": "@jupyter-widgets/base",
          "model_name": "LayoutModel",
          "model_module_version": "1.2.0",
          "state": {
            "_model_module": "@jupyter-widgets/base",
            "_model_module_version": "1.2.0",
            "_model_name": "LayoutModel",
            "_view_count": null,
            "_view_module": "@jupyter-widgets/base",
            "_view_module_version": "1.2.0",
            "_view_name": "LayoutView",
            "align_content": null,
            "align_items": null,
            "align_self": null,
            "border": null,
            "bottom": null,
            "display": null,
            "flex": null,
            "flex_flow": null,
            "grid_area": null,
            "grid_auto_columns": null,
            "grid_auto_flow": null,
            "grid_auto_rows": null,
            "grid_column": null,
            "grid_gap": null,
            "grid_row": null,
            "grid_template_areas": null,
            "grid_template_columns": null,
            "grid_template_rows": null,
            "height": null,
            "justify_content": null,
            "justify_items": null,
            "left": null,
            "margin": null,
            "max_height": null,
            "max_width": null,
            "min_height": null,
            "min_width": null,
            "object_fit": null,
            "object_position": null,
            "order": null,
            "overflow": null,
            "overflow_x": null,
            "overflow_y": null,
            "padding": null,
            "right": null,
            "top": null,
            "visibility": null,
            "width": null
          }
        },
        "5bacae4029eb43dd984b448089ee29bd": {
          "model_module": "@jupyter-widgets/controls",
          "model_name": "DescriptionStyleModel",
          "model_module_version": "1.5.0",
          "state": {
            "_model_module": "@jupyter-widgets/controls",
            "_model_module_version": "1.5.0",
            "_model_name": "DescriptionStyleModel",
            "_view_count": null,
            "_view_module": "@jupyter-widgets/base",
            "_view_module_version": "1.2.0",
            "_view_name": "StyleView",
            "description_width": ""
          }
        },
        "01ab0c9a013f44c5aa1574bdeb13ca06": {
          "model_module": "@jupyter-widgets/base",
          "model_name": "LayoutModel",
          "model_module_version": "1.2.0",
          "state": {
            "_model_module": "@jupyter-widgets/base",
            "_model_module_version": "1.2.0",
            "_model_name": "LayoutModel",
            "_view_count": null,
            "_view_module": "@jupyter-widgets/base",
            "_view_module_version": "1.2.0",
            "_view_name": "LayoutView",
            "align_content": null,
            "align_items": null,
            "align_self": null,
            "border": null,
            "bottom": null,
            "display": null,
            "flex": null,
            "flex_flow": null,
            "grid_area": null,
            "grid_auto_columns": null,
            "grid_auto_flow": null,
            "grid_auto_rows": null,
            "grid_column": null,
            "grid_gap": null,
            "grid_row": null,
            "grid_template_areas": null,
            "grid_template_columns": null,
            "grid_template_rows": null,
            "height": null,
            "justify_content": null,
            "justify_items": null,
            "left": null,
            "margin": null,
            "max_height": null,
            "max_width": null,
            "min_height": null,
            "min_width": null,
            "object_fit": null,
            "object_position": null,
            "order": null,
            "overflow": null,
            "overflow_x": null,
            "overflow_y": null,
            "padding": null,
            "right": null,
            "top": null,
            "visibility": null,
            "width": null
          }
        },
        "3cc61a98132749348858bb9be44413af": {
          "model_module": "@jupyter-widgets/controls",
          "model_name": "ProgressStyleModel",
          "model_module_version": "1.5.0",
          "state": {
            "_model_module": "@jupyter-widgets/controls",
            "_model_module_version": "1.5.0",
            "_model_name": "ProgressStyleModel",
            "_view_count": null,
            "_view_module": "@jupyter-widgets/base",
            "_view_module_version": "1.2.0",
            "_view_name": "StyleView",
            "bar_color": null,
            "description_width": ""
          }
        },
        "43e7f8645f4b41629950e3b017bc51f6": {
          "model_module": "@jupyter-widgets/base",
          "model_name": "LayoutModel",
          "model_module_version": "1.2.0",
          "state": {
            "_model_module": "@jupyter-widgets/base",
            "_model_module_version": "1.2.0",
            "_model_name": "LayoutModel",
            "_view_count": null,
            "_view_module": "@jupyter-widgets/base",
            "_view_module_version": "1.2.0",
            "_view_name": "LayoutView",
            "align_content": null,
            "align_items": null,
            "align_self": null,
            "border": null,
            "bottom": null,
            "display": null,
            "flex": null,
            "flex_flow": null,
            "grid_area": null,
            "grid_auto_columns": null,
            "grid_auto_flow": null,
            "grid_auto_rows": null,
            "grid_column": null,
            "grid_gap": null,
            "grid_row": null,
            "grid_template_areas": null,
            "grid_template_columns": null,
            "grid_template_rows": null,
            "height": null,
            "justify_content": null,
            "justify_items": null,
            "left": null,
            "margin": null,
            "max_height": null,
            "max_width": null,
            "min_height": null,
            "min_width": null,
            "object_fit": null,
            "object_position": null,
            "order": null,
            "overflow": null,
            "overflow_x": null,
            "overflow_y": null,
            "padding": null,
            "right": null,
            "top": null,
            "visibility": null,
            "width": null
          }
        },
        "ee312cefee344210abf071d8706e46f0": {
          "model_module": "@jupyter-widgets/controls",
          "model_name": "DescriptionStyleModel",
          "model_module_version": "1.5.0",
          "state": {
            "_model_module": "@jupyter-widgets/controls",
            "_model_module_version": "1.5.0",
            "_model_name": "DescriptionStyleModel",
            "_view_count": null,
            "_view_module": "@jupyter-widgets/base",
            "_view_module_version": "1.2.0",
            "_view_name": "StyleView",
            "description_width": ""
          }
        },
        "c421687ed7824bfe9bf357d808474106": {
          "model_module": "@jupyter-widgets/controls",
          "model_name": "HBoxModel",
          "model_module_version": "1.5.0",
          "state": {
            "_dom_classes": [],
            "_model_module": "@jupyter-widgets/controls",
            "_model_module_version": "1.5.0",
            "_model_name": "HBoxModel",
            "_view_count": null,
            "_view_module": "@jupyter-widgets/controls",
            "_view_module_version": "1.5.0",
            "_view_name": "HBoxView",
            "box_style": "",
            "children": [
              "IPY_MODEL_15213f6663f748cf98817eea76478565",
              "IPY_MODEL_72ea0d98eebd48e1b7998bffba96b07c",
              "IPY_MODEL_c9702f3e05924a5294fe48ff775de611"
            ],
            "layout": "IPY_MODEL_5aedd56e17d34294b5ae3b17c683f8c4"
          }
        },
        "15213f6663f748cf98817eea76478565": {
          "model_module": "@jupyter-widgets/controls",
          "model_name": "HTMLModel",
          "model_module_version": "1.5.0",
          "state": {
            "_dom_classes": [],
            "_model_module": "@jupyter-widgets/controls",
            "_model_module_version": "1.5.0",
            "_model_name": "HTMLModel",
            "_view_count": null,
            "_view_module": "@jupyter-widgets/controls",
            "_view_module_version": "1.5.0",
            "_view_name": "HTMLView",
            "description": "",
            "description_tooltip": null,
            "layout": "IPY_MODEL_6d7707a274484a1b987306d59476cfb5",
            "placeholder": "​",
            "style": "IPY_MODEL_9729e08cd66a43dc88500324528fd43e",
            "value": "Downloading data: 100%"
          }
        },
        "72ea0d98eebd48e1b7998bffba96b07c": {
          "model_module": "@jupyter-widgets/controls",
          "model_name": "FloatProgressModel",
          "model_module_version": "1.5.0",
          "state": {
            "_dom_classes": [],
            "_model_module": "@jupyter-widgets/controls",
            "_model_module_version": "1.5.0",
            "_model_name": "FloatProgressModel",
            "_view_count": null,
            "_view_module": "@jupyter-widgets/controls",
            "_view_module_version": "1.5.0",
            "_view_name": "ProgressView",
            "bar_style": "success",
            "description": "",
            "description_tooltip": null,
            "layout": "IPY_MODEL_11453aaea94c45038102d7008ea5416b",
            "max": 29515,
            "min": 0,
            "orientation": "horizontal",
            "style": "IPY_MODEL_651b0b8e7b4849268521241982b9e8bb",
            "value": 29515
          }
        },
        "c9702f3e05924a5294fe48ff775de611": {
          "model_module": "@jupyter-widgets/controls",
          "model_name": "HTMLModel",
          "model_module_version": "1.5.0",
          "state": {
            "_dom_classes": [],
            "_model_module": "@jupyter-widgets/controls",
            "_model_module_version": "1.5.0",
            "_model_name": "HTMLModel",
            "_view_count": null,
            "_view_module": "@jupyter-widgets/controls",
            "_view_module_version": "1.5.0",
            "_view_name": "HTMLView",
            "description": "",
            "description_tooltip": null,
            "layout": "IPY_MODEL_9d4d6bb757ed4134ae107c670538b1cb",
            "placeholder": "​",
            "style": "IPY_MODEL_583c2a7e6efa4a35a08bdaa725620e3d",
            "value": " 29.5k/29.5k [00:00&lt;00:00, 1.73MB/s]"
          }
        },
        "5aedd56e17d34294b5ae3b17c683f8c4": {
          "model_module": "@jupyter-widgets/base",
          "model_name": "LayoutModel",
          "model_module_version": "1.2.0",
          "state": {
            "_model_module": "@jupyter-widgets/base",
            "_model_module_version": "1.2.0",
            "_model_name": "LayoutModel",
            "_view_count": null,
            "_view_module": "@jupyter-widgets/base",
            "_view_module_version": "1.2.0",
            "_view_name": "LayoutView",
            "align_content": null,
            "align_items": null,
            "align_self": null,
            "border": null,
            "bottom": null,
            "display": null,
            "flex": null,
            "flex_flow": null,
            "grid_area": null,
            "grid_auto_columns": null,
            "grid_auto_flow": null,
            "grid_auto_rows": null,
            "grid_column": null,
            "grid_gap": null,
            "grid_row": null,
            "grid_template_areas": null,
            "grid_template_columns": null,
            "grid_template_rows": null,
            "height": null,
            "justify_content": null,
            "justify_items": null,
            "left": null,
            "margin": null,
            "max_height": null,
            "max_width": null,
            "min_height": null,
            "min_width": null,
            "object_fit": null,
            "object_position": null,
            "order": null,
            "overflow": null,
            "overflow_x": null,
            "overflow_y": null,
            "padding": null,
            "right": null,
            "top": null,
            "visibility": null,
            "width": null
          }
        },
        "6d7707a274484a1b987306d59476cfb5": {
          "model_module": "@jupyter-widgets/base",
          "model_name": "LayoutModel",
          "model_module_version": "1.2.0",
          "state": {
            "_model_module": "@jupyter-widgets/base",
            "_model_module_version": "1.2.0",
            "_model_name": "LayoutModel",
            "_view_count": null,
            "_view_module": "@jupyter-widgets/base",
            "_view_module_version": "1.2.0",
            "_view_name": "LayoutView",
            "align_content": null,
            "align_items": null,
            "align_self": null,
            "border": null,
            "bottom": null,
            "display": null,
            "flex": null,
            "flex_flow": null,
            "grid_area": null,
            "grid_auto_columns": null,
            "grid_auto_flow": null,
            "grid_auto_rows": null,
            "grid_column": null,
            "grid_gap": null,
            "grid_row": null,
            "grid_template_areas": null,
            "grid_template_columns": null,
            "grid_template_rows": null,
            "height": null,
            "justify_content": null,
            "justify_items": null,
            "left": null,
            "margin": null,
            "max_height": null,
            "max_width": null,
            "min_height": null,
            "min_width": null,
            "object_fit": null,
            "object_position": null,
            "order": null,
            "overflow": null,
            "overflow_x": null,
            "overflow_y": null,
            "padding": null,
            "right": null,
            "top": null,
            "visibility": null,
            "width": null
          }
        },
        "9729e08cd66a43dc88500324528fd43e": {
          "model_module": "@jupyter-widgets/controls",
          "model_name": "DescriptionStyleModel",
          "model_module_version": "1.5.0",
          "state": {
            "_model_module": "@jupyter-widgets/controls",
            "_model_module_version": "1.5.0",
            "_model_name": "DescriptionStyleModel",
            "_view_count": null,
            "_view_module": "@jupyter-widgets/base",
            "_view_module_version": "1.2.0",
            "_view_name": "StyleView",
            "description_width": ""
          }
        },
        "11453aaea94c45038102d7008ea5416b": {
          "model_module": "@jupyter-widgets/base",
          "model_name": "LayoutModel",
          "model_module_version": "1.2.0",
          "state": {
            "_model_module": "@jupyter-widgets/base",
            "_model_module_version": "1.2.0",
            "_model_name": "LayoutModel",
            "_view_count": null,
            "_view_module": "@jupyter-widgets/base",
            "_view_module_version": "1.2.0",
            "_view_name": "LayoutView",
            "align_content": null,
            "align_items": null,
            "align_self": null,
            "border": null,
            "bottom": null,
            "display": null,
            "flex": null,
            "flex_flow": null,
            "grid_area": null,
            "grid_auto_columns": null,
            "grid_auto_flow": null,
            "grid_auto_rows": null,
            "grid_column": null,
            "grid_gap": null,
            "grid_row": null,
            "grid_template_areas": null,
            "grid_template_columns": null,
            "grid_template_rows": null,
            "height": null,
            "justify_content": null,
            "justify_items": null,
            "left": null,
            "margin": null,
            "max_height": null,
            "max_width": null,
            "min_height": null,
            "min_width": null,
            "object_fit": null,
            "object_position": null,
            "order": null,
            "overflow": null,
            "overflow_x": null,
            "overflow_y": null,
            "padding": null,
            "right": null,
            "top": null,
            "visibility": null,
            "width": null
          }
        },
        "651b0b8e7b4849268521241982b9e8bb": {
          "model_module": "@jupyter-widgets/controls",
          "model_name": "ProgressStyleModel",
          "model_module_version": "1.5.0",
          "state": {
            "_model_module": "@jupyter-widgets/controls",
            "_model_module_version": "1.5.0",
            "_model_name": "ProgressStyleModel",
            "_view_count": null,
            "_view_module": "@jupyter-widgets/base",
            "_view_module_version": "1.2.0",
            "_view_name": "StyleView",
            "bar_color": null,
            "description_width": ""
          }
        },
        "9d4d6bb757ed4134ae107c670538b1cb": {
          "model_module": "@jupyter-widgets/base",
          "model_name": "LayoutModel",
          "model_module_version": "1.2.0",
          "state": {
            "_model_module": "@jupyter-widgets/base",
            "_model_module_version": "1.2.0",
            "_model_name": "LayoutModel",
            "_view_count": null,
            "_view_module": "@jupyter-widgets/base",
            "_view_module_version": "1.2.0",
            "_view_name": "LayoutView",
            "align_content": null,
            "align_items": null,
            "align_self": null,
            "border": null,
            "bottom": null,
            "display": null,
            "flex": null,
            "flex_flow": null,
            "grid_area": null,
            "grid_auto_columns": null,
            "grid_auto_flow": null,
            "grid_auto_rows": null,
            "grid_column": null,
            "grid_gap": null,
            "grid_row": null,
            "grid_template_areas": null,
            "grid_template_columns": null,
            "grid_template_rows": null,
            "height": null,
            "justify_content": null,
            "justify_items": null,
            "left": null,
            "margin": null,
            "max_height": null,
            "max_width": null,
            "min_height": null,
            "min_width": null,
            "object_fit": null,
            "object_position": null,
            "order": null,
            "overflow": null,
            "overflow_x": null,
            "overflow_y": null,
            "padding": null,
            "right": null,
            "top": null,
            "visibility": null,
            "width": null
          }
        },
        "583c2a7e6efa4a35a08bdaa725620e3d": {
          "model_module": "@jupyter-widgets/controls",
          "model_name": "DescriptionStyleModel",
          "model_module_version": "1.5.0",
          "state": {
            "_model_module": "@jupyter-widgets/controls",
            "_model_module_version": "1.5.0",
            "_model_name": "DescriptionStyleModel",
            "_view_count": null,
            "_view_module": "@jupyter-widgets/base",
            "_view_module_version": "1.2.0",
            "_view_name": "StyleView",
            "description_width": ""
          }
        },
        "e98eb3486bb74e888b6f3585f207cc98": {
          "model_module": "@jupyter-widgets/controls",
          "model_name": "HBoxModel",
          "model_module_version": "1.5.0",
          "state": {
            "_dom_classes": [],
            "_model_module": "@jupyter-widgets/controls",
            "_model_module_version": "1.5.0",
            "_model_name": "HBoxModel",
            "_view_count": null,
            "_view_module": "@jupyter-widgets/controls",
            "_view_module_version": "1.5.0",
            "_view_name": "HBoxView",
            "box_style": "",
            "children": [
              "IPY_MODEL_2b46df9315554266938f0a2d7e3f7d53",
              "IPY_MODEL_38527091f72c412a975864329e288f69",
              "IPY_MODEL_21cb984438b34c98a578d065dab5552a"
            ],
            "layout": "IPY_MODEL_226f87f7b7414618b888dbcb33536438"
          }
        },
        "2b46df9315554266938f0a2d7e3f7d53": {
          "model_module": "@jupyter-widgets/controls",
          "model_name": "HTMLModel",
          "model_module_version": "1.5.0",
          "state": {
            "_dom_classes": [],
            "_model_module": "@jupyter-widgets/controls",
            "_model_module_version": "1.5.0",
            "_model_name": "HTMLModel",
            "_view_count": null,
            "_view_module": "@jupyter-widgets/controls",
            "_view_module_version": "1.5.0",
            "_view_name": "HTMLView",
            "description": "",
            "description_tooltip": null,
            "layout": "IPY_MODEL_7678ef1abbe9442bb8a801ca3f758ad8",
            "placeholder": "​",
            "style": "IPY_MODEL_692d66eb93ac4c4083b822e7686ff544",
            "value": "Downloading data: 100%"
          }
        },
        "38527091f72c412a975864329e288f69": {
          "model_module": "@jupyter-widgets/controls",
          "model_name": "FloatProgressModel",
          "model_module_version": "1.5.0",
          "state": {
            "_dom_classes": [],
            "_model_module": "@jupyter-widgets/controls",
            "_model_module_version": "1.5.0",
            "_model_name": "FloatProgressModel",
            "_view_count": null,
            "_view_module": "@jupyter-widgets/controls",
            "_view_module_version": "1.5.0",
            "_view_name": "ProgressView",
            "bar_style": "success",
            "description": "",
            "description_tooltip": null,
            "layout": "IPY_MODEL_5619388989dd41f5a8737c8a8f300969",
            "max": 4422102,
            "min": 0,
            "orientation": "horizontal",
            "style": "IPY_MODEL_a17e5b85756244989462a01851f89911",
            "value": 4422102
          }
        },
        "21cb984438b34c98a578d065dab5552a": {
          "model_module": "@jupyter-widgets/controls",
          "model_name": "HTMLModel",
          "model_module_version": "1.5.0",
          "state": {
            "_dom_classes": [],
            "_model_module": "@jupyter-widgets/controls",
            "_model_module_version": "1.5.0",
            "_model_name": "HTMLModel",
            "_view_count": null,
            "_view_module": "@jupyter-widgets/controls",
            "_view_module_version": "1.5.0",
            "_view_name": "HTMLView",
            "description": "",
            "description_tooltip": null,
            "layout": "IPY_MODEL_0f7303d657894290803ca8fe6a05a6a7",
            "placeholder": "​",
            "style": "IPY_MODEL_675406eeb0c040e193b777c1dc5df496",
            "value": " 4.42M/4.42M [00:00&lt;00:00, 43.0MB/s]"
          }
        },
        "226f87f7b7414618b888dbcb33536438": {
          "model_module": "@jupyter-widgets/base",
          "model_name": "LayoutModel",
          "model_module_version": "1.2.0",
          "state": {
            "_model_module": "@jupyter-widgets/base",
            "_model_module_version": "1.2.0",
            "_model_name": "LayoutModel",
            "_view_count": null,
            "_view_module": "@jupyter-widgets/base",
            "_view_module_version": "1.2.0",
            "_view_name": "LayoutView",
            "align_content": null,
            "align_items": null,
            "align_self": null,
            "border": null,
            "bottom": null,
            "display": null,
            "flex": null,
            "flex_flow": null,
            "grid_area": null,
            "grid_auto_columns": null,
            "grid_auto_flow": null,
            "grid_auto_rows": null,
            "grid_column": null,
            "grid_gap": null,
            "grid_row": null,
            "grid_template_areas": null,
            "grid_template_columns": null,
            "grid_template_rows": null,
            "height": null,
            "justify_content": null,
            "justify_items": null,
            "left": null,
            "margin": null,
            "max_height": null,
            "max_width": null,
            "min_height": null,
            "min_width": null,
            "object_fit": null,
            "object_position": null,
            "order": null,
            "overflow": null,
            "overflow_x": null,
            "overflow_y": null,
            "padding": null,
            "right": null,
            "top": null,
            "visibility": null,
            "width": null
          }
        },
        "7678ef1abbe9442bb8a801ca3f758ad8": {
          "model_module": "@jupyter-widgets/base",
          "model_name": "LayoutModel",
          "model_module_version": "1.2.0",
          "state": {
            "_model_module": "@jupyter-widgets/base",
            "_model_module_version": "1.2.0",
            "_model_name": "LayoutModel",
            "_view_count": null,
            "_view_module": "@jupyter-widgets/base",
            "_view_module_version": "1.2.0",
            "_view_name": "LayoutView",
            "align_content": null,
            "align_items": null,
            "align_self": null,
            "border": null,
            "bottom": null,
            "display": null,
            "flex": null,
            "flex_flow": null,
            "grid_area": null,
            "grid_auto_columns": null,
            "grid_auto_flow": null,
            "grid_auto_rows": null,
            "grid_column": null,
            "grid_gap": null,
            "grid_row": null,
            "grid_template_areas": null,
            "grid_template_columns": null,
            "grid_template_rows": null,
            "height": null,
            "justify_content": null,
            "justify_items": null,
            "left": null,
            "margin": null,
            "max_height": null,
            "max_width": null,
            "min_height": null,
            "min_width": null,
            "object_fit": null,
            "object_position": null,
            "order": null,
            "overflow": null,
            "overflow_x": null,
            "overflow_y": null,
            "padding": null,
            "right": null,
            "top": null,
            "visibility": null,
            "width": null
          }
        },
        "692d66eb93ac4c4083b822e7686ff544": {
          "model_module": "@jupyter-widgets/controls",
          "model_name": "DescriptionStyleModel",
          "model_module_version": "1.5.0",
          "state": {
            "_model_module": "@jupyter-widgets/controls",
            "_model_module_version": "1.5.0",
            "_model_name": "DescriptionStyleModel",
            "_view_count": null,
            "_view_module": "@jupyter-widgets/base",
            "_view_module_version": "1.2.0",
            "_view_name": "StyleView",
            "description_width": ""
          }
        },
        "5619388989dd41f5a8737c8a8f300969": {
          "model_module": "@jupyter-widgets/base",
          "model_name": "LayoutModel",
          "model_module_version": "1.2.0",
          "state": {
            "_model_module": "@jupyter-widgets/base",
            "_model_module_version": "1.2.0",
            "_model_name": "LayoutModel",
            "_view_count": null,
            "_view_module": "@jupyter-widgets/base",
            "_view_module_version": "1.2.0",
            "_view_name": "LayoutView",
            "align_content": null,
            "align_items": null,
            "align_self": null,
            "border": null,
            "bottom": null,
            "display": null,
            "flex": null,
            "flex_flow": null,
            "grid_area": null,
            "grid_auto_columns": null,
            "grid_auto_flow": null,
            "grid_auto_rows": null,
            "grid_column": null,
            "grid_gap": null,
            "grid_row": null,
            "grid_template_areas": null,
            "grid_template_columns": null,
            "grid_template_rows": null,
            "height": null,
            "justify_content": null,
            "justify_items": null,
            "left": null,
            "margin": null,
            "max_height": null,
            "max_width": null,
            "min_height": null,
            "min_width": null,
            "object_fit": null,
            "object_position": null,
            "order": null,
            "overflow": null,
            "overflow_x": null,
            "overflow_y": null,
            "padding": null,
            "right": null,
            "top": null,
            "visibility": null,
            "width": null
          }
        },
        "a17e5b85756244989462a01851f89911": {
          "model_module": "@jupyter-widgets/controls",
          "model_name": "ProgressStyleModel",
          "model_module_version": "1.5.0",
          "state": {
            "_model_module": "@jupyter-widgets/controls",
            "_model_module_version": "1.5.0",
            "_model_name": "ProgressStyleModel",
            "_view_count": null,
            "_view_module": "@jupyter-widgets/base",
            "_view_module_version": "1.2.0",
            "_view_name": "StyleView",
            "bar_color": null,
            "description_width": ""
          }
        },
        "0f7303d657894290803ca8fe6a05a6a7": {
          "model_module": "@jupyter-widgets/base",
          "model_name": "LayoutModel",
          "model_module_version": "1.2.0",
          "state": {
            "_model_module": "@jupyter-widgets/base",
            "_model_module_version": "1.2.0",
            "_model_name": "LayoutModel",
            "_view_count": null,
            "_view_module": "@jupyter-widgets/base",
            "_view_module_version": "1.2.0",
            "_view_name": "LayoutView",
            "align_content": null,
            "align_items": null,
            "align_self": null,
            "border": null,
            "bottom": null,
            "display": null,
            "flex": null,
            "flex_flow": null,
            "grid_area": null,
            "grid_auto_columns": null,
            "grid_auto_flow": null,
            "grid_auto_rows": null,
            "grid_column": null,
            "grid_gap": null,
            "grid_row": null,
            "grid_template_areas": null,
            "grid_template_columns": null,
            "grid_template_rows": null,
            "height": null,
            "justify_content": null,
            "justify_items": null,
            "left": null,
            "margin": null,
            "max_height": null,
            "max_width": null,
            "min_height": null,
            "min_width": null,
            "object_fit": null,
            "object_position": null,
            "order": null,
            "overflow": null,
            "overflow_x": null,
            "overflow_y": null,
            "padding": null,
            "right": null,
            "top": null,
            "visibility": null,
            "width": null
          }
        },
        "675406eeb0c040e193b777c1dc5df496": {
          "model_module": "@jupyter-widgets/controls",
          "model_name": "DescriptionStyleModel",
          "model_module_version": "1.5.0",
          "state": {
            "_model_module": "@jupyter-widgets/controls",
            "_model_module_version": "1.5.0",
            "_model_name": "DescriptionStyleModel",
            "_view_count": null,
            "_view_module": "@jupyter-widgets/base",
            "_view_module_version": "1.2.0",
            "_view_name": "StyleView",
            "description_width": ""
          }
        },
        "f0f89d98287c4c079dde3036968c7a8e": {
          "model_module": "@jupyter-widgets/controls",
          "model_name": "HBoxModel",
          "model_module_version": "1.5.0",
          "state": {
            "_dom_classes": [],
            "_model_module": "@jupyter-widgets/controls",
            "_model_module_version": "1.5.0",
            "_model_name": "HBoxModel",
            "_view_count": null,
            "_view_module": "@jupyter-widgets/controls",
            "_view_module_version": "1.5.0",
            "_view_name": "HBoxView",
            "box_style": "",
            "children": [
              "IPY_MODEL_db4d977dff484a659111253a58ec8a6c",
              "IPY_MODEL_4e40506df6414c51ae80a6c4eee3480c",
              "IPY_MODEL_ee838331cdb24729a8435aaefbb3df9d"
            ],
            "layout": "IPY_MODEL_0776fa160e5e486dbe16e3cf1e218071"
          }
        },
        "db4d977dff484a659111253a58ec8a6c": {
          "model_module": "@jupyter-widgets/controls",
          "model_name": "HTMLModel",
          "model_module_version": "1.5.0",
          "state": {
            "_dom_classes": [],
            "_model_module": "@jupyter-widgets/controls",
            "_model_module_version": "1.5.0",
            "_model_name": "HTMLModel",
            "_view_count": null,
            "_view_module": "@jupyter-widgets/controls",
            "_view_module_version": "1.5.0",
            "_view_name": "HTMLView",
            "description": "",
            "description_tooltip": null,
            "layout": "IPY_MODEL_5b0c3531ecb440d8904b51b3f28bc1c2",
            "placeholder": "​",
            "style": "IPY_MODEL_1ff1b9c2aa2943ac887d0817be674fc6",
            "value": "Downloading data: 100%"
          }
        },
        "4e40506df6414c51ae80a6c4eee3480c": {
          "model_module": "@jupyter-widgets/controls",
          "model_name": "FloatProgressModel",
          "model_module_version": "1.5.0",
          "state": {
            "_dom_classes": [],
            "_model_module": "@jupyter-widgets/controls",
            "_model_module_version": "1.5.0",
            "_model_name": "FloatProgressModel",
            "_view_count": null,
            "_view_module": "@jupyter-widgets/controls",
            "_view_module_version": "1.5.0",
            "_view_name": "ProgressView",
            "bar_style": "success",
            "description": "",
            "description_tooltip": null,
            "layout": "IPY_MODEL_0979e1039d2f43d39eabbe4f8f4468fa",
            "max": 5148,
            "min": 0,
            "orientation": "horizontal",
            "style": "IPY_MODEL_53bd2cc4348f41229b04d24e7ff4dba9",
            "value": 5148
          }
        },
        "ee838331cdb24729a8435aaefbb3df9d": {
          "model_module": "@jupyter-widgets/controls",
          "model_name": "HTMLModel",
          "model_module_version": "1.5.0",
          "state": {
            "_dom_classes": [],
            "_model_module": "@jupyter-widgets/controls",
            "_model_module_version": "1.5.0",
            "_model_name": "HTMLModel",
            "_view_count": null,
            "_view_module": "@jupyter-widgets/controls",
            "_view_module_version": "1.5.0",
            "_view_name": "HTMLView",
            "description": "",
            "description_tooltip": null,
            "layout": "IPY_MODEL_e0e73a16065d4a2e90e268d878893000",
            "placeholder": "​",
            "style": "IPY_MODEL_7ab995f97fe147669ce333746e063a38",
            "value": " 5.15k/5.15k [00:00&lt;00:00, 246kB/s]"
          }
        },
        "0776fa160e5e486dbe16e3cf1e218071": {
          "model_module": "@jupyter-widgets/base",
          "model_name": "LayoutModel",
          "model_module_version": "1.2.0",
          "state": {
            "_model_module": "@jupyter-widgets/base",
            "_model_module_version": "1.2.0",
            "_model_name": "LayoutModel",
            "_view_count": null,
            "_view_module": "@jupyter-widgets/base",
            "_view_module_version": "1.2.0",
            "_view_name": "LayoutView",
            "align_content": null,
            "align_items": null,
            "align_self": null,
            "border": null,
            "bottom": null,
            "display": null,
            "flex": null,
            "flex_flow": null,
            "grid_area": null,
            "grid_auto_columns": null,
            "grid_auto_flow": null,
            "grid_auto_rows": null,
            "grid_column": null,
            "grid_gap": null,
            "grid_row": null,
            "grid_template_areas": null,
            "grid_template_columns": null,
            "grid_template_rows": null,
            "height": null,
            "justify_content": null,
            "justify_items": null,
            "left": null,
            "margin": null,
            "max_height": null,
            "max_width": null,
            "min_height": null,
            "min_width": null,
            "object_fit": null,
            "object_position": null,
            "order": null,
            "overflow": null,
            "overflow_x": null,
            "overflow_y": null,
            "padding": null,
            "right": null,
            "top": null,
            "visibility": null,
            "width": null
          }
        },
        "5b0c3531ecb440d8904b51b3f28bc1c2": {
          "model_module": "@jupyter-widgets/base",
          "model_name": "LayoutModel",
          "model_module_version": "1.2.0",
          "state": {
            "_model_module": "@jupyter-widgets/base",
            "_model_module_version": "1.2.0",
            "_model_name": "LayoutModel",
            "_view_count": null,
            "_view_module": "@jupyter-widgets/base",
            "_view_module_version": "1.2.0",
            "_view_name": "LayoutView",
            "align_content": null,
            "align_items": null,
            "align_self": null,
            "border": null,
            "bottom": null,
            "display": null,
            "flex": null,
            "flex_flow": null,
            "grid_area": null,
            "grid_auto_columns": null,
            "grid_auto_flow": null,
            "grid_auto_rows": null,
            "grid_column": null,
            "grid_gap": null,
            "grid_row": null,
            "grid_template_areas": null,
            "grid_template_columns": null,
            "grid_template_rows": null,
            "height": null,
            "justify_content": null,
            "justify_items": null,
            "left": null,
            "margin": null,
            "max_height": null,
            "max_width": null,
            "min_height": null,
            "min_width": null,
            "object_fit": null,
            "object_position": null,
            "order": null,
            "overflow": null,
            "overflow_x": null,
            "overflow_y": null,
            "padding": null,
            "right": null,
            "top": null,
            "visibility": null,
            "width": null
          }
        },
        "1ff1b9c2aa2943ac887d0817be674fc6": {
          "model_module": "@jupyter-widgets/controls",
          "model_name": "DescriptionStyleModel",
          "model_module_version": "1.5.0",
          "state": {
            "_model_module": "@jupyter-widgets/controls",
            "_model_module_version": "1.5.0",
            "_model_name": "DescriptionStyleModel",
            "_view_count": null,
            "_view_module": "@jupyter-widgets/base",
            "_view_module_version": "1.2.0",
            "_view_name": "StyleView",
            "description_width": ""
          }
        },
        "0979e1039d2f43d39eabbe4f8f4468fa": {
          "model_module": "@jupyter-widgets/base",
          "model_name": "LayoutModel",
          "model_module_version": "1.2.0",
          "state": {
            "_model_module": "@jupyter-widgets/base",
            "_model_module_version": "1.2.0",
            "_model_name": "LayoutModel",
            "_view_count": null,
            "_view_module": "@jupyter-widgets/base",
            "_view_module_version": "1.2.0",
            "_view_name": "LayoutView",
            "align_content": null,
            "align_items": null,
            "align_self": null,
            "border": null,
            "bottom": null,
            "display": null,
            "flex": null,
            "flex_flow": null,
            "grid_area": null,
            "grid_auto_columns": null,
            "grid_auto_flow": null,
            "grid_auto_rows": null,
            "grid_column": null,
            "grid_gap": null,
            "grid_row": null,
            "grid_template_areas": null,
            "grid_template_columns": null,
            "grid_template_rows": null,
            "height": null,
            "justify_content": null,
            "justify_items": null,
            "left": null,
            "margin": null,
            "max_height": null,
            "max_width": null,
            "min_height": null,
            "min_width": null,
            "object_fit": null,
            "object_position": null,
            "order": null,
            "overflow": null,
            "overflow_x": null,
            "overflow_y": null,
            "padding": null,
            "right": null,
            "top": null,
            "visibility": null,
            "width": null
          }
        },
        "53bd2cc4348f41229b04d24e7ff4dba9": {
          "model_module": "@jupyter-widgets/controls",
          "model_name": "ProgressStyleModel",
          "model_module_version": "1.5.0",
          "state": {
            "_model_module": "@jupyter-widgets/controls",
            "_model_module_version": "1.5.0",
            "_model_name": "ProgressStyleModel",
            "_view_count": null,
            "_view_module": "@jupyter-widgets/base",
            "_view_module_version": "1.2.0",
            "_view_name": "StyleView",
            "bar_color": null,
            "description_width": ""
          }
        },
        "e0e73a16065d4a2e90e268d878893000": {
          "model_module": "@jupyter-widgets/base",
          "model_name": "LayoutModel",
          "model_module_version": "1.2.0",
          "state": {
            "_model_module": "@jupyter-widgets/base",
            "_model_module_version": "1.2.0",
            "_model_name": "LayoutModel",
            "_view_count": null,
            "_view_module": "@jupyter-widgets/base",
            "_view_module_version": "1.2.0",
            "_view_name": "LayoutView",
            "align_content": null,
            "align_items": null,
            "align_self": null,
            "border": null,
            "bottom": null,
            "display": null,
            "flex": null,
            "flex_flow": null,
            "grid_area": null,
            "grid_auto_columns": null,
            "grid_auto_flow": null,
            "grid_auto_rows": null,
            "grid_column": null,
            "grid_gap": null,
            "grid_row": null,
            "grid_template_areas": null,
            "grid_template_columns": null,
            "grid_template_rows": null,
            "height": null,
            "justify_content": null,
            "justify_items": null,
            "left": null,
            "margin": null,
            "max_height": null,
            "max_width": null,
            "min_height": null,
            "min_width": null,
            "object_fit": null,
            "object_position": null,
            "order": null,
            "overflow": null,
            "overflow_x": null,
            "overflow_y": null,
            "padding": null,
            "right": null,
            "top": null,
            "visibility": null,
            "width": null
          }
        },
        "7ab995f97fe147669ce333746e063a38": {
          "model_module": "@jupyter-widgets/controls",
          "model_name": "DescriptionStyleModel",
          "model_module_version": "1.5.0",
          "state": {
            "_model_module": "@jupyter-widgets/controls",
            "_model_module_version": "1.5.0",
            "_model_name": "DescriptionStyleModel",
            "_view_count": null,
            "_view_module": "@jupyter-widgets/base",
            "_view_module_version": "1.2.0",
            "_view_name": "StyleView",
            "description_width": ""
          }
        },
        "dc480f90b1254d62bb0c477957887d81": {
          "model_module": "@jupyter-widgets/controls",
          "model_name": "HBoxModel",
          "model_module_version": "1.5.0",
          "state": {
            "_dom_classes": [],
            "_model_module": "@jupyter-widgets/controls",
            "_model_module_version": "1.5.0",
            "_model_name": "HBoxModel",
            "_view_count": null,
            "_view_module": "@jupyter-widgets/controls",
            "_view_module_version": "1.5.0",
            "_view_name": "HBoxView",
            "box_style": "",
            "children": [
              "IPY_MODEL_ff57dcbe371048268c0b01ed9af9c8d2",
              "IPY_MODEL_30ec23ea1892475fae4fc34d49f25b0e",
              "IPY_MODEL_7bbb26a5cc8f4d52b7ab3b5c143d750a"
            ],
            "layout": "IPY_MODEL_99ae7d5c1dab4f25a7dc8197d113c520"
          }
        },
        "ff57dcbe371048268c0b01ed9af9c8d2": {
          "model_module": "@jupyter-widgets/controls",
          "model_name": "HTMLModel",
          "model_module_version": "1.5.0",
          "state": {
            "_dom_classes": [],
            "_model_module": "@jupyter-widgets/controls",
            "_model_module_version": "1.5.0",
            "_model_name": "HTMLModel",
            "_view_count": null,
            "_view_module": "@jupyter-widgets/controls",
            "_view_module_version": "1.5.0",
            "_view_name": "HTMLView",
            "description": "",
            "description_tooltip": null,
            "layout": "IPY_MODEL_b4318a38bfae4788a88bf506f6af1a08",
            "placeholder": "​",
            "style": "IPY_MODEL_edd4ccc57fb6426281665a609253f51f",
            "value": "Extracting data files: 100%"
          }
        },
        "30ec23ea1892475fae4fc34d49f25b0e": {
          "model_module": "@jupyter-widgets/controls",
          "model_name": "FloatProgressModel",
          "model_module_version": "1.5.0",
          "state": {
            "_dom_classes": [],
            "_model_module": "@jupyter-widgets/controls",
            "_model_module_version": "1.5.0",
            "_model_name": "FloatProgressModel",
            "_view_count": null,
            "_view_module": "@jupyter-widgets/controls",
            "_view_module_version": "1.5.0",
            "_view_name": "ProgressView",
            "bar_style": "success",
            "description": "",
            "description_tooltip": null,
            "layout": "IPY_MODEL_7fed3d86dda047588fe611960b2c267e",
            "max": 4,
            "min": 0,
            "orientation": "horizontal",
            "style": "IPY_MODEL_0236d56db91e40b2b1e1a5abea61d89e",
            "value": 4
          }
        },
        "7bbb26a5cc8f4d52b7ab3b5c143d750a": {
          "model_module": "@jupyter-widgets/controls",
          "model_name": "HTMLModel",
          "model_module_version": "1.5.0",
          "state": {
            "_dom_classes": [],
            "_model_module": "@jupyter-widgets/controls",
            "_model_module_version": "1.5.0",
            "_model_name": "HTMLModel",
            "_view_count": null,
            "_view_module": "@jupyter-widgets/controls",
            "_view_module_version": "1.5.0",
            "_view_name": "HTMLView",
            "description": "",
            "description_tooltip": null,
            "layout": "IPY_MODEL_0258734911ee4d388bbe16f76edf4d12",
            "placeholder": "​",
            "style": "IPY_MODEL_1a8a5a3e9bd44422a5194158b81e3f06",
            "value": " 4/4 [00:00&lt;00:00,  2.38it/s]"
          }
        },
        "99ae7d5c1dab4f25a7dc8197d113c520": {
          "model_module": "@jupyter-widgets/base",
          "model_name": "LayoutModel",
          "model_module_version": "1.2.0",
          "state": {
            "_model_module": "@jupyter-widgets/base",
            "_model_module_version": "1.2.0",
            "_model_name": "LayoutModel",
            "_view_count": null,
            "_view_module": "@jupyter-widgets/base",
            "_view_module_version": "1.2.0",
            "_view_name": "LayoutView",
            "align_content": null,
            "align_items": null,
            "align_self": null,
            "border": null,
            "bottom": null,
            "display": null,
            "flex": null,
            "flex_flow": null,
            "grid_area": null,
            "grid_auto_columns": null,
            "grid_auto_flow": null,
            "grid_auto_rows": null,
            "grid_column": null,
            "grid_gap": null,
            "grid_row": null,
            "grid_template_areas": null,
            "grid_template_columns": null,
            "grid_template_rows": null,
            "height": null,
            "justify_content": null,
            "justify_items": null,
            "left": null,
            "margin": null,
            "max_height": null,
            "max_width": null,
            "min_height": null,
            "min_width": null,
            "object_fit": null,
            "object_position": null,
            "order": null,
            "overflow": null,
            "overflow_x": null,
            "overflow_y": null,
            "padding": null,
            "right": null,
            "top": null,
            "visibility": null,
            "width": null
          }
        },
        "b4318a38bfae4788a88bf506f6af1a08": {
          "model_module": "@jupyter-widgets/base",
          "model_name": "LayoutModel",
          "model_module_version": "1.2.0",
          "state": {
            "_model_module": "@jupyter-widgets/base",
            "_model_module_version": "1.2.0",
            "_model_name": "LayoutModel",
            "_view_count": null,
            "_view_module": "@jupyter-widgets/base",
            "_view_module_version": "1.2.0",
            "_view_name": "LayoutView",
            "align_content": null,
            "align_items": null,
            "align_self": null,
            "border": null,
            "bottom": null,
            "display": null,
            "flex": null,
            "flex_flow": null,
            "grid_area": null,
            "grid_auto_columns": null,
            "grid_auto_flow": null,
            "grid_auto_rows": null,
            "grid_column": null,
            "grid_gap": null,
            "grid_row": null,
            "grid_template_areas": null,
            "grid_template_columns": null,
            "grid_template_rows": null,
            "height": null,
            "justify_content": null,
            "justify_items": null,
            "left": null,
            "margin": null,
            "max_height": null,
            "max_width": null,
            "min_height": null,
            "min_width": null,
            "object_fit": null,
            "object_position": null,
            "order": null,
            "overflow": null,
            "overflow_x": null,
            "overflow_y": null,
            "padding": null,
            "right": null,
            "top": null,
            "visibility": null,
            "width": null
          }
        },
        "edd4ccc57fb6426281665a609253f51f": {
          "model_module": "@jupyter-widgets/controls",
          "model_name": "DescriptionStyleModel",
          "model_module_version": "1.5.0",
          "state": {
            "_model_module": "@jupyter-widgets/controls",
            "_model_module_version": "1.5.0",
            "_model_name": "DescriptionStyleModel",
            "_view_count": null,
            "_view_module": "@jupyter-widgets/base",
            "_view_module_version": "1.2.0",
            "_view_name": "StyleView",
            "description_width": ""
          }
        },
        "7fed3d86dda047588fe611960b2c267e": {
          "model_module": "@jupyter-widgets/base",
          "model_name": "LayoutModel",
          "model_module_version": "1.2.0",
          "state": {
            "_model_module": "@jupyter-widgets/base",
            "_model_module_version": "1.2.0",
            "_model_name": "LayoutModel",
            "_view_count": null,
            "_view_module": "@jupyter-widgets/base",
            "_view_module_version": "1.2.0",
            "_view_name": "LayoutView",
            "align_content": null,
            "align_items": null,
            "align_self": null,
            "border": null,
            "bottom": null,
            "display": null,
            "flex": null,
            "flex_flow": null,
            "grid_area": null,
            "grid_auto_columns": null,
            "grid_auto_flow": null,
            "grid_auto_rows": null,
            "grid_column": null,
            "grid_gap": null,
            "grid_row": null,
            "grid_template_areas": null,
            "grid_template_columns": null,
            "grid_template_rows": null,
            "height": null,
            "justify_content": null,
            "justify_items": null,
            "left": null,
            "margin": null,
            "max_height": null,
            "max_width": null,
            "min_height": null,
            "min_width": null,
            "object_fit": null,
            "object_position": null,
            "order": null,
            "overflow": null,
            "overflow_x": null,
            "overflow_y": null,
            "padding": null,
            "right": null,
            "top": null,
            "visibility": null,
            "width": null
          }
        },
        "0236d56db91e40b2b1e1a5abea61d89e": {
          "model_module": "@jupyter-widgets/controls",
          "model_name": "ProgressStyleModel",
          "model_module_version": "1.5.0",
          "state": {
            "_model_module": "@jupyter-widgets/controls",
            "_model_module_version": "1.5.0",
            "_model_name": "ProgressStyleModel",
            "_view_count": null,
            "_view_module": "@jupyter-widgets/base",
            "_view_module_version": "1.2.0",
            "_view_name": "StyleView",
            "bar_color": null,
            "description_width": ""
          }
        },
        "0258734911ee4d388bbe16f76edf4d12": {
          "model_module": "@jupyter-widgets/base",
          "model_name": "LayoutModel",
          "model_module_version": "1.2.0",
          "state": {
            "_model_module": "@jupyter-widgets/base",
            "_model_module_version": "1.2.0",
            "_model_name": "LayoutModel",
            "_view_count": null,
            "_view_module": "@jupyter-widgets/base",
            "_view_module_version": "1.2.0",
            "_view_name": "LayoutView",
            "align_content": null,
            "align_items": null,
            "align_self": null,
            "border": null,
            "bottom": null,
            "display": null,
            "flex": null,
            "flex_flow": null,
            "grid_area": null,
            "grid_auto_columns": null,
            "grid_auto_flow": null,
            "grid_auto_rows": null,
            "grid_column": null,
            "grid_gap": null,
            "grid_row": null,
            "grid_template_areas": null,
            "grid_template_columns": null,
            "grid_template_rows": null,
            "height": null,
            "justify_content": null,
            "justify_items": null,
            "left": null,
            "margin": null,
            "max_height": null,
            "max_width": null,
            "min_height": null,
            "min_width": null,
            "object_fit": null,
            "object_position": null,
            "order": null,
            "overflow": null,
            "overflow_x": null,
            "overflow_y": null,
            "padding": null,
            "right": null,
            "top": null,
            "visibility": null,
            "width": null
          }
        },
        "1a8a5a3e9bd44422a5194158b81e3f06": {
          "model_module": "@jupyter-widgets/controls",
          "model_name": "DescriptionStyleModel",
          "model_module_version": "1.5.0",
          "state": {
            "_model_module": "@jupyter-widgets/controls",
            "_model_module_version": "1.5.0",
            "_model_name": "DescriptionStyleModel",
            "_view_count": null,
            "_view_module": "@jupyter-widgets/base",
            "_view_module_version": "1.2.0",
            "_view_name": "StyleView",
            "description_width": ""
          }
        },
        "b830314d176045f29f23e793d273b6a8": {
          "model_module": "@jupyter-widgets/controls",
          "model_name": "HBoxModel",
          "model_module_version": "1.5.0",
          "state": {
            "_dom_classes": [],
            "_model_module": "@jupyter-widgets/controls",
            "_model_module_version": "1.5.0",
            "_model_name": "HBoxModel",
            "_view_count": null,
            "_view_module": "@jupyter-widgets/controls",
            "_view_module_version": "1.5.0",
            "_view_name": "HBoxView",
            "box_style": "",
            "children": [
              "IPY_MODEL_a7a62468bebc4ed68465689fea173632",
              "IPY_MODEL_5cb48615e80046fb98abcb5d91922139",
              "IPY_MODEL_02a918e5e20f4f9c8bd7ffd04be5a63a"
            ],
            "layout": "IPY_MODEL_2aaa1af79bee44618cfecddf7b1cd774"
          }
        },
        "a7a62468bebc4ed68465689fea173632": {
          "model_module": "@jupyter-widgets/controls",
          "model_name": "HTMLModel",
          "model_module_version": "1.5.0",
          "state": {
            "_dom_classes": [],
            "_model_module": "@jupyter-widgets/controls",
            "_model_module_version": "1.5.0",
            "_model_name": "HTMLModel",
            "_view_count": null,
            "_view_module": "@jupyter-widgets/controls",
            "_view_module_version": "1.5.0",
            "_view_name": "HTMLView",
            "description": "",
            "description_tooltip": null,
            "layout": "IPY_MODEL_27b47151d5bd4e6aaae7c65a09990fa9",
            "placeholder": "​",
            "style": "IPY_MODEL_547cd32eefa840129e8fce10963dfdc1",
            "value": "Generating train split:  99%"
          }
        },
        "5cb48615e80046fb98abcb5d91922139": {
          "model_module": "@jupyter-widgets/controls",
          "model_name": "FloatProgressModel",
          "model_module_version": "1.5.0",
          "state": {
            "_dom_classes": [],
            "_model_module": "@jupyter-widgets/controls",
            "_model_module_version": "1.5.0",
            "_model_name": "FloatProgressModel",
            "_view_count": null,
            "_view_module": "@jupyter-widgets/controls",
            "_view_module_version": "1.5.0",
            "_view_name": "ProgressView",
            "bar_style": "",
            "description": "",
            "description_tooltip": null,
            "layout": "IPY_MODEL_7365797d48a9498ba31f212bec34b14f",
            "max": 60000,
            "min": 0,
            "orientation": "horizontal",
            "style": "IPY_MODEL_03711d6d06df4c258e9efcc8c5af108f",
            "value": 60000
          }
        },
        "02a918e5e20f4f9c8bd7ffd04be5a63a": {
          "model_module": "@jupyter-widgets/controls",
          "model_name": "HTMLModel",
          "model_module_version": "1.5.0",
          "state": {
            "_dom_classes": [],
            "_model_module": "@jupyter-widgets/controls",
            "_model_module_version": "1.5.0",
            "_model_name": "HTMLModel",
            "_view_count": null,
            "_view_module": "@jupyter-widgets/controls",
            "_view_module_version": "1.5.0",
            "_view_name": "HTMLView",
            "description": "",
            "description_tooltip": null,
            "layout": "IPY_MODEL_56041763ba314019b1cf1da778184fda",
            "placeholder": "​",
            "style": "IPY_MODEL_16c9552777d7467e82c5be11bc1fc1d9",
            "value": " 59524/60000 [00:12&lt;00:00, 5574.55 examples/s]"
          }
        },
        "2aaa1af79bee44618cfecddf7b1cd774": {
          "model_module": "@jupyter-widgets/base",
          "model_name": "LayoutModel",
          "model_module_version": "1.2.0",
          "state": {
            "_model_module": "@jupyter-widgets/base",
            "_model_module_version": "1.2.0",
            "_model_name": "LayoutModel",
            "_view_count": null,
            "_view_module": "@jupyter-widgets/base",
            "_view_module_version": "1.2.0",
            "_view_name": "LayoutView",
            "align_content": null,
            "align_items": null,
            "align_self": null,
            "border": null,
            "bottom": null,
            "display": null,
            "flex": null,
            "flex_flow": null,
            "grid_area": null,
            "grid_auto_columns": null,
            "grid_auto_flow": null,
            "grid_auto_rows": null,
            "grid_column": null,
            "grid_gap": null,
            "grid_row": null,
            "grid_template_areas": null,
            "grid_template_columns": null,
            "grid_template_rows": null,
            "height": null,
            "justify_content": null,
            "justify_items": null,
            "left": null,
            "margin": null,
            "max_height": null,
            "max_width": null,
            "min_height": null,
            "min_width": null,
            "object_fit": null,
            "object_position": null,
            "order": null,
            "overflow": null,
            "overflow_x": null,
            "overflow_y": null,
            "padding": null,
            "right": null,
            "top": null,
            "visibility": "hidden",
            "width": null
          }
        },
        "27b47151d5bd4e6aaae7c65a09990fa9": {
          "model_module": "@jupyter-widgets/base",
          "model_name": "LayoutModel",
          "model_module_version": "1.2.0",
          "state": {
            "_model_module": "@jupyter-widgets/base",
            "_model_module_version": "1.2.0",
            "_model_name": "LayoutModel",
            "_view_count": null,
            "_view_module": "@jupyter-widgets/base",
            "_view_module_version": "1.2.0",
            "_view_name": "LayoutView",
            "align_content": null,
            "align_items": null,
            "align_self": null,
            "border": null,
            "bottom": null,
            "display": null,
            "flex": null,
            "flex_flow": null,
            "grid_area": null,
            "grid_auto_columns": null,
            "grid_auto_flow": null,
            "grid_auto_rows": null,
            "grid_column": null,
            "grid_gap": null,
            "grid_row": null,
            "grid_template_areas": null,
            "grid_template_columns": null,
            "grid_template_rows": null,
            "height": null,
            "justify_content": null,
            "justify_items": null,
            "left": null,
            "margin": null,
            "max_height": null,
            "max_width": null,
            "min_height": null,
            "min_width": null,
            "object_fit": null,
            "object_position": null,
            "order": null,
            "overflow": null,
            "overflow_x": null,
            "overflow_y": null,
            "padding": null,
            "right": null,
            "top": null,
            "visibility": null,
            "width": null
          }
        },
        "547cd32eefa840129e8fce10963dfdc1": {
          "model_module": "@jupyter-widgets/controls",
          "model_name": "DescriptionStyleModel",
          "model_module_version": "1.5.0",
          "state": {
            "_model_module": "@jupyter-widgets/controls",
            "_model_module_version": "1.5.0",
            "_model_name": "DescriptionStyleModel",
            "_view_count": null,
            "_view_module": "@jupyter-widgets/base",
            "_view_module_version": "1.2.0",
            "_view_name": "StyleView",
            "description_width": ""
          }
        },
        "7365797d48a9498ba31f212bec34b14f": {
          "model_module": "@jupyter-widgets/base",
          "model_name": "LayoutModel",
          "model_module_version": "1.2.0",
          "state": {
            "_model_module": "@jupyter-widgets/base",
            "_model_module_version": "1.2.0",
            "_model_name": "LayoutModel",
            "_view_count": null,
            "_view_module": "@jupyter-widgets/base",
            "_view_module_version": "1.2.0",
            "_view_name": "LayoutView",
            "align_content": null,
            "align_items": null,
            "align_self": null,
            "border": null,
            "bottom": null,
            "display": null,
            "flex": null,
            "flex_flow": null,
            "grid_area": null,
            "grid_auto_columns": null,
            "grid_auto_flow": null,
            "grid_auto_rows": null,
            "grid_column": null,
            "grid_gap": null,
            "grid_row": null,
            "grid_template_areas": null,
            "grid_template_columns": null,
            "grid_template_rows": null,
            "height": null,
            "justify_content": null,
            "justify_items": null,
            "left": null,
            "margin": null,
            "max_height": null,
            "max_width": null,
            "min_height": null,
            "min_width": null,
            "object_fit": null,
            "object_position": null,
            "order": null,
            "overflow": null,
            "overflow_x": null,
            "overflow_y": null,
            "padding": null,
            "right": null,
            "top": null,
            "visibility": null,
            "width": null
          }
        },
        "03711d6d06df4c258e9efcc8c5af108f": {
          "model_module": "@jupyter-widgets/controls",
          "model_name": "ProgressStyleModel",
          "model_module_version": "1.5.0",
          "state": {
            "_model_module": "@jupyter-widgets/controls",
            "_model_module_version": "1.5.0",
            "_model_name": "ProgressStyleModel",
            "_view_count": null,
            "_view_module": "@jupyter-widgets/base",
            "_view_module_version": "1.2.0",
            "_view_name": "StyleView",
            "bar_color": null,
            "description_width": ""
          }
        },
        "56041763ba314019b1cf1da778184fda": {
          "model_module": "@jupyter-widgets/base",
          "model_name": "LayoutModel",
          "model_module_version": "1.2.0",
          "state": {
            "_model_module": "@jupyter-widgets/base",
            "_model_module_version": "1.2.0",
            "_model_name": "LayoutModel",
            "_view_count": null,
            "_view_module": "@jupyter-widgets/base",
            "_view_module_version": "1.2.0",
            "_view_name": "LayoutView",
            "align_content": null,
            "align_items": null,
            "align_self": null,
            "border": null,
            "bottom": null,
            "display": null,
            "flex": null,
            "flex_flow": null,
            "grid_area": null,
            "grid_auto_columns": null,
            "grid_auto_flow": null,
            "grid_auto_rows": null,
            "grid_column": null,
            "grid_gap": null,
            "grid_row": null,
            "grid_template_areas": null,
            "grid_template_columns": null,
            "grid_template_rows": null,
            "height": null,
            "justify_content": null,
            "justify_items": null,
            "left": null,
            "margin": null,
            "max_height": null,
            "max_width": null,
            "min_height": null,
            "min_width": null,
            "object_fit": null,
            "object_position": null,
            "order": null,
            "overflow": null,
            "overflow_x": null,
            "overflow_y": null,
            "padding": null,
            "right": null,
            "top": null,
            "visibility": null,
            "width": null
          }
        },
        "16c9552777d7467e82c5be11bc1fc1d9": {
          "model_module": "@jupyter-widgets/controls",
          "model_name": "DescriptionStyleModel",
          "model_module_version": "1.5.0",
          "state": {
            "_model_module": "@jupyter-widgets/controls",
            "_model_module_version": "1.5.0",
            "_model_name": "DescriptionStyleModel",
            "_view_count": null,
            "_view_module": "@jupyter-widgets/base",
            "_view_module_version": "1.2.0",
            "_view_name": "StyleView",
            "description_width": ""
          }
        },
        "04a346300c2a4d38bea6bc4d5ea5b77c": {
          "model_module": "@jupyter-widgets/controls",
          "model_name": "HBoxModel",
          "model_module_version": "1.5.0",
          "state": {
            "_dom_classes": [],
            "_model_module": "@jupyter-widgets/controls",
            "_model_module_version": "1.5.0",
            "_model_name": "HBoxModel",
            "_view_count": null,
            "_view_module": "@jupyter-widgets/controls",
            "_view_module_version": "1.5.0",
            "_view_name": "HBoxView",
            "box_style": "",
            "children": [
              "IPY_MODEL_225008903dab48ef8e38dfe5e2a795b6",
              "IPY_MODEL_52cff3d61ab04642af2d8e9d78d4f8c2",
              "IPY_MODEL_c9da984378da43858a440380d3c88f8e"
            ],
            "layout": "IPY_MODEL_a097c2efe9634ab5856e52b5c266d1e9"
          }
        },
        "225008903dab48ef8e38dfe5e2a795b6": {
          "model_module": "@jupyter-widgets/controls",
          "model_name": "HTMLModel",
          "model_module_version": "1.5.0",
          "state": {
            "_dom_classes": [],
            "_model_module": "@jupyter-widgets/controls",
            "_model_module_version": "1.5.0",
            "_model_name": "HTMLModel",
            "_view_count": null,
            "_view_module": "@jupyter-widgets/controls",
            "_view_module_version": "1.5.0",
            "_view_name": "HTMLView",
            "description": "",
            "description_tooltip": null,
            "layout": "IPY_MODEL_f76fdb83470b4fc49395e5fbf3ca85a6",
            "placeholder": "​",
            "style": "IPY_MODEL_c872834712ba42d58083fa2aa164029e",
            "value": "Generating test split: 100%"
          }
        },
        "52cff3d61ab04642af2d8e9d78d4f8c2": {
          "model_module": "@jupyter-widgets/controls",
          "model_name": "FloatProgressModel",
          "model_module_version": "1.5.0",
          "state": {
            "_dom_classes": [],
            "_model_module": "@jupyter-widgets/controls",
            "_model_module_version": "1.5.0",
            "_model_name": "FloatProgressModel",
            "_view_count": null,
            "_view_module": "@jupyter-widgets/controls",
            "_view_module_version": "1.5.0",
            "_view_name": "ProgressView",
            "bar_style": "",
            "description": "",
            "description_tooltip": null,
            "layout": "IPY_MODEL_d17cb88e43a94270b645dd2c70f67086",
            "max": 10000,
            "min": 0,
            "orientation": "horizontal",
            "style": "IPY_MODEL_4555229dbb2d457ab3da99162ca9ec8b",
            "value": 10000
          }
        },
        "c9da984378da43858a440380d3c88f8e": {
          "model_module": "@jupyter-widgets/controls",
          "model_name": "HTMLModel",
          "model_module_version": "1.5.0",
          "state": {
            "_dom_classes": [],
            "_model_module": "@jupyter-widgets/controls",
            "_model_module_version": "1.5.0",
            "_model_name": "HTMLModel",
            "_view_count": null,
            "_view_module": "@jupyter-widgets/controls",
            "_view_module_version": "1.5.0",
            "_view_name": "HTMLView",
            "description": "",
            "description_tooltip": null,
            "layout": "IPY_MODEL_ec506b1fc7fa43908a3afe77f0b9ed0b",
            "placeholder": "​",
            "style": "IPY_MODEL_17d18fc7ae21472d9da902b6c7518996",
            "value": " 10000/10000 [00:01&lt;00:00, 5558.31 examples/s]"
          }
        },
        "a097c2efe9634ab5856e52b5c266d1e9": {
          "model_module": "@jupyter-widgets/base",
          "model_name": "LayoutModel",
          "model_module_version": "1.2.0",
          "state": {
            "_model_module": "@jupyter-widgets/base",
            "_model_module_version": "1.2.0",
            "_model_name": "LayoutModel",
            "_view_count": null,
            "_view_module": "@jupyter-widgets/base",
            "_view_module_version": "1.2.0",
            "_view_name": "LayoutView",
            "align_content": null,
            "align_items": null,
            "align_self": null,
            "border": null,
            "bottom": null,
            "display": null,
            "flex": null,
            "flex_flow": null,
            "grid_area": null,
            "grid_auto_columns": null,
            "grid_auto_flow": null,
            "grid_auto_rows": null,
            "grid_column": null,
            "grid_gap": null,
            "grid_row": null,
            "grid_template_areas": null,
            "grid_template_columns": null,
            "grid_template_rows": null,
            "height": null,
            "justify_content": null,
            "justify_items": null,
            "left": null,
            "margin": null,
            "max_height": null,
            "max_width": null,
            "min_height": null,
            "min_width": null,
            "object_fit": null,
            "object_position": null,
            "order": null,
            "overflow": null,
            "overflow_x": null,
            "overflow_y": null,
            "padding": null,
            "right": null,
            "top": null,
            "visibility": "hidden",
            "width": null
          }
        },
        "f76fdb83470b4fc49395e5fbf3ca85a6": {
          "model_module": "@jupyter-widgets/base",
          "model_name": "LayoutModel",
          "model_module_version": "1.2.0",
          "state": {
            "_model_module": "@jupyter-widgets/base",
            "_model_module_version": "1.2.0",
            "_model_name": "LayoutModel",
            "_view_count": null,
            "_view_module": "@jupyter-widgets/base",
            "_view_module_version": "1.2.0",
            "_view_name": "LayoutView",
            "align_content": null,
            "align_items": null,
            "align_self": null,
            "border": null,
            "bottom": null,
            "display": null,
            "flex": null,
            "flex_flow": null,
            "grid_area": null,
            "grid_auto_columns": null,
            "grid_auto_flow": null,
            "grid_auto_rows": null,
            "grid_column": null,
            "grid_gap": null,
            "grid_row": null,
            "grid_template_areas": null,
            "grid_template_columns": null,
            "grid_template_rows": null,
            "height": null,
            "justify_content": null,
            "justify_items": null,
            "left": null,
            "margin": null,
            "max_height": null,
            "max_width": null,
            "min_height": null,
            "min_width": null,
            "object_fit": null,
            "object_position": null,
            "order": null,
            "overflow": null,
            "overflow_x": null,
            "overflow_y": null,
            "padding": null,
            "right": null,
            "top": null,
            "visibility": null,
            "width": null
          }
        },
        "c872834712ba42d58083fa2aa164029e": {
          "model_module": "@jupyter-widgets/controls",
          "model_name": "DescriptionStyleModel",
          "model_module_version": "1.5.0",
          "state": {
            "_model_module": "@jupyter-widgets/controls",
            "_model_module_version": "1.5.0",
            "_model_name": "DescriptionStyleModel",
            "_view_count": null,
            "_view_module": "@jupyter-widgets/base",
            "_view_module_version": "1.2.0",
            "_view_name": "StyleView",
            "description_width": ""
          }
        },
        "d17cb88e43a94270b645dd2c70f67086": {
          "model_module": "@jupyter-widgets/base",
          "model_name": "LayoutModel",
          "model_module_version": "1.2.0",
          "state": {
            "_model_module": "@jupyter-widgets/base",
            "_model_module_version": "1.2.0",
            "_model_name": "LayoutModel",
            "_view_count": null,
            "_view_module": "@jupyter-widgets/base",
            "_view_module_version": "1.2.0",
            "_view_name": "LayoutView",
            "align_content": null,
            "align_items": null,
            "align_self": null,
            "border": null,
            "bottom": null,
            "display": null,
            "flex": null,
            "flex_flow": null,
            "grid_area": null,
            "grid_auto_columns": null,
            "grid_auto_flow": null,
            "grid_auto_rows": null,
            "grid_column": null,
            "grid_gap": null,
            "grid_row": null,
            "grid_template_areas": null,
            "grid_template_columns": null,
            "grid_template_rows": null,
            "height": null,
            "justify_content": null,
            "justify_items": null,
            "left": null,
            "margin": null,
            "max_height": null,
            "max_width": null,
            "min_height": null,
            "min_width": null,
            "object_fit": null,
            "object_position": null,
            "order": null,
            "overflow": null,
            "overflow_x": null,
            "overflow_y": null,
            "padding": null,
            "right": null,
            "top": null,
            "visibility": null,
            "width": null
          }
        },
        "4555229dbb2d457ab3da99162ca9ec8b": {
          "model_module": "@jupyter-widgets/controls",
          "model_name": "ProgressStyleModel",
          "model_module_version": "1.5.0",
          "state": {
            "_model_module": "@jupyter-widgets/controls",
            "_model_module_version": "1.5.0",
            "_model_name": "ProgressStyleModel",
            "_view_count": null,
            "_view_module": "@jupyter-widgets/base",
            "_view_module_version": "1.2.0",
            "_view_name": "StyleView",
            "bar_color": null,
            "description_width": ""
          }
        },
        "ec506b1fc7fa43908a3afe77f0b9ed0b": {
          "model_module": "@jupyter-widgets/base",
          "model_name": "LayoutModel",
          "model_module_version": "1.2.0",
          "state": {
            "_model_module": "@jupyter-widgets/base",
            "_model_module_version": "1.2.0",
            "_model_name": "LayoutModel",
            "_view_count": null,
            "_view_module": "@jupyter-widgets/base",
            "_view_module_version": "1.2.0",
            "_view_name": "LayoutView",
            "align_content": null,
            "align_items": null,
            "align_self": null,
            "border": null,
            "bottom": null,
            "display": null,
            "flex": null,
            "flex_flow": null,
            "grid_area": null,
            "grid_auto_columns": null,
            "grid_auto_flow": null,
            "grid_auto_rows": null,
            "grid_column": null,
            "grid_gap": null,
            "grid_row": null,
            "grid_template_areas": null,
            "grid_template_columns": null,
            "grid_template_rows": null,
            "height": null,
            "justify_content": null,
            "justify_items": null,
            "left": null,
            "margin": null,
            "max_height": null,
            "max_width": null,
            "min_height": null,
            "min_width": null,
            "object_fit": null,
            "object_position": null,
            "order": null,
            "overflow": null,
            "overflow_x": null,
            "overflow_y": null,
            "padding": null,
            "right": null,
            "top": null,
            "visibility": null,
            "width": null
          }
        },
        "17d18fc7ae21472d9da902b6c7518996": {
          "model_module": "@jupyter-widgets/controls",
          "model_name": "DescriptionStyleModel",
          "model_module_version": "1.5.0",
          "state": {
            "_model_module": "@jupyter-widgets/controls",
            "_model_module_version": "1.5.0",
            "_model_name": "DescriptionStyleModel",
            "_view_count": null,
            "_view_module": "@jupyter-widgets/base",
            "_view_module_version": "1.2.0",
            "_view_name": "StyleView",
            "description_width": ""
          }
        },
        "e4389b9d1261482da526b19b7e9eb153": {
          "model_module": "@jupyter-widgets/controls",
          "model_name": "HBoxModel",
          "model_module_version": "1.5.0",
          "state": {
            "_dom_classes": [],
            "_model_module": "@jupyter-widgets/controls",
            "_model_module_version": "1.5.0",
            "_model_name": "HBoxModel",
            "_view_count": null,
            "_view_module": "@jupyter-widgets/controls",
            "_view_module_version": "1.5.0",
            "_view_name": "HBoxView",
            "box_style": "",
            "children": [
              "IPY_MODEL_177d9c00f07148d49b20cb73e798a1e0",
              "IPY_MODEL_8892ba804ab649b895b460deb27bc580",
              "IPY_MODEL_a63addf9fd7c439b9a242c52811677c0"
            ],
            "layout": "IPY_MODEL_c34f943a902246609c65f250efa2ffac"
          }
        },
        "177d9c00f07148d49b20cb73e798a1e0": {
          "model_module": "@jupyter-widgets/controls",
          "model_name": "HTMLModel",
          "model_module_version": "1.5.0",
          "state": {
            "_dom_classes": [],
            "_model_module": "@jupyter-widgets/controls",
            "_model_module_version": "1.5.0",
            "_model_name": "HTMLModel",
            "_view_count": null,
            "_view_module": "@jupyter-widgets/controls",
            "_view_module_version": "1.5.0",
            "_view_name": "HTMLView",
            "description": "",
            "description_tooltip": null,
            "layout": "IPY_MODEL_1ebc13ef30f5433086970b3980fba356",
            "placeholder": "​",
            "style": "IPY_MODEL_fa1905571400402bb7022676ab2bc044",
            "value": "100%"
          }
        },
        "8892ba804ab649b895b460deb27bc580": {
          "model_module": "@jupyter-widgets/controls",
          "model_name": "FloatProgressModel",
          "model_module_version": "1.5.0",
          "state": {
            "_dom_classes": [],
            "_model_module": "@jupyter-widgets/controls",
            "_model_module_version": "1.5.0",
            "_model_name": "FloatProgressModel",
            "_view_count": null,
            "_view_module": "@jupyter-widgets/controls",
            "_view_module_version": "1.5.0",
            "_view_name": "ProgressView",
            "bar_style": "success",
            "description": "",
            "description_tooltip": null,
            "layout": "IPY_MODEL_5900b555e03c45de8bc02646b91f84f3",
            "max": 2,
            "min": 0,
            "orientation": "horizontal",
            "style": "IPY_MODEL_3b3136bb4fd243fca08dbc4eb4176e77",
            "value": 2
          }
        },
        "a63addf9fd7c439b9a242c52811677c0": {
          "model_module": "@jupyter-widgets/controls",
          "model_name": "HTMLModel",
          "model_module_version": "1.5.0",
          "state": {
            "_dom_classes": [],
            "_model_module": "@jupyter-widgets/controls",
            "_model_module_version": "1.5.0",
            "_model_name": "HTMLModel",
            "_view_count": null,
            "_view_module": "@jupyter-widgets/controls",
            "_view_module_version": "1.5.0",
            "_view_name": "HTMLView",
            "description": "",
            "description_tooltip": null,
            "layout": "IPY_MODEL_a15924a3cd8a4f7ead67546865c38ad0",
            "placeholder": "​",
            "style": "IPY_MODEL_b275fe4d5b6241b093c2e2b9c1d58c3b",
            "value": " 2/2 [00:00&lt;00:00, 63.63it/s]"
          }
        },
        "c34f943a902246609c65f250efa2ffac": {
          "model_module": "@jupyter-widgets/base",
          "model_name": "LayoutModel",
          "model_module_version": "1.2.0",
          "state": {
            "_model_module": "@jupyter-widgets/base",
            "_model_module_version": "1.2.0",
            "_model_name": "LayoutModel",
            "_view_count": null,
            "_view_module": "@jupyter-widgets/base",
            "_view_module_version": "1.2.0",
            "_view_name": "LayoutView",
            "align_content": null,
            "align_items": null,
            "align_self": null,
            "border": null,
            "bottom": null,
            "display": null,
            "flex": null,
            "flex_flow": null,
            "grid_area": null,
            "grid_auto_columns": null,
            "grid_auto_flow": null,
            "grid_auto_rows": null,
            "grid_column": null,
            "grid_gap": null,
            "grid_row": null,
            "grid_template_areas": null,
            "grid_template_columns": null,
            "grid_template_rows": null,
            "height": null,
            "justify_content": null,
            "justify_items": null,
            "left": null,
            "margin": null,
            "max_height": null,
            "max_width": null,
            "min_height": null,
            "min_width": null,
            "object_fit": null,
            "object_position": null,
            "order": null,
            "overflow": null,
            "overflow_x": null,
            "overflow_y": null,
            "padding": null,
            "right": null,
            "top": null,
            "visibility": null,
            "width": null
          }
        },
        "1ebc13ef30f5433086970b3980fba356": {
          "model_module": "@jupyter-widgets/base",
          "model_name": "LayoutModel",
          "model_module_version": "1.2.0",
          "state": {
            "_model_module": "@jupyter-widgets/base",
            "_model_module_version": "1.2.0",
            "_model_name": "LayoutModel",
            "_view_count": null,
            "_view_module": "@jupyter-widgets/base",
            "_view_module_version": "1.2.0",
            "_view_name": "LayoutView",
            "align_content": null,
            "align_items": null,
            "align_self": null,
            "border": null,
            "bottom": null,
            "display": null,
            "flex": null,
            "flex_flow": null,
            "grid_area": null,
            "grid_auto_columns": null,
            "grid_auto_flow": null,
            "grid_auto_rows": null,
            "grid_column": null,
            "grid_gap": null,
            "grid_row": null,
            "grid_template_areas": null,
            "grid_template_columns": null,
            "grid_template_rows": null,
            "height": null,
            "justify_content": null,
            "justify_items": null,
            "left": null,
            "margin": null,
            "max_height": null,
            "max_width": null,
            "min_height": null,
            "min_width": null,
            "object_fit": null,
            "object_position": null,
            "order": null,
            "overflow": null,
            "overflow_x": null,
            "overflow_y": null,
            "padding": null,
            "right": null,
            "top": null,
            "visibility": null,
            "width": null
          }
        },
        "fa1905571400402bb7022676ab2bc044": {
          "model_module": "@jupyter-widgets/controls",
          "model_name": "DescriptionStyleModel",
          "model_module_version": "1.5.0",
          "state": {
            "_model_module": "@jupyter-widgets/controls",
            "_model_module_version": "1.5.0",
            "_model_name": "DescriptionStyleModel",
            "_view_count": null,
            "_view_module": "@jupyter-widgets/base",
            "_view_module_version": "1.2.0",
            "_view_name": "StyleView",
            "description_width": ""
          }
        },
        "5900b555e03c45de8bc02646b91f84f3": {
          "model_module": "@jupyter-widgets/base",
          "model_name": "LayoutModel",
          "model_module_version": "1.2.0",
          "state": {
            "_model_module": "@jupyter-widgets/base",
            "_model_module_version": "1.2.0",
            "_model_name": "LayoutModel",
            "_view_count": null,
            "_view_module": "@jupyter-widgets/base",
            "_view_module_version": "1.2.0",
            "_view_name": "LayoutView",
            "align_content": null,
            "align_items": null,
            "align_self": null,
            "border": null,
            "bottom": null,
            "display": null,
            "flex": null,
            "flex_flow": null,
            "grid_area": null,
            "grid_auto_columns": null,
            "grid_auto_flow": null,
            "grid_auto_rows": null,
            "grid_column": null,
            "grid_gap": null,
            "grid_row": null,
            "grid_template_areas": null,
            "grid_template_columns": null,
            "grid_template_rows": null,
            "height": null,
            "justify_content": null,
            "justify_items": null,
            "left": null,
            "margin": null,
            "max_height": null,
            "max_width": null,
            "min_height": null,
            "min_width": null,
            "object_fit": null,
            "object_position": null,
            "order": null,
            "overflow": null,
            "overflow_x": null,
            "overflow_y": null,
            "padding": null,
            "right": null,
            "top": null,
            "visibility": null,
            "width": null
          }
        },
        "3b3136bb4fd243fca08dbc4eb4176e77": {
          "model_module": "@jupyter-widgets/controls",
          "model_name": "ProgressStyleModel",
          "model_module_version": "1.5.0",
          "state": {
            "_model_module": "@jupyter-widgets/controls",
            "_model_module_version": "1.5.0",
            "_model_name": "ProgressStyleModel",
            "_view_count": null,
            "_view_module": "@jupyter-widgets/base",
            "_view_module_version": "1.2.0",
            "_view_name": "StyleView",
            "bar_color": null,
            "description_width": ""
          }
        },
        "a15924a3cd8a4f7ead67546865c38ad0": {
          "model_module": "@jupyter-widgets/base",
          "model_name": "LayoutModel",
          "model_module_version": "1.2.0",
          "state": {
            "_model_module": "@jupyter-widgets/base",
            "_model_module_version": "1.2.0",
            "_model_name": "LayoutModel",
            "_view_count": null,
            "_view_module": "@jupyter-widgets/base",
            "_view_module_version": "1.2.0",
            "_view_name": "LayoutView",
            "align_content": null,
            "align_items": null,
            "align_self": null,
            "border": null,
            "bottom": null,
            "display": null,
            "flex": null,
            "flex_flow": null,
            "grid_area": null,
            "grid_auto_columns": null,
            "grid_auto_flow": null,
            "grid_auto_rows": null,
            "grid_column": null,
            "grid_gap": null,
            "grid_row": null,
            "grid_template_areas": null,
            "grid_template_columns": null,
            "grid_template_rows": null,
            "height": null,
            "justify_content": null,
            "justify_items": null,
            "left": null,
            "margin": null,
            "max_height": null,
            "max_width": null,
            "min_height": null,
            "min_width": null,
            "object_fit": null,
            "object_position": null,
            "order": null,
            "overflow": null,
            "overflow_x": null,
            "overflow_y": null,
            "padding": null,
            "right": null,
            "top": null,
            "visibility": null,
            "width": null
          }
        },
        "b275fe4d5b6241b093c2e2b9c1d58c3b": {
          "model_module": "@jupyter-widgets/controls",
          "model_name": "DescriptionStyleModel",
          "model_module_version": "1.5.0",
          "state": {
            "_model_module": "@jupyter-widgets/controls",
            "_model_module_version": "1.5.0",
            "_model_name": "DescriptionStyleModel",
            "_view_count": null,
            "_view_module": "@jupyter-widgets/base",
            "_view_module_version": "1.2.0",
            "_view_name": "StyleView",
            "description_width": ""
          }
        }
      }
    }
  },
  "nbformat": 4,
  "nbformat_minor": 5
}