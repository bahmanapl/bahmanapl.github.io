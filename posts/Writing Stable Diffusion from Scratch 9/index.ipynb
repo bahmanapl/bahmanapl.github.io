{
  "cells": [
    {
      "cell_type": "markdown",
      "source": [
        "---\n",
        "title: \"Writing Stable Diffusion from Scratch 9\"\n",
        "reading-time: \n",
        "date: \"2023-3-29\"\n",
        "categories: [fastaipart2,Stable-Diffusion]\n",
        "---"
      ],
      "metadata": {
        "id": "jy1vQLOIMc_P"
      }
    },
    {
      "cell_type": "markdown",
      "source": [
        "All credits goes to fast.ai \n",
        "All mistakes are mine. "
      ],
      "metadata": {
        "id": "MXgj1z77McnB"
      }
    },
    {
      "cell_type": "markdown",
      "source": [
        "You should know and practice following after this blog post : <br>\n",
        "1- Callbacks , callable class <br>\n",
        "2- Partial <br>\n",
        "3- Lambda  <br>\n",
        "4- __dunder__ thingies <br>"
      ],
      "metadata": {
        "id": "1T9XhuZwNc9F"
      }
    },
    {
      "cell_type": "code",
      "execution_count": 51,
      "metadata": {
        "id": "dQi5qxz0JLiU"
      },
      "outputs": [],
      "source": [
        "import torch\n",
        "import matplotlib.pyplot as plt\n",
        "import random"
      ]
    },
    {
      "cell_type": "markdown",
      "source": [
        "So we've kind of got nearly got all of our infrastructure in place before we do this. Some pieces of python, which not everybody knows and I want to kind of talk about and kind of computer science concepts I want to talk about. So that's what our six foundations is about. So this whole section is just going to tell. It is going to talk about some stuff in Python that you might not have come across before, or maybe it's a review for some of you as well. And it's all stuff we're going to be using basically in the next notebook.\n",
        "\n",
        "So that's why I want to talk to cover it. So we're going to be creating a learner class. So a learner class is going to be a very general purpose training loop, which we can get to to do anything that we want it to do. And we're going to be creating things called callbacks to make that happen. And so therefore we're going to spend a few moments talking about what are callbacks, how are they used in in computer science, how are they implemented? Look at some examples. They come up a lot. \n",
        "\n",
        "Perhaps the most common place that you see callbacks in software is for doing events of events from some graphical user interface. So the main graphical user interface library in Jupyter notebooks is called ipywidgets, and we can create a widget like a pattern . And when we display it, it shows me a button and at the moment it doesn't do anything. If I click on it. What we can do though, is we can add and onclick callback to it,we're going to pass it a function which is called when you click it. So to find that function. So I'm going to say w.on_click(f) is going to assign the f function to the on_click callback. Now, if I click this, there you go. It's doing it. Now, what does that mean? \n",
        "\n",
        "Well, a callback is simply a callable that you've provided. So remember, a callable is a more general version of a function. So in this case, it is a function that you've provided that will be called back to when something happens. So in this case, so something that's happening is that they're clicking a button. So this is how we are defining and using a callback as a GUI event. So basically everything in ipywidgets, if you want to create your own graphical user interfaces for Jupyter, you can do it with ipy widgets and by using these callbacks. So these particular kinds of callbacks are called events, but it's just a callback. All right, so that's somebody else's callback. \n",
        "\n"
      ],
      "metadata": {
        "id": "7K8tl_OXJaB0"
      }
    },
    {
      "cell_type": "markdown",
      "metadata": {
        "id": "IROEZCdNJLiZ"
      },
      "source": [
        "## Callbacks"
      ]
    },
    {
      "cell_type": "markdown",
      "metadata": {
        "id": "G5AX-eeKJLia"
      },
      "source": [
        "### Callbacks as GUI events"
      ]
    },
    {
      "cell_type": "code",
      "execution_count": 52,
      "metadata": {
        "id": "4Ol3H2owJLia"
      },
      "outputs": [],
      "source": [
        "import ipywidgets as widgets"
      ]
    },
    {
      "cell_type": "markdown",
      "metadata": {
        "id": "v7ckyF4eJLib"
      },
      "source": [
        "From the [ipywidget docs](https://ipywidgets.readthedocs.io/en/stable/examples/Widget%20Events.html):\n",
        "\n",
        "- *the button widget is used to handle mouse clicks. The on_click method of the Button can be used to register function to be called when the button is clicked*"
      ]
    },
    {
      "cell_type": "code",
      "execution_count": 53,
      "metadata": {
        "id": "NHTTYI_DJLib"
      },
      "outputs": [],
      "source": [
        "w = widgets.Button(description='Click me')"
      ]
    },
    {
      "cell_type": "code",
      "execution_count": 54,
      "metadata": {
        "id": "r7x6N60TJLib",
        "outputId": "7441a168-08d0-4ddc-bc21-ca78e9f08085",
        "colab": {
          "referenced_widgets": [
            "b1f2b837ac664a7997b42e074f65280f",
            "4c6b1632763044b6a6dfcd1946644e3f",
            "d80e831eaf104cff84c20f796d1fd53c"
          ],
          "base_uri": "https://localhost:8080/",
          "height": 70
        }
      },
      "outputs": [
        {
          "output_type": "display_data",
          "data": {
            "text/plain": [
              "Button(description='Click me', style=ButtonStyle())"
            ],
            "application/vnd.jupyter.widget-view+json": {
              "version_major": 2,
              "version_minor": 0,
              "model_id": "b1f2b837ac664a7997b42e074f65280f"
            }
          },
          "metadata": {}
        }
      ],
      "source": [
        "w"
      ]
    },
    {
      "cell_type": "code",
      "execution_count": 55,
      "metadata": {
        "id": "lgrjILSHJLic"
      },
      "outputs": [],
      "source": [
        "def f(o): print('hi')"
      ]
    },
    {
      "cell_type": "code",
      "execution_count": 56,
      "metadata": {
        "id": "a12svJ7PJLid"
      },
      "outputs": [],
      "source": [
        "w.on_click(f)"
      ]
    },
    {
      "cell_type": "markdown",
      "metadata": {
        "id": "XProJvEAJLid"
      },
      "source": [
        "*NB: When callbacks are used in this way they are often called \"events\".*"
      ]
    },
    {
      "cell_type": "markdown",
      "source": [
        "Let's create our own callback. So let's say we've some very slow calculation, and so it takes a very long time to add up the numbers 0 to 5 squared because we sleep for a second after each one. So let's run our slow calculation. Still running. Oh, how's it going? Come on, finish our calculation. \n",
        "\n",
        "There we go. The answer is 30. Now, for a slow calculation like that, such as training, a model, it's a slow calculation. It'll be nice to do things like, I don't know, you know, print out loss from time to time or show a progress bar or whatever. So generally, for those kinds of things, we would like to define a callback that is called at the end of each epoch or batch or every few seconds or something like that. \n",
        "\n"
      ],
      "metadata": {
        "id": "wUlB0Kb6Ksxh"
      }
    },
    {
      "cell_type": "markdown",
      "metadata": {
        "id": "LYBw2cTgJLid"
      },
      "source": [
        "### Creating your own callback"
      ]
    },
    {
      "cell_type": "code",
      "execution_count": 57,
      "metadata": {
        "id": "4JybK7jyJLid"
      },
      "outputs": [],
      "source": [
        "from time import sleep"
      ]
    },
    {
      "cell_type": "code",
      "execution_count": 58,
      "metadata": {
        "id": "6oReirpRJLie"
      },
      "outputs": [],
      "source": [
        "def slow_calculation():\n",
        "    res = 0\n",
        "    for i in range(5):\n",
        "        res += i*i\n",
        "        sleep(1)\n",
        "    return res"
      ]
    },
    {
      "cell_type": "code",
      "execution_count": 59,
      "metadata": {
        "id": "dEECCIvaJLie",
        "outputId": "e3d6648f-705c-4da3-876a-c0efca36d0b4",
        "colab": {
          "base_uri": "https://localhost:8080/"
        }
      },
      "outputs": [
        {
          "output_type": "execute_result",
          "data": {
            "text/plain": [
              "30"
            ]
          },
          "metadata": {},
          "execution_count": 59
        }
      ],
      "source": [
        "slow_calculation()"
      ]
    },
    {
      "cell_type": "markdown",
      "source": [
        "So here's how we can modify our calculation routine such that you can optionally pass it a callback. And so all of these codes are the same, except we've added this one line of code that says if there's a callback, then call it and pass in what what we're up to. So then we could create our callback function. So this is just like we created a our callback function f let's create a show_progress callback function that's going to tell us how far we've got. So now if we call slow calculation passing in our callback, you can say it's going to call this function at the end of each step. \n",
        "\n",
        "So here we've created our own callback so there's nothing special about a callback. Like it doesn't require its own like syntax. It's not a new concept, it's just an idea really, which is the idea of passing in a function which some other function will call at particular times, such as at the end of a step or such as when you click a button. So that's what we mean by callbacks. \n",
        "\n",
        "We don't have to define the function ahead of time. We could define the function at the same time that we call the slow calculation by using Lambda. So as we've discussed before, Lambda just defines a function, but it doesn't give it a name. So here's a function that takes one parameter and prints out exactly the same thing as before. So here's the same way as doing it, but using a lambda, we could make it more sophisticated now and rather than always saying also we finished epoc, whatever we could have let you pass in an exclamation and we print that out. And so in this case, we could now have our lambda call that function. And so one of the things that we can do now is to again, we can create a function that returns a function. And so we could create a     make_ _show_progress function where you pass in the exclamation mark. We could then create in this no need to give it a name. \n",
        "it's just return it directly. We can return a function that calls that exclamation. So here we are passing in Nice, and that's exactly the same as doing something like what we've done before. We could say instead of using a lambda we can create in a function like this. So here is now a function that returns, a function that says exactly the same thing. Okay, so one way with the lambda when we're allowed to lambda and one of the reasons I wanted to show you that is so  we can do exactly the same thing using partial. So with partial, it's going to do exactly the same thing as this kind of makes show progress. It's going to call, show progress and pass. Okay. I guess so is again an example of a function returning a function. And so this is a function that calls show progress, passing in this as the first parameter. And Again, it does exactly the same thing. Okay. So where you get we tend to use partial a lot. So that's certainly something worth spending time practicing. Now, as we've discussed, Python doesn't care about types in particular, and there's nothing about any of this that requires cb to be a function.\n",
        "\n"
      ],
      "metadata": {
        "id": "Yl6ZaMnGLKyk"
      }
    },
    {
      "cell_type": "code",
      "execution_count": 60,
      "metadata": {
        "id": "BXpIDEASJLif"
      },
      "outputs": [],
      "source": [
        "def slow_calculation(cb=None):\n",
        "    res = 0\n",
        "    for i in range(5):\n",
        "        res += i*i\n",
        "        sleep(1)\n",
        "        if cb: cb(i)\n",
        "    return res"
      ]
    },
    {
      "cell_type": "code",
      "execution_count": 61,
      "metadata": {
        "id": "w9RI6LozJLif"
      },
      "outputs": [],
      "source": [
        "def show_progress(epoch): print(f\"Awesome! We've finished epoch {epoch}!\")"
      ]
    },
    {
      "cell_type": "code",
      "execution_count": 62,
      "metadata": {
        "id": "YEI9xCvpJLif",
        "outputId": "593c7b5d-a5d0-4819-efbf-21b055c017d3",
        "colab": {
          "base_uri": "https://localhost:8080/"
        }
      },
      "outputs": [
        {
          "output_type": "stream",
          "name": "stdout",
          "text": [
            "Awesome! We've finished epoch 0!\n",
            "Awesome! We've finished epoch 1!\n",
            "Awesome! We've finished epoch 2!\n",
            "Awesome! We've finished epoch 3!\n",
            "Awesome! We've finished epoch 4!\n"
          ]
        },
        {
          "output_type": "execute_result",
          "data": {
            "text/plain": [
              "30"
            ]
          },
          "metadata": {},
          "execution_count": 62
        }
      ],
      "source": [
        "slow_calculation(show_progress)"
      ]
    },
    {
      "cell_type": "markdown",
      "metadata": {
        "id": "VGqNMrw_JLig"
      },
      "source": [
        "### Lambdas and partials"
      ]
    },
    {
      "cell_type": "code",
      "execution_count": 63,
      "metadata": {
        "id": "OV8zwzg_JLig",
        "outputId": "bc8be93d-d044-447a-b86d-a200150329de",
        "colab": {
          "base_uri": "https://localhost:8080/"
        }
      },
      "outputs": [
        {
          "output_type": "stream",
          "name": "stdout",
          "text": [
            "Awesome! We've finished epoch 0!\n",
            "Awesome! We've finished epoch 1!\n",
            "Awesome! We've finished epoch 2!\n",
            "Awesome! We've finished epoch 3!\n",
            "Awesome! We've finished epoch 4!\n"
          ]
        },
        {
          "output_type": "execute_result",
          "data": {
            "text/plain": [
              "30"
            ]
          },
          "metadata": {},
          "execution_count": 63
        }
      ],
      "source": [
        "slow_calculation(lambda o: print(f\"Awesome! We've finished epoch {o}!\"))"
      ]
    },
    {
      "cell_type": "code",
      "execution_count": 64,
      "metadata": {
        "id": "ALavYLLMJLig"
      },
      "outputs": [],
      "source": [
        "def show_progress(exclamation, epoch): print(f\"{exclamation}! We've finished epoch {epoch}!\")"
      ]
    },
    {
      "cell_type": "code",
      "execution_count": 65,
      "metadata": {
        "id": "UHy56GZbJLih",
        "outputId": "22af378e-487a-4f75-c4b5-35ad9eb14902",
        "colab": {
          "base_uri": "https://localhost:8080/"
        }
      },
      "outputs": [
        {
          "output_type": "stream",
          "name": "stdout",
          "text": [
            "OK I guess! We've finished epoch 0!\n",
            "OK I guess! We've finished epoch 1!\n",
            "OK I guess! We've finished epoch 2!\n",
            "OK I guess! We've finished epoch 3!\n",
            "OK I guess! We've finished epoch 4!\n"
          ]
        },
        {
          "output_type": "execute_result",
          "data": {
            "text/plain": [
              "30"
            ]
          },
          "metadata": {},
          "execution_count": 65
        }
      ],
      "source": [
        "slow_calculation(lambda o: show_progress(\"OK I guess\", o))"
      ]
    },
    {
      "cell_type": "code",
      "execution_count": 66,
      "metadata": {
        "id": "ojLQ-Kk3JLih"
      },
      "outputs": [],
      "source": [
        "def make_show_progress(exclamation):\n",
        "    def _inner(epoch): print(f\"{exclamation}! We've finished epoch {epoch}!\")\n",
        "    return _inner"
      ]
    },
    {
      "cell_type": "code",
      "execution_count": 67,
      "metadata": {
        "id": "yrDqtz3zJLih",
        "outputId": "bb06a680-f92b-448e-ea97-8b8bcf5e1b86",
        "colab": {
          "base_uri": "https://localhost:8080/"
        }
      },
      "outputs": [
        {
          "output_type": "stream",
          "name": "stdout",
          "text": [
            "Nice!! We've finished epoch 0!\n",
            "Nice!! We've finished epoch 1!\n",
            "Nice!! We've finished epoch 2!\n",
            "Nice!! We've finished epoch 3!\n",
            "Nice!! We've finished epoch 4!\n"
          ]
        },
        {
          "output_type": "execute_result",
          "data": {
            "text/plain": [
              "30"
            ]
          },
          "metadata": {},
          "execution_count": 67
        }
      ],
      "source": [
        "slow_calculation(make_show_progress(\"Nice!\"))"
      ]
    },
    {
      "cell_type": "code",
      "execution_count": 68,
      "metadata": {
        "id": "qq_q0ZspJLii"
      },
      "outputs": [],
      "source": [
        "from functools import partial"
      ]
    },
    {
      "cell_type": "code",
      "execution_count": 69,
      "metadata": {
        "id": "oJYcJEcWJLii",
        "outputId": "34edcaa8-24e9-4121-acf2-6d7dac592bce",
        "colab": {
          "base_uri": "https://localhost:8080/"
        }
      },
      "outputs": [
        {
          "output_type": "stream",
          "name": "stdout",
          "text": [
            "OK I guess! We've finished epoch 0!\n",
            "OK I guess! We've finished epoch 1!\n",
            "OK I guess! We've finished epoch 2!\n",
            "OK I guess! We've finished epoch 3!\n",
            "OK I guess! We've finished epoch 4!\n"
          ]
        },
        {
          "output_type": "execute_result",
          "data": {
            "text/plain": [
              "30"
            ]
          },
          "metadata": {},
          "execution_count": 69
        }
      ],
      "source": [
        "slow_calculation(partial(show_progress, \"OK I guess\"))"
      ]
    },
    {
      "cell_type": "code",
      "execution_count": 70,
      "metadata": {
        "id": "wb5xRH3LJLii"
      },
      "outputs": [],
      "source": [
        "f2 = partial(show_progress, \"OK I guess\")"
      ]
    },
    {
      "cell_type": "markdown",
      "source": [
        "It just happens to be it just has to be a callable. \n",
        "\n",
        "A callable is something that that you can that you can call. And so as we've discussed another way of creating a callable is defining to__call__.\n",
        "\n",
        " So here's a class and this is going to work exactly the same as our make show progress thing but now as a class so there's a __init__ which store the explanation and __call__ the prints and so now we're creating a object which is callable and does exactly the same thing \n",
        " \n",
        "so these are all like fundamental ideas that I want you to get really comfortable with the idea of __call__ , dunder things in general, partials, classes because they come up all the time in PyTorch code and, and in the code we'll be writing and, in fact, pretty much all frameworks. So it's really important to feel comfortable with them. And remember, you don't have to rely on the resources we're providing, you know, if there are certain things here that are very new to you, you know, Google around for some tutorials, so ask for help in the forums, for finding things and so forth. \n",
        "\n"
      ],
      "metadata": {
        "id": "u57FbqCoMpVn"
      }
    },
    {
      "cell_type": "markdown",
      "metadata": {
        "id": "bl8xIKPPJLii"
      },
      "source": [
        "### Callbacks as callable classes"
      ]
    },
    {
      "cell_type": "code",
      "execution_count": 71,
      "metadata": {
        "id": "wVyYjS9yJLij"
      },
      "outputs": [],
      "source": [
        "class ProgressShowingCallback():\n",
        "    def __init__(self, exclamation=\"Awesome\"): self.exclamation = exclamation\n",
        "    def __call__(self, epoch): print(f\"{self.exclamation}! We've finished epoch {epoch}!\")"
      ]
    },
    {
      "cell_type": "code",
      "execution_count": 72,
      "metadata": {
        "id": "gVEbJT-XJLij"
      },
      "outputs": [],
      "source": [
        "cb = ProgressShowingCallback(\"Just super\")"
      ]
    },
    {
      "cell_type": "code",
      "execution_count": 73,
      "metadata": {
        "id": "viDHKzQEJLij",
        "outputId": "ad1eef98-54a6-4824-fc24-f5500c029eda",
        "colab": {
          "base_uri": "https://localhost:8080/"
        }
      },
      "outputs": [
        {
          "output_type": "stream",
          "name": "stdout",
          "text": [
            "Just super! We've finished epoch 0!\n",
            "Just super! We've finished epoch 1!\n",
            "Just super! We've finished epoch 2!\n",
            "Just super! We've finished epoch 3!\n",
            "Just super! We've finished epoch 4!\n"
          ]
        },
        {
          "output_type": "execute_result",
          "data": {
            "text/plain": [
              "30"
            ]
          },
          "metadata": {},
          "execution_count": 73
        }
      ],
      "source": [
        "slow_calculation(cb)"
      ]
    },
    {
      "cell_type": "markdown",
      "metadata": {
        "id": "w4fcFz4QJLij"
      },
      "source": [
        "### Multiple callback funcs; `*args` and `**kwargs`"
      ]
    },
    {
      "cell_type": "markdown",
      "source": [
        "And then I'm just going to briefly recover something I've mentioned before, which is *args, **kwargs because again, they come up a lot. I just want to show you how they work. So if we create a function that has *args and **kwargs, nothing else, and I'm just going to this function, just print them now, I'm going to call the function, I'm going to pass three, I'm going to pass a and I'm going to pass thing one equals.(f(3, 'a', thing1=\"hello\")) Hello. Now, these are past what we would say by position. We haven't got a block equals. They're just stuck. They're things that are passed by position are placed in *args if you have one. It doesn't have to be called args, you can call it anything you like but in the star bit. \n",
        "\n",
        "And so you can see here that args is a tuple containing the positionally path documents. \n",
        "\n",
        "And then kwargs is a dictionary containing the name arguments. So that is all that *args and **kwargs does. And as I say, there's nothing special about these names. I call this a I'll call this b, okay. And it'll do exactly the same thing. \n",
        "\n",
        "def f(*a, **b): print(f\"args: {a}; kwargs: {b}\")\n",
        "\n",
        "Okay, so this comes up a lot. And so it's it's important to remember that this is literally all that they're doing. And then on the other hand, let's say we had a function which takes a couple of let's try that print. I actually just put them directly a, b, c, okay. We can also, rather than just using them as parameters, we can also use some of them when calling something. So let's say I create something called args again. It doesn't have to be called args called, which contains one comma two. And I create something called kwargs that contains a dictionary \n",
        "\n",
        "args = [1,2]\n",
        "kwargs = {'c':3}\n",
        "\n",
        "G and I can pass in star args,star star kwargs. And that's going to take this one two and pass them as individual arguments for positionally. And it's going to take the {'c':3} and pass that as a named argument. c equals three. And there it is. Okay, so they're kind of two linked but different ways that use star and star star. \n",
        "\n"
      ],
      "metadata": {
        "id": "kEfpgjnkOQ40"
      }
    },
    {
      "cell_type": "code",
      "execution_count": 74,
      "metadata": {
        "id": "WgnhkhpFJLik"
      },
      "outputs": [],
      "source": [
        "def f(*a, **b): print(f\"args: {a}; kwargs: {b}\")"
      ]
    },
    {
      "cell_type": "code",
      "execution_count": 75,
      "metadata": {
        "id": "deQqzYErJLik",
        "outputId": "3e997525-c044-4429-8b1e-83d8cd7ad04b",
        "colab": {
          "base_uri": "https://localhost:8080/"
        }
      },
      "outputs": [
        {
          "output_type": "stream",
          "name": "stdout",
          "text": [
            "args: (3, 'a'); kwargs: {'thing1': 'hello'}\n"
          ]
        }
      ],
      "source": [
        "f(3, 'a', thing1=\"hello\")"
      ]
    },
    {
      "cell_type": "code",
      "execution_count": 76,
      "metadata": {
        "id": "1mpoMnkUJLil"
      },
      "outputs": [],
      "source": [
        "def g(a,b,c=0): print(a,b,c)"
      ]
    },
    {
      "cell_type": "code",
      "execution_count": 77,
      "metadata": {
        "id": "fdKQy9dmJLim",
        "outputId": "9b408d56-5ca2-474a-933a-cc9572051e7d",
        "colab": {
          "base_uri": "https://localhost:8080/"
        }
      },
      "outputs": [
        {
          "output_type": "stream",
          "name": "stdout",
          "text": [
            "1 2 3\n"
          ]
        }
      ],
      "source": [
        "args = [1,2]\n",
        "kwargs = {'c':3}\n",
        "g(*args, **kwargs)"
      ]
    },
    {
      "cell_type": "code",
      "execution_count": 78,
      "metadata": {
        "id": "aK1sHjh8JLim"
      },
      "outputs": [],
      "source": [
        "def slow_calculation(cb=None):\n",
        "    res = 0\n",
        "    for i in range(5):\n",
        "        if cb: cb.before_calc(i)\n",
        "        res += i*i\n",
        "        sleep(1)\n",
        "        if cb: cb.after_calc(i, val=res)\n",
        "    return res"
      ]
    },
    {
      "cell_type": "markdown",
      "source": [
        "Okay. Now here's a slightly different way of doing callbacks, which I really like in this case. I've now passing in a callback that's not callable, but instead it's going to have a method called before_calc and another method called after_calc. And I'm so now my callback is going to be a class containing a before_calc and after_calc method. And so if I run that, you can see that there it goes.\n",
        "\n",
        "Okay. And so this is printing before and after every step by call, calling before_calc and after_calc. So callback actually doesn't have to be a callable. It doesn't have to be a function. A callback could be something that contains methods. So we could have a version of this which actually, as you can see here, it's going to pass int after_calc, both the epoch number and the value it's up to. But by using star args and star star kwargs I can just safely ignore them if I don't want them. Right? So it's just going to chew them up and not complain. \n",
        "\n",
        "If I didn't have those here, it won't work because it got passed in value equals and there's nothing here looking for val equals that doesn't like that. So this is one good use star args and star star kwargs eat up arguments You don't want. \n",
        "\n",
        "Or we could use the argument. So let's actually use epoch and Val and print them out and there it is. So this is a more sophisticated callback that's giving us status as we go. \n"
      ],
      "metadata": {
        "id": "wWQKPLsEQbht"
      }
    },
    {
      "cell_type": "code",
      "execution_count": 79,
      "metadata": {
        "id": "uYvrT-TvJLin"
      },
      "outputs": [],
      "source": [
        "class PrintStepCallback():\n",
        "    def before_calc(self, *args, **kwargs): print(f\"About to start\")\n",
        "    def after_calc (self, *args, **kwargs): print(f\"Done step\")"
      ]
    },
    {
      "cell_type": "code",
      "execution_count": 80,
      "metadata": {
        "id": "jGIzdnPgJLin",
        "outputId": "c8c3ac32-2690-4b51-e0d3-b162478a2a28",
        "colab": {
          "base_uri": "https://localhost:8080/"
        }
      },
      "outputs": [
        {
          "output_type": "stream",
          "name": "stdout",
          "text": [
            "About to start\n",
            "Done step\n",
            "About to start\n",
            "Done step\n",
            "About to start\n",
            "Done step\n",
            "About to start\n",
            "Done step\n",
            "About to start\n",
            "Done step\n"
          ]
        },
        {
          "output_type": "execute_result",
          "data": {
            "text/plain": [
              "30"
            ]
          },
          "metadata": {},
          "execution_count": 80
        }
      ],
      "source": [
        "slow_calculation(PrintStepCallback())"
      ]
    },
    {
      "cell_type": "code",
      "execution_count": 81,
      "metadata": {
        "id": "lkqcNy5PJLin"
      },
      "outputs": [],
      "source": [
        "class PrintStatusCallback():\n",
        "    def __init__(self): pass\n",
        "    def before_calc(self, epoch, **kwargs): print(f\"About to start: {epoch}\")\n",
        "    def after_calc (self, epoch, val, **kwargs): print(f\"After {epoch}: {val}\")"
      ]
    },
    {
      "cell_type": "code",
      "execution_count": 82,
      "metadata": {
        "id": "_bYoGpE2JLio",
        "outputId": "a2edd19c-a2e8-499d-a707-9fd22925092a",
        "colab": {
          "base_uri": "https://localhost:8080/"
        }
      },
      "outputs": [
        {
          "output_type": "stream",
          "name": "stdout",
          "text": [
            "About to start: 0\n",
            "After 0: 0\n",
            "About to start: 1\n",
            "After 1: 1\n",
            "About to start: 2\n",
            "After 2: 5\n",
            "About to start: 3\n",
            "After 3: 14\n",
            "About to start: 4\n",
            "After 4: 30\n"
          ]
        },
        {
          "output_type": "execute_result",
          "data": {
            "text/plain": [
              "30"
            ]
          },
          "metadata": {},
          "execution_count": 82
        }
      ],
      "source": [
        "slow_calculation(PrintStatusCallback())"
      ]
    },
    {
      "cell_type": "markdown",
      "metadata": {
        "id": "eOJeyfn_JLio"
      },
      "source": [
        "### Modifying behavior"
      ]
    },
    {
      "cell_type": "code",
      "execution_count": 83,
      "metadata": {
        "id": "v_TAKxoFJLio"
      },
      "outputs": [],
      "source": [
        "def slow_calculation(cb=None):\n",
        "    res = 0\n",
        "    for i in range(5):\n",
        "        if cb and hasattr(cb,'before_calc'): cb.before_calc(i)\n",
        "        res += i*i\n",
        "        sleep(1)\n",
        "        if cb and hasattr(cb,'after_calc'):\n",
        "            if cb.after_calc(i, res):\n",
        "                print(\"stopping early\")\n",
        "                break\n",
        "    return res"
      ]
    },
    {
      "cell_type": "code",
      "execution_count": 84,
      "metadata": {
        "id": "ijybgTisJLip"
      },
      "outputs": [],
      "source": [
        "class PrintAfterCallback():\n",
        "    def after_calc (self, epoch, val):\n",
        "        print(f\"After {epoch}: {val}\")\n",
        "        if val>10: return True"
      ]
    },
    {
      "cell_type": "code",
      "execution_count": 85,
      "metadata": {
        "id": "SAQ3aMbZJLip",
        "outputId": "9d531a5b-30d1-4bfb-c160-b651852b2ee8",
        "colab": {
          "base_uri": "https://localhost:8080/"
        }
      },
      "outputs": [
        {
          "output_type": "stream",
          "name": "stdout",
          "text": [
            "After 0: 0\n",
            "After 1: 1\n",
            "After 2: 5\n",
            "After 3: 14\n",
            "stopping early\n"
          ]
        },
        {
          "output_type": "execute_result",
          "data": {
            "text/plain": [
              "14"
            ]
          },
          "metadata": {},
          "execution_count": 85
        }
      ],
      "source": [
        "slow_calculation(PrintAfterCallback())"
      ]
    },
    {
      "cell_type": "code",
      "execution_count": 86,
      "metadata": {
        "id": "I0zvjJJcJLiq"
      },
      "outputs": [],
      "source": [
        "class SlowCalculator():\n",
        "    def __init__(self, cb=None): self.cb,self.res = cb,0\n",
        "    \n",
        "    def callback(self, cb_name, *args):\n",
        "        if not self.cb: return\n",
        "        cb = getattr(self.cb,cb_name, None)\n",
        "        if cb: return cb(self, *args)\n",
        "\n",
        "    def calc(self):\n",
        "        for i in range(5):\n",
        "            self.callback('before_calc', i)\n",
        "            self.res += i*i\n",
        "            sleep(1)\n",
        "            if self.callback('after_calc', i):\n",
        "                print(\"stopping early\")\n",
        "                break"
      ]
    },
    {
      "cell_type": "code",
      "execution_count": 87,
      "metadata": {
        "id": "q3b-sZiuJLiq"
      },
      "outputs": [],
      "source": [
        "class ModifyingCallback():\n",
        "    def after_calc (self, calc, epoch):\n",
        "        print(f\"After {epoch}: {calc.res}\")\n",
        "        if calc.res>10: return True\n",
        "        if calc.res<3: calc.res = calc.res*2"
      ]
    },
    {
      "cell_type": "code",
      "execution_count": 88,
      "metadata": {
        "id": "45OHHfaSJLiq"
      },
      "outputs": [],
      "source": [
        "calculator = SlowCalculator(ModifyingCallback())"
      ]
    },
    {
      "cell_type": "code",
      "execution_count": 89,
      "metadata": {
        "id": "-Muh504DJLir",
        "outputId": "4edfb3e1-5f79-42a2-ac68-4fcd7d5ae899",
        "colab": {
          "base_uri": "https://localhost:8080/"
        }
      },
      "outputs": [
        {
          "output_type": "stream",
          "name": "stdout",
          "text": [
            "After 0: 0\n",
            "After 1: 1\n",
            "After 2: 6\n",
            "After 3: 15\n",
            "stopping early\n"
          ]
        },
        {
          "output_type": "execute_result",
          "data": {
            "text/plain": [
              "15"
            ]
          },
          "metadata": {},
          "execution_count": 89
        }
      ],
      "source": [
        "calculator.calc()\n",
        "calculator.res"
      ]
    },
    {
      "cell_type": "markdown",
      "metadata": {
        "id": "J07gX-YjJLir"
      },
      "source": [
        "## `__dunder__` thingies"
      ]
    },
    {
      "cell_type": "markdown",
      "metadata": {
        "id": "dmtnIH1AJLir"
      },
      "source": [
        "Anything that looks like `__this__` is, in some way, *special*. Python, or some library, can define some functions that they will call at certain documented times. For instance, when your class is setting up a new object, python will call `__init__`. These are defined as part of the python [data model](https://docs.python.org/3/reference/datamodel.html#object.__init__).\n",
        "\n",
        "For instance, if python sees `+`, then it will call the special method `__add__`. If you try to display an object in Jupyter (or lots of other places in Python) it will call `__repr__`."
      ]
    },
    {
      "cell_type": "markdown",
      "source": [
        "\n",
        "Okay, So finally, let's just review this idea dunder, which we've mentioned before, but just to, to really nail this home, anything that looks like this underscore, underscore something, underscore, underscore something is special. And basically it could be that Python has to find that special thing or PyTorch has to find that special thing or numpy as to find that special thing. But this special these are called under methods. And some of them are defined as part of the Python data model. \n",
        "\n",
        "And so if you go to the Python documentation, it'll tell you about these various different his __repr__ which we used earlier is __init__ that we used earlier. So they're all here. PyTorch has some of its own, numpy has some of its own.\n",
        "\n",
        " So for example, if python says plus what it actually does is it calls __add__. So if we want to create something that's not very good at adding things, it actually also always adds point. I want to it that I can say sloppy at a one plus floppy at a two equals 3.01. So plus here is actually calling __add__. So if you're not familiar with this, click on this data model link and read about these specific one two, three, four, five, six, seven, eight, nine, ten, 11 methods because we'll be using all of these in the course. \n",
        " \n",
        "So I'll try to revise them when we can. But I'm generally going to assume that, you know, a particularly interesting one is __getattr__ and __getitem__. We've seen __setattr__ already get across just the opposite. Take a look at this. Here's a class. It just contains two attributes a, b, that are set one and two. So create that an object of that class a.b equals two because I set b to two. Okay. Now when you say dot B, that's just in texture. Good. Basically in Python, what it's actually calling behind the scenes is __getattr__, it calls, __getattr__ on the object. And so this one here is the same __getattr__ a comma b which hopefully "
      ],
      "metadata": {
        "id": "cBxcR6xQRatC"
      }
    },
    {
      "cell_type": "code",
      "execution_count": 90,
      "metadata": {
        "id": "ztS-A01tJLir"
      },
      "outputs": [],
      "source": [
        "class SloppyAdder():\n",
        "    def __init__(self,o): self.o=o\n",
        "    def __add__(self,b): return SloppyAdder(self.o + b.o + 0.01)\n",
        "    def __repr__(self): return str(self.o)"
      ]
    },
    {
      "cell_type": "code",
      "execution_count": 91,
      "metadata": {
        "id": "n95_oDx_JLir",
        "outputId": "9e261baf-9698-4170-86bc-669e031dccec",
        "colab": {
          "base_uri": "https://localhost:8080/"
        }
      },
      "outputs": [
        {
          "output_type": "execute_result",
          "data": {
            "text/plain": [
              "3.01"
            ]
          },
          "metadata": {},
          "execution_count": 91
        }
      ],
      "source": [
        "a = SloppyAdder(1)\n",
        "b = SloppyAdder(2)\n",
        "a+b"
      ]
    },
    {
      "cell_type": "markdown",
      "metadata": {
        "id": "vOe5LXauJLir"
      },
      "source": [
        "Special methods you should probably know about (see data model link above) are:\n",
        "\n",
        "- `__getitem__`\n",
        "- `__getattr__`\n",
        "- `__setattr__`\n",
        "- `__del__`\n",
        "- `__init__`\n",
        "- `__new__`\n",
        "- `__enter__`\n",
        "- `__exit__`\n",
        "- `__len__`\n",
        "- `__repr__`\n",
        "- `__str__`"
      ]
    },
    {
      "cell_type": "markdown",
      "metadata": {
        "id": "ZaMNLPW_JLis"
      },
      "source": [
        "### `__getattr__` and `getattr`"
      ]
    },
    {
      "cell_type": "code",
      "execution_count": 92,
      "metadata": {
        "id": "BjTc8cPCJLis"
      },
      "outputs": [],
      "source": [
        "class A: a,b=1,2"
      ]
    },
    {
      "cell_type": "code",
      "execution_count": 93,
      "metadata": {
        "id": "za9L-ludJLis"
      },
      "outputs": [],
      "source": [
        "a = A()"
      ]
    },
    {
      "cell_type": "code",
      "execution_count": 94,
      "metadata": {
        "id": "TmnyjjCZJLis",
        "outputId": "f5e606b7-c725-4df8-b945-f0075f6e2dfe",
        "colab": {
          "base_uri": "https://localhost:8080/"
        }
      },
      "outputs": [
        {
          "output_type": "execute_result",
          "data": {
            "text/plain": [
              "2"
            ]
          },
          "metadata": {},
          "execution_count": 94
        }
      ],
      "source": [
        "a.b"
      ]
    },
    {
      "cell_type": "code",
      "execution_count": 95,
      "metadata": {
        "id": "rDciRAfrJLis",
        "outputId": "7364bbf2-8b1d-42c2-e872-cabf9cde48db",
        "colab": {
          "base_uri": "https://localhost:8080/"
        }
      },
      "outputs": [
        {
          "output_type": "execute_result",
          "data": {
            "text/plain": [
              "2"
            ]
          },
          "metadata": {},
          "execution_count": 95
        }
      ],
      "source": [
        "getattr(a, 'b')"
      ]
    },
    {
      "cell_type": "markdown",
      "source": [
        "I'll actually that'll be yes our calls get a b and this can kind of be fun because you could call, __getattr__ a comma and either b or a randomly . So if I run this 21112 as you can say, it's random. So yeah, Python such a dynamic language, you can even set it up so it literally don't know what attributes are going to be called. Now getattr behind the scenes. It's actually calling something called __getattr__ and by default it'll use the version in the object based class. So here's something just like a it's got a and b defined, but I've also got time getattr defined and so __getattr__ It's only called for stuff that hasn't been defined yet and it'll pass in the key of the the name of the attribute. So generally speaking, if the first character is an underscore, it's going to be private or special. So That's going to raise an attribute error. Otherwise I'm going to steal it and return hello from k. So if I go b.athat's defined so it gives me one. If I go \n",
        "b.foo, that's not defined. So calls __getattr__ and I get back hello from foo. And so this gets used a lot in both fastai code and also huggingface code to you know often make it more convenient to access things. So that's yeah that's how we getattr function and __getattr__ method work. "
      ],
      "metadata": {
        "id": "a8Won8RLTBrN"
      }
    },
    {
      "cell_type": "code",
      "execution_count": 96,
      "metadata": {
        "id": "9sNNdrMYJLis",
        "outputId": "58dec279-8efa-4827-bc7f-0b5de2250f35",
        "colab": {
          "base_uri": "https://localhost:8080/"
        }
      },
      "outputs": [
        {
          "output_type": "execute_result",
          "data": {
            "text/plain": [
              "1"
            ]
          },
          "metadata": {},
          "execution_count": 96
        }
      ],
      "source": [
        "getattr(a, 'b' if random.random()>0.5 else 'a')"
      ]
    },
    {
      "cell_type": "code",
      "execution_count": 97,
      "metadata": {
        "id": "5cVwHZifJLis"
      },
      "outputs": [],
      "source": [
        "class B:\n",
        "    a,b=1,2\n",
        "    def __getattr__(self, k):\n",
        "        if k[0]=='_': raise AttributeError(k)\n",
        "        return f'Hello from {k}'"
      ]
    },
    {
      "cell_type": "code",
      "execution_count": 98,
      "metadata": {
        "id": "sFB1uv2ZJLit"
      },
      "outputs": [],
      "source": [
        "b = B()"
      ]
    },
    {
      "cell_type": "code",
      "execution_count": 99,
      "metadata": {
        "id": "zbZCiSRsJLit",
        "outputId": "6255df91-4fc7-4bc2-c636-c917de6ad968",
        "colab": {
          "base_uri": "https://localhost:8080/"
        }
      },
      "outputs": [
        {
          "output_type": "execute_result",
          "data": {
            "text/plain": [
              "1"
            ]
          },
          "metadata": {},
          "execution_count": 99
        }
      ],
      "source": [
        "b.a"
      ]
    },
    {
      "cell_type": "code",
      "execution_count": 100,
      "metadata": {
        "id": "CE_8gg9QJLit",
        "outputId": "50111d78-52c1-4016-f99e-150d4439ed27",
        "colab": {
          "base_uri": "https://localhost:8080/",
          "height": 58
        }
      },
      "outputs": [
        {
          "output_type": "execute_result",
          "data": {
            "text/plain": [
              "'Hello from foo'"
            ],
            "application/vnd.google.colaboratory.intrinsic+json": {
              "type": "string"
            }
          },
          "metadata": {},
          "execution_count": 100
        }
      ],
      "source": [
        "b.foo"
      ]
    },
    {
      "cell_type": "code",
      "execution_count": 100,
      "metadata": {
        "id": "hC66VPQ8JLit"
      },
      "outputs": [],
      "source": []
    },
    {
      "cell_type": "markdown",
      "source": [
        " Okay so I went over that pretty quickly since I know for quite a few folks this will be all review, but I know for folks who haven't seen any of this, this is a lot to cover. So I'm hoping that you all kind of go back over this, revise it slowly, experiment with it, and look up some additional resources and ask on the forum and stuff. That's not clear. Remember, everybody has parts of the course that's really easy for them and parts of the course that are completely unfamiliar for them. And so if this particular part of the course is completely unfamiliar to you, it's not because this is harder or going to be more difficult or whatever. It's just so happens that this is a bit that you're less familiar with. Or maybe this stuff about calculus in the last lesson was a bit that you're less familiar with. There isn't really anything, particularly in the course, that's more difficult than other parts. It's just that, you know, based on whether you happen to have that background. \n",
        " \n",
        "And so yeah, if you spend a few hours studying and practicing, you know, you'll be able to pick up these things and yeah, so don't stress if there are things that you don't get right away, just take the time. And if you Yeah, if you do get lost, please ask because people are very keen to help. If you've tried asking on the forum, hopefully you noticed that people are really keen to help. All right. So I think this has been a pretty successful lesson. We've we've got to a point where we've got a pretty nicely optimized training loop. We actually understand exactly what data load is and data sets do. We've got an optimizer. We've been playing with hugging face data sets and we've got those working really smoothly. So we really feel like we're in a pretty good position to to write our generic learner training loop and then we can start building and experimenting with lots of models. So look forward to seeing you next. Time to doing that together. Okay. \n"
      ],
      "metadata": {
        "id": "mFvM-0mnNrvh"
      }
    }
  ],
  "metadata": {
    "kernelspec": {
      "display_name": "Python 3 (ipykernel)",
      "language": "python",
      "name": "python3"
    },
    "colab": {
      "provenance": []
    },
    "accelerator": "TPU",
    "gpuClass": "standard",
    "widgets": {
      "application/vnd.jupyter.widget-state+json": {
        "b1f2b837ac664a7997b42e074f65280f": {
          "model_module": "@jupyter-widgets/controls",
          "model_name": "ButtonModel",
          "model_module_version": "1.5.0",
          "state": {
            "_dom_classes": [],
            "_model_module": "@jupyter-widgets/controls",
            "_model_module_version": "1.5.0",
            "_model_name": "ButtonModel",
            "_view_count": null,
            "_view_module": "@jupyter-widgets/controls",
            "_view_module_version": "1.5.0",
            "_view_name": "ButtonView",
            "button_style": "",
            "description": "Click me",
            "disabled": false,
            "icon": "",
            "layout": "IPY_MODEL_4c6b1632763044b6a6dfcd1946644e3f",
            "style": "IPY_MODEL_d80e831eaf104cff84c20f796d1fd53c",
            "tooltip": ""
          }
        },
        "4c6b1632763044b6a6dfcd1946644e3f": {
          "model_module": "@jupyter-widgets/base",
          "model_name": "LayoutModel",
          "model_module_version": "1.2.0",
          "state": {
            "_model_module": "@jupyter-widgets/base",
            "_model_module_version": "1.2.0",
            "_model_name": "LayoutModel",
            "_view_count": null,
            "_view_module": "@jupyter-widgets/base",
            "_view_module_version": "1.2.0",
            "_view_name": "LayoutView",
            "align_content": null,
            "align_items": null,
            "align_self": null,
            "border": null,
            "bottom": null,
            "display": null,
            "flex": null,
            "flex_flow": null,
            "grid_area": null,
            "grid_auto_columns": null,
            "grid_auto_flow": null,
            "grid_auto_rows": null,
            "grid_column": null,
            "grid_gap": null,
            "grid_row": null,
            "grid_template_areas": null,
            "grid_template_columns": null,
            "grid_template_rows": null,
            "height": null,
            "justify_content": null,
            "justify_items": null,
            "left": null,
            "margin": null,
            "max_height": null,
            "max_width": null,
            "min_height": null,
            "min_width": null,
            "object_fit": null,
            "object_position": null,
            "order": null,
            "overflow": null,
            "overflow_x": null,
            "overflow_y": null,
            "padding": null,
            "right": null,
            "top": null,
            "visibility": null,
            "width": null
          }
        },
        "d80e831eaf104cff84c20f796d1fd53c": {
          "model_module": "@jupyter-widgets/controls",
          "model_name": "ButtonStyleModel",
          "model_module_version": "1.5.0",
          "state": {
            "_model_module": "@jupyter-widgets/controls",
            "_model_module_version": "1.5.0",
            "_model_name": "ButtonStyleModel",
            "_view_count": null,
            "_view_module": "@jupyter-widgets/base",
            "_view_module_version": "1.2.0",
            "_view_name": "StyleView",
            "button_color": null,
            "font_weight": ""
          }
        }
      }
    }
  },
  "nbformat": 4,
  "nbformat_minor": 0
}